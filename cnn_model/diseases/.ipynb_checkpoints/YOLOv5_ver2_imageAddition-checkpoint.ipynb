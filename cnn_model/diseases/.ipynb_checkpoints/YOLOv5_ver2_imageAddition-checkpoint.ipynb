{
 "cells": [
  {
   "cell_type": "markdown",
   "metadata": {},
   "source": [
    "#### YOLOv5 (04월 28일)\n",
    "\n",
    "- 탄저병 제외하고, 흰가루병, 정상 데이터의 이미지 전처리 전반적인 코드 작성\n",
    "- 이미지 전처리 과정에서 시간이 오래 걸려서 ver2에서 train_test_split 하지 않고, 이미 분리된 파일을 바탕으로 라벨 조합하여 사용\n",
    "- 이미 분리된 파일을 전달받아 라벨 데이터도 그에 맞게 분류해서 저장 (json 형태로)\n",
    "- runs/yolov5_results_ver"
   ]
  },
  {
   "cell_type": "markdown",
   "metadata": {},
   "source": [
    "#### YOLOv5 (05월 05일)\n",
    "\n",
    "- 노균병 이미지, 라벨 데이터 추가\n",
    "- 모델링 추가로 진행\n",
    "- runs/yolov5_results_ver2"
   ]
  },
  {
   "cell_type": "markdown",
   "metadata": {},
   "source": [
    "#### 데이터 로드 후 확장자 변경 (.jpg)"
   ]
  },
  {
   "cell_type": "code",
   "execution_count": 2,
   "metadata": {},
   "outputs": [],
   "source": [
    "import os, shutil\n",
    "from glob import glob"
   ]
  },
  {
   "cell_type": "code",
   "execution_count": 3,
   "metadata": {},
   "outputs": [
    {
     "data": {
      "text/plain": [
       "'/home/jngmk/Downloads'"
      ]
     },
     "execution_count": 3,
     "metadata": {},
     "output_type": "execute_result"
    }
   ],
   "source": [
    "os.getcwd()  # 현재 경로 확인"
   ]
  },
  {
   "cell_type": "code",
   "execution_count": 4,
   "metadata": {},
   "outputs": [],
   "source": [
    "original_dataset_dir = '/home/jngmk/Downloads/datasets/dataset/'  # 원본 데이터셋 디렉터리"
   ]
  },
  {
   "cell_type": "code",
   "execution_count": 7,
   "metadata": {},
   "outputs": [
    {
     "name": "stdout",
     "output_type": "stream",
     "text": [
      "['normal_addition', 'labels_all', 'downy_mildew']\n",
      "정상 이미지 수 (고추 제외) : 50555\n",
      "노균병 이미지 수 : 3333\n"
     ]
    }
   ],
   "source": [
    "# 식물병 리스트\n",
    "disease_list = os.listdir(original_dataset_dir)\n",
    "print(disease_list)\n",
    "\n",
    "# 식물병 이미지 데이터 확장자명 .jpg로 맞추기\n",
    "# for i in disease_list:\n",
    "#     img_files = glob('/home/jngmk/Downloads/datasets/Disease/'+i+'/images/*')\n",
    "\n",
    "#     for name in img_files:\n",
    "#         if not os.path.isdir(name):         # 디렉토리는 포함안함\n",
    "#             src = os.path.splitext(name)    # 확장자와 파일명 구분\n",
    "#             os.rename(name, src[0] + '.jpg')\n",
    "\n",
    "#     print(f'{i} 이미지 수 : {len(img_files)}')\n",
    "\n",
    "# 정상 이미지 데이터 확장자명 .jpg로 맞추기 (고추 뺴고)\n",
    "img_files_2 = glob('/home/jngmk/Downloads/datasets/dataset/normal_addition/*')\n",
    "\n",
    "for name in img_files_2:\n",
    "    if not os.path.isdir(name):\n",
    "        src = os.path.splitext(name)\n",
    "        os.rename(name, src[0] + '.jpg')\n",
    "\n",
    "print(f'정상 이미지 수 (고추 제외) : {len(img_files_2)}')\n",
    "\n",
    "# 노균병 이미지 데이터 확장자명 .jpg로 맞추기\n",
    "img_files = glob('/home/jngmk/Downloads/datasets/dataset/downy_mildew/*')\n",
    "\n",
    "for name in img_files:\n",
    "    if not os.path.isdir(name):\n",
    "        src = os.path.splitext(name)\n",
    "        os.rename(name, src[0] + '.jpg')\n",
    "\n",
    "print(f'노균병 이미지 수 : {len(img_files)}')"
   ]
  },
  {
   "cell_type": "markdown",
   "metadata": {},
   "source": [
    "#### 데이터셋 저장할 디렉터리 생성 (copy)\n",
    "- 0505 : 용량이 부족해서 move로 이동"
   ]
  },
  {
   "cell_type": "code",
   "execution_count": 47,
   "metadata": {},
   "outputs": [],
   "source": [
    "# 데이터셋을 저장할 디렉터리 (copy)\n",
    "# base_dir = '/home/jngmk/Downloads/datasets/Disease_copy'\n",
    "# os.mkdir(base_dir)"
   ]
  },
  {
   "cell_type": "code",
   "execution_count": 5,
   "metadata": {},
   "outputs": [],
   "source": [
    "# 이미지 데이터셋 저장할 디렉터리 (copy)\n",
    "# base_images_dir = os.path.join(base_dir, 'images')\n",
    "# os.mkdir(base_images_dir)\n",
    "\n",
    "# 라벨 데이터셋(txt) 저장할 디렉터리 (copy)\n",
    "# base_labels_dir = os.path.join(base_dir, 'labels')\n",
    "# os.mkdir(base_labels_dir)"
   ]
  },
  {
   "cell_type": "code",
   "execution_count": 5,
   "metadata": {},
   "outputs": [],
   "source": [
    "# 훈련, 검증, 테스트 분할을 위한 디렉터리\n",
    "# 이 안에 식물병 종류별로 폴더를 생성해서 데이터를 나눠서 복사할 것\n",
    "\n",
    "# 이미지\n",
    "train_images_dir = \"/home/jngmk/Downloads/datasets/yolov5/dataset/images/train\"\n",
    "validation_images_dir = \"/home/jngmk/Downloads/datasets/yolov5/dataset/images/validation\"\n",
    "test_images_dir = \"/home/jngmk/Downloads/datasets/yolov5/dataset/images/test\"\n",
    "\n",
    "# os.mkdir(train_images_dir)\n",
    "# os.mkdir(validation_images_dir)\n",
    "# os.mkdir(test_images_dir)"
   ]
  },
  {
   "cell_type": "markdown",
   "metadata": {},
   "source": [
    "labels_dir은 yolov5에서 사용하는 txt 파일을 저장할 폴더"
   ]
  },
  {
   "cell_type": "code",
   "execution_count": 6,
   "metadata": {},
   "outputs": [],
   "source": [
    "# 라벨 (txt 파일)\n",
    "train_labels_dir = \"/home/jngmk/Downloads/datasets/yolov5/dataset/labels/train\"\n",
    "validation_labels_dir = \"/home/jngmk/Downloads/datasets/yolov5/dataset/labels/validation\"\n",
    "test_labels_dir = \"/home/jngmk/Downloads/datasets/yolov5/dataset/labels/test\"\n",
    "\n",
    "# os.mkdir(train_labels_dir)\n",
    "# os.mkdir(validation_labels_dir)\n",
    "# os.mkdir(test_labels_dir)"
   ]
  },
  {
   "cell_type": "markdown",
   "metadata": {},
   "source": [
    "labels_json_dir은 이미지 파일에 맞는 json 파일을 임시로 저장할 폴더"
   ]
  },
  {
   "cell_type": "code",
   "execution_count": 7,
   "metadata": {},
   "outputs": [],
   "source": [
    "# 라벨 데이터셋(임시 json) 저장할 디렉터리 (copy)\n",
    "base_labels_json_dir = '/home/jngmk/Downloads/datasets/dataset/labels_tmp'\n",
    "# os.mkdir(base_labels_json_dir)\n",
    "\n",
    "# 라벨 (json 변환 전)\n",
    "train_labels_json_dir = os.path.join(base_labels_json_dir, 'train')\n",
    "validation_labels_json_dir = os.path.join(base_labels_json_dir, 'validation')\n",
    "test_labels_json_dir = os.path.join(base_labels_json_dir, 'test')\n",
    "\n",
    "# os.mkdir(train_labels_json_dir)\n",
    "# os.mkdir(validation_labels_json_dir)\n",
    "# os.mkdir(test_labels_json_dir)"
   ]
  },
  {
   "cell_type": "markdown",
   "metadata": {},
   "source": [
    "#### 이미지, 라벨 파일 전처리 (흰가루병, 정상, 노균병)\n",
    "\n",
    "- 잎 부위 촬영이 아닌 사진은 리스트에서 제외 (잎 03)\n",
    "- 흰가루병에 해당하는 사진만 가져오기 (고추 02, 애호박 08, 오이 12, 호박 20)\n",
    "- 노균병에 해당하는 사진만 가져오기 (오이 04, 배추 09, 애호박 11, 무 14, 파 16, 호박 20)"
   ]
  },
  {
   "cell_type": "markdown",
   "metadata": {},
   "source": [
    "\n",
    "- 파일이름: V006_과제번호(79)_질병(0/1)_질병코드(흰가루병20)_작물코드(호박10)_촬영부위코드(잎 03)_작물생육코드(생장기 12)_해충피해코드(정상0 초기1 중기2 말기3)\n",
    "- 질병코드 idx 3 / 작물코드 idx 4 / 촬영부위코드 idx 5"
   ]
  },
  {
   "cell_type": "code",
   "execution_count": 8,
   "metadata": {},
   "outputs": [],
   "source": [
    "# 숨김파일 제외: os.listdir('파일경로')를 하면 숨겨진 파일도 함께 불러내므로 제외해야 함\n",
    "def hidden_file(path):\n",
    "    filenames = [f for f in os.listdir(path) if not f.startswith('.')]\n",
    "    return filenames"
   ]
  },
  {
   "cell_type": "code",
   "execution_count": 9,
   "metadata": {},
   "outputs": [],
   "source": [
    "## 잎 부위 촬영이 아니면 제외하는 함수 (잎 코드는 03)\n",
    "def leaf_files(files):\n",
    "    remove_list = []\n",
    "    for file in files:\n",
    "\n",
    "        # 잎이 아닌 데이터면 remove_list에 추가\n",
    "        if file.split('_')[5] != '03':\n",
    "            remove_list.append(file)\n",
    "\n",
    "    # 잎 데이터만 new_datas에 추가\n",
    "    new_datas = [x for x in files if x not in remove_list]\n",
    "    \n",
    "    return new_datas"
   ]
  },
  {
   "cell_type": "code",
   "execution_count": 10,
   "metadata": {},
   "outputs": [],
   "source": [
    "## 흰가루병에 해당하는 사진이 아니면 제외\n",
    "# 질병코드(index 3): 고추 02, 애호박 08, 오이 12, 호박 20\n",
    "# 작물코드(index 4): 고추 01, 애호박 04, 오이 06, 호박 10\n",
    "\n",
    "def powdery_files(files):\n",
    "\n",
    "    # 해당 작물 + 흰가루병인 경우만 리스트에 추가\n",
    "    powdery_disease = []\n",
    "    \n",
    "    # 모든 이미지 불러오기\n",
    "    for file in files:\n",
    "        disease = file.split('_')[3]\n",
    "        crops = file.split('_')[4]\n",
    "\n",
    "        if disease == '02' and crops == '01': powdery_disease.append(file)     # 고추\n",
    "        elif disease == '08' and crops == '04' : powdery_disease.append(file)  # 애호박\n",
    "        elif disease == '12' and crops == '06' : powdery_disease.append(file)  # 오이\n",
    "        elif disease == '20' and crops == '10' : powdery_disease.append(file)  # 호박\n",
    "\n",
    "    return powdery_disease"
   ]
  },
  {
   "cell_type": "code",
   "execution_count": 11,
   "metadata": {},
   "outputs": [],
   "source": [
    "## 노균병에 해당하는 사진이 아니면 제외\n",
    "# 질병코드(index 3): 오이 11, 애호박 07, 무 04, 호박 19\n",
    "# 작물코드(index 4): 오이 06, 애호박 04, 무 02, 호박 10\n",
    "\n",
    "def downy_files(files):\n",
    "\n",
    "    # 해당 작물 + 노균병인 경우만 리스트에 추가\n",
    "    downy_disease = []\n",
    "    \n",
    "    # 모든 이미지 불러오기\n",
    "    for file in files:\n",
    "        disease = file.split('_')[3]\n",
    "        crops = file.split('_')[4]\n",
    "\n",
    "        if disease == '11' and crops == '06': downy_disease.append(file)     # 오이\n",
    "        elif disease == '07' and crops == '04' : downy_disease.append(file)  # 애호박\n",
    "        elif disease == '04' and crops == '02' : downy_disease.append(file)  # 무\n",
    "        elif disease == '19' and crops == '10' : downy_disease.append(file)  # 호박\n",
    "\n",
    "    return downy_disease"
   ]
  },
  {
   "cell_type": "markdown",
   "metadata": {},
   "source": [
    "(1) 흰가루병 이미지 전처리"
   ]
  },
  {
   "cell_type": "code",
   "execution_count": 17,
   "metadata": {},
   "outputs": [
    {
     "name": "stdout",
     "output_type": "stream",
     "text": [
      "4653\n"
     ]
    }
   ],
   "source": [
    "# 정제되지 않은 이미지 전체 불러오기\n",
    "# img_files은 리스트 형태\n",
    "img_files = glob('/home/jngmk/data/Disease/powdery_mildew/images/*')\n",
    "print(len(img_files))"
   ]
  },
  {
   "cell_type": "code",
   "execution_count": 18,
   "metadata": {},
   "outputs": [],
   "source": [
    "img_files_new = []\n",
    "\n",
    "for i in range(len(img_files)):\n",
    "    img_files_new.append(os.path.basename(img_files[i]))"
   ]
  },
  {
   "cell_type": "code",
   "execution_count": 19,
   "metadata": {},
   "outputs": [
    {
     "name": "stdout",
     "output_type": "stream",
     "text": [
      "3561\n"
     ]
    }
   ],
   "source": [
    "# 잎 데이터만 추출\n",
    "leaf_img = leaf_files(img_files_new)\n",
    "print(len(leaf_img))"
   ]
  },
  {
   "cell_type": "code",
   "execution_count": 20,
   "metadata": {},
   "outputs": [
    {
     "name": "stdout",
     "output_type": "stream",
     "text": [
      "2265\n"
     ]
    }
   ],
   "source": [
    "# 흰가루병 데이터만 추출 (잎으로 한번 정제된 데이터 사용)\n",
    "powdery_img = powdery_files(leaf_img)\n",
    "print(len(powdery_img))"
   ]
  },
  {
   "cell_type": "markdown",
   "metadata": {},
   "source": [
    "(2) 정상 이미지 이미지 전처리"
   ]
  },
  {
   "cell_type": "markdown",
   "metadata": {},
   "source": [
    "고추 이미지"
   ]
  },
  {
   "cell_type": "code",
   "execution_count": 84,
   "metadata": {},
   "outputs": [
    {
     "name": "stdout",
     "output_type": "stream",
     "text": [
      "47936\n"
     ]
    }
   ],
   "source": [
    "img_tmp = glob('/home/jngmk/data/Disease/normal_data/images/*')\n",
    "print(len(img_tmp))"
   ]
  },
  {
   "cell_type": "code",
   "execution_count": 85,
   "metadata": {},
   "outputs": [
    {
     "name": "stdout",
     "output_type": "stream",
     "text": [
      "47936\n",
      "9685\n",
      "2307\n"
     ]
    }
   ],
   "source": [
    "### 고추 이미지\n",
    "\n",
    "# 경로에서 파일 제목만 불러오기\n",
    "img_name = []\n",
    "\n",
    "for i in range(len(img_tmp)):\n",
    "    img_name.append(os.path.basename(img_tmp[i]))\n",
    "\n",
    "print(len(img_name))\n",
    "\n",
    "# 고추 이미지만 리스트에 저장\n",
    "image = []\n",
    "\n",
    "for img in img_name:\n",
    "    crops = img.split('_')[4]\n",
    "\n",
    "    # 고추인 경우\n",
    "    if crops == '01':\n",
    "        image.append(img)\n",
    "\n",
    "print(len(image))\n",
    "\n",
    "# 잎 데이터만 추출\n",
    "pepper_img = leaf_files(image)\n",
    "print(len(pepper_img))"
   ]
  },
  {
   "cell_type": "markdown",
   "metadata": {},
   "source": [
    "오이, 애호박, 무, 호박 이미지"
   ]
  },
  {
   "cell_type": "code",
   "execution_count": 86,
   "metadata": {},
   "outputs": [
    {
     "name": "stdout",
     "output_type": "stream",
     "text": [
      "50555\n"
     ]
    }
   ],
   "source": [
    "# 정제되지 않은 이미지 전체 불러오기\n",
    "# img_tmp2는 리스트 형태\n",
    "img_tmp2 = glob('/home/jngmk/Downloads/datasets/dataset/normal_addition/*')\n",
    "print(len(img_tmp2))"
   ]
  },
  {
   "cell_type": "code",
   "execution_count": 87,
   "metadata": {},
   "outputs": [
    {
     "name": "stdout",
     "output_type": "stream",
     "text": [
      "50555\n"
     ]
    }
   ],
   "source": [
    "# 경로에서 파일 제목만 불러오기\n",
    "img_name2 = []\n",
    "\n",
    "for i in range(len(img_tmp2)):\n",
    "    img_name2.append(os.path.basename(img_tmp2[i]))\n",
    "\n",
    "print(len(img_name2))"
   ]
  },
  {
   "cell_type": "code",
   "execution_count": 88,
   "metadata": {},
   "outputs": [
    {
     "name": "stdout",
     "output_type": "stream",
     "text": [
      "14477\n",
      "6345\n"
     ]
    }
   ],
   "source": [
    "### 오이 이미지\n",
    "\n",
    "# 오이 이미지만 리스트에 저장\n",
    "image2 = []\n",
    "\n",
    "for img in img_name2:\n",
    "    crops = img.split('_')[4]\n",
    "\n",
    "    # 오이인 경우\n",
    "    if crops == '06':\n",
    "        image2.append(img)\n",
    "\n",
    "print(len(image2))\n",
    "\n",
    "# 잎 데이터만 추출\n",
    "cucumber_img = leaf_files(image2)\n",
    "print(len(cucumber_img))"
   ]
  },
  {
   "cell_type": "code",
   "execution_count": 89,
   "metadata": {},
   "outputs": [
    {
     "name": "stdout",
     "output_type": "stream",
     "text": [
      "11911\n",
      "5358\n"
     ]
    }
   ],
   "source": [
    "### 애호박 이미지\n",
    "\n",
    "# 애호박 이미지만 리스트에 저장\n",
    "image3 = []\n",
    "\n",
    "for img in img_name2:\n",
    "    crops = img.split('_')[4]\n",
    "\n",
    "    # 애호박인 경우\n",
    "    if crops == '04':\n",
    "        image3.append(img)\n",
    "\n",
    "print(len(image3))\n",
    "\n",
    "# 잎 데이터만 추출\n",
    "squash_img = leaf_files(image3)\n",
    "print(len(squash_img))"
   ]
  },
  {
   "cell_type": "code",
   "execution_count": 90,
   "metadata": {},
   "outputs": [
    {
     "name": "stdout",
     "output_type": "stream",
     "text": [
      "12304\n",
      "12304\n"
     ]
    }
   ],
   "source": [
    "### 무 이미지\n",
    "\n",
    "# 무 이미지만 리스트에 저장\n",
    "image4 = []\n",
    "\n",
    "for img in img_name2:\n",
    "    crops = img.split('_')[4]\n",
    "\n",
    "    # 무인 경우\n",
    "    if crops == '02':\n",
    "        image4.append(img)\n",
    "\n",
    "print(len(image4))\n",
    "\n",
    "# 잎 데이터만 추출\n",
    "radish_img = leaf_files(image4)\n",
    "print(len(radish_img))"
   ]
  },
  {
   "cell_type": "code",
   "execution_count": 91,
   "metadata": {},
   "outputs": [
    {
     "name": "stdout",
     "output_type": "stream",
     "text": [
      "11863\n",
      "7266\n"
     ]
    }
   ],
   "source": [
    "### 호박 이미지\n",
    "\n",
    "# 호박 이미지만 리스트에 저장\n",
    "image5 = []\n",
    "\n",
    "for img in img_name2:\n",
    "    crops = img.split('_')[4]\n",
    "\n",
    "    # 무인 경우\n",
    "    if crops == '10':\n",
    "        image5.append(img)\n",
    "\n",
    "print(len(image5))\n",
    "\n",
    "# 잎 데이터만 추출\n",
    "pumpkin_img = leaf_files(image5)\n",
    "print(len(pumpkin_img))"
   ]
  },
  {
   "cell_type": "code",
   "execution_count": 100,
   "metadata": {},
   "outputs": [
    {
     "data": {
      "text/plain": [
       "600"
      ]
     },
     "execution_count": 100,
     "metadata": {},
     "output_type": "execute_result"
    }
   ],
   "source": [
    "# 고추\n",
    "len(pepper_img[0:600])"
   ]
  },
  {
   "cell_type": "code",
   "execution_count": 98,
   "metadata": {},
   "outputs": [
    {
     "data": {
      "text/plain": [
       "2400"
      ]
     },
     "execution_count": 98,
     "metadata": {},
     "output_type": "execute_result"
    }
   ],
   "source": [
    "# 오이 + 애호박 + 무 + 호박\n",
    "normal_img = cucumber_img[0:600] + squash_img[0:600] + radish_img[0:600] + pumpkin_img[0:600]\n",
    "len(normal_img)"
   ]
  },
  {
   "cell_type": "markdown",
   "metadata": {},
   "source": [
    "(3) 노균병 이미지 전처리"
   ]
  },
  {
   "cell_type": "code",
   "execution_count": 93,
   "metadata": {},
   "outputs": [
    {
     "name": "stdout",
     "output_type": "stream",
     "text": [
      "3333\n"
     ]
    }
   ],
   "source": [
    "# 정제되지 않은 이미지 전체 불러오기\n",
    "# img_tmp3는 리스트 형태\n",
    "img_tmp3 = glob('/home/jngmk/Downloads/datasets/dataset/downy_mildew/*')\n",
    "print(len(img_tmp3))"
   ]
  },
  {
   "cell_type": "code",
   "execution_count": 94,
   "metadata": {},
   "outputs": [
    {
     "name": "stdout",
     "output_type": "stream",
     "text": [
      "3333\n",
      "3331\n",
      "1546\n"
     ]
    }
   ],
   "source": [
    "# 경로에서 파일 제목만 불러오기\n",
    "img_name3 = []\n",
    "\n",
    "for i in range(len(img_tmp3)):\n",
    "    img_name3.append(os.path.basename(img_tmp3[i]))\n",
    "\n",
    "print(len(img_name3))\n",
    "\n",
    "# 잎 데이터만 추출 (최종 정상 데이터)\n",
    "leaf_img_2 = leaf_files(img_name3)\n",
    "print(len(leaf_img_2))\n",
    "\n",
    "# 노균병 데이터만 추출 (잎으로 한번 정제된 데이터 사용)\n",
    "downy_img = downy_files(leaf_img_2)\n",
    "print(len(downy_img))"
   ]
  },
  {
   "cell_type": "markdown",
   "metadata": {},
   "source": [
    "#### 이미지 데이터 train_test_split"
   ]
  },
  {
   "cell_type": "code",
   "execution_count": 12,
   "metadata": {},
   "outputs": [],
   "source": [
    "from sklearn.model_selection import train_test_split"
   ]
  },
  {
   "cell_type": "code",
   "execution_count": 95,
   "metadata": {},
   "outputs": [
    {
     "name": "stdout",
     "output_type": "stream",
     "text": [
      "train 데이터:  1449\n",
      "valid 데이터:  363\n",
      "test 데이터:  453\n"
     ]
    }
   ],
   "source": [
    "### 흰가루병 데이터\n",
    "\n",
    "# 학습 데이터와 테스트 데이터 분리 (train:test = 8:2)\n",
    "train_img_powdery, test_img_powdery = train_test_split(powdery_img, test_size=0.2, random_state=44)\n",
    "\n",
    "# 학습 데이터와 검증 데이터 분리 (train:validation = 8:2)\n",
    "train_img_powdery, val_img_powdery = train_test_split(train_img_powdery, test_size=0.2, random_state=44)\n",
    "\n",
    "print('train 데이터: ', len(train_img_powdery))\n",
    "print('valid 데이터: ', len(val_img_powdery))\n",
    "print('test 데이터: ', len(test_img_powdery))"
   ]
  },
  {
   "cell_type": "code",
   "execution_count": 114,
   "metadata": {},
   "outputs": [
    {
     "name": "stdout",
     "output_type": "stream",
     "text": [
      "train 데이터:  384\n",
      "valid 데이터:  96\n",
      "test 데이터:  120\n"
     ]
    }
   ],
   "source": [
    "### 정상 데이터 (고추만)\n",
    "\n",
    "# 학습 데이터와 테스트 데이터 분리 (train:test = 8:2)\n",
    "train_img_pepper, test_img_pepper = train_test_split(pepper_img[0:600], test_size=0.2, random_state=44)\n",
    "\n",
    "# 학습 데이터와 검증 데이터 분리 (train:validation = 8:2)\n",
    "train_img_pepper, val_img_pepper = train_test_split(train_img_pepper, test_size=0.2, random_state=44)\n",
    "\n",
    "print('train 데이터: ', len(train_img_pepper))\n",
    "print('valid 데이터: ', len(val_img_pepper))\n",
    "print('test 데이터: ', len(test_img_pepper))"
   ]
  },
  {
   "cell_type": "code",
   "execution_count": 102,
   "metadata": {},
   "outputs": [
    {
     "name": "stdout",
     "output_type": "stream",
     "text": [
      "train 데이터:  1536\n",
      "valid 데이터:  384\n",
      "test 데이터:  480\n"
     ]
    }
   ],
   "source": [
    "### 정상 데이터 (고추 제외)\n",
    "\n",
    "# 학습 데이터와 테스트 데이터 분리 (train:test = 8:2)\n",
    "train_img_normal, test_img_normal = train_test_split(normal_img, test_size=0.2, random_state=44)\n",
    "\n",
    "# 학습 데이터와 검증 데이터 분리 (train:validation = 8:2)\n",
    "train_img_normal, val_img_normal = train_test_split(train_img_normal, test_size=0.2, random_state=44)\n",
    "\n",
    "print('train 데이터: ', len(train_img_normal))\n",
    "print('valid 데이터: ', len(val_img_normal))\n",
    "print('test 데이터: ', len(test_img_normal))"
   ]
  },
  {
   "cell_type": "code",
   "execution_count": 97,
   "metadata": {},
   "outputs": [
    {
     "name": "stdout",
     "output_type": "stream",
     "text": [
      "train 데이터:  988\n",
      "valid 데이터:  248\n",
      "test 데이터:  310\n"
     ]
    }
   ],
   "source": [
    "### 노균병 데이터\n",
    "\n",
    "# 학습 데이터와 테스트 데이터 분리 (train:test = 8:2)\n",
    "train_img_downy, test_img_downy = train_test_split(downy_img, test_size=0.2, random_state=44)\n",
    "\n",
    "# 학습 데이터와 검증 데이터 분리 (train:validation = 8:2)\n",
    "train_img_downy, val_img_downy = train_test_split(train_img_downy, test_size=0.2, random_state=44)\n",
    "\n",
    "print('train 데이터: ', len(train_img_downy))\n",
    "print('valid 데이터: ', len(val_img_downy))\n",
    "print('test 데이터: ', len(test_img_downy))"
   ]
  },
  {
   "cell_type": "markdown",
   "metadata": {},
   "source": [
    "#### 이미지 데이터 yolov5/dataset 폴더로 이동\n",
    "\n",
    "- yolov5/dataset\n",
    "\n",
    "    - images\n",
    "\n",
    "        - train (train_images_dir)\n",
    "        - validation (validation_images_dir)\n",
    "        - test (test_images_dir)\n",
    "\n",
    "    -------------------------------------------------------'\n",
    "\n",
    "    - labels\n",
    "\n",
    "        - train (train_labels_dir)\n",
    "        - validation (validation_labels_dir)\n",
    "        - test (test_labels_dir)\n",
    "    \n",
    "    -------------------------------------------------------'\n",
    "\n",
    "    - labels_tmp\n",
    "\n",
    "        - train (train_labels_json_dir)\n",
    "        - validation (validation_labels_json_dir)\n",
    "        - test (test_labels_json_dir)"
   ]
  },
  {
   "cell_type": "markdown",
   "metadata": {},
   "source": [
    "- YOLOv5는 라벨이 있으므로 따로 종류를 구분하지 않고 train, val, test에 한번에 저장"
   ]
  },
  {
   "cell_type": "code",
   "execution_count": 106,
   "metadata": {},
   "outputs": [],
   "source": [
    "### 흰가루병 데이터\n",
    "\n",
    "# train\n",
    "for train_img in train_img_powdery:\n",
    "    \n",
    "    # src라는 파일을 dst에 복사함\n",
    "    # src와 dst는 문자열 string으로 주어지는 경로명이고, dst가 이미 존재하면 대체됨\n",
    "    src = os.path.join('/home/jngmk/data/Disease/powdery_mildew/images/', train_img)\n",
    "    dst = os.path.join(train_images_dir, train_img)\n",
    "    shutil.move(src, dst)\n",
    "    \n",
    "# validation\n",
    "for valid_img in val_img_powdery:\n",
    "    src = os.path.join('/home/jngmk/data/Disease/powdery_mildew/images/', valid_img)\n",
    "    dst = os.path.join(validation_images_dir, valid_img)\n",
    "    shutil.move(src, dst)\n",
    "    \n",
    "# test\n",
    "for test_img in test_img_powdery:\n",
    "    src = os.path.join('/home/jngmk/data/Disease/powdery_mildew/images/', test_img)\n",
    "    dst = os.path.join(test_images_dir, test_img)\n",
    "    shutil.move(src, dst)"
   ]
  },
  {
   "cell_type": "code",
   "execution_count": 113,
   "metadata": {},
   "outputs": [],
   "source": [
    "### 정상 데이터 (고추만)\n",
    "\n",
    "# train\n",
    "for train_img in train_img_pepper:\n",
    "    src = os.path.join('/home/jngmk/data/Disease/normal_data/images/', train_img)\n",
    "    dst = os.path.join(train_images_dir, train_img)\n",
    "    shutil.move(src, dst)\n",
    "\n",
    "# validation\n",
    "for valid_img in val_img_pepper:\n",
    "    src = os.path.join('/home/jngmk/data/Disease/normal_data/images/', valid_img)\n",
    "    dst = os.path.join(validation_images_dir, valid_img)\n",
    "    shutil.move(src, dst)\n",
    "\n",
    "# test\n",
    "for test_img in test_img_pepper:\n",
    "    src = os.path.join('/home/jngmk/data/Disease/normal_data/images/', test_img)\n",
    "    dst = os.path.join(test_images_dir, test_img)\n",
    "    shutil.move(src, dst)"
   ]
  },
  {
   "cell_type": "code",
   "execution_count": 115,
   "metadata": {},
   "outputs": [],
   "source": [
    "### 정상 데이터 (고추 제외)\n",
    "\n",
    "# train\n",
    "for train_img in train_img_normal:\n",
    "    src = os.path.join('/home/jngmk/Downloads/datasets/dataset/normal_addition/', train_img)\n",
    "    dst = os.path.join(train_images_dir, train_img)\n",
    "    shutil.move(src, dst)\n",
    "\n",
    "# validation\n",
    "for valid_img in val_img_normal:\n",
    "    src = os.path.join('/home/jngmk/Downloads/datasets/dataset/normal_addition/', valid_img)\n",
    "    dst = os.path.join(validation_images_dir, valid_img)\n",
    "    shutil.move(src, dst)\n",
    "\n",
    "# test\n",
    "for test_img in test_img_normal:\n",
    "    src = os.path.join('/home/jngmk/Downloads/datasets/dataset/normal_addition/', test_img)\n",
    "    dst = os.path.join(test_images_dir, test_img)\n",
    "    shutil.move(src, dst)"
   ]
  },
  {
   "cell_type": "code",
   "execution_count": 116,
   "metadata": {},
   "outputs": [],
   "source": [
    "### 노균병 데이터 복사\n",
    "\n",
    "# train\n",
    "for train_img in train_img_downy:\n",
    "    src = os.path.join('/home/jngmk/Downloads/datasets/dataset/downy_mildew/', train_img)\n",
    "    dst = os.path.join(train_images_dir, train_img)\n",
    "    shutil.move(src, dst)\n",
    "\n",
    "# validation\n",
    "for valid_img in val_img_downy:\n",
    "    src = os.path.join('/home/jngmk/Downloads/datasets/dataset/downy_mildew/', valid_img)\n",
    "    dst = os.path.join(validation_images_dir, valid_img)\n",
    "    shutil.move(src, dst)\n",
    "\n",
    "# test\n",
    "for test_img in test_img_downy:\n",
    "    src = os.path.join('/home/jngmk/Downloads/datasets/dataset/downy_mildew/', test_img)\n",
    "    dst = os.path.join(test_images_dir, test_img)\n",
    "    shutil.move(src, dst)"
   ]
  },
  {
   "cell_type": "code",
   "execution_count": 13,
   "metadata": {},
   "outputs": [
    {
     "name": "stdout",
     "output_type": "stream",
     "text": [
      "4357 1091 1363\n"
     ]
    }
   ],
   "source": [
    "train_images = os.listdir(train_images_dir)\n",
    "valid_images = os.listdir(validation_images_dir)\n",
    "test_images = os.listdir(test_images_dir)\n",
    "\n",
    "print(len(train_images), len(valid_images), len(test_images))"
   ]
  },
  {
   "cell_type": "markdown",
   "metadata": {},
   "source": [
    "#### 라벨 데이터 labels_tmp으로 복사"
   ]
  },
  {
   "cell_type": "code",
   "execution_count": 14,
   "metadata": {},
   "outputs": [
    {
     "name": "stdout",
     "output_type": "stream",
     "text": [
      "/home/jngmk/Downloads/datasets/dataset/labels_all\n",
      "58879\n"
     ]
    }
   ],
   "source": [
    "# 라벨 경로 (흰가루병, 정상 고추)\n",
    "label_route = ('/home/jngmk/Downloads/datasets/dataset/labels_all')\n",
    "print(label_route)  # raw 데이터의 라벨이 있는 경로\n",
    "\n",
    "# 라벨 리스트\n",
    "label_list = os.listdir(label_route)\n",
    "print(len(label_list))"
   ]
  },
  {
   "cell_type": "code",
   "execution_count": 125,
   "metadata": {},
   "outputs": [
    {
     "name": "stdout",
     "output_type": "stream",
     "text": [
      "True!\n",
      "65689\n"
     ]
    }
   ],
   "source": [
    "# 테스트\n",
    "cnt = 0\n",
    "\n",
    "for label in label_list:\n",
    "    # print(label)\n",
    "    # print(train_images[8].split('.')[0])\n",
    "    # print(label_all[label].split('.')[0])\n",
    "    if test_images[900].split('.')[0] == label.split('.')[0]:\n",
    "        print('True!')\n",
    "    else:\n",
    "        cnt += 1\n",
    "\n",
    "print(cnt)"
   ]
  },
  {
   "cell_type": "code",
   "execution_count": 126,
   "metadata": {},
   "outputs": [],
   "source": [
    "# 이미지 데이터와 맞는 label 파일 -> label_tmp 파일에 복사\n",
    "\n",
    "data_list = [train_images, valid_images, test_images]\n",
    "\n",
    "for data in data_list:\n",
    "\n",
    "    # train 데이터\n",
    "    if data == train_images:\n",
    "        for label in label_list:\n",
    "            for image in train_images:\n",
    "\n",
    "                # 뒤에 확장자명 뺀 이름이 같을 경우\n",
    "                if image.split('.')[0] == label.split('.')[0]:\n",
    "\n",
    "                    # 라벨 데이터 labels_tmp/train으로 파일 복사\n",
    "                    src = os.path.join(label_route, label)\n",
    "                    dst = os.path.join(train_labels_json_dir, label)\n",
    "\n",
    "                    # copyfile: 복사하고 싶은 파일 (경로 포함), 복사할 대상 파일명 (경로 포함)\n",
    "                    shutil.move(src, dst) \n",
    "\n",
    "    # validation 데이터\n",
    "    elif data == valid_images:\n",
    "        for label in label_list:\n",
    "            for image in valid_images:\n",
    "                \n",
    "                # 뒤에 확장자명 뺀 이름이 같을 경우\n",
    "                if image.split('.')[0] == label.split('.')[0]:\n",
    "\n",
    "                    # 라벨 데이터 labels_tmp/validation으로 파일 복사\n",
    "                    src = os.path.join(label_route, label)\n",
    "                    dst = os.path.join(validation_labels_json_dir, label)\n",
    "\n",
    "                    # copyfile: 복사하고 싶은 파일 (경로 포함), 복사할 대상 파일명 (경로 포함)\n",
    "                    shutil.move(src, dst) \n",
    "\n",
    "    # test 데이터\n",
    "    elif data == test_images:\n",
    "        for label in label_list:\n",
    "            for image in test_images:\n",
    "\n",
    "                # 뒤에 확장자명 뺀 이름이 같을 경우\n",
    "                if image.split('.')[0] == label.split('.')[0]:\n",
    "\n",
    "                    # 라벨 데이터 labels_tmp/test으로 파일 복사\n",
    "                    src = os.path.join(label_route, label)\n",
    "                    dst = os.path.join(test_labels_json_dir, label)\n",
    "\n",
    "                    # copyfile: 복사하고 싶은 파일 (경로 포함), 복사할 대상 파일명 (경로 포함)\n",
    "                    shutil.move(src, dst)"
   ]
  },
  {
   "cell_type": "code",
   "execution_count": 15,
   "metadata": {},
   "outputs": [
    {
     "name": "stdout",
     "output_type": "stream",
     "text": [
      "훈련용 라벨 개수 : 4357\n",
      "valid 라벨 개수 : 1091\n",
      "test 라벨 개수 : 1363\n"
     ]
    }
   ],
   "source": [
    "# 복사된 데이터 수 확인 (라벨)\n",
    "print('훈련용 라벨 개수 :', len(os.listdir(train_labels_json_dir)))\n",
    "print('valid 라벨 개수 :', len(os.listdir(validation_labels_json_dir)))\n",
    "print('test 라벨 개수 :', len(os.listdir(test_labels_json_dir)))"
   ]
  },
  {
   "cell_type": "markdown",
   "metadata": {},
   "source": [
    "#### 라벨 데이터 json -> txt 파일로 변환 후 새로운 파일로 저장"
   ]
  },
  {
   "cell_type": "code",
   "execution_count": null,
   "metadata": {},
   "outputs": [],
   "source": [
    "'''\n",
    "{\n",
    "    \"description\": {\n",
    "        \"image\": \"V006_79_1_07_04_03_12_1_5950b_20201024_2.jpeg\",  # 파일 이름\n",
    "        \"date\": \"2020/10/24\",   # 취득 일자\n",
    "        \"worker\": \"\",           # 촬영 지역\n",
    "        \"height\": 2268,         # 이미지 높이\n",
    "        \"width\": 4032,          # 이미지 너비\n",
    "        \"task\": 79,             # 과제 번호\n",
    "        \"type\": 1,              # 촬영 유형\n",
    "        \"region\": 3\n",
    "    },\n",
    "    \"annotations\": {\n",
    "        \"disease\": 7,           # 질병/해충 코드\n",
    "        \"crop\": 4,              # 작물 코드\n",
    "        \"area\": 3,              # 촬영 부위\n",
    "        \"grow\": 12,             # 작물 생육단계\n",
    "        \"risk\": 1,              # 질병 피해 정도 (숫자가 커질수록 피해가 큼)\n",
    "        \"points\": [             # 주목 객체의 bbox 좌표\n",
    "            {\n",
    "                \"xtl\": 263,\n",
    "                \"ytl\": 0,\n",
    "                \"xbr\": 3513,\n",
    "                \"ybr\": 2250\n",
    "            }\n",
    "        ]\n",
    "    }\n",
    "}\n",
    "'''"
   ]
  },
  {
   "cell_type": "code",
   "execution_count": 16,
   "metadata": {},
   "outputs": [],
   "source": [
    "# 바운딩박스 포맷 YOLO 형태로 바꿔주기\n",
    "# YOLO bounding box 형태 : [x_center, y_center, width, height]\n",
    "\n",
    "def convert_bbox_yolov5(img_width, img_height, bbox):\n",
    "    \n",
    "    x_tl, y_tl, w, h = bbox\n",
    "\n",
    "    dw = 1.0 / img_width\n",
    "    dh = 1.0 / img_height\n",
    "\n",
    "    x_center = x_tl + w / 2.0\n",
    "    y_center = y_tl + h / 2.0\n",
    "\n",
    "    x = x_center * dw\n",
    "    y = y_center * dh\n",
    "    w = w * dw\n",
    "    h = h * dh\n",
    "\n",
    "    return [x, y, w, h]"
   ]
  },
  {
   "cell_type": "code",
   "execution_count": 17,
   "metadata": {},
   "outputs": [],
   "source": [
    "# json => txt 파일로 변환\n",
    "# lables_tmp에서 json 파일 꺼내와서 새로 생성된 txt 파일은 lables에 저장\n",
    "\n",
    "import json\n",
    "from tqdm import tqdm\n",
    "\n",
    "def convert_json_to_txt(output_path, json_file): # txt 파일 저장될 경로, 불러올 json 파일\n",
    "    \n",
    "    # json 파일 불러오기\n",
    "    with open(json_file) as f:\n",
    "        json_data = json.load(f)\n",
    "\n",
    "    # json 파일에 있는 정보 가져오기\n",
    "    img_name = json_data['description']['image']\n",
    "    img_width = json_data['description']['width']\n",
    "    img_height = json_data['description']['height']\n",
    "\n",
    "    disease = json_data['annotations']['disease']\n",
    "    # 정상은 0\n",
    "    \n",
    "    # 흰가루병인 경우 클래스명 1로 통일\n",
    "    # 순서대로 고추흰가루병, 애호박흰가루병, 오이흰가루병, 호박흰가루병\n",
    "    if disease == 2 or disease == 8 or disease == 12 or disease == 20: disease = 1\n",
    "\n",
    "    # 노균병인 경우 클래스명 2로 통일\n",
    "    # 순서대로 오이노균병, 애호박노균병, 무노균병, 호박노균병\n",
    "    elif disease == 11 or disease == 7 or disease == 4 or disease == 19: disease = 2\n",
    "\n",
    "    # txt 파일 작성\n",
    "    label_txt = os.path.join(output_path, img_name.split('.')[0] + '.txt')\n",
    "\n",
    "    # points가 리스트에 한 번 더 감싸져 여러 개가 있을 수 있으므로 for문 사용\n",
    "    points = json_data['annotations']['points']\n",
    "\n",
    "    for point in points:\n",
    "        # points 형태: {'xtl': 1829, 'ytl': 398, 'xbr': 2338, 'ybr': 1067}\n",
    "        # point 형태: {'xtl': 1829, 'ytl': 398, 'xbr': 2338, 'ybr': 1067}\n",
    "        xtl = point['xtl']\n",
    "        ytl = point['ytl']\n",
    "        xbr = point['xbr']\n",
    "        ybr = point['ybr']\n",
    "\n",
    "        with open(label_txt, 'w') as f:\n",
    "            bbox = [xtl, ytl, xbr, ybr]\n",
    "            x, y, w, h = convert_bbox_yolov5(img_width, img_height, bbox)\n",
    "            f.write(f\"{disease} {x:.6f} {y:.6f} {w:.6f} {h:.6f}\\n\")"
   ]
  },
  {
   "cell_type": "code",
   "execution_count": 134,
   "metadata": {},
   "outputs": [],
   "source": [
    "# 함수 사용해서 json => txt로 변환\n",
    "\n",
    "# train 데이터\n",
    "train_labels = os.listdir(train_labels_json_dir)\n",
    "\n",
    "for label_json in train_labels:\n",
    "    json_file = os.path.join(train_labels_json_dir, label_json)\n",
    "    convert_json_to_txt(train_labels_dir, json_file)\n",
    "\n",
    "# validation 데이터\n",
    "valid_labels = os.listdir(validation_labels_json_dir)\n",
    "\n",
    "for label_json in valid_labels:\n",
    "    json_file = os.path.join(validation_labels_json_dir, label_json)\n",
    "    convert_json_to_txt(validation_labels_dir, json_file)\n",
    "\n",
    "# test 데이터\n",
    "test_labels = os.listdir(test_labels_json_dir)\n",
    "\n",
    "for label_json in test_labels:\n",
    "    json_file = os.path.join(test_labels_json_dir, label_json)\n",
    "    convert_json_to_txt(test_labels_dir, json_file)"
   ]
  },
  {
   "cell_type": "code",
   "execution_count": 18,
   "metadata": {},
   "outputs": [
    {
     "name": "stdout",
     "output_type": "stream",
     "text": [
      "훈련용 라벨 개수 : 4357\n",
      "valid 라벨 개수 : 1091\n",
      "test 라벨 개수 : 1363\n"
     ]
    }
   ],
   "source": [
    "# 만들어진 라벨 데이터 수 확인\n",
    "print('훈련용 라벨 개수 :', len(os.listdir(train_labels_dir)))\n",
    "print('valid 라벨 개수 :', len(os.listdir(validation_labels_dir)))\n",
    "print('test 라벨 개수 :', len(os.listdir(test_labels_dir)))"
   ]
  },
  {
   "cell_type": "markdown",
   "metadata": {},
   "source": [
    "#### YOLOv5 Model 불러오기"
   ]
  },
  {
   "cell_type": "markdown",
   "metadata": {},
   "source": [
    "Yolov5 모델구조 => 이미지, 라벨 파일 bash 창에서 이동\n",
    "\n",
    "- dataset\n",
    "    -  images\n",
    "        - test\n",
    "        - train\n",
    "        - validation\n",
    "    - labels\n",
    "        - test\n",
    "        - train\n",
    "        - validation\n",
    "    \n",
    "- data\n",
    "    - data.yaml\\\n",
    "        [path: root 디렉토리,\\\n",
    "        train: images/train 학습 데이터 경로\\\n",
    "        val: images/validation 검증 데이터 경로\\\n",
    "        test: images/test 테스트 데이터 경로\\\n",
    "        nc: 2 클래스 수\\\n",
    "        name: ['...', '...'] 클래스 이름]"
   ]
  },
  {
   "cell_type": "code",
   "execution_count": 19,
   "metadata": {},
   "outputs": [
    {
     "name": "stdout",
     "output_type": "stream",
     "text": [
      "4357 1091 1363\n"
     ]
    }
   ],
   "source": [
    "# 이미지 경로 변경 (yolov5/dataset으로 변경)\n",
    "# base_dir_new = '/home/jngmk/Downloads/datasets/yolov5/dataset'\n",
    "\n",
    "# 복사된 이미지 개수 확인\n",
    "train_images = os.listdir(train_images_dir)\n",
    "validation_images = os.listdir(validation_images_dir)\n",
    "test_images = os.listdir(test_images_dir)\n",
    "\n",
    "print(len(train_images), len(validation_images), len(test_images))"
   ]
  },
  {
   "cell_type": "code",
   "execution_count": 20,
   "metadata": {},
   "outputs": [
    {
     "name": "stdout",
     "output_type": "stream",
     "text": [
      "/home/jngmk/Downloads/datasets/yolov5\n"
     ]
    }
   ],
   "source": [
    "cd '/home/jngmk/Downloads/datasets/yolov5/'"
   ]
  },
  {
   "cell_type": "code",
   "execution_count": 21,
   "metadata": {},
   "outputs": [
    {
     "data": {
      "text/plain": [
       "'/home/jngmk/Downloads/datasets/yolov5'"
      ]
     },
     "execution_count": 21,
     "metadata": {},
     "output_type": "execute_result"
    }
   ],
   "source": [
    "os.getcwd()"
   ]
  },
  {
   "cell_type": "code",
   "execution_count": 141,
   "metadata": {},
   "outputs": [
    {
     "name": "stderr",
     "output_type": "stream",
     "text": [
      "100%|██████████| 6811/6811 [30:59<00:00,  3.66it/s] \n"
     ]
    }
   ],
   "source": [
    "# 아래에서 이미지를 못 읽어옴\n",
    "\n",
    "# opencv로 파일 열어서 다시 저장하기 \n",
    "# 오류 해결 가능 => UnidentifiedImageError: cannot identify image file <_io.BytesIO object at 0x7f9e185347d0> \n",
    "\n",
    "import PIL, glob\n",
    "import cv2\n",
    "from tqdm import tqdm\n",
    "\n",
    "imgs_ = glob.glob(f\"./dataset/images/*/*\")\n",
    "\n",
    "def imageRefine(image):\n",
    "    for img in tqdm(image):\n",
    "        try:\n",
    "            src = cv2.imread(img, cv2.IMREAD_UNCHANGED)\n",
    "            cv2.imwrite(img, src)\n",
    "\n",
    "        except PIL.UnidentifiedImageError:\n",
    "            print(img)\n",
    "            cv2.imwrite(img, src)\n",
    "\n",
    "imageRefine(imgs_)"
   ]
  },
  {
   "cell_type": "code",
   "execution_count": 142,
   "metadata": {},
   "outputs": [
    {
     "name": "stdout",
     "output_type": "stream",
     "text": [
      "4357 1091 1363\n"
     ]
    }
   ],
   "source": [
    "print(len(train_images), len(validation_images), len(test_images))"
   ]
  },
  {
   "cell_type": "code",
   "execution_count": 143,
   "metadata": {},
   "outputs": [
    {
     "name": "stdout",
     "output_type": "stream",
     "text": [
      "4357\n"
     ]
    }
   ],
   "source": [
    "cnt = 0\n",
    "\n",
    "for train_img in train_images:\n",
    "    for train_label in train_labels:\n",
    "        if train_img.split('.')[0] == train_label.split('.')[0]:\n",
    "            cnt += 1\n",
    "\n",
    "print(cnt)"
   ]
  },
  {
   "cell_type": "code",
   "execution_count": 3,
   "metadata": {},
   "outputs": [
    {
     "data": {
      "text/plain": [
       "\"\\npath: ./dataset/\\n\\ntrain: images/train\\nval: images/validation\\ntest: images/test\\n\\nnc: 2\\nnames: ['normal data', 'powdery mildew']\\n\""
      ]
     },
     "execution_count": 3,
     "metadata": {},
     "output_type": "execute_result"
    }
   ],
   "source": [
    "# yolov5/data/data.yaml 파일 생성 (수정필요)\n",
    "\n",
    "# 파일 내용\n",
    "'''\n",
    "path: ./dataset/\n",
    "\n",
    "train: images/train\n",
    "val: images/validation\n",
    "test: images/test\n",
    "\n",
    "nc: 3\n",
    "names: ['normal data', 'powdery mildew', 'downy mildew']\n",
    "'''"
   ]
  },
  {
   "cell_type": "code",
   "execution_count": 22,
   "metadata": {},
   "outputs": [
    {
     "name": "stdout",
     "output_type": "stream",
     "text": [
      "{'path': './dataset/', 'train': 'images/train', 'val': 'images/validation', 'test': 'images/test', 'nc': 3, 'names': ['정상', '흰가루병', '노균병']}\n"
     ]
    }
   ],
   "source": [
    "import yaml\n",
    "\n",
    "# data.yaml 확인\n",
    "with open('/home/jngmk/Downloads/datasets/yolov5/data/data.yaml', 'r') as f:\n",
    "    data = yaml.full_load(f)\n",
    "\n",
    "print(data)"
   ]
  },
  {
   "cell_type": "code",
   "execution_count": 14,
   "metadata": {},
   "outputs": [
    {
     "name": "stdout",
     "output_type": "stream",
     "text": [
      "Cloning into 'yolov5'...\n",
      "remote: Enumerating objects: 13163, done.\u001b[K\n",
      "remote: Total 13163 (delta 0), reused 0 (delta 0), pack-reused 13163\u001b[K\n",
      "Receiving objects: 100% (13163/13163), 11.94 MiB | 8.42 MiB/s, done.\n",
      "Resolving deltas: 100% (9154/9154), done.\n"
     ]
    }
   ],
   "source": [
    "# yolov5 모델 불러오기\n",
    "!git clone https://github.com/ultralytics/yolov5.git"
   ]
  },
  {
   "cell_type": "code",
   "execution_count": 29,
   "metadata": {},
   "outputs": [
    {
     "name": "stdout",
     "output_type": "stream",
     "text": [
      "Collecting matplotlib>=3.2.2\n",
      "  Downloading matplotlib-3.5.1-cp37-cp37m-manylinux_2_5_x86_64.manylinux1_x86_64.whl (11.2 MB)\n",
      "\u001b[K     |████████████████████████████████| 11.2 MB 393 kB/s  eta 0:00:01\n",
      "\u001b[?25hRequirement already satisfied: numpy>=1.18.5 in /home/jngmk/anaconda3/envs/project/lib/python3.7/site-packages (from -r /home/jngmk/Downloads/datasets/yolov5/requirements.txt (line 5)) (1.21.5)\n",
      "Requirement already satisfied: opencv-python>=4.1.1 in /home/jngmk/anaconda3/envs/project/lib/python3.7/site-packages (from -r /home/jngmk/Downloads/datasets/yolov5/requirements.txt (line 6)) (4.5.5.64)\n",
      "Requirement already satisfied: Pillow>=7.1.2 in /home/jngmk/anaconda3/envs/project/lib/python3.7/site-packages (from -r /home/jngmk/Downloads/datasets/yolov5/requirements.txt (line 7)) (9.0.1)\n",
      "Requirement already satisfied: PyYAML>=5.3.1 in /home/jngmk/anaconda3/envs/project/lib/python3.7/site-packages (from -r /home/jngmk/Downloads/datasets/yolov5/requirements.txt (line 8)) (6.0)\n",
      "Requirement already satisfied: requests>=2.23.0 in /home/jngmk/anaconda3/envs/project/lib/python3.7/site-packages (from -r /home/jngmk/Downloads/datasets/yolov5/requirements.txt (line 9)) (2.27.1)\n",
      "Collecting scipy>=1.5\n",
      "  Using cached scipy-1.7.3-cp37-cp37m-manylinux_2_12_x86_64.manylinux2010_x86_64.whl (38.1 MB)\n",
      "Requirement already satisfied: torch>=1.7.0 in /home/jngmk/anaconda3/envs/project/lib/python3.7/site-packages (from -r /home/jngmk/Downloads/datasets/yolov5/requirements.txt (line 11)) (1.11.0)\n",
      "Requirement already satisfied: torchvision>=0.8.1 in /home/jngmk/anaconda3/envs/project/lib/python3.7/site-packages (from -r /home/jngmk/Downloads/datasets/yolov5/requirements.txt (line 12)) (0.12.0)\n",
      "Requirement already satisfied: tqdm>=4.41.0 in /home/jngmk/anaconda3/envs/project/lib/python3.7/site-packages (from -r /home/jngmk/Downloads/datasets/yolov5/requirements.txt (line 13)) (4.64.0)\n",
      "Requirement already satisfied: tensorboard>=2.4.1 in /home/jngmk/anaconda3/envs/project/lib/python3.7/site-packages (from -r /home/jngmk/Downloads/datasets/yolov5/requirements.txt (line 16)) (2.9.0)\n",
      "Collecting pandas>=1.1.4\n",
      "  Using cached pandas-1.3.5-cp37-cp37m-manylinux_2_17_x86_64.manylinux2014_x86_64.whl (11.3 MB)\n",
      "Collecting seaborn>=0.11.0\n",
      "  Downloading seaborn-0.11.2-py3-none-any.whl (292 kB)\n",
      "\u001b[K     |████████████████████████████████| 292 kB 10.9 MB/s eta 0:00:01\n",
      "\u001b[?25hCollecting thop\n",
      "  Downloading thop-0.0.31.post2005241907-py3-none-any.whl (8.7 kB)\n",
      "Requirement already satisfied: python-dateutil>=2.7 in /home/jngmk/anaconda3/envs/project/lib/python3.7/site-packages (from matplotlib>=3.2.2->-r /home/jngmk/Downloads/datasets/yolov5/requirements.txt (line 4)) (2.8.2)\n",
      "Requirement already satisfied: packaging>=20.0 in /home/jngmk/anaconda3/envs/project/lib/python3.7/site-packages (from matplotlib>=3.2.2->-r /home/jngmk/Downloads/datasets/yolov5/requirements.txt (line 4)) (21.3)\n",
      "Collecting kiwisolver>=1.0.1\n",
      "  Downloading kiwisolver-1.4.2-cp37-cp37m-manylinux_2_5_x86_64.manylinux1_x86_64.whl (1.1 MB)\n",
      "\u001b[K     |████████████████████████████████| 1.1 MB 11.1 MB/s eta 0:00:01\n",
      "\u001b[?25hCollecting fonttools>=4.22.0\n",
      "  Downloading fonttools-4.33.3-py3-none-any.whl (930 kB)\n",
      "\u001b[K     |████████████████████████████████| 930 kB 10.9 MB/s eta 0:00:01\n",
      "\u001b[?25hCollecting cycler>=0.10\n",
      "  Downloading cycler-0.11.0-py3-none-any.whl (6.4 kB)\n",
      "Requirement already satisfied: pyparsing>=2.2.1 in /home/jngmk/anaconda3/envs/project/lib/python3.7/site-packages (from matplotlib>=3.2.2->-r /home/jngmk/Downloads/datasets/yolov5/requirements.txt (line 4)) (3.0.8)\n",
      "Requirement already satisfied: idna<4,>=2.5 in /home/jngmk/anaconda3/envs/project/lib/python3.7/site-packages (from requests>=2.23.0->-r /home/jngmk/Downloads/datasets/yolov5/requirements.txt (line 9)) (3.3)\n",
      "Requirement already satisfied: certifi>=2017.4.17 in /home/jngmk/anaconda3/envs/project/lib/python3.7/site-packages (from requests>=2.23.0->-r /home/jngmk/Downloads/datasets/yolov5/requirements.txt (line 9)) (2021.10.8)\n",
      "Requirement already satisfied: charset-normalizer~=2.0.0 in /home/jngmk/anaconda3/envs/project/lib/python3.7/site-packages (from requests>=2.23.0->-r /home/jngmk/Downloads/datasets/yolov5/requirements.txt (line 9)) (2.0.4)\n",
      "Requirement already satisfied: urllib3<1.27,>=1.21.1 in /home/jngmk/anaconda3/envs/project/lib/python3.7/site-packages (from requests>=2.23.0->-r /home/jngmk/Downloads/datasets/yolov5/requirements.txt (line 9)) (1.26.9)\n",
      "Requirement already satisfied: typing_extensions in /home/jngmk/anaconda3/envs/project/lib/python3.7/site-packages (from torch>=1.7.0->-r /home/jngmk/Downloads/datasets/yolov5/requirements.txt (line 11)) (4.1.1)\n",
      "Requirement already satisfied: absl-py>=0.4 in /home/jngmk/anaconda3/envs/project/lib/python3.7/site-packages (from tensorboard>=2.4.1->-r /home/jngmk/Downloads/datasets/yolov5/requirements.txt (line 16)) (1.0.0)\n",
      "Requirement already satisfied: tensorboard-plugin-wit>=1.6.0 in /home/jngmk/anaconda3/envs/project/lib/python3.7/site-packages (from tensorboard>=2.4.1->-r /home/jngmk/Downloads/datasets/yolov5/requirements.txt (line 16)) (1.8.1)\n",
      "Requirement already satisfied: wheel>=0.26 in /home/jngmk/anaconda3/envs/project/lib/python3.7/site-packages (from tensorboard>=2.4.1->-r /home/jngmk/Downloads/datasets/yolov5/requirements.txt (line 16)) (0.37.1)\n",
      "Requirement already satisfied: protobuf>=3.9.2 in /home/jngmk/anaconda3/envs/project/lib/python3.7/site-packages (from tensorboard>=2.4.1->-r /home/jngmk/Downloads/datasets/yolov5/requirements.txt (line 16)) (3.20.1)\n",
      "Requirement already satisfied: tensorboard-data-server<0.7.0,>=0.6.0 in /home/jngmk/anaconda3/envs/project/lib/python3.7/site-packages (from tensorboard>=2.4.1->-r /home/jngmk/Downloads/datasets/yolov5/requirements.txt (line 16)) (0.6.1)\n",
      "Requirement already satisfied: google-auth-oauthlib<0.5,>=0.4.1 in /home/jngmk/anaconda3/envs/project/lib/python3.7/site-packages (from tensorboard>=2.4.1->-r /home/jngmk/Downloads/datasets/yolov5/requirements.txt (line 16)) (0.4.6)\n",
      "Requirement already satisfied: setuptools>=41.0.0 in /home/jngmk/anaconda3/envs/project/lib/python3.7/site-packages (from tensorboard>=2.4.1->-r /home/jngmk/Downloads/datasets/yolov5/requirements.txt (line 16)) (61.2.0)\n",
      "Collecting markdown>=2.6.8\n",
      "  Using cached Markdown-3.3.6-py3-none-any.whl (97 kB)\n",
      "Requirement already satisfied: google-auth<3,>=1.6.3 in /home/jngmk/anaconda3/envs/project/lib/python3.7/site-packages (from tensorboard>=2.4.1->-r /home/jngmk/Downloads/datasets/yolov5/requirements.txt (line 16)) (2.6.6)\n",
      "Collecting werkzeug>=1.0.1\n",
      "  Downloading Werkzeug-2.1.2-py3-none-any.whl (224 kB)\n",
      "\u001b[K     |████████████████████████████████| 224 kB 11.0 MB/s eta 0:00:01\n",
      "\u001b[?25hRequirement already satisfied: grpcio>=1.24.3 in /home/jngmk/anaconda3/envs/project/lib/python3.7/site-packages (from tensorboard>=2.4.1->-r /home/jngmk/Downloads/datasets/yolov5/requirements.txt (line 16)) (1.44.0)\n",
      "Requirement already satisfied: pytz>=2017.3 in /home/jngmk/anaconda3/envs/project/lib/python3.7/site-packages (from pandas>=1.1.4->-r /home/jngmk/Downloads/datasets/yolov5/requirements.txt (line 20)) (2022.1)\n",
      "Requirement already satisfied: six in /home/jngmk/anaconda3/envs/project/lib/python3.7/site-packages (from absl-py>=0.4->tensorboard>=2.4.1->-r /home/jngmk/Downloads/datasets/yolov5/requirements.txt (line 16)) (1.16.0)\n",
      "Requirement already satisfied: cachetools<6.0,>=2.0.0 in /home/jngmk/anaconda3/envs/project/lib/python3.7/site-packages (from google-auth<3,>=1.6.3->tensorboard>=2.4.1->-r /home/jngmk/Downloads/datasets/yolov5/requirements.txt (line 16)) (5.0.0)\n",
      "Requirement already satisfied: rsa<5,>=3.1.4 in /home/jngmk/anaconda3/envs/project/lib/python3.7/site-packages (from google-auth<3,>=1.6.3->tensorboard>=2.4.1->-r /home/jngmk/Downloads/datasets/yolov5/requirements.txt (line 16)) (4.8)\n",
      "Requirement already satisfied: pyasn1-modules>=0.2.1 in /home/jngmk/anaconda3/envs/project/lib/python3.7/site-packages (from google-auth<3,>=1.6.3->tensorboard>=2.4.1->-r /home/jngmk/Downloads/datasets/yolov5/requirements.txt (line 16)) (0.2.8)\n",
      "Collecting requests-oauthlib>=0.7.0\n",
      "  Using cached requests_oauthlib-1.3.1-py2.py3-none-any.whl (23 kB)\n",
      "Collecting importlib-metadata>=4.4\n",
      "  Using cached importlib_metadata-4.11.3-py3-none-any.whl (18 kB)\n",
      "Collecting zipp>=0.5\n",
      "  Using cached zipp-3.8.0-py3-none-any.whl (5.4 kB)\n",
      "Requirement already satisfied: pyasn1<0.5.0,>=0.4.6 in /home/jngmk/anaconda3/envs/project/lib/python3.7/site-packages (from pyasn1-modules>=0.2.1->google-auth<3,>=1.6.3->tensorboard>=2.4.1->-r /home/jngmk/Downloads/datasets/yolov5/requirements.txt (line 16)) (0.4.8)\n",
      "Requirement already satisfied: oauthlib>=3.0.0 in /home/jngmk/anaconda3/envs/project/lib/python3.7/site-packages (from requests-oauthlib>=0.7.0->google-auth-oauthlib<0.5,>=0.4.1->tensorboard>=2.4.1->-r /home/jngmk/Downloads/datasets/yolov5/requirements.txt (line 16)) (3.2.0)\n",
      "Installing collected packages: zipp, requests-oauthlib, kiwisolver, importlib-metadata, fonttools, cycler, werkzeug, scipy, pandas, matplotlib, markdown, thop, seaborn\n",
      "Successfully installed cycler-0.11.0 fonttools-4.33.3 importlib-metadata-4.11.3 kiwisolver-1.4.2 markdown-3.3.6 matplotlib-3.5.1 pandas-1.3.5 requests-oauthlib-1.3.1 scipy-1.7.3 seaborn-0.11.2 thop-0.0.31.post2005241907 werkzeug-2.1.2 zipp-3.8.0\n"
     ]
    }
   ],
   "source": [
    "# yolov5를 위한 패키지 설치 (yolov5 폴더 안에 있는 requirements.txt)\n",
    "!pip install -r \"/home/jngmk/Downloads/datasets/yolov5/requirements.txt\""
   ]
  },
  {
   "cell_type": "code",
   "execution_count": 30,
   "metadata": {},
   "outputs": [
    {
     "name": "stdout",
     "output_type": "stream",
     "text": [
      "Requirement already satisfied: scipy in /home/jngmk/anaconda3/envs/project/lib/python3.7/site-packages (1.7.3)\n",
      "Requirement already satisfied: numpy<1.23.0,>=1.16.5 in /home/jngmk/anaconda3/envs/project/lib/python3.7/site-packages (from scipy) (1.21.5)\n"
     ]
    }
   ],
   "source": [
    "!pip install scipy --upgrade"
   ]
  },
  {
   "cell_type": "markdown",
   "metadata": {},
   "source": [
    "#### 모델 학습 전 나눔 폰트 설치 및 적용\n",
    "\n",
    "- utils/plots.py, utils/metrics.py에 코드 추가"
   ]
  },
  {
   "cell_type": "code",
   "execution_count": 1,
   "metadata": {},
   "outputs": [
    {
     "name": "stdout",
     "output_type": "stream",
     "text": [
      "Linux\n"
     ]
    }
   ],
   "source": [
    "# import matplotlib\n",
    "# import platform\n",
    "\n",
    "# print(platform.system()) # 플랫폼 확인\n",
    "\n",
    "# # Window\n",
    "# if platform.system() == 'Windows':\n",
    "#     matplotlib.rc('font', family='Malgun Gothic')\n",
    "# elif platform.system() == 'Darwin': # Mac\n",
    "#     matplotlib.rc('font', family='AppleGothic')\n",
    "# else: #linux\n",
    "#     matplotlib.rc('font', family='NanumGothic')"
   ]
  },
  {
   "cell_type": "code",
   "execution_count": 3,
   "metadata": {},
   "outputs": [
    {
     "data": {
      "text/plain": [
       "Text(0.5, 0, '안녕')"
      ]
     },
     "execution_count": 3,
     "metadata": {},
     "output_type": "execute_result"
    },
    {
     "data": {
      "image/png": "[encoded data removed]",
      "text/plain": [
       "<Figure size 432x288 with 1 Axes>"
      ]
     },
     "metadata": {
      "needs_background": "light"
     },
     "output_type": "display_data"
    }
   ],
   "source": [
    "# # 테스트\n",
    "# import matplotlib.pyplot as plt\n",
    "# plt.plot([1,2,3,4,5], [1,2,3,4,5])\n",
    "# plt.xlabel(\"안녕\")"
   ]
  },
  {
   "cell_type": "markdown",
   "metadata": {},
   "source": [
    "#### 모델 학습"
   ]
  },
  {
   "cell_type": "code",
   "execution_count": 5,
   "metadata": {},
   "outputs": [],
   "source": [
    "# 학습 전 현재 경로 확인"
   ]
  },
  {
   "cell_type": "code",
   "execution_count": 33,
   "metadata": {},
   "outputs": [
    {
     "name": "stdout",
     "output_type": "stream",
     "text": [
      "/home/jngmk/Downloads/datasets/yolov5\n"
     ]
    }
   ],
   "source": [
    "cd /home/jngmk/Downloads/datasets/yolov5"
   ]
  },
  {
   "cell_type": "code",
   "execution_count": 30,
   "metadata": {},
   "outputs": [
    {
     "data": {
      "text/plain": [
       "'/home/jngmk/Downloads/datasets/yolov5'"
      ]
     },
     "execution_count": 30,
     "metadata": {},
     "output_type": "execute_result"
    }
   ],
   "source": [
    "os.getcwd()"
   ]
  },
  {
   "cell_type": "code",
   "execution_count": 6,
   "metadata": {},
   "outputs": [
    {
     "name": "stdout",
     "output_type": "stream",
     "text": [
      "\u001b[34m\u001b[1mwandb\u001b[0m: Currently logged in as: \u001b[33mhyeeein\u001b[0m. Use \u001b[1m`wandb login --relogin`\u001b[0m to force relogin\n",
      "\u001b[34m\u001b[1mtrain: \u001b[0mweights=yolov5s.pt, cfg=./models/yolov5s.yaml, data=data/data.yaml, hyp=data/hyps/hyp.scratch-low.yaml, epochs=20, batch_size=20, imgsz=224, rect=False, resume=False, nosave=False, noval=False, noautoanchor=False, noplots=False, evolve=None, bucket=, cache=None, image_weights=False, device=cuda:0, multi_scale=False, single_cls=False, optimizer=SGD, sync_bn=False, workers=8, project=runs/train, name=yolov5s_results_ver, exist_ok=False, quad=False, cos_lr=False, label_smoothing=0.0, patience=100, freeze=[0], save_period=-1, local_rank=-1, entity=None, upload_dataset=False, bbox_interval=-1, artifact_alias=latest\n",
      "remote: Enumerating objects: 1033, done.\u001b[K\n",
      "remote: Counting objects: 100% (468/468), done.\u001b[K\n",
      "remote: Compressing objects: 100% (49/49), done.\u001b[K\n",
      "remote: Total 1033 (delta 431), reused 441 (delta 419), pack-reused 565\u001b[K\n",
      "Receiving objects: 100% (1033/1033), 247.76 KiB | 8.26 MiB/s, done.\n",
      "Resolving deltas: 100% (773/773), completed with 46 local objects.\n",
      "From https://github.com/ultralytics/yolov5\n",
      "   aa7a0e9..d059d1d  master              -> origin/master\n",
      " * [new branch]      docker-m1           -> origin/docker-m1\n",
      "   d4d688c..c58f17a  test/conv_reduction -> origin/test/conv_reduction\n",
      "   6cd71ba..f3e9621  test/convtranspose  -> origin/test/convtranspose\n",
      " * [new branch]      v7.0                -> origin/v7.0\n",
      "\u001b[34m\u001b[1mgithub: \u001b[0m⚠️ YOLOv5 is out of date by 7 commits. Use `git pull` or `git clone https://github.com/ultralytics/yolov5` to update.\n",
      "YOLOv5 🚀 v6.1-170-gbff6e51 torch 1.11.0 CUDA:0 (NVIDIA GeForce GTX 1070 Ti, 8116MiB)\n",
      "\n",
      "\u001b[34m\u001b[1mhyperparameters: \u001b[0mlr0=0.01, lrf=0.01, momentum=0.937, weight_decay=0.0005, warmup_epochs=3.0, warmup_momentum=0.8, warmup_bias_lr=0.1, box=0.05, cls=0.5, cls_pw=1.0, obj=1.0, obj_pw=1.0, iou_t=0.2, anchor_t=4.0, fl_gamma=0.0, hsv_h=0.015, hsv_s=0.7, hsv_v=0.4, degrees=0.0, translate=0.1, scale=0.5, shear=0.0, perspective=0.0, flipud=0.0, fliplr=0.5, mosaic=1.0, mixup=0.0, copy_paste=0.0\n",
      "\u001b[34m\u001b[1mTensorBoard: \u001b[0mStart with 'tensorboard --logdir runs/train', view at http://localhost:6006/\n",
      "\u001b[34m\u001b[1mwandb\u001b[0m: Tracking run with wandb version 0.12.16\n",
      "\u001b[34m\u001b[1mwandb\u001b[0m: Run data is saved locally in \u001b[35m\u001b[1m/home/jngmk/Downloads/datasets/yolov5/wandb/run-20220507_163718-2nfgtvgk\u001b[0m\n",
      "\u001b[34m\u001b[1mwandb\u001b[0m: Run \u001b[1m`wandb offline`\u001b[0m to turn off syncing.\n",
      "\u001b[34m\u001b[1mwandb\u001b[0m: Syncing run \u001b[33myolov5s_results_ver\u001b[0m\n",
      "\u001b[34m\u001b[1mwandb\u001b[0m: ⭐️ View project at \u001b[34m\u001b[4mhttps://wandb.ai/hyeeein/YOLOv5\u001b[0m\n",
      "\u001b[34m\u001b[1mwandb\u001b[0m: 🚀 View run at \u001b[34m\u001b[4mhttps://wandb.ai/hyeeein/YOLOv5/runs/2nfgtvgk\u001b[0m\n",
      "YOLOv5 temporarily requires wandb version 0.12.10 or below. Some features may not work as expected.\n",
      "\n",
      "                 from  n    params  module                                  arguments                     \n",
      "  0                -1  1      3520  models.common.Conv                      [3, 32, 6, 2, 2]              \n",
      "  1                -1  1     18560  models.common.Conv                      [32, 64, 3, 2]                \n",
      "  2                -1  1     18816  models.common.C3                        [64, 64, 1]                   \n",
      "  3                -1  1     73984  models.common.Conv                      [64, 128, 3, 2]               \n",
      "  4                -1  2    115712  models.common.C3                        [128, 128, 2]                 \n",
      "  5                -1  1    295424  models.common.Conv                      [128, 256, 3, 2]              \n",
      "  6                -1  3    625152  models.common.C3                        [256, 256, 3]                 \n",
      "  7                -1  1   1180672  models.common.Conv                      [256, 512, 3, 2]              \n",
      "  8                -1  1   1182720  models.common.C3                        [512, 512, 1]                 \n",
      "  9                -1  1    656896  models.common.SPPF                      [512, 512, 5]                 \n",
      " 10                -1  1    131584  models.common.Conv                      [512, 256, 1, 1]              \n",
      " 11                -1  1         0  torch.nn.modules.upsampling.Upsample    [None, 2, 'nearest']          \n",
      " 12           [-1, 6]  1         0  models.common.Concat                    [1]                           \n",
      " 13                -1  1    361984  models.common.C3                        [512, 256, 1, False]          \n",
      " 14                -1  1     33024  models.common.Conv                      [256, 128, 1, 1]              \n",
      " 15                -1  1         0  torch.nn.modules.upsampling.Upsample    [None, 2, 'nearest']          \n",
      " 16           [-1, 4]  1         0  models.common.Concat                    [1]                           \n",
      " 17                -1  1     90880  models.common.C3                        [256, 128, 1, False]          \n",
      " 18                -1  1    147712  models.common.Conv                      [128, 128, 3, 2]              \n",
      " 19          [-1, 14]  1         0  models.common.Concat                    [1]                           \n",
      " 20                -1  1    296448  models.common.C3                        [256, 256, 1, False]          \n",
      " 21                -1  1    590336  models.common.Conv                      [256, 256, 3, 2]              \n",
      " 22          [-1, 10]  1         0  models.common.Concat                    [1]                           \n",
      " 23                -1  1   1182720  models.common.C3                        [512, 512, 1, False]          \n",
      " 24      [17, 20, 23]  1     21576  models.yolo.Detect                      [3, [[10, 13, 16, 30, 33, 23], [30, 61, 62, 45, 59, 119], [116, 90, 156, 198, 373, 326]], [128, 256, 512]]\n",
      "YOLOv5s summary: 270 layers, 7027720 parameters, 7027720 gradients, 15.9 GFLOPs\n",
      "\n",
      "Transferred 342/349 items from yolov5s.pt\n",
      "Scaled weight_decay = 0.00046875\n",
      "\u001b[34m\u001b[1moptimizer:\u001b[0m SGD with parameter groups 57 weight (no decay), 60 weight, 60 bias\n",
      "\u001b[34m\u001b[1mtrain: \u001b[0mScanning '/home/jngmk/Downloads/datasets/yolov5/dataset/labels/train.cach\u001b[0m\n",
      "\u001b[34m\u001b[1mtrain: \u001b[0mWARNING: /home/jngmk/Downloads/datasets/yolov5/dataset/images/train/V006_79_0_00_01_03_11_0_b02_20201021_0017_S01_1.jpg: ignoring corrupt image/label: non-normalized or out of bounds coordinates [     1.0215]\n",
      "\u001b[34m\u001b[1mtrain: \u001b[0mWARNING: /home/jngmk/Downloads/datasets/yolov5/dataset/images/train/V006_79_0_00_01_03_11_0_b02_20201021_0027_S01_1.jpg: ignoring corrupt image/label: non-normalized or out of bounds coordinates [     1.0317]\n",
      "\u001b[34m\u001b[1mtrain: \u001b[0mWARNING: /home/jngmk/Downloads/datasets/yolov5/dataset/images/train/V006_79_0_00_01_03_11_0_c16_20201209_0012_S01_1.jpg: ignoring corrupt image/label: non-normalized or out of bounds coordinates [     1.0472]\n",
      "\u001b[34m\u001b[1mtrain: \u001b[0mWARNING: /home/jngmk/Downloads/datasets/yolov5/dataset/images/train/V006_79_0_00_01_03_12_0_b03_20201104_0033_S01_1.jpg: ignoring corrupt image/label: non-normalized or out of bounds coordinates [     1.1864]\n",
      "\u001b[34m\u001b[1mtrain: \u001b[0mWARNING: /home/jngmk/Downloads/datasets/yolov5/dataset/images/train/V006_79_0_00_01_03_12_0_b04_20201021_0002_S01_1.jpg: ignoring corrupt image/label: non-normalized or out of bounds coordinates [     1.0527]\n",
      "\u001b[34m\u001b[1mtrain: \u001b[0mWARNING: /home/jngmk/Downloads/datasets/yolov5/dataset/images/train/V006_79_0_00_01_03_12_0_b04_20201021_0010_S01_1.jpg: ignoring corrupt image/label: non-normalized or out of bounds coordinates [     1.0171]\n",
      "\u001b[34m\u001b[1mtrain: \u001b[0mWARNING: /home/jngmk/Downloads/datasets/yolov5/dataset/images/train/V006_79_0_00_01_03_12_0_c29_20201110_0036_S01_1.jpg: ignoring corrupt image/label: non-normalized or out of bounds coordinates [     1.1878]\n",
      "\u001b[34m\u001b[1mtrain: \u001b[0mWARNING: /home/jngmk/Downloads/datasets/yolov5/dataset/images/train/V006_79_0_00_01_03_13_0_b05_20201208_0002_S01_2.jpg: ignoring corrupt image/label: non-normalized or out of bounds coordinates [     1.1582]\n",
      "\u001b[34m\u001b[1mtrain: \u001b[0mWARNING: /home/jngmk/Downloads/datasets/yolov5/dataset/images/train/V006_79_0_00_01_03_13_0_b05_20201208_0005_S01_2.jpg: ignoring corrupt image/label: non-normalized or out of bounds coordinates [     1.2287]\n",
      "\u001b[34m\u001b[1mtrain: \u001b[0mWARNING: /home/jngmk/Downloads/datasets/yolov5/dataset/images/train/V006_79_0_00_01_03_13_0_b05_20201208_0106_S01_1.jpg: ignoring corrupt image/label: non-normalized or out of bounds coordinates [     1.1222]\n",
      "\u001b[34m\u001b[1mtrain: \u001b[0mWARNING: /home/jngmk/Downloads/datasets/yolov5/dataset/images/train/V006_79_0_00_01_03_13_0_b05_20201208_0172_S01_1.jpg: ignoring corrupt image/label: non-normalized or out of bounds coordinates [     1.2093]\n",
      "\u001b[34m\u001b[1mtrain: \u001b[0mWARNING: /home/jngmk/Downloads/datasets/yolov5/dataset/images/train/V006_79_0_00_02_03_12_0_c02_20201014_0005_S01_1.jpg: ignoring corrupt image/label: non-normalized or out of bounds coordinates [      1.088]\n",
      "\u001b[34m\u001b[1mtrain: \u001b[0mWARNING: /home/jngmk/Downloads/datasets/yolov5/dataset/images/train/V006_79_0_00_04_03_12_0_c38_20201019_0000_S02_3.jpg: ignoring corrupt image/label: non-normalized or out of bounds coordinates [     1.0286      1.1817]\n",
      "\u001b[34m\u001b[1mtrain: \u001b[0mWARNING: /home/jngmk/Downloads/datasets/yolov5/dataset/images/train/V006_79_0_00_04_03_12_0_c40_20201019_0001_S02_3.jpg: ignoring corrupt image/label: non-normalized or out of bounds coordinates [     1.0185]\n",
      "\u001b[34m\u001b[1mtrain: \u001b[0mWARNING: /home/jngmk/Downloads/datasets/yolov5/dataset/images/train/V006_79_0_00_04_03_13_0_a01_20201020_0019_S02_4.jpg: ignoring corrupt image/label: non-normalized or out of bounds coordinates [     1.0657      1.1241]\n",
      "\u001b[34m\u001b[1mtrain: \u001b[0mWARNING: /home/jngmk/Downloads/datasets/yolov5/dataset/images/train/V006_79_0_00_04_03_13_0_b01_20201020_0006_S02_3.jpg: ignoring corrupt image/label: non-normalized or out of bounds coordinates [     1.0344]\n",
      "\u001b[34m\u001b[1mtrain: \u001b[0mWARNING: /home/jngmk/Downloads/datasets/yolov5/dataset/images/train/V006_79_0_00_04_03_13_0_c24_20201020_0258_S02_4.jpg: ignoring corrupt image/label: non-normalized or out of bounds coordinates [     1.0198]\n",
      "\u001b[34m\u001b[1mtrain: \u001b[0mWARNING: /home/jngmk/Downloads/datasets/yolov5/dataset/images/train/V006_79_0_00_04_03_13_0_c44_20201019_0023_S02_4.jpg: ignoring corrupt image/label: non-normalized or out of bounds coordinates [     1.0231]\n",
      "\u001b[34m\u001b[1mtrain: \u001b[0mWARNING: /home/jngmk/Downloads/datasets/yolov5/dataset/images/train/V006_79_0_00_04_03_13_0_c44_20201019_0027_S02_4.jpg: ignoring corrupt image/label: non-normalized or out of bounds coordinates [      1.092]\n",
      "\u001b[34m\u001b[1mtrain: \u001b[0mWARNING: /home/jngmk/Downloads/datasets/yolov5/dataset/images/train/V006_79_0_00_04_03_13_0_c44_20201019_0034_S02_4.jpg: ignoring corrupt image/label: non-normalized or out of bounds coordinates [      1.044]\n",
      "\u001b[34m\u001b[1mtrain: \u001b[0mWARNING: /home/jngmk/Downloads/datasets/yolov5/dataset/images/train/V006_79_0_00_04_03_13_0_c44_20201020_0045_S02_4.jpg: ignoring corrupt image/label: non-normalized or out of bounds coordinates [     1.0501]\n",
      "\u001b[34m\u001b[1mtrain: \u001b[0mWARNING: /home/jngmk/Downloads/datasets/yolov5/dataset/images/train/V006_79_0_00_06_03_12_0_c15_20201104_0000_S01_1.jpg: ignoring corrupt image/label: non-normalized or out of bounds coordinates [     1.0651]\n",
      "\u001b[34m\u001b[1mtrain: \u001b[0mWARNING: /home/jngmk/Downloads/datasets/yolov5/dataset/images/train/V006_79_1_02_01_03_13_3_3068z_20201123_3.jpg: ignoring corrupt image/label: non-normalized or out of bounds coordinates [     1.0717]\n",
      "\u001b[34m\u001b[1mtrain: \u001b[0mWARNING: /home/jngmk/Downloads/datasets/yolov5/dataset/images/train/V006_79_1_04_02_03_12_1_3108e_20201030_5.jpg: ignoring corrupt image/label: non-normalized or out of bounds coordinates [     1.0169]\n",
      "\u001b[34m\u001b[1mtrain: \u001b[0mWARNING: /home/jngmk/Downloads/datasets/yolov5/dataset/images/train/V006_79_1_04_02_03_12_1_5389e_20201106_19.jpg: ignoring corrupt image/label: non-normalized or out of bounds coordinates [     1.0281]\n",
      "\u001b[34m\u001b[1mtrain: \u001b[0mWARNING: /home/jngmk/Downloads/datasets/yolov5/dataset/images/train/V006_79_1_04_02_03_12_2_9662e_20201104_2.jpg: ignoring corrupt image/label: non-normalized or out of bounds coordinates [      1.097]\n",
      "\u001b[34m\u001b[1mtrain: \u001b[0mWARNING: /home/jngmk/Downloads/datasets/yolov5/dataset/images/train/V006_79_1_04_02_03_12_2_9662e_20201104_3.jpg: ignoring corrupt image/label: non-normalized or out of bounds coordinates [     1.0177]\n",
      "\u001b[34m\u001b[1mtrain: \u001b[0mWARNING: /home/jngmk/Downloads/datasets/yolov5/dataset/images/train/V006_79_1_07_04_03_12_1_5950b_20200928_14.jpg: ignoring corrupt image/label: non-normalized or out of bounds coordinates [     1.0994]\n",
      "\u001b[34m\u001b[1mtrain: \u001b[0mWARNING: /home/jngmk/Downloads/datasets/yolov5/dataset/images/train/V006_79_1_07_04_03_12_2_5950b_20201029_1.jpg: ignoring corrupt image/label: non-normalized or out of bounds coordinates [     1.1581]\n",
      "\u001b[34m\u001b[1mtrain: \u001b[0mWARNING: /home/jngmk/Downloads/datasets/yolov5/dataset/images/train/V006_79_1_07_04_03_13_1_3033t_20201008_376.jpg: ignoring corrupt image/label: non-normalized or out of bounds coordinates [      1.211]\n",
      "\u001b[34m\u001b[1mtrain: \u001b[0mWARNING: /home/jngmk/Downloads/datasets/yolov5/dataset/images/train/V006_79_1_07_04_03_13_1_3033t_20201015_775.jpg: ignoring corrupt image/label: non-normalized or out of bounds coordinates [     1.1713]\n",
      "\u001b[34m\u001b[1mtrain: \u001b[0mWARNING: /home/jngmk/Downloads/datasets/yolov5/dataset/images/train/V006_79_1_07_04_03_13_1_5950b_20200928_10.jpg: ignoring corrupt image/label: non-normalized or out of bounds coordinates [     1.2275]\n",
      "\u001b[34m\u001b[1mtrain: \u001b[0mWARNING: /home/jngmk/Downloads/datasets/yolov5/dataset/images/train/V006_79_1_07_04_03_13_1_7652t_20201029_1272.jpg: ignoring corrupt image/label: non-normalized or out of bounds coordinates [     1.1487]\n",
      "\u001b[34m\u001b[1mtrain: \u001b[0mWARNING: /home/jngmk/Downloads/datasets/yolov5/dataset/images/train/V006_79_1_07_04_03_13_1_7652t_20201029_1274.jpg: ignoring corrupt image/label: non-normalized or out of bounds coordinates [     1.1753]\n",
      "\u001b[34m\u001b[1mtrain: \u001b[0mWARNING: /home/jngmk/Downloads/datasets/yolov5/dataset/images/train/V006_79_1_07_04_03_13_1_7652t_20201029_1275.jpg: ignoring corrupt image/label: non-normalized or out of bounds coordinates [     1.1377]\n",
      "\u001b[34m\u001b[1mtrain: \u001b[0mWARNING: /home/jngmk/Downloads/datasets/yolov5/dataset/images/train/V006_79_1_07_04_03_13_1_7652t_20201029_1276.jpg: ignoring corrupt image/label: non-normalized or out of bounds coordinates [     1.2133]\n",
      "\u001b[34m\u001b[1mtrain: \u001b[0mWARNING: /home/jngmk/Downloads/datasets/yolov5/dataset/images/train/V006_79_1_07_04_03_13_1_7652t_20201029_1278.jpg: ignoring corrupt image/label: non-normalized or out of bounds coordinates [     1.1333]\n",
      "\u001b[34m\u001b[1mtrain: \u001b[0mWARNING: /home/jngmk/Downloads/datasets/yolov5/dataset/images/train/V006_79_1_07_04_03_13_1_8487t_20200928_36.jpg: ignoring corrupt image/label: non-normalized or out of bounds coordinates [     1.2655]\n",
      "\u001b[34m\u001b[1mtrain: \u001b[0mWARNING: /home/jngmk/Downloads/datasets/yolov5/dataset/images/train/V006_79_1_07_04_03_13_1_8487t_20200928_37.jpg: ignoring corrupt image/label: non-normalized or out of bounds coordinates [     1.1746]\n",
      "\u001b[34m\u001b[1mtrain: \u001b[0mWARNING: /home/jngmk/Downloads/datasets/yolov5/dataset/images/train/V006_79_1_07_04_03_13_1_8487t_20200928_38.jpg: ignoring corrupt image/label: non-normalized or out of bounds coordinates [     1.1399]\n",
      "\u001b[34m\u001b[1mtrain: \u001b[0mWARNING: /home/jngmk/Downloads/datasets/yolov5/dataset/images/train/V006_79_1_07_04_03_13_1_8487t_20201008_244.jpg: ignoring corrupt image/label: non-normalized or out of bounds coordinates [     1.2345]\n",
      "\u001b[34m\u001b[1mtrain: \u001b[0mWARNING: /home/jngmk/Downloads/datasets/yolov5/dataset/images/train/V006_79_1_07_04_03_13_1_8487t_20201008_245.jpg: ignoring corrupt image/label: non-normalized or out of bounds coordinates [     1.2235]\n",
      "\u001b[34m\u001b[1mtrain: \u001b[0mWARNING: /home/jngmk/Downloads/datasets/yolov5/dataset/images/train/V006_79_1_07_04_03_13_1_8487t_20201008_254.jpg: ignoring corrupt image/label: non-normalized or out of bounds coordinates [     1.2609]\n",
      "\u001b[34m\u001b[1mtrain: \u001b[0mWARNING: /home/jngmk/Downloads/datasets/yolov5/dataset/images/train/V006_79_1_07_04_03_13_1_8487t_20201008_280.jpg: ignoring corrupt image/label: non-normalized or out of bounds coordinates [     1.1723]\n",
      "\u001b[34m\u001b[1mtrain: \u001b[0mWARNING: /home/jngmk/Downloads/datasets/yolov5/dataset/images/train/V006_79_1_07_04_03_13_1_8487t_20201008_282.jpg: ignoring corrupt image/label: non-normalized or out of bounds coordinates [     1.2655]\n",
      "\u001b[34m\u001b[1mtrain: \u001b[0mWARNING: /home/jngmk/Downloads/datasets/yolov5/dataset/images/train/V006_79_1_07_04_03_13_1_8487t_20201028_8.jpg: ignoring corrupt image/label: non-normalized or out of bounds coordinates [     1.2233]\n",
      "\u001b[34m\u001b[1mtrain: \u001b[0mWARNING: /home/jngmk/Downloads/datasets/yolov5/dataset/images/train/V006_79_1_07_04_03_13_1_8487t_20201102_33.jpg: ignoring corrupt image/label: non-normalized or out of bounds coordinates [     1.2343]\n",
      "\u001b[34m\u001b[1mtrain: \u001b[0mWARNING: /home/jngmk/Downloads/datasets/yolov5/dataset/images/train/V006_79_1_07_04_03_13_1_8487t_20201102_47.jpg: ignoring corrupt image/label: non-normalized or out of bounds coordinates [     1.1327]\n",
      "\u001b[34m\u001b[1mtrain: \u001b[0mWARNING: /home/jngmk/Downloads/datasets/yolov5/dataset/images/train/V006_79_1_07_04_03_13_1_8487t_20201102_56.jpg: ignoring corrupt image/label: non-normalized or out of bounds coordinates [      1.215]\n",
      "\u001b[34m\u001b[1mtrain: \u001b[0mWARNING: /home/jngmk/Downloads/datasets/yolov5/dataset/images/train/V006_79_1_07_04_03_13_1_8487t_20201102_6.jpg: ignoring corrupt image/label: non-normalized or out of bounds coordinates [     1.0857]\n",
      "\u001b[34m\u001b[1mtrain: \u001b[0mWARNING: /home/jngmk/Downloads/datasets/yolov5/dataset/images/train/V006_79_1_07_04_03_13_1_9923t_20201008_152.jpg: ignoring corrupt image/label: non-normalized or out of bounds coordinates [     1.2652]\n",
      "\u001b[34m\u001b[1mtrain: \u001b[0mWARNING: /home/jngmk/Downloads/datasets/yolov5/dataset/images/train/V006_79_1_07_04_03_13_1_9923t_20201008_156.jpg: ignoring corrupt image/label: non-normalized or out of bounds coordinates [     1.2355]\n",
      "\u001b[34m\u001b[1mtrain: \u001b[0mWARNING: /home/jngmk/Downloads/datasets/yolov5/dataset/images/train/V006_79_1_07_04_03_13_1_9923t_20201008_158.jpg: ignoring corrupt image/label: non-normalized or out of bounds coordinates [      1.123]\n",
      "\u001b[34m\u001b[1mtrain: \u001b[0mWARNING: /home/jngmk/Downloads/datasets/yolov5/dataset/images/train/V006_79_1_07_04_03_13_1_9923t_20201008_164.jpg: ignoring corrupt image/label: non-normalized or out of bounds coordinates [     1.2586]\n",
      "\u001b[34m\u001b[1mtrain: \u001b[0mWARNING: /home/jngmk/Downloads/datasets/yolov5/dataset/images/train/V006_79_1_07_04_03_13_1_9923t_20201008_166.jpg: ignoring corrupt image/label: non-normalized or out of bounds coordinates [     1.1561]\n",
      "\u001b[34m\u001b[1mtrain: \u001b[0mWARNING: /home/jngmk/Downloads/datasets/yolov5/dataset/images/train/V006_79_1_07_04_03_13_1_9923t_20201008_167.jpg: ignoring corrupt image/label: non-normalized or out of bounds coordinates [     1.2751]\n",
      "\u001b[34m\u001b[1mtrain: \u001b[0mWARNING: /home/jngmk/Downloads/datasets/yolov5/dataset/images/train/V006_79_1_07_04_03_13_1_9923t_20201008_168.jpg: ignoring corrupt image/label: non-normalized or out of bounds coordinates [     1.2536]\n",
      "\u001b[34m\u001b[1mtrain: \u001b[0mWARNING: /home/jngmk/Downloads/datasets/yolov5/dataset/images/train/V006_79_1_07_04_03_13_1_9923t_20201008_169.jpg: ignoring corrupt image/label: non-normalized or out of bounds coordinates [     1.2156]\n",
      "\u001b[34m\u001b[1mtrain: \u001b[0mWARNING: /home/jngmk/Downloads/datasets/yolov5/dataset/images/train/V006_79_1_07_04_03_13_1_9923t_20201008_171.jpg: ignoring corrupt image/label: non-normalized or out of bounds coordinates [     1.0304]\n",
      "\u001b[34m\u001b[1mtrain: \u001b[0mWARNING: /home/jngmk/Downloads/datasets/yolov5/dataset/images/train/V006_79_1_07_04_03_13_1_9923t_20201008_178.jpg: ignoring corrupt image/label: non-normalized or out of bounds coordinates [     1.1644]\n",
      "\u001b[34m\u001b[1mtrain: \u001b[0mWARNING: /home/jngmk/Downloads/datasets/yolov5/dataset/images/train/V006_79_1_07_04_03_13_1_9923t_20201008_179.jpg: ignoring corrupt image/label: non-normalized or out of bounds coordinates [     1.1809]\n",
      "\u001b[34m\u001b[1mtrain: \u001b[0mWARNING: /home/jngmk/Downloads/datasets/yolov5/dataset/images/train/V006_79_1_07_04_03_13_1_9923t_20201008_184.jpg: ignoring corrupt image/label: non-normalized or out of bounds coordinates [     1.1958]\n",
      "\u001b[34m\u001b[1mtrain: \u001b[0mWARNING: /home/jngmk/Downloads/datasets/yolov5/dataset/images/train/V006_79_1_07_04_03_13_1_9923t_20201008_186.jpg: ignoring corrupt image/label: non-normalized or out of bounds coordinates [     1.2817]\n",
      "\u001b[34m\u001b[1mtrain: \u001b[0mWARNING: /home/jngmk/Downloads/datasets/yolov5/dataset/images/train/V006_79_1_07_04_03_13_1_9923t_20201008_189.jpg: ignoring corrupt image/label: non-normalized or out of bounds coordinates [     1.0552]\n",
      "\u001b[34m\u001b[1mtrain: \u001b[0mWARNING: /home/jngmk/Downloads/datasets/yolov5/dataset/images/train/V006_79_1_07_04_03_13_1_9923t_20201008_190.jpg: ignoring corrupt image/label: non-normalized or out of bounds coordinates [     1.3132]\n",
      "\u001b[34m\u001b[1mtrain: \u001b[0mWARNING: /home/jngmk/Downloads/datasets/yolov5/dataset/images/train/V006_79_1_07_04_03_13_1_9923t_20201008_193.jpg: ignoring corrupt image/label: non-normalized or out of bounds coordinates [     1.2156]\n",
      "\u001b[34m\u001b[1mtrain: \u001b[0mWARNING: /home/jngmk/Downloads/datasets/yolov5/dataset/images/train/V006_79_1_07_04_03_13_1_9923t_20201008_195.jpg: ignoring corrupt image/label: non-normalized or out of bounds coordinates [     1.1991]\n",
      "\u001b[34m\u001b[1mtrain: \u001b[0mWARNING: /home/jngmk/Downloads/datasets/yolov5/dataset/images/train/V006_79_1_07_04_03_13_1_9923t_20201015_551.jpg: ignoring corrupt image/label: non-normalized or out of bounds coordinates [     1.1683]\n",
      "\u001b[34m\u001b[1mtrain: \u001b[0mWARNING: /home/jngmk/Downloads/datasets/yolov5/dataset/images/train/V006_79_1_07_04_03_13_2_3033t_20201008_385.jpg: ignoring corrupt image/label: non-normalized or out of bounds coordinates [      1.167]\n",
      "\u001b[34m\u001b[1mtrain: \u001b[0mWARNING: /home/jngmk/Downloads/datasets/yolov5/dataset/images/train/V006_79_1_07_04_03_13_2_3033t_20201008_386.jpg: ignoring corrupt image/label: non-normalized or out of bounds coordinates [     1.1994]\n",
      "\u001b[34m\u001b[1mtrain: \u001b[0mWARNING: /home/jngmk/Downloads/datasets/yolov5/dataset/images/train/V006_79_1_07_04_03_13_3_8487t_20201102_36.jpg: ignoring corrupt image/label: non-normalized or out of bounds coordinates [     1.3213]\n",
      "\u001b[34m\u001b[1mtrain: \u001b[0mWARNING: /home/jngmk/Downloads/datasets/yolov5/dataset/images/train/V006_79_1_07_04_03_13_3_8487t_20201102_41.jpg: ignoring corrupt image/label: non-normalized or out of bounds coordinates [     1.1477]\n",
      "\u001b[34m\u001b[1mtrain: \u001b[0mWARNING: /home/jngmk/Downloads/datasets/yolov5/dataset/images/train/V006_79_1_07_04_03_13_3_8487t_20201102_45.jpg: ignoring corrupt image/label: non-normalized or out of bounds coordinates [      1.128]\n",
      "\u001b[34m\u001b[1mtrain: \u001b[0mWARNING: /home/jngmk/Downloads/datasets/yolov5/dataset/images/train/V006_79_1_07_04_03_13_3_8487t_20201102_51.jpg: ignoring corrupt image/label: non-normalized or out of bounds coordinates [     1.1347]\n",
      "\u001b[34m\u001b[1mtrain: \u001b[0mWARNING: /home/jngmk/Downloads/datasets/yolov5/dataset/images/train/V006_79_1_07_04_03_13_3_8487t_20201102_57.jpg: ignoring corrupt image/label: non-normalized or out of bounds coordinates [     1.1813]\n",
      "\u001b[34m\u001b[1mtrain: \u001b[0mWARNING: /home/jngmk/Downloads/datasets/yolov5/dataset/images/train/V006_79_1_08_04_03_13_1_1044bb_20201008_9.jpg: ignoring corrupt image/label: non-normalized or out of bounds coordinates [     1.3333]\n",
      "\u001b[34m\u001b[1mtrain: \u001b[0mWARNING: /home/jngmk/Downloads/datasets/yolov5/dataset/images/train/V006_79_1_08_04_03_13_1_5950b_20201008_103.jpg: ignoring corrupt image/label: non-normalized or out of bounds coordinates [     1.3333]\n",
      "\u001b[34m\u001b[1mtrain: \u001b[0mWARNING: /home/jngmk/Downloads/datasets/yolov5/dataset/images/train/V006_79_1_08_04_03_13_1_5950b_20201008_110.jpg: ignoring corrupt image/label: non-normalized or out of bounds coordinates [     1.3294]\n",
      "\u001b[34m\u001b[1mtrain: \u001b[0mWARNING: /home/jngmk/Downloads/datasets/yolov5/dataset/images/train/V006_79_1_08_04_03_13_1_5950b_20201008_66.jpg: ignoring corrupt image/label: non-normalized or out of bounds coordinates [     1.3333]\n",
      "\u001b[34m\u001b[1mtrain: \u001b[0mWARNING: /home/jngmk/Downloads/datasets/yolov5/dataset/images/train/V006_79_1_08_04_03_13_1_5950b_20201008_85.jpg: ignoring corrupt image/label: non-normalized or out of bounds coordinates [     1.2143]\n",
      "\u001b[34m\u001b[1mtrain: \u001b[0mWARNING: /home/jngmk/Downloads/datasets/yolov5/dataset/images/train/V006_79_1_08_04_03_13_1_5950b_20201008_93.jpg: ignoring corrupt image/label: non-normalized or out of bounds coordinates [     1.3069]\n",
      "\u001b[34m\u001b[1mtrain: \u001b[0mWARNING: /home/jngmk/Downloads/datasets/yolov5/dataset/images/train/V006_79_1_08_04_03_13_1_5950b_20201015_560.jpg: ignoring corrupt image/label: non-normalized or out of bounds coordinates [     1.3155]\n",
      "\u001b[34m\u001b[1mtrain: \u001b[0mWARNING: /home/jngmk/Downloads/datasets/yolov5/dataset/images/train/V006_79_1_08_04_03_13_1_5950b_20201111_1723.jpg: ignoring corrupt image/label: non-normalized or out of bounds coordinates [      1.137      1.3333]\n",
      "\u001b[34m\u001b[1mtrain: \u001b[0mWARNING: /home/jngmk/Downloads/datasets/yolov5/dataset/images/train/V006_79_1_08_04_03_13_1_5950b_20201111_1725.jpg: ignoring corrupt image/label: non-normalized or out of bounds coordinates [      1.254]\n",
      "\u001b[34m\u001b[1mtrain: \u001b[0mWARNING: /home/jngmk/Downloads/datasets/yolov5/dataset/images/train/V006_79_1_08_04_03_13_2_1044bb_20201015_528.jpg: ignoring corrupt image/label: non-normalized or out of bounds coordinates [     1.3333]\n",
      "\u001b[34m\u001b[1mtrain: \u001b[0mWARNING: /home/jngmk/Downloads/datasets/yolov5/dataset/images/train/V006_79_1_08_04_03_13_2_1044bb_20201015_530.jpg: ignoring corrupt image/label: non-normalized or out of bounds coordinates [     1.3333]\n",
      "\u001b[34m\u001b[1mtrain: \u001b[0mWARNING: /home/jngmk/Downloads/datasets/yolov5/dataset/images/train/V006_79_1_08_04_03_13_2_1044bb_20201015_534.jpg: ignoring corrupt image/label: non-normalized or out of bounds coordinates [     1.3333]\n",
      "\u001b[34m\u001b[1mtrain: \u001b[0mWARNING: /home/jngmk/Downloads/datasets/yolov5/dataset/images/train/V006_79_1_08_04_03_13_2_3033t_20201111_1862.jpg: ignoring corrupt image/label: non-normalized or out of bounds coordinates [     1.0302      1.2623]\n",
      "\u001b[34m\u001b[1mtrain: \u001b[0mWARNING: /home/jngmk/Downloads/datasets/yolov5/dataset/images/train/V006_79_1_08_04_03_13_2_7652t_20201029_1580.jpg: ignoring corrupt image/label: non-normalized or out of bounds coordinates [      1.039      1.3333]\n",
      "\u001b[34m\u001b[1mtrain: \u001b[0mWARNING: /home/jngmk/Downloads/datasets/yolov5/dataset/images/train/V006_79_1_08_04_03_13_3_8621t_20201022_1226.jpg: ignoring corrupt image/label: non-normalized or out of bounds coordinates [      1.123]\n",
      "\u001b[34m\u001b[1mtrain: \u001b[0mWARNING: /home/jngmk/Downloads/datasets/yolov5/dataset/images/train/V006_79_1_11_06_03_13_1_3221w_20200916_170.jpg: ignoring corrupt image/label: non-normalized or out of bounds coordinates [     1.3256      1.1586]\n",
      "\u001b[34m\u001b[1mtrain: \u001b[0mWARNING: /home/jngmk/Downloads/datasets/yolov5/dataset/images/train/V006_79_1_11_06_03_13_1_3244w_20200917_107.jpg: ignoring corrupt image/label: non-normalized or out of bounds coordinates [     1.0649      1.2035]\n",
      "\u001b[34m\u001b[1mtrain: \u001b[0mWARNING: /home/jngmk/Downloads/datasets/yolov5/dataset/images/train/V006_79_1_11_06_03_13_1_3244w_20200917_108.jpg: ignoring corrupt image/label: non-normalized or out of bounds coordinates [     1.0582      1.2035]\n",
      "\u001b[34m\u001b[1mtrain: \u001b[0mWARNING: /home/jngmk/Downloads/datasets/yolov5/dataset/images/train/V006_79_1_11_06_03_13_1_3244w_20200917_124.jpg: ignoring corrupt image/label: non-normalized or out of bounds coordinates [     1.0003      1.1252]\n",
      "\u001b[34m\u001b[1mtrain: \u001b[0mWARNING: /home/jngmk/Downloads/datasets/yolov5/dataset/images/train/V006_79_1_11_06_03_13_1_3244w_20200917_127.jpg: ignoring corrupt image/label: non-normalized or out of bounds coordinates [     1.1232]\n",
      "\u001b[34m\u001b[1mtrain: \u001b[0mWARNING: /home/jngmk/Downloads/datasets/yolov5/dataset/images/train/V006_79_1_11_06_03_13_1_3244w_20200917_128.jpg: ignoring corrupt image/label: non-normalized or out of bounds coordinates [     1.1031]\n",
      "\u001b[34m\u001b[1mtrain: \u001b[0mWARNING: /home/jngmk/Downloads/datasets/yolov5/dataset/images/train/V006_79_1_11_06_03_13_1_3244w_20200917_129.jpg: ignoring corrupt image/label: non-normalized or out of bounds coordinates [     1.1165]\n",
      "\u001b[34m\u001b[1mtrain: \u001b[0mWARNING: /home/jngmk/Downloads/datasets/yolov5/dataset/images/train/V006_79_1_11_06_03_13_1_3244w_20200917_131.jpg: ignoring corrupt image/label: non-normalized or out of bounds coordinates [     1.0395      1.1673]\n",
      "\u001b[34m\u001b[1mtrain: \u001b[0mWARNING: /home/jngmk/Downloads/datasets/yolov5/dataset/images/train/V006_79_1_11_06_03_13_1_3244w_20200917_132.jpg: ignoring corrupt image/label: non-normalized or out of bounds coordinates [     1.0776      1.1968]\n",
      "\u001b[34m\u001b[1mtrain: \u001b[0mWARNING: /home/jngmk/Downloads/datasets/yolov5/dataset/images/train/V006_79_1_11_06_03_13_1_3244w_20201008_68.jpg: ignoring corrupt image/label: non-normalized or out of bounds coordinates [     1.1205]\n",
      "\u001b[34m\u001b[1mtrain: \u001b[0mWARNING: /home/jngmk/Downloads/datasets/yolov5/dataset/images/train/V006_79_1_11_06_03_13_1_7390w_200916_29.jpg: ignoring corrupt image/label: non-normalized or out of bounds coordinates [     1.2467]\n",
      "\u001b[34m\u001b[1mtrain: \u001b[0mWARNING: /home/jngmk/Downloads/datasets/yolov5/dataset/images/train/V006_79_1_11_06_03_13_2_3221w_20200916_165.jpg: ignoring corrupt image/label: non-normalized or out of bounds coordinates [     1.0305]\n",
      "\u001b[34m\u001b[1mtrain: \u001b[0mWARNING: /home/jngmk/Downloads/datasets/yolov5/dataset/images/train/V006_79_1_11_06_03_13_2_3221w_20200916_166.jpg: ignoring corrupt image/label: non-normalized or out of bounds coordinates [       1.08]\n",
      "\u001b[34m\u001b[1mtrain: \u001b[0mWARNING: /home/jngmk/Downloads/datasets/yolov5/dataset/images/train/V006_79_1_11_06_03_13_2_6550b_20200917_20.jpg: ignoring corrupt image/label: non-normalized or out of bounds coordinates [     1.3046      1.3641]\n",
      "\u001b[34m\u001b[1mtrain: \u001b[0mWARNING: /home/jngmk/Downloads/datasets/yolov5/dataset/images/train/V006_79_1_11_06_03_13_2_6550b_20200917_22.jpg: ignoring corrupt image/label: non-normalized or out of bounds coordinates [      1.251      1.3427]\n",
      "\u001b[34m\u001b[1mtrain: \u001b[0mWARNING: /home/jngmk/Downloads/datasets/yolov5/dataset/images/train/V006_79_1_11_06_03_13_2_6550b_20200917_23.jpg: ignoring corrupt image/label: non-normalized or out of bounds coordinates [     1.2999      1.3574]\n",
      "\u001b[34m\u001b[1mtrain: \u001b[0mWARNING: /home/jngmk/Downloads/datasets/yolov5/dataset/images/train/V006_79_1_11_06_03_13_2_6550b_20200917_33.jpg: ignoring corrupt image/label: non-normalized or out of bounds coordinates [     1.1948      1.3039]\n",
      "\u001b[34m\u001b[1mtrain: \u001b[0mWARNING: /home/jngmk/Downloads/datasets/yolov5/dataset/images/train/V006_79_1_11_06_03_13_3_0502bb_20200917_728.jpg: ignoring corrupt image/label: non-normalized or out of bounds coordinates [     1.1011      1.1205]\n",
      "\u001b[34m\u001b[1mtrain: \u001b[0mWARNING: /home/jngmk/Downloads/datasets/yolov5/dataset/images/train/V006_79_1_11_06_03_13_3_0502bb_20200917_729.jpg: ignoring corrupt image/label: non-normalized or out of bounds coordinates [     1.0756      1.1232]\n",
      "\u001b[34m\u001b[1mtrain: \u001b[0mWARNING: /home/jngmk/Downloads/datasets/yolov5/dataset/images/train/V006_79_1_11_06_03_13_3_0502bb_20200917_750.jpg: ignoring corrupt image/label: non-normalized or out of bounds coordinates [     2.0907      1.7731]\n",
      "\u001b[34m\u001b[1mtrain: \u001b[0mWARNING: /home/jngmk/Downloads/datasets/yolov5/dataset/images/train/V006_79_1_11_06_03_13_3_0502bb_20200917_753.jpg: ignoring corrupt image/label: non-normalized or out of bounds coordinates [     1.1811]\n",
      "\u001b[34m\u001b[1mtrain: \u001b[0mWARNING: /home/jngmk/Downloads/datasets/yolov5/dataset/images/train/V006_79_1_11_06_03_13_3_0502bb_20200917_767.jpg: ignoring corrupt image/label: non-normalized or out of bounds coordinates [     1.0273]\n",
      "\u001b[34m\u001b[1mtrain: \u001b[0mWARNING: /home/jngmk/Downloads/datasets/yolov5/dataset/images/train/V006_79_1_11_06_03_13_3_0502bb_20200928_36.jpg: ignoring corrupt image/label: non-normalized or out of bounds coordinates [     1.0557]\n",
      "\u001b[34m\u001b[1mtrain: \u001b[0mWARNING: /home/jngmk/Downloads/datasets/yolov5/dataset/images/train/V006_79_1_11_06_03_13_3_3221w_20200916_157.jpg: ignoring corrupt image/label: non-normalized or out of bounds coordinates [     1.3056       1.243]\n",
      "\u001b[34m\u001b[1mtrain: \u001b[0mWARNING: /home/jngmk/Downloads/datasets/yolov5/dataset/images/train/V006_79_1_11_06_03_13_3_3221w_20200916_160.jpg: ignoring corrupt image/label: non-normalized or out of bounds coordinates [     1.3092      1.2343]\n",
      "\u001b[34m\u001b[1mtrain: \u001b[0mWARNING: /home/jngmk/Downloads/datasets/yolov5/dataset/images/train/V006_79_1_11_06_03_13_3_3221w_20200916_163.jpg: ignoring corrupt image/label: non-normalized or out of bounds coordinates [     1.2536]\n",
      "\u001b[34m\u001b[1mtrain: \u001b[0mWARNING: /home/jngmk/Downloads/datasets/yolov5/dataset/images/train/V006_79_1_12_06_03_13_1_0502bb_20200928_1.jpg: ignoring corrupt image/label: non-normalized or out of bounds coordinates [     1.0632]\n",
      "\u001b[34m\u001b[1mtrain: \u001b[0mWARNING: /home/jngmk/Downloads/datasets/yolov5/dataset/images/train/V006_79_1_12_06_03_13_1_0502bb_20200928_57.jpg: ignoring corrupt image/label: non-normalized or out of bounds coordinates [     1.2126]\n",
      "\u001b[34m\u001b[1mtrain: \u001b[0mWARNING: /home/jngmk/Downloads/datasets/yolov5/dataset/images/train/V006_79_1_12_06_03_13_2_0502bb_20201115_1.jpg: ignoring corrupt image/label: non-normalized or out of bounds coordinates [     1.2778]\n",
      "\u001b[34m\u001b[1mtrain: \u001b[0mWARNING: /home/jngmk/Downloads/datasets/yolov5/dataset/images/train/V006_79_1_19_10_03_12_1_7419e_20201026_1.jpg: ignoring corrupt image/label: non-normalized or out of bounds coordinates [     1.1171]\n",
      "\u001b[34m\u001b[1mtrain: \u001b[0mWARNING: /home/jngmk/Downloads/datasets/yolov5/dataset/images/train/V006_79_1_19_10_03_12_1_7419e_20201102_1.jpg: ignoring corrupt image/label: non-normalized or out of bounds coordinates [     1.0179]\n",
      "\u001b[34m\u001b[1mtrain: \u001b[0mWARNING: /home/jngmk/Downloads/datasets/yolov5/dataset/images/train/V006_79_1_19_10_03_12_2_7419e_20201021_3.jpg: ignoring corrupt image/label: non-normalized or out of bounds coordinates [      1.041]\n",
      "\u001b[34m\u001b[1mtrain: \u001b[0mWARNING: /home/jngmk/Downloads/datasets/yolov5/dataset/images/train/V006_79_1_20_10_03_12_2_7419e_20201030_1.jpg: ignoring corrupt image/label: non-normalized or out of bounds coordinates [     1.0218]\n",
      "\u001b[34m\u001b[1mtrain: \u001b[0mWARNING: /home/jngmk/Downloads/datasets/yolov5/dataset/images/train/V006_79_1_20_10_03_13_3_7419e_20201026_4.jpg: ignoring corrupt image/label: non-normalized or out of bounds coordinates [     1.0638]\n",
      "\u001b[34m\u001b[1mtrain: \u001b[0mWARNING: /home/jngmk/Downloads/datasets/yolov5/dataset/images/train/V006_79_1_20_10_03_13_3_7419e_20201027_1.jpg: ignoring corrupt image/label: non-normalized or out of bounds coordinates [     1.0493]\n",
      "\u001b[34m\u001b[1mval: \u001b[0mScanning '/home/jngmk/Downloads/datasets/yolov5/dataset/labels/validation.c\u001b[0m\n",
      "\u001b[34m\u001b[1mval: \u001b[0mWARNING: /home/jngmk/Downloads/datasets/yolov5/dataset/images/validation/V006_79_0_00_04_03_13_0_c44_20201020_0095_S02_4.jpg: ignoring corrupt image/label: non-normalized or out of bounds coordinates [     1.0306]\n",
      "\u001b[34m\u001b[1mval: \u001b[0mWARNING: /home/jngmk/Downloads/datasets/yolov5/dataset/images/validation/V006_79_1_04_02_03_12_1_3108e_20201023_2.jpg: ignoring corrupt image/label: non-normalized or out of bounds coordinates [     1.0397]\n",
      "\u001b[34m\u001b[1mval: \u001b[0mWARNING: /home/jngmk/Downloads/datasets/yolov5/dataset/images/validation/V006_79_1_04_02_03_12_2_3055e_20201021_7.jpg: ignoring corrupt image/label: non-normalized or out of bounds coordinates [     1.0013]\n",
      "\u001b[34m\u001b[1mval: \u001b[0mWARNING: /home/jngmk/Downloads/datasets/yolov5/dataset/images/validation/V006_79_1_04_02_03_12_2_9662e_20201026_14.jpg: ignoring corrupt image/label: non-normalized or out of bounds coordinates [     1.0734]\n",
      "\u001b[34m\u001b[1mval: \u001b[0mWARNING: /home/jngmk/Downloads/datasets/yolov5/dataset/images/validation/V006_79_1_07_04_03_13_1_3033t_20201008_412.jpg: ignoring corrupt image/label: non-normalized or out of bounds coordinates [     1.1101]\n",
      "\u001b[34m\u001b[1mval: \u001b[0mWARNING: /home/jngmk/Downloads/datasets/yolov5/dataset/images/validation/V006_79_1_07_04_03_13_1_5950b_20200928_7.jpg: ignoring corrupt image/label: non-normalized or out of bounds coordinates [     1.1845]\n",
      "\u001b[34m\u001b[1mval: \u001b[0mWARNING: /home/jngmk/Downloads/datasets/yolov5/dataset/images/validation/V006_79_1_07_04_03_13_1_7652t_20201111_1495.jpg: ignoring corrupt image/label: non-normalized or out of bounds coordinates [     1.2723]\n",
      "\u001b[34m\u001b[1mval: \u001b[0mWARNING: /home/jngmk/Downloads/datasets/yolov5/dataset/images/validation/V006_79_1_07_04_03_13_1_8487t_20200928_33.jpg: ignoring corrupt image/label: non-normalized or out of bounds coordinates [     1.1088]\n",
      "\u001b[34m\u001b[1mval: \u001b[0mWARNING: /home/jngmk/Downloads/datasets/yolov5/dataset/images/validation/V006_79_1_07_04_03_13_1_8487t_20201102_32.jpg: ignoring corrupt image/label: non-normalized or out of bounds coordinates [     1.1523]\n",
      "\u001b[34m\u001b[1mval: \u001b[0mWARNING: /home/jngmk/Downloads/datasets/yolov5/dataset/images/validation/V006_79_1_07_04_03_13_1_8487t_20201102_44.jpg: ignoring corrupt image/label: non-normalized or out of bounds coordinates [     1.2393]\n",
      "\u001b[34m\u001b[1mval: \u001b[0mWARNING: /home/jngmk/Downloads/datasets/yolov5/dataset/images/validation/V006_79_1_07_04_03_13_1_9923t_20201008_154.jpg: ignoring corrupt image/label: non-normalized or out of bounds coordinates [     1.2917]\n",
      "\u001b[34m\u001b[1mval: \u001b[0mWARNING: /home/jngmk/Downloads/datasets/yolov5/dataset/images/validation/V006_79_1_07_04_03_13_1_9923t_20201008_180.jpg: ignoring corrupt image/label: non-normalized or out of bounds coordinates [     1.2106]\n",
      "\u001b[34m\u001b[1mval: \u001b[0mWARNING: /home/jngmk/Downloads/datasets/yolov5/dataset/images/validation/V006_79_1_07_04_03_13_1_9923t_20201008_183.jpg: ignoring corrupt image/label: non-normalized or out of bounds coordinates [     1.1974]\n",
      "\u001b[34m\u001b[1mval: \u001b[0mWARNING: /home/jngmk/Downloads/datasets/yolov5/dataset/images/validation/V006_79_1_07_04_03_13_1_9923t_20201008_191.jpg: ignoring corrupt image/label: non-normalized or out of bounds coordinates [     1.1528]\n",
      "\u001b[34m\u001b[1mval: \u001b[0mWARNING: /home/jngmk/Downloads/datasets/yolov5/dataset/images/validation/V006_79_1_07_04_03_13_2_3033t_20201008_378.jpg: ignoring corrupt image/label: non-normalized or out of bounds coordinates [     1.2126]\n",
      "\u001b[34m\u001b[1mval: \u001b[0mWARNING: /home/jngmk/Downloads/datasets/yolov5/dataset/images/validation/V006_79_1_08_04_03_13_1_5950b_20201015_566.jpg: ignoring corrupt image/label: non-normalized or out of bounds coordinates [     1.3333]\n",
      "\u001b[34m\u001b[1mval: \u001b[0mWARNING: /home/jngmk/Downloads/datasets/yolov5/dataset/images/validation/V006_79_1_11_06_03_13_1_3221w_20200916_162.jpg: ignoring corrupt image/label: non-normalized or out of bounds coordinates [     1.3015      1.1613]\n",
      "\u001b[34m\u001b[1mval: \u001b[0mWARNING: /home/jngmk/Downloads/datasets/yolov5/dataset/images/validation/V006_79_1_11_06_03_13_1_3244w_20200917_110.jpg: ignoring corrupt image/label: non-normalized or out of bounds coordinates [     1.0395      1.1807]\n",
      "\u001b[34m\u001b[1mval: \u001b[0mWARNING: /home/jngmk/Downloads/datasets/yolov5/dataset/images/validation/V006_79_1_11_06_03_13_2_3244w_20201008_74.jpg: ignoring corrupt image/label: non-normalized or out of bounds coordinates [      1.119]\n",
      "\u001b[34m\u001b[1mval: \u001b[0mWARNING: /home/jngmk/Downloads/datasets/yolov5/dataset/images/validation/V006_79_1_12_06_03_13_2_0502bb_20201115_33.jpg: ignoring corrupt image/label: non-normalized or out of bounds coordinates [     1.2715]\n",
      "Plotting labels to runs/train/yolov5s_results_ver3/labels.jpg... \n",
      "\n",
      "\u001b[34m\u001b[1mAutoAnchor: \u001b[0m4.77 anchors/target, 1.000 Best Possible Recall (BPR). Current anchors are a good fit to dataset ✅\n",
      "Image sizes 224 train, 224 val\n",
      "Using 8 dataloader workers\n",
      "Logging results to \u001b[1mruns/train/yolov5s_results_ver3\u001b[0m\n",
      "Starting training for 20 epochs...\n",
      "\n",
      "     Epoch   gpu_mem       box       obj       cls    labels  img_size\n",
      "      0/19    0.667G   0.06964   0.02427   0.03679        31       224: 100%|███\n",
      "               Class     Images     Labels          P          R     mAP@.5 mAP@\n",
      "                 all       1071       1071      0.276      0.593      0.324      0.167\n",
      "\n",
      "     Epoch   gpu_mem       box       obj       cls    labels  img_size\n",
      "      1/19    0.711G   0.04449   0.02196   0.02972        29       224: 100%|███\n",
      "               Class     Images     Labels          P          R     mAP@.5 mAP@\n",
      "                 all       1071       1071      0.447      0.681      0.578      0.314\n",
      "\n",
      "     Epoch   gpu_mem       box       obj       cls    labels  img_size\n",
      "      2/19    0.711G   0.04354   0.02075   0.02334        32       224: 100%|███\n",
      "               Class     Images     Labels          P          R     mAP@.5 mAP@\n",
      "                 all       1071       1071      0.559      0.653      0.597      0.316\n",
      "\n",
      "     Epoch   gpu_mem       box       obj       cls    labels  img_size\n",
      "      3/19    0.711G   0.03822   0.02046    0.0201        34       224: 100%|███\n",
      "               Class     Images     Labels          P          R     mAP@.5 mAP@\n",
      "                 all       1071       1071      0.645      0.661       0.68       0.36\n",
      "\n",
      "     Epoch   gpu_mem       box       obj       cls    labels  img_size\n",
      "      4/19    0.711G    0.0356   0.01993   0.01876        57       224:  42%|███\u001b[34m\u001b[1mwandb\u001b[0m: Network error (ReadTimeout), entering retry loop.\n",
      "      4/19    0.711G   0.03533   0.02007   0.01861        39       224: 100%|███\n",
      "               Class     Images     Labels          P          R     mAP@.5 mAP@\n",
      "                 all       1071       1071      0.637      0.711      0.651      0.375\n",
      "\n",
      "     Epoch   gpu_mem       box       obj       cls    labels  img_size\n",
      "      5/19    0.711G   0.03363   0.01986   0.01709        41       224: 100%|███\n",
      "               Class     Images     Labels          P          R     mAP@.5 mAP@\n",
      "                 all       1071       1071      0.732      0.743      0.812      0.519\n",
      "\n",
      "     Epoch   gpu_mem       box       obj       cls    labels  img_size\n",
      "      6/19    0.711G   0.03276   0.01959    0.0159        37       224: 100%|███\n",
      "               Class     Images     Labels          P          R     mAP@.5 mAP@\n",
      "                 all       1071       1071      0.719      0.794      0.819      0.521\n",
      "\n",
      "     Epoch   gpu_mem       box       obj       cls    labels  img_size\n",
      "      7/19    0.711G   0.03189   0.01939   0.01498        35       224: 100%|███\n",
      "               Class     Images     Labels          P          R     mAP@.5 mAP@\n",
      "                 all       1071       1071      0.847      0.772      0.879      0.616\n",
      "\n",
      "     Epoch   gpu_mem       box       obj       cls    labels  img_size\n",
      "      8/19    0.711G   0.03126   0.01915   0.01341        58       224:  32%|███\u001b[34m\u001b[1mwandb\u001b[0m: Network error (ReadTimeout), entering retry loop.\n",
      "      8/19    0.711G   0.03106   0.01921    0.0135        47       224:  55%|███\u001b[34m\u001b[1mwandb\u001b[0m: Network error (ReadTimeout), entering retry loop.\n",
      "      8/19    0.711G   0.03108   0.01919   0.01334        34       224: 100%|███\n",
      "               Class     Images     Labels          P          R     mAP@.5 mAP@\n",
      "                 all       1071       1071      0.753      0.686      0.766      0.486\n",
      "\n",
      "     Epoch   gpu_mem       box       obj       cls    labels  img_size\n",
      "      9/19    0.711G   0.03057    0.0191   0.01336        37       224: 100%|███\n",
      "               Class     Images     Labels          P          R     mAP@.5 mAP@\n",
      "                 all       1071       1071      0.752      0.836      0.865      0.596\n",
      "\n",
      "     Epoch   gpu_mem       box       obj       cls    labels  img_size\n",
      "     10/19    0.711G   0.02997   0.01891   0.01219        29       224: 100%|███\n",
      "               Class     Images     Labels          P          R     mAP@.5 mAP@\n",
      "                 all       1071       1071      0.824      0.835      0.901       0.63\n",
      "\n",
      "     Epoch   gpu_mem       box       obj       cls    labels  img_size\n",
      "     11/19    0.711G   0.02946    0.0189   0.01188        31       224: 100%|███\n",
      "               Class     Images     Labels          P          R     mAP@.5 mAP@\n",
      "                 all       1071       1071      0.788      0.776      0.832      0.554\n",
      "\n",
      "     Epoch   gpu_mem       box       obj       cls    labels  img_size\n",
      "     12/19    0.711G   0.02897   0.01855   0.01191        31       224: 100%|███\n",
      "               Class     Images     Labels          P          R     mAP@.5 mAP@\n",
      "                 all       1071       1071      0.789      0.806      0.869      0.591\n",
      "\n",
      "     Epoch   gpu_mem       box       obj       cls    labels  img_size\n",
      "     13/19    0.711G   0.02855    0.0185   0.01037        38       224: 100%|███\n",
      "               Class     Images     Labels          P          R     mAP@.5 mAP@\n",
      "                 all       1071       1071      0.807       0.82      0.883      0.578\n",
      "\n",
      "     Epoch   gpu_mem       box       obj       cls    labels  img_size\n",
      "     14/19    0.711G    0.0279   0.01819   0.01025        34       224: 100%|███\n",
      "               Class     Images     Labels          P          R     mAP@.5 mAP@\n",
      "                 all       1071       1071      0.813      0.837      0.898      0.613\n",
      "\n",
      "     Epoch   gpu_mem       box       obj       cls    labels  img_size\n",
      "     15/19    0.711G   0.02771   0.01836  0.009621        33       224: 100%|███\n",
      "               Class     Images     Labels          P          R     mAP@.5 mAP@\n",
      "                 all       1071       1071      0.785      0.864      0.878      0.619\n",
      "\n",
      "     Epoch   gpu_mem       box       obj       cls    labels  img_size\n",
      "     16/19    0.711G    0.0273   0.01817  0.009175        35       224: 100%|███\n",
      "               Class     Images     Labels          P          R     mAP@.5 mAP@\n",
      "                 all       1071       1071      0.833       0.88      0.917      0.648\n",
      "\n",
      "     Epoch   gpu_mem       box       obj       cls    labels  img_size\n",
      "     17/19    0.711G   0.02679   0.01786  0.008788        36       224: 100%|███\n",
      "               Class     Images     Labels          P          R     mAP@.5 mAP@\n",
      "                 all       1071       1071      0.888      0.846      0.923      0.675\n",
      "\n",
      "     Epoch   gpu_mem       box       obj       cls    labels  img_size\n",
      "     18/19    0.711G   0.02637   0.01796  0.007966        40       224: 100%|███\n",
      "               Class     Images     Labels          P          R     mAP@.5 mAP@\n",
      "                 all       1071       1071      0.854      0.895      0.927      0.662\n",
      "\n",
      "     Epoch   gpu_mem       box       obj       cls    labels  img_size\n",
      "     19/19    0.711G   0.02598   0.01786    0.0076        35       224: 100%|███\n",
      "               Class     Images     Labels          P          R     mAP@.5 mAP@\n",
      "                 all       1071       1071      0.824      0.878      0.916      0.629\n",
      "\n",
      "20 epochs completed in 2.517 hours.\n",
      "Optimizer stripped from runs/train/yolov5s_results_ver3/weights/last.pt, 14.3MB\n",
      "Optimizer stripped from runs/train/yolov5s_results_ver3/weights/best.pt, 14.3MB\n",
      "\n",
      "Validating runs/train/yolov5s_results_ver3/weights/best.pt...\n",
      "Fusing layers... \n",
      "YOLOv5s summary: 213 layers, 7018216 parameters, 0 gradients, 15.8 GFLOPs\n",
      "               Class     Images     Labels          P          R     mAP@.5 mAP@\n",
      "                 all       1071       1071      0.898      0.836      0.923      0.675\n",
      "                  정상       1071        479        0.9      0.887      0.949      0.666\n",
      "                흰가루병       1071        361      0.946      0.819      0.935      0.714\n",
      "                 노균병       1071        231      0.849        0.8      0.885      0.646\n",
      "/home/jngmk/Downloads/datasets/yolov5/utils/metrics.py:209: UserWarning: Glyph 51221 (\\N{HANGUL SYLLABLE JEONG}) missing from current font.\n",
      "  fig.savefig(Path(save_dir) / 'confusion_matrix.png', dpi=250)\n",
      "/home/jngmk/Downloads/datasets/yolov5/utils/metrics.py:209: UserWarning: Glyph 49345 (\\N{HANGUL SYLLABLE SANG}) missing from current font.\n",
      "  fig.savefig(Path(save_dir) / 'confusion_matrix.png', dpi=250)\n",
      "/home/jngmk/Downloads/datasets/yolov5/utils/metrics.py:209: UserWarning: Glyph 55152 (\\N{HANGUL SYLLABLE HYIN}) missing from current font.\n",
      "  fig.savefig(Path(save_dir) / 'confusion_matrix.png', dpi=250)\n",
      "/home/jngmk/Downloads/datasets/yolov5/utils/metrics.py:209: UserWarning: Glyph 44032 (\\N{HANGUL SYLLABLE GA}) missing from current font.\n",
      "  fig.savefig(Path(save_dir) / 'confusion_matrix.png', dpi=250)\n",
      "/home/jngmk/Downloads/datasets/yolov5/utils/metrics.py:209: UserWarning: Glyph 47336 (\\N{HANGUL SYLLABLE RU}) missing from current font.\n",
      "  fig.savefig(Path(save_dir) / 'confusion_matrix.png', dpi=250)\n",
      "/home/jngmk/Downloads/datasets/yolov5/utils/metrics.py:209: UserWarning: Glyph 48337 (\\N{HANGUL SYLLABLE BYEONG}) missing from current font.\n",
      "  fig.savefig(Path(save_dir) / 'confusion_matrix.png', dpi=250)\n",
      "/home/jngmk/Downloads/datasets/yolov5/utils/metrics.py:209: UserWarning: Glyph 45432 (\\N{HANGUL SYLLABLE NO}) missing from current font.\n",
      "  fig.savefig(Path(save_dir) / 'confusion_matrix.png', dpi=250)\n",
      "/home/jngmk/Downloads/datasets/yolov5/utils/metrics.py:209: UserWarning: Glyph 44512 (\\N{HANGUL SYLLABLE GYUN}) missing from current font.\n",
      "  fig.savefig(Path(save_dir) / 'confusion_matrix.png', dpi=250)\n",
      "\u001b[34m\u001b[1mwandb\u001b[0m: Waiting for W&B process to finish... \u001b[32m(success).\u001b[0m\n",
      "\u001b[34m\u001b[1mwandb\u001b[0m:                                                                                \n",
      "\u001b[34m\u001b[1mwandb\u001b[0m: \n",
      "\u001b[34m\u001b[1mwandb\u001b[0m: Run history:\n",
      "\u001b[34m\u001b[1mwandb\u001b[0m:      metrics/mAP_0.5 ▁▄▄▅▅▇▇▇▆▇█▇▇▇█▇█████\n",
      "\u001b[34m\u001b[1mwandb\u001b[0m: metrics/mAP_0.5:0.95 ▁▃▃▄▄▆▆▇▅▇▇▆▇▇▇▇███▇█\n",
      "\u001b[34m\u001b[1mwandb\u001b[0m:    metrics/precision ▁▃▄▅▅▆▆▇▆▆▇▇▇▇▇▇▇██▇█\n",
      "\u001b[34m\u001b[1mwandb\u001b[0m:       metrics/recall ▁▃▂▃▄▄▆▅▃▇▇▅▆▆▇▇█▇██▇\n",
      "\u001b[34m\u001b[1mwandb\u001b[0m:       train/box_loss █▄▄▃▂▂▂▂▂▂▂▂▁▁▁▁▁▁▁▁\n",
      "\u001b[34m\u001b[1mwandb\u001b[0m:       train/cls_loss █▆▅▄▄▃▃▃▂▂▂▂▂▂▂▁▁▁▁▁\n",
      "\u001b[34m\u001b[1mwandb\u001b[0m:       train/obj_loss █▅▄▄▃▃▃▃▂▂▂▂▂▂▁▂▁▁▁▁\n",
      "\u001b[34m\u001b[1mwandb\u001b[0m:         val/box_loss █▆▆▇▃▃▃▂▃▂▁▂▂▂▁▁▁▁▂▂▁\n",
      "\u001b[34m\u001b[1mwandb\u001b[0m:         val/cls_loss █▅▅▄▆▃▃▂▃▂▁▂▂▂▂▂▁▁▁▁▁\n",
      "\u001b[34m\u001b[1mwandb\u001b[0m:         val/obj_loss █▅▆▄▆▄▃▃▃▂▂▃▂▃▂▂▁▁▂▂▁\n",
      "\u001b[34m\u001b[1mwandb\u001b[0m:                x/lr0 ▃▆███▇▇▆▆▅▅▅▄▄▃▃▂▂▁▁\n",
      "\u001b[34m\u001b[1mwandb\u001b[0m:                x/lr1 ▃▆███▇▇▆▆▅▅▅▄▄▃▃▂▂▁▁\n",
      "\u001b[34m\u001b[1mwandb\u001b[0m:                x/lr2 █▅▂▂▂▂▂▂▂▂▁▁▁▁▁▁▁▁▁▁\n",
      "\u001b[34m\u001b[1mwandb\u001b[0m: \n",
      "\u001b[34m\u001b[1mwandb\u001b[0m: Run summary:\n",
      "\u001b[34m\u001b[1mwandb\u001b[0m:           best/epoch 17\n",
      "\u001b[34m\u001b[1mwandb\u001b[0m:         best/mAP_0.5 0.92315\n",
      "\u001b[34m\u001b[1mwandb\u001b[0m:    best/mAP_0.5:0.95 0.67478\n",
      "\u001b[34m\u001b[1mwandb\u001b[0m:       best/precision 0.88756\n",
      "\u001b[34m\u001b[1mwandb\u001b[0m:          best/recall 0.84639\n",
      "\u001b[34m\u001b[1mwandb\u001b[0m:      metrics/mAP_0.5 0.92313\n",
      "\u001b[34m\u001b[1mwandb\u001b[0m: metrics/mAP_0.5:0.95 0.67506\n",
      "\u001b[34m\u001b[1mwandb\u001b[0m:    metrics/precision 0.8982\n",
      "\u001b[34m\u001b[1mwandb\u001b[0m:       metrics/recall 0.83554\n",
      "\u001b[34m\u001b[1mwandb\u001b[0m:       train/box_loss 0.02598\n",
      "\u001b[34m\u001b[1mwandb\u001b[0m:       train/cls_loss 0.0076\n",
      "\u001b[34m\u001b[1mwandb\u001b[0m:       train/obj_loss 0.01786\n",
      "\u001b[34m\u001b[1mwandb\u001b[0m:         val/box_loss 0.01834\n",
      "\u001b[34m\u001b[1mwandb\u001b[0m:         val/cls_loss 0.00529\n",
      "\u001b[34m\u001b[1mwandb\u001b[0m:         val/obj_loss 0.00663\n",
      "\u001b[34m\u001b[1mwandb\u001b[0m:                x/lr0 0.00109\n",
      "\u001b[34m\u001b[1mwandb\u001b[0m:                x/lr1 0.00109\n",
      "\u001b[34m\u001b[1mwandb\u001b[0m:                x/lr2 0.00109\n",
      "\u001b[34m\u001b[1mwandb\u001b[0m: \n",
      "\u001b[34m\u001b[1mwandb\u001b[0m: Synced \u001b[33myolov5s_results_ver\u001b[0m: \u001b[34m\u001b[4mhttps://wandb.ai/hyeeein/YOLOv5/runs/2nfgtvgk\u001b[0m\n",
      "\u001b[34m\u001b[1mwandb\u001b[0m: Synced 6 W&B file(s), 337 media file(s), 1 artifact file(s) and 0 other file(s)\n",
      "\u001b[34m\u001b[1mwandb\u001b[0m: Find logs at: \u001b[35m\u001b[1m./wandb/run-20220507_163718-2nfgtvgk/logs\u001b[0m\n",
      "Results saved to \u001b[1mruns/train/yolov5s_results_ver3\u001b[0m\n"
     ]
    }
   ],
   "source": [
    "# yolov5 전이학습\n",
    "!python train.py --img 224 --batch 20 --epochs 20 --data data/data.yaml --device cuda:0 --cfg ./models/yolov5s.yaml --weights yolov5s.pt --name yolov5s_results_ver"
   ]
  },
  {
   "cell_type": "code",
   "execution_count": null,
   "metadata": {},
   "outputs": [],
   "source": [
    "# AttributeError: 'NoneType' object has no attribute 'python_exit_status'\n",
    "# 속성 이름이 잘못됐거나 없는 속성을 가져오려고 하면 오류가 발생\n",
    "# 즉, '검색 되어지는 앖이 하나도 없을 때' 발생하는 에러"
   ]
  },
  {
   "cell_type": "markdown",
   "metadata": {},
   "source": [
    "#### 모델 테스트"
   ]
  },
  {
   "cell_type": "code",
   "execution_count": 7,
   "metadata": {},
   "outputs": [
    {
     "data": {
      "text/plain": [
       "'/home/jngmk/Downloads/datasets/yolov5'"
      ]
     },
     "execution_count": 7,
     "metadata": {},
     "output_type": "execute_result"
    }
   ],
   "source": [
    "os.getcwd()"
   ]
  },
  {
   "cell_type": "code",
   "execution_count": 8,
   "metadata": {},
   "outputs": [
    {
     "name": "stdout",
     "output_type": "stream",
     "text": [
      "/home/jngmk/Downloads/datasets/yolov5\n"
     ]
    }
   ],
   "source": [
    "cd '/home/jngmk/Downloads/datasets/yolov5'"
   ]
  },
  {
   "cell_type": "code",
   "execution_count": 39,
   "metadata": {},
   "outputs": [
    {
     "name": "stdout",
     "output_type": "stream",
     "text": [
      "\u001b[34m\u001b[1mdetect: \u001b[0mweights=['runs/train/yolov5s_results_ver3/weights/best.pt'], source=/home/jngmk/Downloads/datasets/yolov5/dataset/images/test/V006_79_0_00_04_03_13_0_c25_20201030_0133_S01_1.jpg, data=data/coco128.yaml, imgsz=[224, 224], conf_thres=0.5, iou_thres=0.45, max_det=1000, device=, view_img=False, save_txt=False, save_conf=False, save_crop=False, nosave=False, classes=None, agnostic_nms=False, augment=False, visualize=False, update=False, project=runs/detect, name=exp, exist_ok=False, line_thickness=3, hide_labels=False, hide_conf=False, half=False, dnn=False\n",
      "YOLOv5 🚀 v6.1-170-gbff6e51 torch 1.11.0 CUDA:0 (NVIDIA GeForce GTX 1070 Ti, 8116MiB)\n",
      "\n",
      "Fusing layers... \n",
      "YOLOv5s summary: 213 layers, 7018216 parameters, 0 gradients, 15.8 GFLOPs\n",
      "image 1/1 /home/jngmk/Downloads/datasets/yolov5/dataset/images/test/V006_79_0_00_04_03_13_0_c25_20201030_0133_S01_1.jpg: 128x224 1 정상, Done. (0.009s)\n",
      "Speed: 0.3ms pre-process, 8.7ms inference, 0.9ms NMS per image at shape (1, 3, 224, 224)\n",
      "Results saved to \u001b[1mruns/detect/exp8\u001b[0m\n"
     ]
    }
   ],
   "source": [
    "test_img_path = [os.path.join(test_images_dir, i) for i in test_images]\n",
    "\n",
    "# for test_img in test_img_path:\n",
    "#     !python detect.py --weights runs/train/yolov5_results_ver3/weights/best.pt --img 224 --conf 0.5 --source \"{test_img}\"\n",
    "\n",
    "!python detect.py --weights runs/train/yolov5s_results_ver3/weights/best.pt --img 224 --conf 0.5 --source \"{test_img_path[15]}\""
   ]
  },
  {
   "cell_type": "markdown",
   "metadata": {},
   "source": [
    "---"
   ]
  },
  {
   "cell_type": "markdown",
   "metadata": {},
   "source": [
    "#### 모델 학습 (2)\n",
    "\n",
    "- 에포크, 배치 사이즈 조정"
   ]
  },
  {
   "cell_type": "code",
   "execution_count": 23,
   "metadata": {},
   "outputs": [
    {
     "name": "stdout",
     "output_type": "stream",
     "text": [
      "[Errno 2] No such file or directory: '/home/jngmk/Downloads/datasets/yolo5/'\n",
      "/home/jngmk/Downloads/datasets/yolov5\n"
     ]
    }
   ],
   "source": [
    "cd /home/jngmk/Downloads/datasets/yolo5/"
   ]
  },
  {
   "cell_type": "code",
   "execution_count": 24,
   "metadata": {},
   "outputs": [
    {
     "data": {
      "text/plain": [
       "'/home/jngmk/Downloads/datasets/yolov5'"
      ]
     },
     "execution_count": 24,
     "metadata": {},
     "output_type": "execute_result"
    }
   ],
   "source": [
    "os.getcwd()"
   ]
  },
  {
   "cell_type": "code",
   "execution_count": 25,
   "metadata": {},
   "outputs": [
    {
     "name": "stdout",
     "output_type": "stream",
     "text": [
      "\u001b[34m\u001b[1mwandb\u001b[0m: Currently logged in as: \u001b[33mhyeeein\u001b[0m. Use \u001b[1m`wandb login --relogin`\u001b[0m to force relogin\n",
      "\u001b[34m\u001b[1mtrain: \u001b[0mweights=yolov5s.pt, cfg=./models/yolov5s.yaml, data=data/data.yaml, hyp=data/hyps/hyp.scratch-low.yaml, epochs=30, batch_size=32, imgsz=224, rect=False, resume=False, nosave=False, noval=False, noautoanchor=False, noplots=False, evolve=None, bucket=, cache=None, image_weights=False, device=cuda:0, multi_scale=False, single_cls=False, optimizer=SGD, sync_bn=False, workers=8, project=runs/train, name=yolov5s_results_ver4, exist_ok=False, quad=False, cos_lr=False, label_smoothing=0.0, patience=100, freeze=[0], save_period=-1, local_rank=-1, entity=None, upload_dataset=False, bbox_interval=-1, artifact_alias=latest\n",
      "\u001b[34m\u001b[1mgithub: \u001b[0m⚠️ YOLOv5 is out of date by 7 commits. Use `git pull` or `git clone https://github.com/ultralytics/yolov5` to update.\n",
      "YOLOv5 🚀 v6.1-170-gbff6e51 torch 1.11.0 CUDA:0 (NVIDIA GeForce GTX 1070 Ti, 8116MiB)\n",
      "\n",
      "\u001b[34m\u001b[1mhyperparameters: \u001b[0mlr0=0.01, lrf=0.01, momentum=0.937, weight_decay=0.0005, warmup_epochs=3.0, warmup_momentum=0.8, warmup_bias_lr=0.1, box=0.05, cls=0.5, cls_pw=1.0, obj=1.0, obj_pw=1.0, iou_t=0.2, anchor_t=4.0, fl_gamma=0.0, hsv_h=0.015, hsv_s=0.7, hsv_v=0.4, degrees=0.0, translate=0.1, scale=0.5, shear=0.0, perspective=0.0, flipud=0.0, fliplr=0.5, mosaic=1.0, mixup=0.0, copy_paste=0.0\n",
      "\u001b[34m\u001b[1mTensorBoard: \u001b[0mStart with 'tensorboard --logdir runs/train', view at http://localhost:6006/\n",
      "\u001b[34m\u001b[1mwandb\u001b[0m: Tracking run with wandb version 0.12.16\n",
      "\u001b[34m\u001b[1mwandb\u001b[0m: Run data is saved locally in \u001b[35m\u001b[1m/home/jngmk/Downloads/datasets/yolov5/wandb/run-20220508_022529-15s6i2g4\u001b[0m\n",
      "\u001b[34m\u001b[1mwandb\u001b[0m: Run \u001b[1m`wandb offline`\u001b[0m to turn off syncing.\n",
      "\u001b[34m\u001b[1mwandb\u001b[0m: Syncing run \u001b[33myolov5s_results_ver4\u001b[0m\n",
      "\u001b[34m\u001b[1mwandb\u001b[0m: ⭐️ View project at \u001b[34m\u001b[4mhttps://wandb.ai/hyeeein/YOLOv5\u001b[0m\n",
      "\u001b[34m\u001b[1mwandb\u001b[0m: 🚀 View run at \u001b[34m\u001b[4mhttps://wandb.ai/hyeeein/YOLOv5/runs/15s6i2g4\u001b[0m\n",
      "YOLOv5 temporarily requires wandb version 0.12.10 or below. Some features may not work as expected.\n",
      "\n",
      "                 from  n    params  module                                  arguments                     \n",
      "  0                -1  1      3520  models.common.Conv                      [3, 32, 6, 2, 2]              \n",
      "  1                -1  1     18560  models.common.Conv                      [32, 64, 3, 2]                \n",
      "  2                -1  1     18816  models.common.C3                        [64, 64, 1]                   \n",
      "  3                -1  1     73984  models.common.Conv                      [64, 128, 3, 2]               \n",
      "  4                -1  2    115712  models.common.C3                        [128, 128, 2]                 \n",
      "  5                -1  1    295424  models.common.Conv                      [128, 256, 3, 2]              \n",
      "  6                -1  3    625152  models.common.C3                        [256, 256, 3]                 \n",
      "  7                -1  1   1180672  models.common.Conv                      [256, 512, 3, 2]              \n",
      "  8                -1  1   1182720  models.common.C3                        [512, 512, 1]                 \n",
      "  9                -1  1    656896  models.common.SPPF                      [512, 512, 5]                 \n",
      " 10                -1  1    131584  models.common.Conv                      [512, 256, 1, 1]              \n",
      " 11                -1  1         0  torch.nn.modules.upsampling.Upsample    [None, 2, 'nearest']          \n",
      " 12           [-1, 6]  1         0  models.common.Concat                    [1]                           \n",
      " 13                -1  1    361984  models.common.C3                        [512, 256, 1, False]          \n",
      " 14                -1  1     33024  models.common.Conv                      [256, 128, 1, 1]              \n",
      " 15                -1  1         0  torch.nn.modules.upsampling.Upsample    [None, 2, 'nearest']          \n",
      " 16           [-1, 4]  1         0  models.common.Concat                    [1]                           \n",
      " 17                -1  1     90880  models.common.C3                        [256, 128, 1, False]          \n",
      " 18                -1  1    147712  models.common.Conv                      [128, 128, 3, 2]              \n",
      " 19          [-1, 14]  1         0  models.common.Concat                    [1]                           \n",
      " 20                -1  1    296448  models.common.C3                        [256, 256, 1, False]          \n",
      " 21                -1  1    590336  models.common.Conv                      [256, 256, 3, 2]              \n",
      " 22          [-1, 10]  1         0  models.common.Concat                    [1]                           \n",
      " 23                -1  1   1182720  models.common.C3                        [512, 512, 1, False]          \n",
      " 24      [17, 20, 23]  1     21576  models.yolo.Detect                      [3, [[10, 13, 16, 30, 33, 23], [30, 61, 62, 45, 59, 119], [116, 90, 156, 198, 373, 326]], [128, 256, 512]]\n",
      "YOLOv5s summary: 270 layers, 7027720 parameters, 7027720 gradients, 15.9 GFLOPs\n",
      "\n",
      "Transferred 342/349 items from yolov5s.pt\n",
      "Scaled weight_decay = 0.0005\n",
      "\u001b[34m\u001b[1moptimizer:\u001b[0m SGD with parameter groups 57 weight (no decay), 60 weight, 60 bias\n",
      "\u001b[34m\u001b[1mtrain: \u001b[0mScanning '/home/jngmk/Downloads/datasets/yolov5/dataset/labels/train.cach\u001b[0m\n",
      "\u001b[34m\u001b[1mtrain: \u001b[0mWARNING: /home/jngmk/Downloads/datasets/yolov5/dataset/images/train/V006_79_0_00_01_03_11_0_b02_20201021_0017_S01_1.jpg: ignoring corrupt image/label: non-normalized or out of bounds coordinates [     1.0215]\n",
      "\u001b[34m\u001b[1mtrain: \u001b[0mWARNING: /home/jngmk/Downloads/datasets/yolov5/dataset/images/train/V006_79_0_00_01_03_11_0_b02_20201021_0027_S01_1.jpg: ignoring corrupt image/label: non-normalized or out of bounds coordinates [     1.0317]\n",
      "\u001b[34m\u001b[1mtrain: \u001b[0mWARNING: /home/jngmk/Downloads/datasets/yolov5/dataset/images/train/V006_79_0_00_01_03_11_0_c16_20201209_0012_S01_1.jpg: ignoring corrupt image/label: non-normalized or out of bounds coordinates [     1.0472]\n",
      "\u001b[34m\u001b[1mtrain: \u001b[0mWARNING: /home/jngmk/Downloads/datasets/yolov5/dataset/images/train/V006_79_0_00_01_03_12_0_b03_20201104_0033_S01_1.jpg: ignoring corrupt image/label: non-normalized or out of bounds coordinates [     1.1864]\n",
      "\u001b[34m\u001b[1mtrain: \u001b[0mWARNING: /home/jngmk/Downloads/datasets/yolov5/dataset/images/train/V006_79_0_00_01_03_12_0_b04_20201021_0002_S01_1.jpg: ignoring corrupt image/label: non-normalized or out of bounds coordinates [     1.0527]\n",
      "\u001b[34m\u001b[1mtrain: \u001b[0mWARNING: /home/jngmk/Downloads/datasets/yolov5/dataset/images/train/V006_79_0_00_01_03_12_0_b04_20201021_0010_S01_1.jpg: ignoring corrupt image/label: non-normalized or out of bounds coordinates [     1.0171]\n",
      "\u001b[34m\u001b[1mtrain: \u001b[0mWARNING: /home/jngmk/Downloads/datasets/yolov5/dataset/images/train/V006_79_0_00_01_03_12_0_c29_20201110_0036_S01_1.jpg: ignoring corrupt image/label: non-normalized or out of bounds coordinates [     1.1878]\n",
      "\u001b[34m\u001b[1mtrain: \u001b[0mWARNING: /home/jngmk/Downloads/datasets/yolov5/dataset/images/train/V006_79_0_00_01_03_13_0_b05_20201208_0002_S01_2.jpg: ignoring corrupt image/label: non-normalized or out of bounds coordinates [     1.1582]\n",
      "\u001b[34m\u001b[1mtrain: \u001b[0mWARNING: /home/jngmk/Downloads/datasets/yolov5/dataset/images/train/V006_79_0_00_01_03_13_0_b05_20201208_0005_S01_2.jpg: ignoring corrupt image/label: non-normalized or out of bounds coordinates [     1.2287]\n",
      "\u001b[34m\u001b[1mtrain: \u001b[0mWARNING: /home/jngmk/Downloads/datasets/yolov5/dataset/images/train/V006_79_0_00_01_03_13_0_b05_20201208_0106_S01_1.jpg: ignoring corrupt image/label: non-normalized or out of bounds coordinates [     1.1222]\n",
      "\u001b[34m\u001b[1mtrain: \u001b[0mWARNING: /home/jngmk/Downloads/datasets/yolov5/dataset/images/train/V006_79_0_00_01_03_13_0_b05_20201208_0172_S01_1.jpg: ignoring corrupt image/label: non-normalized or out of bounds coordinates [     1.2093]\n",
      "\u001b[34m\u001b[1mtrain: \u001b[0mWARNING: /home/jngmk/Downloads/datasets/yolov5/dataset/images/train/V006_79_0_00_02_03_12_0_c02_20201014_0005_S01_1.jpg: ignoring corrupt image/label: non-normalized or out of bounds coordinates [      1.088]\n",
      "\u001b[34m\u001b[1mtrain: \u001b[0mWARNING: /home/jngmk/Downloads/datasets/yolov5/dataset/images/train/V006_79_0_00_04_03_12_0_c38_20201019_0000_S02_3.jpg: ignoring corrupt image/label: non-normalized or out of bounds coordinates [     1.0286      1.1817]\n",
      "\u001b[34m\u001b[1mtrain: \u001b[0mWARNING: /home/jngmk/Downloads/datasets/yolov5/dataset/images/train/V006_79_0_00_04_03_12_0_c40_20201019_0001_S02_3.jpg: ignoring corrupt image/label: non-normalized or out of bounds coordinates [     1.0185]\n",
      "\u001b[34m\u001b[1mtrain: \u001b[0mWARNING: /home/jngmk/Downloads/datasets/yolov5/dataset/images/train/V006_79_0_00_04_03_13_0_a01_20201020_0019_S02_4.jpg: ignoring corrupt image/label: non-normalized or out of bounds coordinates [     1.0657      1.1241]\n",
      "\u001b[34m\u001b[1mtrain: \u001b[0mWARNING: /home/jngmk/Downloads/datasets/yolov5/dataset/images/train/V006_79_0_00_04_03_13_0_b01_20201020_0006_S02_3.jpg: ignoring corrupt image/label: non-normalized or out of bounds coordinates [     1.0344]\n",
      "\u001b[34m\u001b[1mtrain: \u001b[0mWARNING: /home/jngmk/Downloads/datasets/yolov5/dataset/images/train/V006_79_0_00_04_03_13_0_c24_20201020_0258_S02_4.jpg: ignoring corrupt image/label: non-normalized or out of bounds coordinates [     1.0198]\n",
      "\u001b[34m\u001b[1mtrain: \u001b[0mWARNING: /home/jngmk/Downloads/datasets/yolov5/dataset/images/train/V006_79_0_00_04_03_13_0_c44_20201019_0023_S02_4.jpg: ignoring corrupt image/label: non-normalized or out of bounds coordinates [     1.0231]\n",
      "\u001b[34m\u001b[1mtrain: \u001b[0mWARNING: /home/jngmk/Downloads/datasets/yolov5/dataset/images/train/V006_79_0_00_04_03_13_0_c44_20201019_0027_S02_4.jpg: ignoring corrupt image/label: non-normalized or out of bounds coordinates [      1.092]\n",
      "\u001b[34m\u001b[1mtrain: \u001b[0mWARNING: /home/jngmk/Downloads/datasets/yolov5/dataset/images/train/V006_79_0_00_04_03_13_0_c44_20201019_0034_S02_4.jpg: ignoring corrupt image/label: non-normalized or out of bounds coordinates [      1.044]\n",
      "\u001b[34m\u001b[1mtrain: \u001b[0mWARNING: /home/jngmk/Downloads/datasets/yolov5/dataset/images/train/V006_79_0_00_04_03_13_0_c44_20201020_0045_S02_4.jpg: ignoring corrupt image/label: non-normalized or out of bounds coordinates [     1.0501]\n",
      "\u001b[34m\u001b[1mtrain: \u001b[0mWARNING: /home/jngmk/Downloads/datasets/yolov5/dataset/images/train/V006_79_0_00_06_03_12_0_c15_20201104_0000_S01_1.jpg: ignoring corrupt image/label: non-normalized or out of bounds coordinates [     1.0651]\n",
      "\u001b[34m\u001b[1mtrain: \u001b[0mWARNING: /home/jngmk/Downloads/datasets/yolov5/dataset/images/train/V006_79_1_02_01_03_13_3_3068z_20201123_3.jpg: ignoring corrupt image/label: non-normalized or out of bounds coordinates [     1.0717]\n",
      "\u001b[34m\u001b[1mtrain: \u001b[0mWARNING: /home/jngmk/Downloads/datasets/yolov5/dataset/images/train/V006_79_1_04_02_03_12_1_3108e_20201030_5.jpg: ignoring corrupt image/label: non-normalized or out of bounds coordinates [     1.0169]\n",
      "\u001b[34m\u001b[1mtrain: \u001b[0mWARNING: /home/jngmk/Downloads/datasets/yolov5/dataset/images/train/V006_79_1_04_02_03_12_1_5389e_20201106_19.jpg: ignoring corrupt image/label: non-normalized or out of bounds coordinates [     1.0281]\n",
      "\u001b[34m\u001b[1mtrain: \u001b[0mWARNING: /home/jngmk/Downloads/datasets/yolov5/dataset/images/train/V006_79_1_04_02_03_12_2_9662e_20201104_2.jpg: ignoring corrupt image/label: non-normalized or out of bounds coordinates [      1.097]\n",
      "\u001b[34m\u001b[1mtrain: \u001b[0mWARNING: /home/jngmk/Downloads/datasets/yolov5/dataset/images/train/V006_79_1_04_02_03_12_2_9662e_20201104_3.jpg: ignoring corrupt image/label: non-normalized or out of bounds coordinates [     1.0177]\n",
      "\u001b[34m\u001b[1mtrain: \u001b[0mWARNING: /home/jngmk/Downloads/datasets/yolov5/dataset/images/train/V006_79_1_07_04_03_12_1_5950b_20200928_14.jpg: ignoring corrupt image/label: non-normalized or out of bounds coordinates [     1.0994]\n",
      "\u001b[34m\u001b[1mtrain: \u001b[0mWARNING: /home/jngmk/Downloads/datasets/yolov5/dataset/images/train/V006_79_1_07_04_03_12_2_5950b_20201029_1.jpg: ignoring corrupt image/label: non-normalized or out of bounds coordinates [     1.1581]\n",
      "\u001b[34m\u001b[1mtrain: \u001b[0mWARNING: /home/jngmk/Downloads/datasets/yolov5/dataset/images/train/V006_79_1_07_04_03_13_1_3033t_20201008_376.jpg: ignoring corrupt image/label: non-normalized or out of bounds coordinates [      1.211]\n",
      "\u001b[34m\u001b[1mtrain: \u001b[0mWARNING: /home/jngmk/Downloads/datasets/yolov5/dataset/images/train/V006_79_1_07_04_03_13_1_3033t_20201015_775.jpg: ignoring corrupt image/label: non-normalized or out of bounds coordinates [     1.1713]\n",
      "\u001b[34m\u001b[1mtrain: \u001b[0mWARNING: /home/jngmk/Downloads/datasets/yolov5/dataset/images/train/V006_79_1_07_04_03_13_1_5950b_20200928_10.jpg: ignoring corrupt image/label: non-normalized or out of bounds coordinates [     1.2275]\n",
      "\u001b[34m\u001b[1mtrain: \u001b[0mWARNING: /home/jngmk/Downloads/datasets/yolov5/dataset/images/train/V006_79_1_07_04_03_13_1_7652t_20201029_1272.jpg: ignoring corrupt image/label: non-normalized or out of bounds coordinates [     1.1487]\n",
      "\u001b[34m\u001b[1mtrain: \u001b[0mWARNING: /home/jngmk/Downloads/datasets/yolov5/dataset/images/train/V006_79_1_07_04_03_13_1_7652t_20201029_1274.jpg: ignoring corrupt image/label: non-normalized or out of bounds coordinates [     1.1753]\n",
      "\u001b[34m\u001b[1mtrain: \u001b[0mWARNING: /home/jngmk/Downloads/datasets/yolov5/dataset/images/train/V006_79_1_07_04_03_13_1_7652t_20201029_1275.jpg: ignoring corrupt image/label: non-normalized or out of bounds coordinates [     1.1377]\n",
      "\u001b[34m\u001b[1mtrain: \u001b[0mWARNING: /home/jngmk/Downloads/datasets/yolov5/dataset/images/train/V006_79_1_07_04_03_13_1_7652t_20201029_1276.jpg: ignoring corrupt image/label: non-normalized or out of bounds coordinates [     1.2133]\n",
      "\u001b[34m\u001b[1mtrain: \u001b[0mWARNING: /home/jngmk/Downloads/datasets/yolov5/dataset/images/train/V006_79_1_07_04_03_13_1_7652t_20201029_1278.jpg: ignoring corrupt image/label: non-normalized or out of bounds coordinates [     1.1333]\n",
      "\u001b[34m\u001b[1mtrain: \u001b[0mWARNING: /home/jngmk/Downloads/datasets/yolov5/dataset/images/train/V006_79_1_07_04_03_13_1_8487t_20200928_36.jpg: ignoring corrupt image/label: non-normalized or out of bounds coordinates [     1.2655]\n",
      "\u001b[34m\u001b[1mtrain: \u001b[0mWARNING: /home/jngmk/Downloads/datasets/yolov5/dataset/images/train/V006_79_1_07_04_03_13_1_8487t_20200928_37.jpg: ignoring corrupt image/label: non-normalized or out of bounds coordinates [     1.1746]\n",
      "\u001b[34m\u001b[1mtrain: \u001b[0mWARNING: /home/jngmk/Downloads/datasets/yolov5/dataset/images/train/V006_79_1_07_04_03_13_1_8487t_20200928_38.jpg: ignoring corrupt image/label: non-normalized or out of bounds coordinates [     1.1399]\n",
      "\u001b[34m\u001b[1mtrain: \u001b[0mWARNING: /home/jngmk/Downloads/datasets/yolov5/dataset/images/train/V006_79_1_07_04_03_13_1_8487t_20201008_244.jpg: ignoring corrupt image/label: non-normalized or out of bounds coordinates [     1.2345]\n",
      "\u001b[34m\u001b[1mtrain: \u001b[0mWARNING: /home/jngmk/Downloads/datasets/yolov5/dataset/images/train/V006_79_1_07_04_03_13_1_8487t_20201008_245.jpg: ignoring corrupt image/label: non-normalized or out of bounds coordinates [     1.2235]\n",
      "\u001b[34m\u001b[1mtrain: \u001b[0mWARNING: /home/jngmk/Downloads/datasets/yolov5/dataset/images/train/V006_79_1_07_04_03_13_1_8487t_20201008_254.jpg: ignoring corrupt image/label: non-normalized or out of bounds coordinates [     1.2609]\n",
      "\u001b[34m\u001b[1mtrain: \u001b[0mWARNING: /home/jngmk/Downloads/datasets/yolov5/dataset/images/train/V006_79_1_07_04_03_13_1_8487t_20201008_280.jpg: ignoring corrupt image/label: non-normalized or out of bounds coordinates [     1.1723]\n",
      "\u001b[34m\u001b[1mtrain: \u001b[0mWARNING: /home/jngmk/Downloads/datasets/yolov5/dataset/images/train/V006_79_1_07_04_03_13_1_8487t_20201008_282.jpg: ignoring corrupt image/label: non-normalized or out of bounds coordinates [     1.2655]\n",
      "\u001b[34m\u001b[1mtrain: \u001b[0mWARNING: /home/jngmk/Downloads/datasets/yolov5/dataset/images/train/V006_79_1_07_04_03_13_1_8487t_20201028_8.jpg: ignoring corrupt image/label: non-normalized or out of bounds coordinates [     1.2233]\n",
      "\u001b[34m\u001b[1mtrain: \u001b[0mWARNING: /home/jngmk/Downloads/datasets/yolov5/dataset/images/train/V006_79_1_07_04_03_13_1_8487t_20201102_33.jpg: ignoring corrupt image/label: non-normalized or out of bounds coordinates [     1.2343]\n",
      "\u001b[34m\u001b[1mtrain: \u001b[0mWARNING: /home/jngmk/Downloads/datasets/yolov5/dataset/images/train/V006_79_1_07_04_03_13_1_8487t_20201102_47.jpg: ignoring corrupt image/label: non-normalized or out of bounds coordinates [     1.1327]\n",
      "\u001b[34m\u001b[1mtrain: \u001b[0mWARNING: /home/jngmk/Downloads/datasets/yolov5/dataset/images/train/V006_79_1_07_04_03_13_1_8487t_20201102_56.jpg: ignoring corrupt image/label: non-normalized or out of bounds coordinates [      1.215]\n",
      "\u001b[34m\u001b[1mtrain: \u001b[0mWARNING: /home/jngmk/Downloads/datasets/yolov5/dataset/images/train/V006_79_1_07_04_03_13_1_8487t_20201102_6.jpg: ignoring corrupt image/label: non-normalized or out of bounds coordinates [     1.0857]\n",
      "\u001b[34m\u001b[1mtrain: \u001b[0mWARNING: /home/jngmk/Downloads/datasets/yolov5/dataset/images/train/V006_79_1_07_04_03_13_1_9923t_20201008_152.jpg: ignoring corrupt image/label: non-normalized or out of bounds coordinates [     1.2652]\n",
      "\u001b[34m\u001b[1mtrain: \u001b[0mWARNING: /home/jngmk/Downloads/datasets/yolov5/dataset/images/train/V006_79_1_07_04_03_13_1_9923t_20201008_156.jpg: ignoring corrupt image/label: non-normalized or out of bounds coordinates [     1.2355]\n",
      "\u001b[34m\u001b[1mtrain: \u001b[0mWARNING: /home/jngmk/Downloads/datasets/yolov5/dataset/images/train/V006_79_1_07_04_03_13_1_9923t_20201008_158.jpg: ignoring corrupt image/label: non-normalized or out of bounds coordinates [      1.123]\n",
      "\u001b[34m\u001b[1mtrain: \u001b[0mWARNING: /home/jngmk/Downloads/datasets/yolov5/dataset/images/train/V006_79_1_07_04_03_13_1_9923t_20201008_164.jpg: ignoring corrupt image/label: non-normalized or out of bounds coordinates [     1.2586]\n",
      "\u001b[34m\u001b[1mtrain: \u001b[0mWARNING: /home/jngmk/Downloads/datasets/yolov5/dataset/images/train/V006_79_1_07_04_03_13_1_9923t_20201008_166.jpg: ignoring corrupt image/label: non-normalized or out of bounds coordinates [     1.1561]\n",
      "\u001b[34m\u001b[1mtrain: \u001b[0mWARNING: /home/jngmk/Downloads/datasets/yolov5/dataset/images/train/V006_79_1_07_04_03_13_1_9923t_20201008_167.jpg: ignoring corrupt image/label: non-normalized or out of bounds coordinates [     1.2751]\n",
      "\u001b[34m\u001b[1mtrain: \u001b[0mWARNING: /home/jngmk/Downloads/datasets/yolov5/dataset/images/train/V006_79_1_07_04_03_13_1_9923t_20201008_168.jpg: ignoring corrupt image/label: non-normalized or out of bounds coordinates [     1.2536]\n",
      "\u001b[34m\u001b[1mtrain: \u001b[0mWARNING: /home/jngmk/Downloads/datasets/yolov5/dataset/images/train/V006_79_1_07_04_03_13_1_9923t_20201008_169.jpg: ignoring corrupt image/label: non-normalized or out of bounds coordinates [     1.2156]\n",
      "\u001b[34m\u001b[1mtrain: \u001b[0mWARNING: /home/jngmk/Downloads/datasets/yolov5/dataset/images/train/V006_79_1_07_04_03_13_1_9923t_20201008_171.jpg: ignoring corrupt image/label: non-normalized or out of bounds coordinates [     1.0304]\n",
      "\u001b[34m\u001b[1mtrain: \u001b[0mWARNING: /home/jngmk/Downloads/datasets/yolov5/dataset/images/train/V006_79_1_07_04_03_13_1_9923t_20201008_178.jpg: ignoring corrupt image/label: non-normalized or out of bounds coordinates [     1.1644]\n",
      "\u001b[34m\u001b[1mtrain: \u001b[0mWARNING: /home/jngmk/Downloads/datasets/yolov5/dataset/images/train/V006_79_1_07_04_03_13_1_9923t_20201008_179.jpg: ignoring corrupt image/label: non-normalized or out of bounds coordinates [     1.1809]\n",
      "\u001b[34m\u001b[1mtrain: \u001b[0mWARNING: /home/jngmk/Downloads/datasets/yolov5/dataset/images/train/V006_79_1_07_04_03_13_1_9923t_20201008_184.jpg: ignoring corrupt image/label: non-normalized or out of bounds coordinates [     1.1958]\n",
      "\u001b[34m\u001b[1mtrain: \u001b[0mWARNING: /home/jngmk/Downloads/datasets/yolov5/dataset/images/train/V006_79_1_07_04_03_13_1_9923t_20201008_186.jpg: ignoring corrupt image/label: non-normalized or out of bounds coordinates [     1.2817]\n",
      "\u001b[34m\u001b[1mtrain: \u001b[0mWARNING: /home/jngmk/Downloads/datasets/yolov5/dataset/images/train/V006_79_1_07_04_03_13_1_9923t_20201008_189.jpg: ignoring corrupt image/label: non-normalized or out of bounds coordinates [     1.0552]\n",
      "\u001b[34m\u001b[1mtrain: \u001b[0mWARNING: /home/jngmk/Downloads/datasets/yolov5/dataset/images/train/V006_79_1_07_04_03_13_1_9923t_20201008_190.jpg: ignoring corrupt image/label: non-normalized or out of bounds coordinates [     1.3132]\n",
      "\u001b[34m\u001b[1mtrain: \u001b[0mWARNING: /home/jngmk/Downloads/datasets/yolov5/dataset/images/train/V006_79_1_07_04_03_13_1_9923t_20201008_193.jpg: ignoring corrupt image/label: non-normalized or out of bounds coordinates [     1.2156]\n",
      "\u001b[34m\u001b[1mtrain: \u001b[0mWARNING: /home/jngmk/Downloads/datasets/yolov5/dataset/images/train/V006_79_1_07_04_03_13_1_9923t_20201008_195.jpg: ignoring corrupt image/label: non-normalized or out of bounds coordinates [     1.1991]\n",
      "\u001b[34m\u001b[1mtrain: \u001b[0mWARNING: /home/jngmk/Downloads/datasets/yolov5/dataset/images/train/V006_79_1_07_04_03_13_1_9923t_20201015_551.jpg: ignoring corrupt image/label: non-normalized or out of bounds coordinates [     1.1683]\n",
      "\u001b[34m\u001b[1mtrain: \u001b[0mWARNING: /home/jngmk/Downloads/datasets/yolov5/dataset/images/train/V006_79_1_07_04_03_13_2_3033t_20201008_385.jpg: ignoring corrupt image/label: non-normalized or out of bounds coordinates [      1.167]\n",
      "\u001b[34m\u001b[1mtrain: \u001b[0mWARNING: /home/jngmk/Downloads/datasets/yolov5/dataset/images/train/V006_79_1_07_04_03_13_2_3033t_20201008_386.jpg: ignoring corrupt image/label: non-normalized or out of bounds coordinates [     1.1994]\n",
      "\u001b[34m\u001b[1mtrain: \u001b[0mWARNING: /home/jngmk/Downloads/datasets/yolov5/dataset/images/train/V006_79_1_07_04_03_13_3_8487t_20201102_36.jpg: ignoring corrupt image/label: non-normalized or out of bounds coordinates [     1.3213]\n",
      "\u001b[34m\u001b[1mtrain: \u001b[0mWARNING: /home/jngmk/Downloads/datasets/yolov5/dataset/images/train/V006_79_1_07_04_03_13_3_8487t_20201102_41.jpg: ignoring corrupt image/label: non-normalized or out of bounds coordinates [     1.1477]\n",
      "\u001b[34m\u001b[1mtrain: \u001b[0mWARNING: /home/jngmk/Downloads/datasets/yolov5/dataset/images/train/V006_79_1_07_04_03_13_3_8487t_20201102_45.jpg: ignoring corrupt image/label: non-normalized or out of bounds coordinates [      1.128]\n",
      "\u001b[34m\u001b[1mtrain: \u001b[0mWARNING: /home/jngmk/Downloads/datasets/yolov5/dataset/images/train/V006_79_1_07_04_03_13_3_8487t_20201102_51.jpg: ignoring corrupt image/label: non-normalized or out of bounds coordinates [     1.1347]\n",
      "\u001b[34m\u001b[1mtrain: \u001b[0mWARNING: /home/jngmk/Downloads/datasets/yolov5/dataset/images/train/V006_79_1_07_04_03_13_3_8487t_20201102_57.jpg: ignoring corrupt image/label: non-normalized or out of bounds coordinates [     1.1813]\n",
      "\u001b[34m\u001b[1mtrain: \u001b[0mWARNING: /home/jngmk/Downloads/datasets/yolov5/dataset/images/train/V006_79_1_08_04_03_13_1_1044bb_20201008_9.jpg: ignoring corrupt image/label: non-normalized or out of bounds coordinates [     1.3333]\n",
      "\u001b[34m\u001b[1mtrain: \u001b[0mWARNING: /home/jngmk/Downloads/datasets/yolov5/dataset/images/train/V006_79_1_08_04_03_13_1_5950b_20201008_103.jpg: ignoring corrupt image/label: non-normalized or out of bounds coordinates [     1.3333]\n",
      "\u001b[34m\u001b[1mtrain: \u001b[0mWARNING: /home/jngmk/Downloads/datasets/yolov5/dataset/images/train/V006_79_1_08_04_03_13_1_5950b_20201008_110.jpg: ignoring corrupt image/label: non-normalized or out of bounds coordinates [     1.3294]\n",
      "\u001b[34m\u001b[1mtrain: \u001b[0mWARNING: /home/jngmk/Downloads/datasets/yolov5/dataset/images/train/V006_79_1_08_04_03_13_1_5950b_20201008_66.jpg: ignoring corrupt image/label: non-normalized or out of bounds coordinates [     1.3333]\n",
      "\u001b[34m\u001b[1mtrain: \u001b[0mWARNING: /home/jngmk/Downloads/datasets/yolov5/dataset/images/train/V006_79_1_08_04_03_13_1_5950b_20201008_85.jpg: ignoring corrupt image/label: non-normalized or out of bounds coordinates [     1.2143]\n",
      "\u001b[34m\u001b[1mtrain: \u001b[0mWARNING: /home/jngmk/Downloads/datasets/yolov5/dataset/images/train/V006_79_1_08_04_03_13_1_5950b_20201008_93.jpg: ignoring corrupt image/label: non-normalized or out of bounds coordinates [     1.3069]\n",
      "\u001b[34m\u001b[1mtrain: \u001b[0mWARNING: /home/jngmk/Downloads/datasets/yolov5/dataset/images/train/V006_79_1_08_04_03_13_1_5950b_20201015_560.jpg: ignoring corrupt image/label: non-normalized or out of bounds coordinates [     1.3155]\n",
      "\u001b[34m\u001b[1mtrain: \u001b[0mWARNING: /home/jngmk/Downloads/datasets/yolov5/dataset/images/train/V006_79_1_08_04_03_13_1_5950b_20201111_1723.jpg: ignoring corrupt image/label: non-normalized or out of bounds coordinates [      1.137      1.3333]\n",
      "\u001b[34m\u001b[1mtrain: \u001b[0mWARNING: /home/jngmk/Downloads/datasets/yolov5/dataset/images/train/V006_79_1_08_04_03_13_1_5950b_20201111_1725.jpg: ignoring corrupt image/label: non-normalized or out of bounds coordinates [      1.254]\n",
      "\u001b[34m\u001b[1mtrain: \u001b[0mWARNING: /home/jngmk/Downloads/datasets/yolov5/dataset/images/train/V006_79_1_08_04_03_13_2_1044bb_20201015_528.jpg: ignoring corrupt image/label: non-normalized or out of bounds coordinates [     1.3333]\n",
      "\u001b[34m\u001b[1mtrain: \u001b[0mWARNING: /home/jngmk/Downloads/datasets/yolov5/dataset/images/train/V006_79_1_08_04_03_13_2_1044bb_20201015_530.jpg: ignoring corrupt image/label: non-normalized or out of bounds coordinates [     1.3333]\n",
      "\u001b[34m\u001b[1mtrain: \u001b[0mWARNING: /home/jngmk/Downloads/datasets/yolov5/dataset/images/train/V006_79_1_08_04_03_13_2_1044bb_20201015_534.jpg: ignoring corrupt image/label: non-normalized or out of bounds coordinates [     1.3333]\n",
      "\u001b[34m\u001b[1mtrain: \u001b[0mWARNING: /home/jngmk/Downloads/datasets/yolov5/dataset/images/train/V006_79_1_08_04_03_13_2_3033t_20201111_1862.jpg: ignoring corrupt image/label: non-normalized or out of bounds coordinates [     1.0302      1.2623]\n",
      "\u001b[34m\u001b[1mtrain: \u001b[0mWARNING: /home/jngmk/Downloads/datasets/yolov5/dataset/images/train/V006_79_1_08_04_03_13_2_7652t_20201029_1580.jpg: ignoring corrupt image/label: non-normalized or out of bounds coordinates [      1.039      1.3333]\n",
      "\u001b[34m\u001b[1mtrain: \u001b[0mWARNING: /home/jngmk/Downloads/datasets/yolov5/dataset/images/train/V006_79_1_08_04_03_13_3_8621t_20201022_1226.jpg: ignoring corrupt image/label: non-normalized or out of bounds coordinates [      1.123]\n",
      "\u001b[34m\u001b[1mtrain: \u001b[0mWARNING: /home/jngmk/Downloads/datasets/yolov5/dataset/images/train/V006_79_1_11_06_03_13_1_3221w_20200916_170.jpg: ignoring corrupt image/label: non-normalized or out of bounds coordinates [     1.3256      1.1586]\n",
      "\u001b[34m\u001b[1mtrain: \u001b[0mWARNING: /home/jngmk/Downloads/datasets/yolov5/dataset/images/train/V006_79_1_11_06_03_13_1_3244w_20200917_107.jpg: ignoring corrupt image/label: non-normalized or out of bounds coordinates [     1.0649      1.2035]\n",
      "\u001b[34m\u001b[1mtrain: \u001b[0mWARNING: /home/jngmk/Downloads/datasets/yolov5/dataset/images/train/V006_79_1_11_06_03_13_1_3244w_20200917_108.jpg: ignoring corrupt image/label: non-normalized or out of bounds coordinates [     1.0582      1.2035]\n",
      "\u001b[34m\u001b[1mtrain: \u001b[0mWARNING: /home/jngmk/Downloads/datasets/yolov5/dataset/images/train/V006_79_1_11_06_03_13_1_3244w_20200917_124.jpg: ignoring corrupt image/label: non-normalized or out of bounds coordinates [     1.0003      1.1252]\n",
      "\u001b[34m\u001b[1mtrain: \u001b[0mWARNING: /home/jngmk/Downloads/datasets/yolov5/dataset/images/train/V006_79_1_11_06_03_13_1_3244w_20200917_127.jpg: ignoring corrupt image/label: non-normalized or out of bounds coordinates [     1.1232]\n",
      "\u001b[34m\u001b[1mtrain: \u001b[0mWARNING: /home/jngmk/Downloads/datasets/yolov5/dataset/images/train/V006_79_1_11_06_03_13_1_3244w_20200917_128.jpg: ignoring corrupt image/label: non-normalized or out of bounds coordinates [     1.1031]\n",
      "\u001b[34m\u001b[1mtrain: \u001b[0mWARNING: /home/jngmk/Downloads/datasets/yolov5/dataset/images/train/V006_79_1_11_06_03_13_1_3244w_20200917_129.jpg: ignoring corrupt image/label: non-normalized or out of bounds coordinates [     1.1165]\n",
      "\u001b[34m\u001b[1mtrain: \u001b[0mWARNING: /home/jngmk/Downloads/datasets/yolov5/dataset/images/train/V006_79_1_11_06_03_13_1_3244w_20200917_131.jpg: ignoring corrupt image/label: non-normalized or out of bounds coordinates [     1.0395      1.1673]\n",
      "\u001b[34m\u001b[1mtrain: \u001b[0mWARNING: /home/jngmk/Downloads/datasets/yolov5/dataset/images/train/V006_79_1_11_06_03_13_1_3244w_20200917_132.jpg: ignoring corrupt image/label: non-normalized or out of bounds coordinates [     1.0776      1.1968]\n",
      "\u001b[34m\u001b[1mtrain: \u001b[0mWARNING: /home/jngmk/Downloads/datasets/yolov5/dataset/images/train/V006_79_1_11_06_03_13_1_3244w_20201008_68.jpg: ignoring corrupt image/label: non-normalized or out of bounds coordinates [     1.1205]\n",
      "\u001b[34m\u001b[1mtrain: \u001b[0mWARNING: /home/jngmk/Downloads/datasets/yolov5/dataset/images/train/V006_79_1_11_06_03_13_1_7390w_200916_29.jpg: ignoring corrupt image/label: non-normalized or out of bounds coordinates [     1.2467]\n",
      "\u001b[34m\u001b[1mtrain: \u001b[0mWARNING: /home/jngmk/Downloads/datasets/yolov5/dataset/images/train/V006_79_1_11_06_03_13_2_3221w_20200916_165.jpg: ignoring corrupt image/label: non-normalized or out of bounds coordinates [     1.0305]\n",
      "\u001b[34m\u001b[1mtrain: \u001b[0mWARNING: /home/jngmk/Downloads/datasets/yolov5/dataset/images/train/V006_79_1_11_06_03_13_2_3221w_20200916_166.jpg: ignoring corrupt image/label: non-normalized or out of bounds coordinates [       1.08]\n",
      "\u001b[34m\u001b[1mtrain: \u001b[0mWARNING: /home/jngmk/Downloads/datasets/yolov5/dataset/images/train/V006_79_1_11_06_03_13_2_6550b_20200917_20.jpg: ignoring corrupt image/label: non-normalized or out of bounds coordinates [     1.3046      1.3641]\n",
      "\u001b[34m\u001b[1mtrain: \u001b[0mWARNING: /home/jngmk/Downloads/datasets/yolov5/dataset/images/train/V006_79_1_11_06_03_13_2_6550b_20200917_22.jpg: ignoring corrupt image/label: non-normalized or out of bounds coordinates [      1.251      1.3427]\n",
      "\u001b[34m\u001b[1mtrain: \u001b[0mWARNING: /home/jngmk/Downloads/datasets/yolov5/dataset/images/train/V006_79_1_11_06_03_13_2_6550b_20200917_23.jpg: ignoring corrupt image/label: non-normalized or out of bounds coordinates [     1.2999      1.3574]\n",
      "\u001b[34m\u001b[1mtrain: \u001b[0mWARNING: /home/jngmk/Downloads/datasets/yolov5/dataset/images/train/V006_79_1_11_06_03_13_2_6550b_20200917_33.jpg: ignoring corrupt image/label: non-normalized or out of bounds coordinates [     1.1948      1.3039]\n",
      "\u001b[34m\u001b[1mtrain: \u001b[0mWARNING: /home/jngmk/Downloads/datasets/yolov5/dataset/images/train/V006_79_1_11_06_03_13_3_0502bb_20200917_728.jpg: ignoring corrupt image/label: non-normalized or out of bounds coordinates [     1.1011      1.1205]\n",
      "\u001b[34m\u001b[1mtrain: \u001b[0mWARNING: /home/jngmk/Downloads/datasets/yolov5/dataset/images/train/V006_79_1_11_06_03_13_3_0502bb_20200917_729.jpg: ignoring corrupt image/label: non-normalized or out of bounds coordinates [     1.0756      1.1232]\n",
      "\u001b[34m\u001b[1mtrain: \u001b[0mWARNING: /home/jngmk/Downloads/datasets/yolov5/dataset/images/train/V006_79_1_11_06_03_13_3_0502bb_20200917_750.jpg: ignoring corrupt image/label: non-normalized or out of bounds coordinates [     2.0907      1.7731]\n",
      "\u001b[34m\u001b[1mtrain: \u001b[0mWARNING: /home/jngmk/Downloads/datasets/yolov5/dataset/images/train/V006_79_1_11_06_03_13_3_0502bb_20200917_753.jpg: ignoring corrupt image/label: non-normalized or out of bounds coordinates [     1.1811]\n",
      "\u001b[34m\u001b[1mtrain: \u001b[0mWARNING: /home/jngmk/Downloads/datasets/yolov5/dataset/images/train/V006_79_1_11_06_03_13_3_0502bb_20200917_767.jpg: ignoring corrupt image/label: non-normalized or out of bounds coordinates [     1.0273]\n",
      "\u001b[34m\u001b[1mtrain: \u001b[0mWARNING: /home/jngmk/Downloads/datasets/yolov5/dataset/images/train/V006_79_1_11_06_03_13_3_0502bb_20200928_36.jpg: ignoring corrupt image/label: non-normalized or out of bounds coordinates [     1.0557]\n",
      "\u001b[34m\u001b[1mtrain: \u001b[0mWARNING: /home/jngmk/Downloads/datasets/yolov5/dataset/images/train/V006_79_1_11_06_03_13_3_3221w_20200916_157.jpg: ignoring corrupt image/label: non-normalized or out of bounds coordinates [     1.3056       1.243]\n",
      "\u001b[34m\u001b[1mtrain: \u001b[0mWARNING: /home/jngmk/Downloads/datasets/yolov5/dataset/images/train/V006_79_1_11_06_03_13_3_3221w_20200916_160.jpg: ignoring corrupt image/label: non-normalized or out of bounds coordinates [     1.3092      1.2343]\n",
      "\u001b[34m\u001b[1mtrain: \u001b[0mWARNING: /home/jngmk/Downloads/datasets/yolov5/dataset/images/train/V006_79_1_11_06_03_13_3_3221w_20200916_163.jpg: ignoring corrupt image/label: non-normalized or out of bounds coordinates [     1.2536]\n",
      "\u001b[34m\u001b[1mtrain: \u001b[0mWARNING: /home/jngmk/Downloads/datasets/yolov5/dataset/images/train/V006_79_1_12_06_03_13_1_0502bb_20200928_1.jpg: ignoring corrupt image/label: non-normalized or out of bounds coordinates [     1.0632]\n",
      "\u001b[34m\u001b[1mtrain: \u001b[0mWARNING: /home/jngmk/Downloads/datasets/yolov5/dataset/images/train/V006_79_1_12_06_03_13_1_0502bb_20200928_57.jpg: ignoring corrupt image/label: non-normalized or out of bounds coordinates [     1.2126]\n",
      "\u001b[34m\u001b[1mtrain: \u001b[0mWARNING: /home/jngmk/Downloads/datasets/yolov5/dataset/images/train/V006_79_1_12_06_03_13_2_0502bb_20201115_1.jpg: ignoring corrupt image/label: non-normalized or out of bounds coordinates [     1.2778]\n",
      "\u001b[34m\u001b[1mtrain: \u001b[0mWARNING: /home/jngmk/Downloads/datasets/yolov5/dataset/images/train/V006_79_1_19_10_03_12_1_7419e_20201026_1.jpg: ignoring corrupt image/label: non-normalized or out of bounds coordinates [     1.1171]\n",
      "\u001b[34m\u001b[1mtrain: \u001b[0mWARNING: /home/jngmk/Downloads/datasets/yolov5/dataset/images/train/V006_79_1_19_10_03_12_1_7419e_20201102_1.jpg: ignoring corrupt image/label: non-normalized or out of bounds coordinates [     1.0179]\n",
      "\u001b[34m\u001b[1mtrain: \u001b[0mWARNING: /home/jngmk/Downloads/datasets/yolov5/dataset/images/train/V006_79_1_19_10_03_12_2_7419e_20201021_3.jpg: ignoring corrupt image/label: non-normalized or out of bounds coordinates [      1.041]\n",
      "\u001b[34m\u001b[1mtrain: \u001b[0mWARNING: /home/jngmk/Downloads/datasets/yolov5/dataset/images/train/V006_79_1_20_10_03_12_2_7419e_20201030_1.jpg: ignoring corrupt image/label: non-normalized or out of bounds coordinates [     1.0218]\n",
      "\u001b[34m\u001b[1mtrain: \u001b[0mWARNING: /home/jngmk/Downloads/datasets/yolov5/dataset/images/train/V006_79_1_20_10_03_13_3_7419e_20201026_4.jpg: ignoring corrupt image/label: non-normalized or out of bounds coordinates [     1.0638]\n",
      "\u001b[34m\u001b[1mtrain: \u001b[0mWARNING: /home/jngmk/Downloads/datasets/yolov5/dataset/images/train/V006_79_1_20_10_03_13_3_7419e_20201027_1.jpg: ignoring corrupt image/label: non-normalized or out of bounds coordinates [     1.0493]\n",
      "\u001b[34m\u001b[1mval: \u001b[0mScanning '/home/jngmk/Downloads/datasets/yolov5/dataset/labels/validation.c\u001b[0m\n",
      "\u001b[34m\u001b[1mval: \u001b[0mWARNING: /home/jngmk/Downloads/datasets/yolov5/dataset/images/validation/V006_79_0_00_04_03_13_0_c44_20201020_0095_S02_4.jpg: ignoring corrupt image/label: non-normalized or out of bounds coordinates [     1.0306]\n",
      "\u001b[34m\u001b[1mval: \u001b[0mWARNING: /home/jngmk/Downloads/datasets/yolov5/dataset/images/validation/V006_79_1_04_02_03_12_1_3108e_20201023_2.jpg: ignoring corrupt image/label: non-normalized or out of bounds coordinates [     1.0397]\n",
      "\u001b[34m\u001b[1mval: \u001b[0mWARNING: /home/jngmk/Downloads/datasets/yolov5/dataset/images/validation/V006_79_1_04_02_03_12_2_3055e_20201021_7.jpg: ignoring corrupt image/label: non-normalized or out of bounds coordinates [     1.0013]\n",
      "\u001b[34m\u001b[1mval: \u001b[0mWARNING: /home/jngmk/Downloads/datasets/yolov5/dataset/images/validation/V006_79_1_04_02_03_12_2_9662e_20201026_14.jpg: ignoring corrupt image/label: non-normalized or out of bounds coordinates [     1.0734]\n",
      "\u001b[34m\u001b[1mval: \u001b[0mWARNING: /home/jngmk/Downloads/datasets/yolov5/dataset/images/validation/V006_79_1_07_04_03_13_1_3033t_20201008_412.jpg: ignoring corrupt image/label: non-normalized or out of bounds coordinates [     1.1101]\n",
      "\u001b[34m\u001b[1mval: \u001b[0mWARNING: /home/jngmk/Downloads/datasets/yolov5/dataset/images/validation/V006_79_1_07_04_03_13_1_5950b_20200928_7.jpg: ignoring corrupt image/label: non-normalized or out of bounds coordinates [     1.1845]\n",
      "\u001b[34m\u001b[1mval: \u001b[0mWARNING: /home/jngmk/Downloads/datasets/yolov5/dataset/images/validation/V006_79_1_07_04_03_13_1_7652t_20201111_1495.jpg: ignoring corrupt image/label: non-normalized or out of bounds coordinates [     1.2723]\n",
      "\u001b[34m\u001b[1mval: \u001b[0mWARNING: /home/jngmk/Downloads/datasets/yolov5/dataset/images/validation/V006_79_1_07_04_03_13_1_8487t_20200928_33.jpg: ignoring corrupt image/label: non-normalized or out of bounds coordinates [     1.1088]\n",
      "\u001b[34m\u001b[1mval: \u001b[0mWARNING: /home/jngmk/Downloads/datasets/yolov5/dataset/images/validation/V006_79_1_07_04_03_13_1_8487t_20201102_32.jpg: ignoring corrupt image/label: non-normalized or out of bounds coordinates [     1.1523]\n",
      "\u001b[34m\u001b[1mval: \u001b[0mWARNING: /home/jngmk/Downloads/datasets/yolov5/dataset/images/validation/V006_79_1_07_04_03_13_1_8487t_20201102_44.jpg: ignoring corrupt image/label: non-normalized or out of bounds coordinates [     1.2393]\n",
      "\u001b[34m\u001b[1mval: \u001b[0mWARNING: /home/jngmk/Downloads/datasets/yolov5/dataset/images/validation/V006_79_1_07_04_03_13_1_9923t_20201008_154.jpg: ignoring corrupt image/label: non-normalized or out of bounds coordinates [     1.2917]\n",
      "\u001b[34m\u001b[1mval: \u001b[0mWARNING: /home/jngmk/Downloads/datasets/yolov5/dataset/images/validation/V006_79_1_07_04_03_13_1_9923t_20201008_180.jpg: ignoring corrupt image/label: non-normalized or out of bounds coordinates [     1.2106]\n",
      "\u001b[34m\u001b[1mval: \u001b[0mWARNING: /home/jngmk/Downloads/datasets/yolov5/dataset/images/validation/V006_79_1_07_04_03_13_1_9923t_20201008_183.jpg: ignoring corrupt image/label: non-normalized or out of bounds coordinates [     1.1974]\n",
      "\u001b[34m\u001b[1mval: \u001b[0mWARNING: /home/jngmk/Downloads/datasets/yolov5/dataset/images/validation/V006_79_1_07_04_03_13_1_9923t_20201008_191.jpg: ignoring corrupt image/label: non-normalized or out of bounds coordinates [     1.1528]\n",
      "\u001b[34m\u001b[1mval: \u001b[0mWARNING: /home/jngmk/Downloads/datasets/yolov5/dataset/images/validation/V006_79_1_07_04_03_13_2_3033t_20201008_378.jpg: ignoring corrupt image/label: non-normalized or out of bounds coordinates [     1.2126]\n",
      "\u001b[34m\u001b[1mval: \u001b[0mWARNING: /home/jngmk/Downloads/datasets/yolov5/dataset/images/validation/V006_79_1_08_04_03_13_1_5950b_20201015_566.jpg: ignoring corrupt image/label: non-normalized or out of bounds coordinates [     1.3333]\n",
      "\u001b[34m\u001b[1mval: \u001b[0mWARNING: /home/jngmk/Downloads/datasets/yolov5/dataset/images/validation/V006_79_1_11_06_03_13_1_3221w_20200916_162.jpg: ignoring corrupt image/label: non-normalized or out of bounds coordinates [     1.3015      1.1613]\n",
      "\u001b[34m\u001b[1mval: \u001b[0mWARNING: /home/jngmk/Downloads/datasets/yolov5/dataset/images/validation/V006_79_1_11_06_03_13_1_3244w_20200917_110.jpg: ignoring corrupt image/label: non-normalized or out of bounds coordinates [     1.0395      1.1807]\n",
      "\u001b[34m\u001b[1mval: \u001b[0mWARNING: /home/jngmk/Downloads/datasets/yolov5/dataset/images/validation/V006_79_1_11_06_03_13_2_3244w_20201008_74.jpg: ignoring corrupt image/label: non-normalized or out of bounds coordinates [      1.119]\n",
      "\u001b[34m\u001b[1mval: \u001b[0mWARNING: /home/jngmk/Downloads/datasets/yolov5/dataset/images/validation/V006_79_1_12_06_03_13_2_0502bb_20201115_33.jpg: ignoring corrupt image/label: non-normalized or out of bounds coordinates [     1.2715]\n",
      "Plotting labels to runs/train/yolov5s_results_ver4/labels.jpg... \n",
      "\n",
      "\u001b[34m\u001b[1mAutoAnchor: \u001b[0m4.77 anchors/target, 1.000 Best Possible Recall (BPR). Current anchors are a good fit to dataset ✅\n",
      "Image sizes 224 train, 224 val\n",
      "Using 8 dataloader workers\n",
      "Logging results to \u001b[1mruns/train/yolov5s_results_ver4\u001b[0m\n",
      "Starting training for 30 epochs...\n",
      "\n",
      "     Epoch   gpu_mem       box       obj       cls    labels  img_size\n",
      "      0/29     0.96G   0.06952   0.02418   0.03675        18       224: 100%|███\n",
      "               Class     Images     Labels          P          R     mAP@.5 mAP@\n",
      "                 all       1071       1071      0.256      0.637      0.274      0.122\n",
      "\n",
      "     Epoch   gpu_mem       box       obj       cls    labels  img_size\n",
      "      1/29     1.12G   0.04614   0.02165   0.02936        14       224: 100%|███\n",
      "               Class     Images     Labels          P          R     mAP@.5 mAP@\n",
      "                 all       1071       1071      0.442      0.685      0.583      0.329\n",
      "\n",
      "     Epoch   gpu_mem       box       obj       cls    labels  img_size\n",
      "      2/29     1.12G   0.04261   0.02072    0.0236        27       224: 100%|███\n",
      "               Class     Images     Labels          P          R     mAP@.5 mAP@\n",
      "                 all       1071       1071      0.502      0.636      0.568      0.261\n",
      "\n",
      "     Epoch   gpu_mem       box       obj       cls    labels  img_size\n",
      "      3/29     1.12G    0.0385   0.02042   0.02086        27       224: 100%|███\n",
      "               Class     Images     Labels          P          R     mAP@.5 mAP@\n",
      "                 all       1071       1071      0.701      0.658      0.739      0.417\n",
      "\n",
      "     Epoch   gpu_mem       box       obj       cls    labels  img_size\n",
      "      4/29     1.12G   0.03563   0.01995   0.01885        27       224: 100%|███\n",
      "               Class     Images     Labels          P          R     mAP@.5 mAP@\n",
      "                 all       1071       1071       0.66      0.699      0.732      0.458\n",
      "\n",
      "     Epoch   gpu_mem       box       obj       cls    labels  img_size\n",
      "      5/29     1.12G   0.03369    0.0198    0.0171        16       224: 100%|███\n",
      "               Class     Images     Labels          P          R     mAP@.5 mAP@\n",
      "                 all       1071       1071      0.719      0.804      0.812      0.518\n",
      "\n",
      "     Epoch   gpu_mem       box       obj       cls    labels  img_size\n",
      "      6/29     1.12G   0.03288   0.01956   0.01524        18       224: 100%|███\n",
      "               Class     Images     Labels          P          R     mAP@.5 mAP@\n",
      "                 all       1071       1071      0.693      0.718      0.753      0.506\n",
      "\n",
      "     Epoch   gpu_mem       box       obj       cls    labels  img_size\n",
      "      7/29     1.12G   0.03196   0.01936   0.01465        25       224: 100%|███\n",
      "               Class     Images     Labels          P          R     mAP@.5 mAP@\n",
      "                 all       1071       1071      0.676      0.787      0.775      0.536\n",
      "\n",
      "     Epoch   gpu_mem       box       obj       cls    labels  img_size\n",
      "      8/29     1.12G   0.03142   0.01919   0.01379        26       224: 100%|███\n",
      "               Class     Images     Labels          P          R     mAP@.5 mAP@\n",
      "                 all       1071       1071       0.66      0.795      0.771      0.493\n",
      "\n",
      "     Epoch   gpu_mem       box       obj       cls    labels  img_size\n",
      "      9/29     1.12G   0.03108   0.01918   0.01328        17       224: 100%|███\n",
      "               Class     Images     Labels          P          R     mAP@.5 mAP@\n",
      "                 all       1071       1071      0.777      0.848      0.871      0.577\n",
      "\n",
      "     Epoch   gpu_mem       box       obj       cls    labels  img_size\n",
      "     10/29     1.12G    0.0303   0.01897   0.01243        24       224: 100%|███\n",
      "               Class     Images     Labels          P          R     mAP@.5 mAP@\n",
      "                 all       1071       1071      0.765      0.776      0.839      0.573\n",
      "\n",
      "     Epoch   gpu_mem       box       obj       cls    labels  img_size\n",
      "     11/29     1.12G   0.03005   0.01884   0.01217        21       224: 100%|███\n",
      "               Class     Images     Labels          P          R     mAP@.5 mAP@\n",
      "                 all       1071       1071      0.768      0.767      0.833      0.497\n",
      "\n",
      "     Epoch   gpu_mem       box       obj       cls    labels  img_size\n",
      "     12/29     1.12G   0.02974   0.01873   0.01162        27       224: 100%|███\n",
      "               Class     Images     Labels          P          R     mAP@.5 mAP@\n",
      "                 all       1071       1071      0.745      0.785      0.829      0.546\n",
      "\n",
      "     Epoch   gpu_mem       box       obj       cls    labels  img_size\n",
      "     13/29     1.12G   0.02933   0.01857   0.01081        30       224: 100%|███\n",
      "               Class     Images     Labels          P          R     mAP@.5 mAP@\n",
      "                 all       1071       1071      0.779      0.817      0.882      0.565\n",
      "\n",
      "     Epoch   gpu_mem       box       obj       cls    labels  img_size\n",
      "     14/29     1.12G   0.02865   0.01846     0.011        25       224: 100%|███\n",
      "               Class     Images     Labels          P          R     mAP@.5 mAP@\n",
      "                 all       1071       1071      0.764      0.872      0.879      0.587\n",
      "\n",
      "     Epoch   gpu_mem       box       obj       cls    labels  img_size\n",
      "     15/29     1.12G   0.02845   0.01829    0.0103        20       224: 100%|███\n",
      "               Class     Images     Labels          P          R     mAP@.5 mAP@\n",
      "                 all       1071       1071      0.799      0.838      0.878      0.574\n",
      "\n",
      "     Epoch   gpu_mem       box       obj       cls    labels  img_size\n",
      "     16/29     1.12G   0.02825   0.01829  0.009794        22       224: 100%|███\n",
      "               Class     Images     Labels          P          R     mAP@.5 mAP@\n",
      "                 all       1071       1071      0.807      0.824      0.887      0.635\n",
      "\n",
      "     Epoch   gpu_mem       box       obj       cls    labels  img_size\n",
      "     17/29     1.12G   0.02787   0.01809  0.009206        23       224: 100%|███\n",
      "               Class     Images     Labels          P          R     mAP@.5 mAP@\n",
      "                 all       1071       1071      0.814      0.813      0.885       0.65\n",
      "\n",
      "     Epoch   gpu_mem       box       obj       cls    labels  img_size\n",
      "     18/29     1.12G   0.02757   0.01813  0.008901        21       224: 100%|███\n",
      "               Class     Images     Labels          P          R     mAP@.5 mAP@\n",
      "                 all       1071       1071      0.804      0.904      0.918      0.632\n",
      "\n",
      "     Epoch   gpu_mem       box       obj       cls    labels  img_size\n",
      "     19/29     1.12G   0.02705   0.01789  0.008401        22       224: 100%|███\n",
      "               Class     Images     Labels          P          R     mAP@.5 mAP@\n",
      "                 all       1071       1071      0.837      0.858      0.911      0.628\n",
      "\n",
      "     Epoch   gpu_mem       box       obj       cls    labels  img_size\n",
      "     20/29     1.12G   0.02688   0.01785  0.008505        17       224: 100%|███\n",
      "               Class     Images     Labels          P          R     mAP@.5 mAP@\n",
      "                 all       1071       1071      0.863      0.853      0.905      0.596\n",
      "\n",
      "     Epoch   gpu_mem       box       obj       cls    labels  img_size\n",
      "     21/29     1.12G   0.02645   0.01751  0.008096        23       224: 100%|███\n",
      "               Class     Images     Labels          P          R     mAP@.5 mAP@\n",
      "                 all       1071       1071      0.847      0.896      0.929      0.663\n",
      "\n",
      "     Epoch   gpu_mem       box       obj       cls    labels  img_size\n",
      "     22/29     1.12G   0.02611   0.01744  0.007624        22       224: 100%|███\n",
      "               Class     Images     Labels          P          R     mAP@.5 mAP@\n",
      "                 all       1071       1071      0.865      0.882      0.931      0.686\n",
      "\n",
      "     Epoch   gpu_mem       box       obj       cls    labels  img_size\n",
      "     23/29     1.12G   0.02593   0.01746  0.007832        25       224: 100%|███\n",
      "               Class     Images     Labels          P          R     mAP@.5 mAP@\n",
      "                 all       1071       1071      0.834      0.858      0.904      0.636\n",
      "\n",
      "     Epoch   gpu_mem       box       obj       cls    labels  img_size\n",
      "     24/29     1.12G     0.026   0.01749  0.007692        28       224: 100%|███\n",
      "               Class     Images     Labels          P          R     mAP@.5 mAP@\n",
      "                 all       1071       1071      0.843      0.894      0.924      0.651\n",
      "\n",
      "     Epoch   gpu_mem       box       obj       cls    labels  img_size\n",
      "     25/29     1.12G   0.02542    0.0173  0.006957        20       224: 100%|███\n",
      "               Class     Images     Labels          P          R     mAP@.5 mAP@\n",
      "                 all       1071       1071      0.824      0.901      0.919      0.648\n",
      "\n",
      "     Epoch   gpu_mem       box       obj       cls    labels  img_size\n",
      "     26/29     1.12G   0.02507   0.01695  0.006652        19       224: 100%|███\n",
      "               Class     Images     Labels          P          R     mAP@.5 mAP@\n",
      "                 all       1071       1071      0.866       0.88      0.924      0.649\n",
      "\n",
      "     Epoch   gpu_mem       box       obj       cls    labels  img_size\n",
      "     27/29     1.12G   0.02498   0.01687  0.006369        24       224: 100%|███\n",
      "               Class     Images     Labels          P          R     mAP@.5 mAP@\n",
      "                 all       1071       1071      0.846      0.898      0.926      0.632\n",
      "\n",
      "     Epoch   gpu_mem       box       obj       cls    labels  img_size\n",
      "     28/29     1.12G   0.02448   0.01675  0.006033        28       224: 100%|███\n",
      "               Class     Images     Labels          P          R     mAP@.5 mAP@\n",
      "                 all       1071       1071      0.866      0.895      0.934      0.669\n",
      "\n",
      "     Epoch   gpu_mem       box       obj       cls    labels  img_size\n",
      "     29/29     1.12G   0.02461   0.01686  0.005828        23       224: 100%|███\n",
      "               Class     Images     Labels          P          R     mAP@.5 mAP@\n",
      "                 all       1071       1071      0.882      0.876      0.936      0.665\n",
      "\n",
      "30 epochs completed in 3.380 hours.\n",
      "Optimizer stripped from runs/train/yolov5s_results_ver4/weights/last.pt, 14.3MB\n",
      "Optimizer stripped from runs/train/yolov5s_results_ver4/weights/best.pt, 14.3MB\n",
      "\n",
      "Validating runs/train/yolov5s_results_ver4/weights/best.pt...\n",
      "Fusing layers... \n",
      "YOLOv5s summary: 213 layers, 7018216 parameters, 0 gradients, 15.8 GFLOPs\n",
      "               Class     Images     Labels          P          R     mAP@.5 mAP@\n",
      "                 all       1071       1071      0.866      0.882      0.931      0.685\n",
      "                  정상       1071        479      0.885      0.914      0.959      0.683\n",
      "                흰가루병       1071        361      0.858      0.837      0.916      0.717\n",
      "                 노균병       1071        231      0.855      0.895      0.917      0.655\n",
      "/home/jngmk/Downloads/datasets/yolov5/utils/metrics.py:209: UserWarning: Glyph 51221 (\\N{HANGUL SYLLABLE JEONG}) missing from current font.\n",
      "  fig.savefig(Path(save_dir) / 'confusion_matrix.png', dpi=250)\n",
      "/home/jngmk/Downloads/datasets/yolov5/utils/metrics.py:209: UserWarning: Glyph 49345 (\\N{HANGUL SYLLABLE SANG}) missing from current font.\n",
      "  fig.savefig(Path(save_dir) / 'confusion_matrix.png', dpi=250)\n",
      "/home/jngmk/Downloads/datasets/yolov5/utils/metrics.py:209: UserWarning: Glyph 55152 (\\N{HANGUL SYLLABLE HYIN}) missing from current font.\n",
      "  fig.savefig(Path(save_dir) / 'confusion_matrix.png', dpi=250)\n",
      "/home/jngmk/Downloads/datasets/yolov5/utils/metrics.py:209: UserWarning: Glyph 44032 (\\N{HANGUL SYLLABLE GA}) missing from current font.\n",
      "  fig.savefig(Path(save_dir) / 'confusion_matrix.png', dpi=250)\n",
      "/home/jngmk/Downloads/datasets/yolov5/utils/metrics.py:209: UserWarning: Glyph 47336 (\\N{HANGUL SYLLABLE RU}) missing from current font.\n",
      "  fig.savefig(Path(save_dir) / 'confusion_matrix.png', dpi=250)\n",
      "/home/jngmk/Downloads/datasets/yolov5/utils/metrics.py:209: UserWarning: Glyph 48337 (\\N{HANGUL SYLLABLE BYEONG}) missing from current font.\n",
      "  fig.savefig(Path(save_dir) / 'confusion_matrix.png', dpi=250)\n",
      "/home/jngmk/Downloads/datasets/yolov5/utils/metrics.py:209: UserWarning: Glyph 45432 (\\N{HANGUL SYLLABLE NO}) missing from current font.\n",
      "  fig.savefig(Path(save_dir) / 'confusion_matrix.png', dpi=250)\n",
      "/home/jngmk/Downloads/datasets/yolov5/utils/metrics.py:209: UserWarning: Glyph 44512 (\\N{HANGUL SYLLABLE GYUN}) missing from current font.\n",
      "  fig.savefig(Path(save_dir) / 'confusion_matrix.png', dpi=250)\n",
      "\u001b[34m\u001b[1mwandb\u001b[0m: Waiting for W&B process to finish... \u001b[32m(success).\u001b[0m\n",
      "\u001b[34m\u001b[1mwandb\u001b[0m:                                                                                \n",
      "\u001b[34m\u001b[1mwandb\u001b[0m: \n",
      "\u001b[34m\u001b[1mwandb\u001b[0m: Run history:\n",
      "\u001b[34m\u001b[1mwandb\u001b[0m:      metrics/mAP_0.5 ▁▄▄▆▆▇▆▆▆▇▇▇▇▇▇▇▇▇█████████████\n",
      "\u001b[34m\u001b[1mwandb\u001b[0m: metrics/mAP_0.5:0.95 ▁▄▃▅▅▆▆▆▆▇▇▆▆▇▇▇▇█▇▇▇██▇███▇███\n",
      "\u001b[34m\u001b[1mwandb\u001b[0m:    metrics/precision ▁▃▄▆▆▆▆▆▆▇▇▇▆▇▇▇▇▇▇▇███▇█▇█████\n",
      "\u001b[34m\u001b[1mwandb\u001b[0m:       metrics/recall ▁▂▁▂▃▅▃▅▅▇▅▄▅▆▇▆▆▆█▇▇█▇▇██▇██▇▇\n",
      "\u001b[34m\u001b[1mwandb\u001b[0m:       train/box_loss █▄▄▃▃▂▂▂▂▂▂▂▂▂▂▂▂▂▁▁▁▁▁▁▁▁▁▁▁▁\n",
      "\u001b[34m\u001b[1mwandb\u001b[0m:       train/cls_loss █▆▅▄▄▄▃▃▃▃▂▂▂▂▂▂▂▂▂▂▂▂▁▁▁▁▁▁▁▁\n",
      "\u001b[34m\u001b[1mwandb\u001b[0m:       train/obj_loss █▆▅▄▄▄▄▃▃▃▃▃▃▃▃▂▂▂▂▂▂▂▂▂▂▂▁▁▁▁\n",
      "\u001b[34m\u001b[1mwandb\u001b[0m:         val/box_loss █▆▆▅▄▃▃▃▃▃▃▄▃▃▂▃▂▁▂▂▃▂▁▂▂▂▂▂▂▂▁\n",
      "\u001b[34m\u001b[1mwandb\u001b[0m:         val/cls_loss █▅▆▄▄▃▄▅▄▂▂▃▃▂▂▂▂▂▁▂▂▁▁▂▁▂▁▁▁▁▁\n",
      "\u001b[34m\u001b[1mwandb\u001b[0m:         val/obj_loss █▅▆█▃▄▂▃▃▂▂▄▃▃▂▃▂▂▂▂▂▁▁▂▁▁▂▂▁▁▁\n",
      "\u001b[34m\u001b[1mwandb\u001b[0m:                x/lr0 ▃▆███▇▇▇▇▆▆▆▆▅▅▅▅▄▄▄▃▃▃▃▂▂▂▂▁▁\n",
      "\u001b[34m\u001b[1mwandb\u001b[0m:                x/lr1 ▃▆███▇▇▇▇▆▆▆▆▅▅▅▅▄▄▄▃▃▃▃▂▂▂▂▁▁\n",
      "\u001b[34m\u001b[1mwandb\u001b[0m:                x/lr2 █▅▂▂▂▂▂▂▂▂▂▂▂▂▁▁▁▁▁▁▁▁▁▁▁▁▁▁▁▁\n",
      "\u001b[34m\u001b[1mwandb\u001b[0m: \n",
      "\u001b[34m\u001b[1mwandb\u001b[0m: Run summary:\n",
      "\u001b[34m\u001b[1mwandb\u001b[0m:           best/epoch 22\n",
      "\u001b[34m\u001b[1mwandb\u001b[0m:         best/mAP_0.5 0.93062\n",
      "\u001b[34m\u001b[1mwandb\u001b[0m:    best/mAP_0.5:0.95 0.68553\n",
      "\u001b[34m\u001b[1mwandb\u001b[0m:       best/precision 0.8652\n",
      "\u001b[34m\u001b[1mwandb\u001b[0m:          best/recall 0.88247\n",
      "\u001b[34m\u001b[1mwandb\u001b[0m:      metrics/mAP_0.5 0.93069\n",
      "\u001b[34m\u001b[1mwandb\u001b[0m: metrics/mAP_0.5:0.95 0.68527\n",
      "\u001b[34m\u001b[1mwandb\u001b[0m:    metrics/precision 0.86625\n",
      "\u001b[34m\u001b[1mwandb\u001b[0m:       metrics/recall 0.88219\n",
      "\u001b[34m\u001b[1mwandb\u001b[0m:       train/box_loss 0.02461\n",
      "\u001b[34m\u001b[1mwandb\u001b[0m:       train/cls_loss 0.00583\n",
      "\u001b[34m\u001b[1mwandb\u001b[0m:       train/obj_loss 0.01686\n",
      "\u001b[34m\u001b[1mwandb\u001b[0m:         val/box_loss 0.01833\n",
      "\u001b[34m\u001b[1mwandb\u001b[0m:         val/cls_loss 0.00568\n",
      "\u001b[34m\u001b[1mwandb\u001b[0m:         val/obj_loss 0.00675\n",
      "\u001b[34m\u001b[1mwandb\u001b[0m:                x/lr0 0.00076\n",
      "\u001b[34m\u001b[1mwandb\u001b[0m:                x/lr1 0.00076\n",
      "\u001b[34m\u001b[1mwandb\u001b[0m:                x/lr2 0.00076\n",
      "\u001b[34m\u001b[1mwandb\u001b[0m: \n",
      "\u001b[34m\u001b[1mwandb\u001b[0m: Synced \u001b[33myolov5s_results_ver4\u001b[0m: \u001b[34m\u001b[4mhttps://wandb.ai/hyeeein/YOLOv5/runs/15s6i2g4\u001b[0m\n",
      "\u001b[34m\u001b[1mwandb\u001b[0m: Synced 6 W&B file(s), 337 media file(s), 1 artifact file(s) and 0 other file(s)\n",
      "\u001b[34m\u001b[1mwandb\u001b[0m: Find logs at: \u001b[35m\u001b[1m./wandb/run-20220508_022529-15s6i2g4/logs\u001b[0m\n",
      "Results saved to \u001b[1mruns/train/yolov5s_results_ver4\u001b[0m\n"
     ]
    }
   ],
   "source": [
    "!python train.py --img 224 --batch 32 --epochs 30 --data data/data.yaml --device cuda:0 --cfg ./models/yolov5s.yaml --weights yolov5s.pt --name yolov5s_results_ver4"
   ]
  },
  {
   "cell_type": "markdown",
   "metadata": {},
   "source": [
    "#### 모델 테스트 (2)"
   ]
  },
  {
   "cell_type": "code",
   "execution_count": 32,
   "metadata": {},
   "outputs": [
    {
     "name": "stdout",
     "output_type": "stream",
     "text": [
      "\u001b[34m\u001b[1mdetect: \u001b[0mweights=['runs/train/yolov5s_results_ver4/weights/best.pt'], source=/home/jngmk/Downloads/datasets/yolov5/dataset/images/test/V006_79_0_00_04_03_12_0_b10_20201021_0043_S01_1.jpg, data=data/coco128.yaml, imgsz=[224, 224], conf_thres=0.5, iou_thres=0.45, max_det=1000, device=, view_img=False, save_txt=False, save_conf=False, save_crop=False, nosave=False, classes=None, agnostic_nms=False, augment=False, visualize=False, update=False, project=runs/detect, name=exp, exist_ok=False, line_thickness=3, hide_labels=False, hide_conf=False, half=False, dnn=False\n",
      "YOLOv5 🚀 v6.1-170-gbff6e51 torch 1.11.0 CUDA:0 (NVIDIA GeForce GTX 1070 Ti, 8116MiB)\n",
      "\n",
      "Fusing layers... \n",
      "YOLOv5s summary: 213 layers, 7018216 parameters, 0 gradients, 15.8 GFLOPs\n",
      "image 1/1 /home/jngmk/Downloads/datasets/yolov5/dataset/images/test/V006_79_0_00_04_03_12_0_b10_20201021_0043_S01_1.jpg: 128x224 1 정상, Done. (0.009s)\n",
      "Speed: 0.2ms pre-process, 9.0ms inference, 0.9ms NMS per image at shape (1, 3, 224, 224)\n",
      "Results saved to \u001b[1mruns/detect/exp15\u001b[0m\n"
     ]
    }
   ],
   "source": [
    "test_img_path = [os.path.join(test_images_dir, i) for i in test_images]\n",
    "\n",
    "!python detect.py --weights runs/train/yolov5s_results_ver4/weights/best.pt --img 224 --conf 0.5 --source '{test_img_path[53]}'"
   ]
  },
  {
   "cell_type": "markdown",
   "metadata": {},
   "source": [
    "---"
   ]
  },
  {
   "cell_type": "markdown",
   "metadata": {},
   "source": [
    "#### 모델 학습 (3)\n",
    "\n",
    "- 에포크, 배치 사이즈 조정"
   ]
  },
  {
   "cell_type": "code",
   "execution_count": 33,
   "metadata": {},
   "outputs": [
    {
     "name": "stdout",
     "output_type": "stream",
     "text": [
      "[Errno 2] No such file or directory: '/home/jngmk/Downloads/datasets/yolo5/'\n",
      "/home/jngmk/Downloads/datasets/yolov5\n"
     ]
    }
   ],
   "source": [
    "cd /home/jngmk/Downloads/datasets/yolo5/"
   ]
  },
  {
   "cell_type": "code",
   "execution_count": 34,
   "metadata": {},
   "outputs": [
    {
     "data": {
      "text/plain": [
       "'/home/jngmk/Downloads/datasets/yolov5'"
      ]
     },
     "execution_count": 34,
     "metadata": {},
     "output_type": "execute_result"
    }
   ],
   "source": [
    "os.getcwd()"
   ]
  },
  {
   "cell_type": "code",
   "execution_count": 35,
   "metadata": {},
   "outputs": [
    {
     "name": "stdout",
     "output_type": "stream",
     "text": [
      "\u001b[34m\u001b[1mwandb\u001b[0m: Currently logged in as: \u001b[33mhyeeein\u001b[0m. Use \u001b[1m`wandb login --relogin`\u001b[0m to force relogin\n",
      "\u001b[34m\u001b[1mtrain: \u001b[0mweights=yolov5s.pt, cfg=./models/yolov5s.yaml, data=data/data.yaml, hyp=data/hyps/hyp.scratch-low.yaml, epochs=50, batch_size=64, imgsz=224, rect=False, resume=False, nosave=False, noval=False, noautoanchor=False, noplots=False, evolve=None, bucket=, cache=None, image_weights=False, device=cuda:0, multi_scale=False, single_cls=False, optimizer=SGD, sync_bn=False, workers=8, project=runs/train, name=yolov5s_results_ver5, exist_ok=False, quad=False, cos_lr=False, label_smoothing=0.0, patience=100, freeze=[0], save_period=-1, local_rank=-1, entity=None, upload_dataset=False, bbox_interval=-1, artifact_alias=latest\n",
      "\u001b[34m\u001b[1mgithub: \u001b[0m⚠️ YOLOv5 is out of date by 7 commits. Use `git pull` or `git clone https://github.com/ultralytics/yolov5` to update.\n",
      "YOLOv5 🚀 v6.1-170-gbff6e51 torch 1.11.0 CUDA:0 (NVIDIA GeForce GTX 1070 Ti, 8116MiB)\n",
      "\n",
      "\u001b[34m\u001b[1mhyperparameters: \u001b[0mlr0=0.01, lrf=0.01, momentum=0.937, weight_decay=0.0005, warmup_epochs=3.0, warmup_momentum=0.8, warmup_bias_lr=0.1, box=0.05, cls=0.5, cls_pw=1.0, obj=1.0, obj_pw=1.0, iou_t=0.2, anchor_t=4.0, fl_gamma=0.0, hsv_h=0.015, hsv_s=0.7, hsv_v=0.4, degrees=0.0, translate=0.1, scale=0.5, shear=0.0, perspective=0.0, flipud=0.0, fliplr=0.5, mosaic=1.0, mixup=0.0, copy_paste=0.0\n",
      "\u001b[34m\u001b[1mTensorBoard: \u001b[0mStart with 'tensorboard --logdir runs/train', view at http://localhost:6006/\n",
      "\u001b[34m\u001b[1mwandb\u001b[0m: Tracking run with wandb version 0.12.16\n",
      "\u001b[34m\u001b[1mwandb\u001b[0m: Run data is saved locally in \u001b[35m\u001b[1m/home/jngmk/Downloads/datasets/yolov5/wandb/run-20220508_060422-mzkcrj67\u001b[0m\n",
      "\u001b[34m\u001b[1mwandb\u001b[0m: Run \u001b[1m`wandb offline`\u001b[0m to turn off syncing.\n",
      "\u001b[34m\u001b[1mwandb\u001b[0m: Syncing run \u001b[33myolov5s_results_ver5\u001b[0m\n",
      "\u001b[34m\u001b[1mwandb\u001b[0m: ⭐️ View project at \u001b[34m\u001b[4mhttps://wandb.ai/hyeeein/YOLOv5\u001b[0m\n",
      "\u001b[34m\u001b[1mwandb\u001b[0m: 🚀 View run at \u001b[34m\u001b[4mhttps://wandb.ai/hyeeein/YOLOv5/runs/mzkcrj67\u001b[0m\n",
      "YOLOv5 temporarily requires wandb version 0.12.10 or below. Some features may not work as expected.\n",
      "\n",
      "                 from  n    params  module                                  arguments                     \n",
      "  0                -1  1      3520  models.common.Conv                      [3, 32, 6, 2, 2]              \n",
      "  1                -1  1     18560  models.common.Conv                      [32, 64, 3, 2]                \n",
      "  2                -1  1     18816  models.common.C3                        [64, 64, 1]                   \n",
      "  3                -1  1     73984  models.common.Conv                      [64, 128, 3, 2]               \n",
      "  4                -1  2    115712  models.common.C3                        [128, 128, 2]                 \n",
      "  5                -1  1    295424  models.common.Conv                      [128, 256, 3, 2]              \n",
      "  6                -1  3    625152  models.common.C3                        [256, 256, 3]                 \n",
      "  7                -1  1   1180672  models.common.Conv                      [256, 512, 3, 2]              \n",
      "  8                -1  1   1182720  models.common.C3                        [512, 512, 1]                 \n",
      "  9                -1  1    656896  models.common.SPPF                      [512, 512, 5]                 \n",
      " 10                -1  1    131584  models.common.Conv                      [512, 256, 1, 1]              \n",
      " 11                -1  1         0  torch.nn.modules.upsampling.Upsample    [None, 2, 'nearest']          \n",
      " 12           [-1, 6]  1         0  models.common.Concat                    [1]                           \n",
      " 13                -1  1    361984  models.common.C3                        [512, 256, 1, False]          \n",
      " 14                -1  1     33024  models.common.Conv                      [256, 128, 1, 1]              \n",
      " 15                -1  1         0  torch.nn.modules.upsampling.Upsample    [None, 2, 'nearest']          \n",
      " 16           [-1, 4]  1         0  models.common.Concat                    [1]                           \n",
      " 17                -1  1     90880  models.common.C3                        [256, 128, 1, False]          \n",
      " 18                -1  1    147712  models.common.Conv                      [128, 128, 3, 2]              \n",
      " 19          [-1, 14]  1         0  models.common.Concat                    [1]                           \n",
      " 20                -1  1    296448  models.common.C3                        [256, 256, 1, False]          \n",
      " 21                -1  1    590336  models.common.Conv                      [256, 256, 3, 2]              \n",
      " 22          [-1, 10]  1         0  models.common.Concat                    [1]                           \n",
      " 23                -1  1   1182720  models.common.C3                        [512, 512, 1, False]          \n",
      " 24      [17, 20, 23]  1     21576  models.yolo.Detect                      [3, [[10, 13, 16, 30, 33, 23], [30, 61, 62, 45, 59, 119], [116, 90, 156, 198, 373, 326]], [128, 256, 512]]\n",
      "YOLOv5s summary: 270 layers, 7027720 parameters, 7027720 gradients, 15.9 GFLOPs\n",
      "\n",
      "Transferred 342/349 items from yolov5s.pt\n",
      "Scaled weight_decay = 0.0005\n",
      "\u001b[34m\u001b[1moptimizer:\u001b[0m SGD with parameter groups 57 weight (no decay), 60 weight, 60 bias\n",
      "\u001b[34m\u001b[1mtrain: \u001b[0mScanning '/home/jngmk/Downloads/datasets/yolov5/dataset/labels/train.cach\u001b[0m\n",
      "\u001b[34m\u001b[1mtrain: \u001b[0mWARNING: /home/jngmk/Downloads/datasets/yolov5/dataset/images/train/V006_79_0_00_01_03_11_0_b02_20201021_0017_S01_1.jpg: ignoring corrupt image/label: non-normalized or out of bounds coordinates [     1.0215]\n",
      "\u001b[34m\u001b[1mtrain: \u001b[0mWARNING: /home/jngmk/Downloads/datasets/yolov5/dataset/images/train/V006_79_0_00_01_03_11_0_b02_20201021_0027_S01_1.jpg: ignoring corrupt image/label: non-normalized or out of bounds coordinates [     1.0317]\n",
      "\u001b[34m\u001b[1mtrain: \u001b[0mWARNING: /home/jngmk/Downloads/datasets/yolov5/dataset/images/train/V006_79_0_00_01_03_11_0_c16_20201209_0012_S01_1.jpg: ignoring corrupt image/label: non-normalized or out of bounds coordinates [     1.0472]\n",
      "\u001b[34m\u001b[1mtrain: \u001b[0mWARNING: /home/jngmk/Downloads/datasets/yolov5/dataset/images/train/V006_79_0_00_01_03_12_0_b03_20201104_0033_S01_1.jpg: ignoring corrupt image/label: non-normalized or out of bounds coordinates [     1.1864]\n",
      "\u001b[34m\u001b[1mtrain: \u001b[0mWARNING: /home/jngmk/Downloads/datasets/yolov5/dataset/images/train/V006_79_0_00_01_03_12_0_b04_20201021_0002_S01_1.jpg: ignoring corrupt image/label: non-normalized or out of bounds coordinates [     1.0527]\n",
      "\u001b[34m\u001b[1mtrain: \u001b[0mWARNING: /home/jngmk/Downloads/datasets/yolov5/dataset/images/train/V006_79_0_00_01_03_12_0_b04_20201021_0010_S01_1.jpg: ignoring corrupt image/label: non-normalized or out of bounds coordinates [     1.0171]\n",
      "\u001b[34m\u001b[1mtrain: \u001b[0mWARNING: /home/jngmk/Downloads/datasets/yolov5/dataset/images/train/V006_79_0_00_01_03_12_0_c29_20201110_0036_S01_1.jpg: ignoring corrupt image/label: non-normalized or out of bounds coordinates [     1.1878]\n",
      "\u001b[34m\u001b[1mtrain: \u001b[0mWARNING: /home/jngmk/Downloads/datasets/yolov5/dataset/images/train/V006_79_0_00_01_03_13_0_b05_20201208_0002_S01_2.jpg: ignoring corrupt image/label: non-normalized or out of bounds coordinates [     1.1582]\n",
      "\u001b[34m\u001b[1mtrain: \u001b[0mWARNING: /home/jngmk/Downloads/datasets/yolov5/dataset/images/train/V006_79_0_00_01_03_13_0_b05_20201208_0005_S01_2.jpg: ignoring corrupt image/label: non-normalized or out of bounds coordinates [     1.2287]\n",
      "\u001b[34m\u001b[1mtrain: \u001b[0mWARNING: /home/jngmk/Downloads/datasets/yolov5/dataset/images/train/V006_79_0_00_01_03_13_0_b05_20201208_0106_S01_1.jpg: ignoring corrupt image/label: non-normalized or out of bounds coordinates [     1.1222]\n",
      "\u001b[34m\u001b[1mtrain: \u001b[0mWARNING: /home/jngmk/Downloads/datasets/yolov5/dataset/images/train/V006_79_0_00_01_03_13_0_b05_20201208_0172_S01_1.jpg: ignoring corrupt image/label: non-normalized or out of bounds coordinates [     1.2093]\n",
      "\u001b[34m\u001b[1mtrain: \u001b[0mWARNING: /home/jngmk/Downloads/datasets/yolov5/dataset/images/train/V006_79_0_00_02_03_12_0_c02_20201014_0005_S01_1.jpg: ignoring corrupt image/label: non-normalized or out of bounds coordinates [      1.088]\n",
      "\u001b[34m\u001b[1mtrain: \u001b[0mWARNING: /home/jngmk/Downloads/datasets/yolov5/dataset/images/train/V006_79_0_00_04_03_12_0_c38_20201019_0000_S02_3.jpg: ignoring corrupt image/label: non-normalized or out of bounds coordinates [     1.0286      1.1817]\n",
      "\u001b[34m\u001b[1mtrain: \u001b[0mWARNING: /home/jngmk/Downloads/datasets/yolov5/dataset/images/train/V006_79_0_00_04_03_12_0_c40_20201019_0001_S02_3.jpg: ignoring corrupt image/label: non-normalized or out of bounds coordinates [     1.0185]\n",
      "\u001b[34m\u001b[1mtrain: \u001b[0mWARNING: /home/jngmk/Downloads/datasets/yolov5/dataset/images/train/V006_79_0_00_04_03_13_0_a01_20201020_0019_S02_4.jpg: ignoring corrupt image/label: non-normalized or out of bounds coordinates [     1.0657      1.1241]\n",
      "\u001b[34m\u001b[1mtrain: \u001b[0mWARNING: /home/jngmk/Downloads/datasets/yolov5/dataset/images/train/V006_79_0_00_04_03_13_0_b01_20201020_0006_S02_3.jpg: ignoring corrupt image/label: non-normalized or out of bounds coordinates [     1.0344]\n",
      "\u001b[34m\u001b[1mtrain: \u001b[0mWARNING: /home/jngmk/Downloads/datasets/yolov5/dataset/images/train/V006_79_0_00_04_03_13_0_c24_20201020_0258_S02_4.jpg: ignoring corrupt image/label: non-normalized or out of bounds coordinates [     1.0198]\n",
      "\u001b[34m\u001b[1mtrain: \u001b[0mWARNING: /home/jngmk/Downloads/datasets/yolov5/dataset/images/train/V006_79_0_00_04_03_13_0_c44_20201019_0023_S02_4.jpg: ignoring corrupt image/label: non-normalized or out of bounds coordinates [     1.0231]\n",
      "\u001b[34m\u001b[1mtrain: \u001b[0mWARNING: /home/jngmk/Downloads/datasets/yolov5/dataset/images/train/V006_79_0_00_04_03_13_0_c44_20201019_0027_S02_4.jpg: ignoring corrupt image/label: non-normalized or out of bounds coordinates [      1.092]\n",
      "\u001b[34m\u001b[1mtrain: \u001b[0mWARNING: /home/jngmk/Downloads/datasets/yolov5/dataset/images/train/V006_79_0_00_04_03_13_0_c44_20201019_0034_S02_4.jpg: ignoring corrupt image/label: non-normalized or out of bounds coordinates [      1.044]\n",
      "\u001b[34m\u001b[1mtrain: \u001b[0mWARNING: /home/jngmk/Downloads/datasets/yolov5/dataset/images/train/V006_79_0_00_04_03_13_0_c44_20201020_0045_S02_4.jpg: ignoring corrupt image/label: non-normalized or out of bounds coordinates [     1.0501]\n",
      "\u001b[34m\u001b[1mtrain: \u001b[0mWARNING: /home/jngmk/Downloads/datasets/yolov5/dataset/images/train/V006_79_0_00_06_03_12_0_c15_20201104_0000_S01_1.jpg: ignoring corrupt image/label: non-normalized or out of bounds coordinates [     1.0651]\n",
      "\u001b[34m\u001b[1mtrain: \u001b[0mWARNING: /home/jngmk/Downloads/datasets/yolov5/dataset/images/train/V006_79_1_02_01_03_13_3_3068z_20201123_3.jpg: ignoring corrupt image/label: non-normalized or out of bounds coordinates [     1.0717]\n",
      "\u001b[34m\u001b[1mtrain: \u001b[0mWARNING: /home/jngmk/Downloads/datasets/yolov5/dataset/images/train/V006_79_1_04_02_03_12_1_3108e_20201030_5.jpg: ignoring corrupt image/label: non-normalized or out of bounds coordinates [     1.0169]\n",
      "\u001b[34m\u001b[1mtrain: \u001b[0mWARNING: /home/jngmk/Downloads/datasets/yolov5/dataset/images/train/V006_79_1_04_02_03_12_1_5389e_20201106_19.jpg: ignoring corrupt image/label: non-normalized or out of bounds coordinates [     1.0281]\n",
      "\u001b[34m\u001b[1mtrain: \u001b[0mWARNING: /home/jngmk/Downloads/datasets/yolov5/dataset/images/train/V006_79_1_04_02_03_12_2_9662e_20201104_2.jpg: ignoring corrupt image/label: non-normalized or out of bounds coordinates [      1.097]\n",
      "\u001b[34m\u001b[1mtrain: \u001b[0mWARNING: /home/jngmk/Downloads/datasets/yolov5/dataset/images/train/V006_79_1_04_02_03_12_2_9662e_20201104_3.jpg: ignoring corrupt image/label: non-normalized or out of bounds coordinates [     1.0177]\n",
      "\u001b[34m\u001b[1mtrain: \u001b[0mWARNING: /home/jngmk/Downloads/datasets/yolov5/dataset/images/train/V006_79_1_07_04_03_12_1_5950b_20200928_14.jpg: ignoring corrupt image/label: non-normalized or out of bounds coordinates [     1.0994]\n",
      "\u001b[34m\u001b[1mtrain: \u001b[0mWARNING: /home/jngmk/Downloads/datasets/yolov5/dataset/images/train/V006_79_1_07_04_03_12_2_5950b_20201029_1.jpg: ignoring corrupt image/label: non-normalized or out of bounds coordinates [     1.1581]\n",
      "\u001b[34m\u001b[1mtrain: \u001b[0mWARNING: /home/jngmk/Downloads/datasets/yolov5/dataset/images/train/V006_79_1_07_04_03_13_1_3033t_20201008_376.jpg: ignoring corrupt image/label: non-normalized or out of bounds coordinates [      1.211]\n",
      "\u001b[34m\u001b[1mtrain: \u001b[0mWARNING: /home/jngmk/Downloads/datasets/yolov5/dataset/images/train/V006_79_1_07_04_03_13_1_3033t_20201015_775.jpg: ignoring corrupt image/label: non-normalized or out of bounds coordinates [     1.1713]\n",
      "\u001b[34m\u001b[1mtrain: \u001b[0mWARNING: /home/jngmk/Downloads/datasets/yolov5/dataset/images/train/V006_79_1_07_04_03_13_1_5950b_20200928_10.jpg: ignoring corrupt image/label: non-normalized or out of bounds coordinates [     1.2275]\n",
      "\u001b[34m\u001b[1mtrain: \u001b[0mWARNING: /home/jngmk/Downloads/datasets/yolov5/dataset/images/train/V006_79_1_07_04_03_13_1_7652t_20201029_1272.jpg: ignoring corrupt image/label: non-normalized or out of bounds coordinates [     1.1487]\n",
      "\u001b[34m\u001b[1mtrain: \u001b[0mWARNING: /home/jngmk/Downloads/datasets/yolov5/dataset/images/train/V006_79_1_07_04_03_13_1_7652t_20201029_1274.jpg: ignoring corrupt image/label: non-normalized or out of bounds coordinates [     1.1753]\n",
      "\u001b[34m\u001b[1mtrain: \u001b[0mWARNING: /home/jngmk/Downloads/datasets/yolov5/dataset/images/train/V006_79_1_07_04_03_13_1_7652t_20201029_1275.jpg: ignoring corrupt image/label: non-normalized or out of bounds coordinates [     1.1377]\n",
      "\u001b[34m\u001b[1mtrain: \u001b[0mWARNING: /home/jngmk/Downloads/datasets/yolov5/dataset/images/train/V006_79_1_07_04_03_13_1_7652t_20201029_1276.jpg: ignoring corrupt image/label: non-normalized or out of bounds coordinates [     1.2133]\n",
      "\u001b[34m\u001b[1mtrain: \u001b[0mWARNING: /home/jngmk/Downloads/datasets/yolov5/dataset/images/train/V006_79_1_07_04_03_13_1_7652t_20201029_1278.jpg: ignoring corrupt image/label: non-normalized or out of bounds coordinates [     1.1333]\n",
      "\u001b[34m\u001b[1mtrain: \u001b[0mWARNING: /home/jngmk/Downloads/datasets/yolov5/dataset/images/train/V006_79_1_07_04_03_13_1_8487t_20200928_36.jpg: ignoring corrupt image/label: non-normalized or out of bounds coordinates [     1.2655]\n",
      "\u001b[34m\u001b[1mtrain: \u001b[0mWARNING: /home/jngmk/Downloads/datasets/yolov5/dataset/images/train/V006_79_1_07_04_03_13_1_8487t_20200928_37.jpg: ignoring corrupt image/label: non-normalized or out of bounds coordinates [     1.1746]\n",
      "\u001b[34m\u001b[1mtrain: \u001b[0mWARNING: /home/jngmk/Downloads/datasets/yolov5/dataset/images/train/V006_79_1_07_04_03_13_1_8487t_20200928_38.jpg: ignoring corrupt image/label: non-normalized or out of bounds coordinates [     1.1399]\n",
      "\u001b[34m\u001b[1mtrain: \u001b[0mWARNING: /home/jngmk/Downloads/datasets/yolov5/dataset/images/train/V006_79_1_07_04_03_13_1_8487t_20201008_244.jpg: ignoring corrupt image/label: non-normalized or out of bounds coordinates [     1.2345]\n",
      "\u001b[34m\u001b[1mtrain: \u001b[0mWARNING: /home/jngmk/Downloads/datasets/yolov5/dataset/images/train/V006_79_1_07_04_03_13_1_8487t_20201008_245.jpg: ignoring corrupt image/label: non-normalized or out of bounds coordinates [     1.2235]\n",
      "\u001b[34m\u001b[1mtrain: \u001b[0mWARNING: /home/jngmk/Downloads/datasets/yolov5/dataset/images/train/V006_79_1_07_04_03_13_1_8487t_20201008_254.jpg: ignoring corrupt image/label: non-normalized or out of bounds coordinates [     1.2609]\n",
      "\u001b[34m\u001b[1mtrain: \u001b[0mWARNING: /home/jngmk/Downloads/datasets/yolov5/dataset/images/train/V006_79_1_07_04_03_13_1_8487t_20201008_280.jpg: ignoring corrupt image/label: non-normalized or out of bounds coordinates [     1.1723]\n",
      "\u001b[34m\u001b[1mtrain: \u001b[0mWARNING: /home/jngmk/Downloads/datasets/yolov5/dataset/images/train/V006_79_1_07_04_03_13_1_8487t_20201008_282.jpg: ignoring corrupt image/label: non-normalized or out of bounds coordinates [     1.2655]\n",
      "\u001b[34m\u001b[1mtrain: \u001b[0mWARNING: /home/jngmk/Downloads/datasets/yolov5/dataset/images/train/V006_79_1_07_04_03_13_1_8487t_20201028_8.jpg: ignoring corrupt image/label: non-normalized or out of bounds coordinates [     1.2233]\n",
      "\u001b[34m\u001b[1mtrain: \u001b[0mWARNING: /home/jngmk/Downloads/datasets/yolov5/dataset/images/train/V006_79_1_07_04_03_13_1_8487t_20201102_33.jpg: ignoring corrupt image/label: non-normalized or out of bounds coordinates [     1.2343]\n",
      "\u001b[34m\u001b[1mtrain: \u001b[0mWARNING: /home/jngmk/Downloads/datasets/yolov5/dataset/images/train/V006_79_1_07_04_03_13_1_8487t_20201102_47.jpg: ignoring corrupt image/label: non-normalized or out of bounds coordinates [     1.1327]\n",
      "\u001b[34m\u001b[1mtrain: \u001b[0mWARNING: /home/jngmk/Downloads/datasets/yolov5/dataset/images/train/V006_79_1_07_04_03_13_1_8487t_20201102_56.jpg: ignoring corrupt image/label: non-normalized or out of bounds coordinates [      1.215]\n",
      "\u001b[34m\u001b[1mtrain: \u001b[0mWARNING: /home/jngmk/Downloads/datasets/yolov5/dataset/images/train/V006_79_1_07_04_03_13_1_8487t_20201102_6.jpg: ignoring corrupt image/label: non-normalized or out of bounds coordinates [     1.0857]\n",
      "\u001b[34m\u001b[1mtrain: \u001b[0mWARNING: /home/jngmk/Downloads/datasets/yolov5/dataset/images/train/V006_79_1_07_04_03_13_1_9923t_20201008_152.jpg: ignoring corrupt image/label: non-normalized or out of bounds coordinates [     1.2652]\n",
      "\u001b[34m\u001b[1mtrain: \u001b[0mWARNING: /home/jngmk/Downloads/datasets/yolov5/dataset/images/train/V006_79_1_07_04_03_13_1_9923t_20201008_156.jpg: ignoring corrupt image/label: non-normalized or out of bounds coordinates [     1.2355]\n",
      "\u001b[34m\u001b[1mtrain: \u001b[0mWARNING: /home/jngmk/Downloads/datasets/yolov5/dataset/images/train/V006_79_1_07_04_03_13_1_9923t_20201008_158.jpg: ignoring corrupt image/label: non-normalized or out of bounds coordinates [      1.123]\n",
      "\u001b[34m\u001b[1mtrain: \u001b[0mWARNING: /home/jngmk/Downloads/datasets/yolov5/dataset/images/train/V006_79_1_07_04_03_13_1_9923t_20201008_164.jpg: ignoring corrupt image/label: non-normalized or out of bounds coordinates [     1.2586]\n",
      "\u001b[34m\u001b[1mtrain: \u001b[0mWARNING: /home/jngmk/Downloads/datasets/yolov5/dataset/images/train/V006_79_1_07_04_03_13_1_9923t_20201008_166.jpg: ignoring corrupt image/label: non-normalized or out of bounds coordinates [     1.1561]\n",
      "\u001b[34m\u001b[1mtrain: \u001b[0mWARNING: /home/jngmk/Downloads/datasets/yolov5/dataset/images/train/V006_79_1_07_04_03_13_1_9923t_20201008_167.jpg: ignoring corrupt image/label: non-normalized or out of bounds coordinates [     1.2751]\n",
      "\u001b[34m\u001b[1mtrain: \u001b[0mWARNING: /home/jngmk/Downloads/datasets/yolov5/dataset/images/train/V006_79_1_07_04_03_13_1_9923t_20201008_168.jpg: ignoring corrupt image/label: non-normalized or out of bounds coordinates [     1.2536]\n",
      "\u001b[34m\u001b[1mtrain: \u001b[0mWARNING: /home/jngmk/Downloads/datasets/yolov5/dataset/images/train/V006_79_1_07_04_03_13_1_9923t_20201008_169.jpg: ignoring corrupt image/label: non-normalized or out of bounds coordinates [     1.2156]\n",
      "\u001b[34m\u001b[1mtrain: \u001b[0mWARNING: /home/jngmk/Downloads/datasets/yolov5/dataset/images/train/V006_79_1_07_04_03_13_1_9923t_20201008_171.jpg: ignoring corrupt image/label: non-normalized or out of bounds coordinates [     1.0304]\n",
      "\u001b[34m\u001b[1mtrain: \u001b[0mWARNING: /home/jngmk/Downloads/datasets/yolov5/dataset/images/train/V006_79_1_07_04_03_13_1_9923t_20201008_178.jpg: ignoring corrupt image/label: non-normalized or out of bounds coordinates [     1.1644]\n",
      "\u001b[34m\u001b[1mtrain: \u001b[0mWARNING: /home/jngmk/Downloads/datasets/yolov5/dataset/images/train/V006_79_1_07_04_03_13_1_9923t_20201008_179.jpg: ignoring corrupt image/label: non-normalized or out of bounds coordinates [     1.1809]\n",
      "\u001b[34m\u001b[1mtrain: \u001b[0mWARNING: /home/jngmk/Downloads/datasets/yolov5/dataset/images/train/V006_79_1_07_04_03_13_1_9923t_20201008_184.jpg: ignoring corrupt image/label: non-normalized or out of bounds coordinates [     1.1958]\n",
      "\u001b[34m\u001b[1mtrain: \u001b[0mWARNING: /home/jngmk/Downloads/datasets/yolov5/dataset/images/train/V006_79_1_07_04_03_13_1_9923t_20201008_186.jpg: ignoring corrupt image/label: non-normalized or out of bounds coordinates [     1.2817]\n",
      "\u001b[34m\u001b[1mtrain: \u001b[0mWARNING: /home/jngmk/Downloads/datasets/yolov5/dataset/images/train/V006_79_1_07_04_03_13_1_9923t_20201008_189.jpg: ignoring corrupt image/label: non-normalized or out of bounds coordinates [     1.0552]\n",
      "\u001b[34m\u001b[1mtrain: \u001b[0mWARNING: /home/jngmk/Downloads/datasets/yolov5/dataset/images/train/V006_79_1_07_04_03_13_1_9923t_20201008_190.jpg: ignoring corrupt image/label: non-normalized or out of bounds coordinates [     1.3132]\n",
      "\u001b[34m\u001b[1mtrain: \u001b[0mWARNING: /home/jngmk/Downloads/datasets/yolov5/dataset/images/train/V006_79_1_07_04_03_13_1_9923t_20201008_193.jpg: ignoring corrupt image/label: non-normalized or out of bounds coordinates [     1.2156]\n",
      "\u001b[34m\u001b[1mtrain: \u001b[0mWARNING: /home/jngmk/Downloads/datasets/yolov5/dataset/images/train/V006_79_1_07_04_03_13_1_9923t_20201008_195.jpg: ignoring corrupt image/label: non-normalized or out of bounds coordinates [     1.1991]\n",
      "\u001b[34m\u001b[1mtrain: \u001b[0mWARNING: /home/jngmk/Downloads/datasets/yolov5/dataset/images/train/V006_79_1_07_04_03_13_1_9923t_20201015_551.jpg: ignoring corrupt image/label: non-normalized or out of bounds coordinates [     1.1683]\n",
      "\u001b[34m\u001b[1mtrain: \u001b[0mWARNING: /home/jngmk/Downloads/datasets/yolov5/dataset/images/train/V006_79_1_07_04_03_13_2_3033t_20201008_385.jpg: ignoring corrupt image/label: non-normalized or out of bounds coordinates [      1.167]\n",
      "\u001b[34m\u001b[1mtrain: \u001b[0mWARNING: /home/jngmk/Downloads/datasets/yolov5/dataset/images/train/V006_79_1_07_04_03_13_2_3033t_20201008_386.jpg: ignoring corrupt image/label: non-normalized or out of bounds coordinates [     1.1994]\n",
      "\u001b[34m\u001b[1mtrain: \u001b[0mWARNING: /home/jngmk/Downloads/datasets/yolov5/dataset/images/train/V006_79_1_07_04_03_13_3_8487t_20201102_36.jpg: ignoring corrupt image/label: non-normalized or out of bounds coordinates [     1.3213]\n",
      "\u001b[34m\u001b[1mtrain: \u001b[0mWARNING: /home/jngmk/Downloads/datasets/yolov5/dataset/images/train/V006_79_1_07_04_03_13_3_8487t_20201102_41.jpg: ignoring corrupt image/label: non-normalized or out of bounds coordinates [     1.1477]\n",
      "\u001b[34m\u001b[1mtrain: \u001b[0mWARNING: /home/jngmk/Downloads/datasets/yolov5/dataset/images/train/V006_79_1_07_04_03_13_3_8487t_20201102_45.jpg: ignoring corrupt image/label: non-normalized or out of bounds coordinates [      1.128]\n",
      "\u001b[34m\u001b[1mtrain: \u001b[0mWARNING: /home/jngmk/Downloads/datasets/yolov5/dataset/images/train/V006_79_1_07_04_03_13_3_8487t_20201102_51.jpg: ignoring corrupt image/label: non-normalized or out of bounds coordinates [     1.1347]\n",
      "\u001b[34m\u001b[1mtrain: \u001b[0mWARNING: /home/jngmk/Downloads/datasets/yolov5/dataset/images/train/V006_79_1_07_04_03_13_3_8487t_20201102_57.jpg: ignoring corrupt image/label: non-normalized or out of bounds coordinates [     1.1813]\n",
      "\u001b[34m\u001b[1mtrain: \u001b[0mWARNING: /home/jngmk/Downloads/datasets/yolov5/dataset/images/train/V006_79_1_08_04_03_13_1_1044bb_20201008_9.jpg: ignoring corrupt image/label: non-normalized or out of bounds coordinates [     1.3333]\n",
      "\u001b[34m\u001b[1mtrain: \u001b[0mWARNING: /home/jngmk/Downloads/datasets/yolov5/dataset/images/train/V006_79_1_08_04_03_13_1_5950b_20201008_103.jpg: ignoring corrupt image/label: non-normalized or out of bounds coordinates [     1.3333]\n",
      "\u001b[34m\u001b[1mtrain: \u001b[0mWARNING: /home/jngmk/Downloads/datasets/yolov5/dataset/images/train/V006_79_1_08_04_03_13_1_5950b_20201008_110.jpg: ignoring corrupt image/label: non-normalized or out of bounds coordinates [     1.3294]\n",
      "\u001b[34m\u001b[1mtrain: \u001b[0mWARNING: /home/jngmk/Downloads/datasets/yolov5/dataset/images/train/V006_79_1_08_04_03_13_1_5950b_20201008_66.jpg: ignoring corrupt image/label: non-normalized or out of bounds coordinates [     1.3333]\n",
      "\u001b[34m\u001b[1mtrain: \u001b[0mWARNING: /home/jngmk/Downloads/datasets/yolov5/dataset/images/train/V006_79_1_08_04_03_13_1_5950b_20201008_85.jpg: ignoring corrupt image/label: non-normalized or out of bounds coordinates [     1.2143]\n",
      "\u001b[34m\u001b[1mtrain: \u001b[0mWARNING: /home/jngmk/Downloads/datasets/yolov5/dataset/images/train/V006_79_1_08_04_03_13_1_5950b_20201008_93.jpg: ignoring corrupt image/label: non-normalized or out of bounds coordinates [     1.3069]\n",
      "\u001b[34m\u001b[1mtrain: \u001b[0mWARNING: /home/jngmk/Downloads/datasets/yolov5/dataset/images/train/V006_79_1_08_04_03_13_1_5950b_20201015_560.jpg: ignoring corrupt image/label: non-normalized or out of bounds coordinates [     1.3155]\n",
      "\u001b[34m\u001b[1mtrain: \u001b[0mWARNING: /home/jngmk/Downloads/datasets/yolov5/dataset/images/train/V006_79_1_08_04_03_13_1_5950b_20201111_1723.jpg: ignoring corrupt image/label: non-normalized or out of bounds coordinates [      1.137      1.3333]\n",
      "\u001b[34m\u001b[1mtrain: \u001b[0mWARNING: /home/jngmk/Downloads/datasets/yolov5/dataset/images/train/V006_79_1_08_04_03_13_1_5950b_20201111_1725.jpg: ignoring corrupt image/label: non-normalized or out of bounds coordinates [      1.254]\n",
      "\u001b[34m\u001b[1mtrain: \u001b[0mWARNING: /home/jngmk/Downloads/datasets/yolov5/dataset/images/train/V006_79_1_08_04_03_13_2_1044bb_20201015_528.jpg: ignoring corrupt image/label: non-normalized or out of bounds coordinates [     1.3333]\n",
      "\u001b[34m\u001b[1mtrain: \u001b[0mWARNING: /home/jngmk/Downloads/datasets/yolov5/dataset/images/train/V006_79_1_08_04_03_13_2_1044bb_20201015_530.jpg: ignoring corrupt image/label: non-normalized or out of bounds coordinates [     1.3333]\n",
      "\u001b[34m\u001b[1mtrain: \u001b[0mWARNING: /home/jngmk/Downloads/datasets/yolov5/dataset/images/train/V006_79_1_08_04_03_13_2_1044bb_20201015_534.jpg: ignoring corrupt image/label: non-normalized or out of bounds coordinates [     1.3333]\n",
      "\u001b[34m\u001b[1mtrain: \u001b[0mWARNING: /home/jngmk/Downloads/datasets/yolov5/dataset/images/train/V006_79_1_08_04_03_13_2_3033t_20201111_1862.jpg: ignoring corrupt image/label: non-normalized or out of bounds coordinates [     1.0302      1.2623]\n",
      "\u001b[34m\u001b[1mtrain: \u001b[0mWARNING: /home/jngmk/Downloads/datasets/yolov5/dataset/images/train/V006_79_1_08_04_03_13_2_7652t_20201029_1580.jpg: ignoring corrupt image/label: non-normalized or out of bounds coordinates [      1.039      1.3333]\n",
      "\u001b[34m\u001b[1mtrain: \u001b[0mWARNING: /home/jngmk/Downloads/datasets/yolov5/dataset/images/train/V006_79_1_08_04_03_13_3_8621t_20201022_1226.jpg: ignoring corrupt image/label: non-normalized or out of bounds coordinates [      1.123]\n",
      "\u001b[34m\u001b[1mtrain: \u001b[0mWARNING: /home/jngmk/Downloads/datasets/yolov5/dataset/images/train/V006_79_1_11_06_03_13_1_3221w_20200916_170.jpg: ignoring corrupt image/label: non-normalized or out of bounds coordinates [     1.3256      1.1586]\n",
      "\u001b[34m\u001b[1mtrain: \u001b[0mWARNING: /home/jngmk/Downloads/datasets/yolov5/dataset/images/train/V006_79_1_11_06_03_13_1_3244w_20200917_107.jpg: ignoring corrupt image/label: non-normalized or out of bounds coordinates [     1.0649      1.2035]\n",
      "\u001b[34m\u001b[1mtrain: \u001b[0mWARNING: /home/jngmk/Downloads/datasets/yolov5/dataset/images/train/V006_79_1_11_06_03_13_1_3244w_20200917_108.jpg: ignoring corrupt image/label: non-normalized or out of bounds coordinates [     1.0582      1.2035]\n",
      "\u001b[34m\u001b[1mtrain: \u001b[0mWARNING: /home/jngmk/Downloads/datasets/yolov5/dataset/images/train/V006_79_1_11_06_03_13_1_3244w_20200917_124.jpg: ignoring corrupt image/label: non-normalized or out of bounds coordinates [     1.0003      1.1252]\n",
      "\u001b[34m\u001b[1mtrain: \u001b[0mWARNING: /home/jngmk/Downloads/datasets/yolov5/dataset/images/train/V006_79_1_11_06_03_13_1_3244w_20200917_127.jpg: ignoring corrupt image/label: non-normalized or out of bounds coordinates [     1.1232]\n",
      "\u001b[34m\u001b[1mtrain: \u001b[0mWARNING: /home/jngmk/Downloads/datasets/yolov5/dataset/images/train/V006_79_1_11_06_03_13_1_3244w_20200917_128.jpg: ignoring corrupt image/label: non-normalized or out of bounds coordinates [     1.1031]\n",
      "\u001b[34m\u001b[1mtrain: \u001b[0mWARNING: /home/jngmk/Downloads/datasets/yolov5/dataset/images/train/V006_79_1_11_06_03_13_1_3244w_20200917_129.jpg: ignoring corrupt image/label: non-normalized or out of bounds coordinates [     1.1165]\n",
      "\u001b[34m\u001b[1mtrain: \u001b[0mWARNING: /home/jngmk/Downloads/datasets/yolov5/dataset/images/train/V006_79_1_11_06_03_13_1_3244w_20200917_131.jpg: ignoring corrupt image/label: non-normalized or out of bounds coordinates [     1.0395      1.1673]\n",
      "\u001b[34m\u001b[1mtrain: \u001b[0mWARNING: /home/jngmk/Downloads/datasets/yolov5/dataset/images/train/V006_79_1_11_06_03_13_1_3244w_20200917_132.jpg: ignoring corrupt image/label: non-normalized or out of bounds coordinates [     1.0776      1.1968]\n",
      "\u001b[34m\u001b[1mtrain: \u001b[0mWARNING: /home/jngmk/Downloads/datasets/yolov5/dataset/images/train/V006_79_1_11_06_03_13_1_3244w_20201008_68.jpg: ignoring corrupt image/label: non-normalized or out of bounds coordinates [     1.1205]\n",
      "\u001b[34m\u001b[1mtrain: \u001b[0mWARNING: /home/jngmk/Downloads/datasets/yolov5/dataset/images/train/V006_79_1_11_06_03_13_1_7390w_200916_29.jpg: ignoring corrupt image/label: non-normalized or out of bounds coordinates [     1.2467]\n",
      "\u001b[34m\u001b[1mtrain: \u001b[0mWARNING: /home/jngmk/Downloads/datasets/yolov5/dataset/images/train/V006_79_1_11_06_03_13_2_3221w_20200916_165.jpg: ignoring corrupt image/label: non-normalized or out of bounds coordinates [     1.0305]\n",
      "\u001b[34m\u001b[1mtrain: \u001b[0mWARNING: /home/jngmk/Downloads/datasets/yolov5/dataset/images/train/V006_79_1_11_06_03_13_2_3221w_20200916_166.jpg: ignoring corrupt image/label: non-normalized or out of bounds coordinates [       1.08]\n",
      "\u001b[34m\u001b[1mtrain: \u001b[0mWARNING: /home/jngmk/Downloads/datasets/yolov5/dataset/images/train/V006_79_1_11_06_03_13_2_6550b_20200917_20.jpg: ignoring corrupt image/label: non-normalized or out of bounds coordinates [     1.3046      1.3641]\n",
      "\u001b[34m\u001b[1mtrain: \u001b[0mWARNING: /home/jngmk/Downloads/datasets/yolov5/dataset/images/train/V006_79_1_11_06_03_13_2_6550b_20200917_22.jpg: ignoring corrupt image/label: non-normalized or out of bounds coordinates [      1.251      1.3427]\n",
      "\u001b[34m\u001b[1mtrain: \u001b[0mWARNING: /home/jngmk/Downloads/datasets/yolov5/dataset/images/train/V006_79_1_11_06_03_13_2_6550b_20200917_23.jpg: ignoring corrupt image/label: non-normalized or out of bounds coordinates [     1.2999      1.3574]\n",
      "\u001b[34m\u001b[1mtrain: \u001b[0mWARNING: /home/jngmk/Downloads/datasets/yolov5/dataset/images/train/V006_79_1_11_06_03_13_2_6550b_20200917_33.jpg: ignoring corrupt image/label: non-normalized or out of bounds coordinates [     1.1948      1.3039]\n",
      "\u001b[34m\u001b[1mtrain: \u001b[0mWARNING: /home/jngmk/Downloads/datasets/yolov5/dataset/images/train/V006_79_1_11_06_03_13_3_0502bb_20200917_728.jpg: ignoring corrupt image/label: non-normalized or out of bounds coordinates [     1.1011      1.1205]\n",
      "\u001b[34m\u001b[1mtrain: \u001b[0mWARNING: /home/jngmk/Downloads/datasets/yolov5/dataset/images/train/V006_79_1_11_06_03_13_3_0502bb_20200917_729.jpg: ignoring corrupt image/label: non-normalized or out of bounds coordinates [     1.0756      1.1232]\n",
      "\u001b[34m\u001b[1mtrain: \u001b[0mWARNING: /home/jngmk/Downloads/datasets/yolov5/dataset/images/train/V006_79_1_11_06_03_13_3_0502bb_20200917_750.jpg: ignoring corrupt image/label: non-normalized or out of bounds coordinates [     2.0907      1.7731]\n",
      "\u001b[34m\u001b[1mtrain: \u001b[0mWARNING: /home/jngmk/Downloads/datasets/yolov5/dataset/images/train/V006_79_1_11_06_03_13_3_0502bb_20200917_753.jpg: ignoring corrupt image/label: non-normalized or out of bounds coordinates [     1.1811]\n",
      "\u001b[34m\u001b[1mtrain: \u001b[0mWARNING: /home/jngmk/Downloads/datasets/yolov5/dataset/images/train/V006_79_1_11_06_03_13_3_0502bb_20200917_767.jpg: ignoring corrupt image/label: non-normalized or out of bounds coordinates [     1.0273]\n",
      "\u001b[34m\u001b[1mtrain: \u001b[0mWARNING: /home/jngmk/Downloads/datasets/yolov5/dataset/images/train/V006_79_1_11_06_03_13_3_0502bb_20200928_36.jpg: ignoring corrupt image/label: non-normalized or out of bounds coordinates [     1.0557]\n",
      "\u001b[34m\u001b[1mtrain: \u001b[0mWARNING: /home/jngmk/Downloads/datasets/yolov5/dataset/images/train/V006_79_1_11_06_03_13_3_3221w_20200916_157.jpg: ignoring corrupt image/label: non-normalized or out of bounds coordinates [     1.3056       1.243]\n",
      "\u001b[34m\u001b[1mtrain: \u001b[0mWARNING: /home/jngmk/Downloads/datasets/yolov5/dataset/images/train/V006_79_1_11_06_03_13_3_3221w_20200916_160.jpg: ignoring corrupt image/label: non-normalized or out of bounds coordinates [     1.3092      1.2343]\n",
      "\u001b[34m\u001b[1mtrain: \u001b[0mWARNING: /home/jngmk/Downloads/datasets/yolov5/dataset/images/train/V006_79_1_11_06_03_13_3_3221w_20200916_163.jpg: ignoring corrupt image/label: non-normalized or out of bounds coordinates [     1.2536]\n",
      "\u001b[34m\u001b[1mtrain: \u001b[0mWARNING: /home/jngmk/Downloads/datasets/yolov5/dataset/images/train/V006_79_1_12_06_03_13_1_0502bb_20200928_1.jpg: ignoring corrupt image/label: non-normalized or out of bounds coordinates [     1.0632]\n",
      "\u001b[34m\u001b[1mtrain: \u001b[0mWARNING: /home/jngmk/Downloads/datasets/yolov5/dataset/images/train/V006_79_1_12_06_03_13_1_0502bb_20200928_57.jpg: ignoring corrupt image/label: non-normalized or out of bounds coordinates [     1.2126]\n",
      "\u001b[34m\u001b[1mtrain: \u001b[0mWARNING: /home/jngmk/Downloads/datasets/yolov5/dataset/images/train/V006_79_1_12_06_03_13_2_0502bb_20201115_1.jpg: ignoring corrupt image/label: non-normalized or out of bounds coordinates [     1.2778]\n",
      "\u001b[34m\u001b[1mtrain: \u001b[0mWARNING: /home/jngmk/Downloads/datasets/yolov5/dataset/images/train/V006_79_1_19_10_03_12_1_7419e_20201026_1.jpg: ignoring corrupt image/label: non-normalized or out of bounds coordinates [     1.1171]\n",
      "\u001b[34m\u001b[1mtrain: \u001b[0mWARNING: /home/jngmk/Downloads/datasets/yolov5/dataset/images/train/V006_79_1_19_10_03_12_1_7419e_20201102_1.jpg: ignoring corrupt image/label: non-normalized or out of bounds coordinates [     1.0179]\n",
      "\u001b[34m\u001b[1mtrain: \u001b[0mWARNING: /home/jngmk/Downloads/datasets/yolov5/dataset/images/train/V006_79_1_19_10_03_12_2_7419e_20201021_3.jpg: ignoring corrupt image/label: non-normalized or out of bounds coordinates [      1.041]\n",
      "\u001b[34m\u001b[1mtrain: \u001b[0mWARNING: /home/jngmk/Downloads/datasets/yolov5/dataset/images/train/V006_79_1_20_10_03_12_2_7419e_20201030_1.jpg: ignoring corrupt image/label: non-normalized or out of bounds coordinates [     1.0218]\n",
      "\u001b[34m\u001b[1mtrain: \u001b[0mWARNING: /home/jngmk/Downloads/datasets/yolov5/dataset/images/train/V006_79_1_20_10_03_13_3_7419e_20201026_4.jpg: ignoring corrupt image/label: non-normalized or out of bounds coordinates [     1.0638]\n",
      "\u001b[34m\u001b[1mtrain: \u001b[0mWARNING: /home/jngmk/Downloads/datasets/yolov5/dataset/images/train/V006_79_1_20_10_03_13_3_7419e_20201027_1.jpg: ignoring corrupt image/label: non-normalized or out of bounds coordinates [     1.0493]\n",
      "\u001b[34m\u001b[1mval: \u001b[0mScanning '/home/jngmk/Downloads/datasets/yolov5/dataset/labels/validation.c\u001b[0m\n",
      "\u001b[34m\u001b[1mval: \u001b[0mWARNING: /home/jngmk/Downloads/datasets/yolov5/dataset/images/validation/V006_79_0_00_04_03_13_0_c44_20201020_0095_S02_4.jpg: ignoring corrupt image/label: non-normalized or out of bounds coordinates [     1.0306]\n",
      "\u001b[34m\u001b[1mval: \u001b[0mWARNING: /home/jngmk/Downloads/datasets/yolov5/dataset/images/validation/V006_79_1_04_02_03_12_1_3108e_20201023_2.jpg: ignoring corrupt image/label: non-normalized or out of bounds coordinates [     1.0397]\n",
      "\u001b[34m\u001b[1mval: \u001b[0mWARNING: /home/jngmk/Downloads/datasets/yolov5/dataset/images/validation/V006_79_1_04_02_03_12_2_3055e_20201021_7.jpg: ignoring corrupt image/label: non-normalized or out of bounds coordinates [     1.0013]\n",
      "\u001b[34m\u001b[1mval: \u001b[0mWARNING: /home/jngmk/Downloads/datasets/yolov5/dataset/images/validation/V006_79_1_04_02_03_12_2_9662e_20201026_14.jpg: ignoring corrupt image/label: non-normalized or out of bounds coordinates [     1.0734]\n",
      "\u001b[34m\u001b[1mval: \u001b[0mWARNING: /home/jngmk/Downloads/datasets/yolov5/dataset/images/validation/V006_79_1_07_04_03_13_1_3033t_20201008_412.jpg: ignoring corrupt image/label: non-normalized or out of bounds coordinates [     1.1101]\n",
      "\u001b[34m\u001b[1mval: \u001b[0mWARNING: /home/jngmk/Downloads/datasets/yolov5/dataset/images/validation/V006_79_1_07_04_03_13_1_5950b_20200928_7.jpg: ignoring corrupt image/label: non-normalized or out of bounds coordinates [     1.1845]\n",
      "\u001b[34m\u001b[1mval: \u001b[0mWARNING: /home/jngmk/Downloads/datasets/yolov5/dataset/images/validation/V006_79_1_07_04_03_13_1_7652t_20201111_1495.jpg: ignoring corrupt image/label: non-normalized or out of bounds coordinates [     1.2723]\n",
      "\u001b[34m\u001b[1mval: \u001b[0mWARNING: /home/jngmk/Downloads/datasets/yolov5/dataset/images/validation/V006_79_1_07_04_03_13_1_8487t_20200928_33.jpg: ignoring corrupt image/label: non-normalized or out of bounds coordinates [     1.1088]\n",
      "\u001b[34m\u001b[1mval: \u001b[0mWARNING: /home/jngmk/Downloads/datasets/yolov5/dataset/images/validation/V006_79_1_07_04_03_13_1_8487t_20201102_32.jpg: ignoring corrupt image/label: non-normalized or out of bounds coordinates [     1.1523]\n",
      "\u001b[34m\u001b[1mval: \u001b[0mWARNING: /home/jngmk/Downloads/datasets/yolov5/dataset/images/validation/V006_79_1_07_04_03_13_1_8487t_20201102_44.jpg: ignoring corrupt image/label: non-normalized or out of bounds coordinates [     1.2393]\n",
      "\u001b[34m\u001b[1mval: \u001b[0mWARNING: /home/jngmk/Downloads/datasets/yolov5/dataset/images/validation/V006_79_1_07_04_03_13_1_9923t_20201008_154.jpg: ignoring corrupt image/label: non-normalized or out of bounds coordinates [     1.2917]\n",
      "\u001b[34m\u001b[1mval: \u001b[0mWARNING: /home/jngmk/Downloads/datasets/yolov5/dataset/images/validation/V006_79_1_07_04_03_13_1_9923t_20201008_180.jpg: ignoring corrupt image/label: non-normalized or out of bounds coordinates [     1.2106]\n",
      "\u001b[34m\u001b[1mval: \u001b[0mWARNING: /home/jngmk/Downloads/datasets/yolov5/dataset/images/validation/V006_79_1_07_04_03_13_1_9923t_20201008_183.jpg: ignoring corrupt image/label: non-normalized or out of bounds coordinates [     1.1974]\n",
      "\u001b[34m\u001b[1mval: \u001b[0mWARNING: /home/jngmk/Downloads/datasets/yolov5/dataset/images/validation/V006_79_1_07_04_03_13_1_9923t_20201008_191.jpg: ignoring corrupt image/label: non-normalized or out of bounds coordinates [     1.1528]\n",
      "\u001b[34m\u001b[1mval: \u001b[0mWARNING: /home/jngmk/Downloads/datasets/yolov5/dataset/images/validation/V006_79_1_07_04_03_13_2_3033t_20201008_378.jpg: ignoring corrupt image/label: non-normalized or out of bounds coordinates [     1.2126]\n",
      "\u001b[34m\u001b[1mval: \u001b[0mWARNING: /home/jngmk/Downloads/datasets/yolov5/dataset/images/validation/V006_79_1_08_04_03_13_1_5950b_20201015_566.jpg: ignoring corrupt image/label: non-normalized or out of bounds coordinates [     1.3333]\n",
      "\u001b[34m\u001b[1mval: \u001b[0mWARNING: /home/jngmk/Downloads/datasets/yolov5/dataset/images/validation/V006_79_1_11_06_03_13_1_3221w_20200916_162.jpg: ignoring corrupt image/label: non-normalized or out of bounds coordinates [     1.3015      1.1613]\n",
      "\u001b[34m\u001b[1mval: \u001b[0mWARNING: /home/jngmk/Downloads/datasets/yolov5/dataset/images/validation/V006_79_1_11_06_03_13_1_3244w_20200917_110.jpg: ignoring corrupt image/label: non-normalized or out of bounds coordinates [     1.0395      1.1807]\n",
      "\u001b[34m\u001b[1mval: \u001b[0mWARNING: /home/jngmk/Downloads/datasets/yolov5/dataset/images/validation/V006_79_1_11_06_03_13_2_3244w_20201008_74.jpg: ignoring corrupt image/label: non-normalized or out of bounds coordinates [      1.119]\n",
      "\u001b[34m\u001b[1mval: \u001b[0mWARNING: /home/jngmk/Downloads/datasets/yolov5/dataset/images/validation/V006_79_1_12_06_03_13_2_0502bb_20201115_33.jpg: ignoring corrupt image/label: non-normalized or out of bounds coordinates [     1.2715]\n",
      "Plotting labels to runs/train/yolov5s_results_ver5/labels.jpg... \n",
      "\n",
      "\u001b[34m\u001b[1mAutoAnchor: \u001b[0m4.77 anchors/target, 1.000 Best Possible Recall (BPR). Current anchors are a good fit to dataset ✅\n",
      "Image sizes 224 train, 224 val\n",
      "Using 8 dataloader workers\n",
      "Logging results to \u001b[1mruns/train/yolov5s_results_ver5\u001b[0m\n",
      "Starting training for 50 epochs...\n",
      "\n",
      "     Epoch   gpu_mem       box       obj       cls    labels  img_size\n",
      "      0/49     1.89G   0.07249   0.02446   0.03679        23       224: 100%|███\n",
      "               Class     Images     Labels          P          R     mAP@.5 mAP@\n",
      "                 all       1071       1071      0.189      0.651      0.262      0.102\n",
      "\n",
      "     Epoch   gpu_mem       box       obj       cls    labels  img_size\n",
      "      1/49     2.21G   0.04719   0.02195   0.02958        23       224: 100%|███\n",
      "               Class     Images     Labels          P          R     mAP@.5 mAP@\n",
      "                 all       1071       1071      0.276      0.661      0.436      0.217\n",
      "\n",
      "     Epoch   gpu_mem       box       obj       cls    labels  img_size\n",
      "      2/49     2.21G   0.04222   0.02065   0.02338        25       224: 100%|███\n",
      "               Class     Images     Labels          P          R     mAP@.5 mAP@\n",
      "                 all       1071       1071      0.375      0.474       0.33      0.146\n",
      "\n",
      "     Epoch   gpu_mem       box       obj       cls    labels  img_size\n",
      "      3/49     2.21G   0.03781   0.02048   0.02034        27       224: 100%|███\n",
      "               Class     Images     Labels          P          R     mAP@.5 mAP@\n",
      "                 all       1071       1071      0.563      0.658      0.619        0.4\n",
      "\n",
      "     Epoch   gpu_mem       box       obj       cls    labels  img_size\n",
      "      4/49     2.21G   0.03562   0.01986   0.01781        25       224: 100%|███\n",
      "               Class     Images     Labels          P          R     mAP@.5 mAP@\n",
      "                 all       1071       1071        0.7      0.694      0.732      0.455\n",
      "\n",
      "     Epoch   gpu_mem       box       obj       cls    labels  img_size\n",
      "      5/49     2.21G   0.03396    0.0198   0.01637        21       224: 100%|███\n",
      "               Class     Images     Labels          P          R     mAP@.5 mAP@\n",
      "                 all       1071       1071      0.631      0.636      0.565      0.368\n",
      "\n",
      "     Epoch   gpu_mem       box       obj       cls    labels  img_size\n",
      "      6/49     2.21G   0.03296   0.01955   0.01471        22       224: 100%|███\n",
      "               Class     Images     Labels          P          R     mAP@.5 mAP@WARNING: NMS time limit 3.940s exceeded\n",
      "               Class     Images     Labels          P          R     mAP@.5 mAP@WARNING: NMS time limit 3.940s exceeded\n",
      "               Class     Images     Labels          P          R     mAP@.5 mAP@\n",
      "                 all       1071       1027      0.729      0.729      0.752      0.493\n",
      "\n",
      "     Epoch   gpu_mem       box       obj       cls    labels  img_size\n",
      "      7/49     2.21G   0.03252   0.01932   0.01417        25       224: 100%|███\n",
      "               Class     Images     Labels          P          R     mAP@.5 mAP@\n",
      "                 all       1071       1071      0.697      0.785      0.793      0.507\n",
      "\n",
      "     Epoch   gpu_mem       box       obj       cls    labels  img_size\n",
      "      8/49     2.21G   0.03185    0.0192   0.01351        22       224: 100%|███\n",
      "               Class     Images     Labels          P          R     mAP@.5 mAP@WARNING: NMS time limit 1.510s exceeded\n",
      "               Class     Images     Labels          P          R     mAP@.5 mAP@\n",
      "                 all       1071       1058      0.593      0.513       0.53      0.325\n",
      "\n",
      "     Epoch   gpu_mem       box       obj       cls    labels  img_size\n",
      "      9/49     2.21G   0.03114   0.01913   0.01305        24       224: 100%|███\n",
      "               Class     Images     Labels          P          R     mAP@.5 mAP@\n",
      "                 all       1071       1071      0.762      0.831      0.853      0.493\n",
      "\n",
      "     Epoch   gpu_mem       box       obj       cls    labels  img_size\n",
      "     10/49     2.21G   0.03082   0.01909   0.01237        26       224: 100%|███\n",
      "               Class     Images     Labels          P          R     mAP@.5 mAP@\n",
      "                 all       1071       1071       0.79      0.782      0.837       0.59\n",
      "\n",
      "     Epoch   gpu_mem       box       obj       cls    labels  img_size\n",
      "     11/49     2.21G   0.03036   0.01887   0.01183        21       224: 100%|███\n",
      "               Class     Images     Labels          P          R     mAP@.5 mAP@WARNING: NMS time limit 3.940s exceeded\n",
      "               Class     Images     Labels          P          R     mAP@.5 mAP@WARNING: NMS time limit 3.940s exceeded\n",
      "               Class     Images     Labels          P          R     mAP@.5 mAP@WARNING: NMS time limit 3.940s exceeded\n",
      "               Class     Images     Labels          P          R     mAP@.5 mAP@WARNING: NMS time limit 3.940s exceeded\n",
      "               Class     Images     Labels          P          R     mAP@.5 mAP@WARNING: NMS time limit 3.940s exceeded\n",
      "               Class     Images     Labels          P          R     mAP@.5 mAP@WARNING: NMS time limit 1.510s exceeded\n",
      "               Class     Images     Labels          P          R     mAP@.5 mAP@\n",
      "                 all       1071        752      0.742      0.806      0.831      0.485\n",
      "\n",
      "     Epoch   gpu_mem       box       obj       cls    labels  img_size\n",
      "     12/49     2.21G   0.02995    0.0186   0.01157        27       224: 100%|███\n",
      "               Class     Images     Labels          P          R     mAP@.5 mAP@\n",
      "                 all       1071       1071      0.671      0.714      0.726      0.501\n",
      "\n",
      "     Epoch   gpu_mem       box       obj       cls    labels  img_size\n",
      "     13/49     2.21G   0.02958    0.0184   0.01227       191       224:  21%|██ \u001b[34m\u001b[1mwandb\u001b[0m: Network error (ReadTimeout), entering retry loop.\n",
      "     13/49     2.21G   0.02967   0.01856   0.01114        21       224: 100%|███\n",
      "               Class     Images     Labels          P          R     mAP@.5 mAP@\n",
      "                 all       1071       1071      0.813      0.815       0.88      0.503\n",
      "\n",
      "     Epoch   gpu_mem       box       obj       cls    labels  img_size\n",
      "     14/49     2.21G   0.02934   0.01855   0.01121        21       224: 100%|███\n",
      "               Class     Images     Labels          P          R     mAP@.5 mAP@\n",
      "                 all       1071       1071      0.716      0.787      0.815      0.558\n",
      "\n",
      "     Epoch   gpu_mem       box       obj       cls    labels  img_size\n",
      "     15/49     2.21G   0.02904   0.01835    0.0104        20       224: 100%|███\n",
      "               Class     Images     Labels          P          R     mAP@.5 mAP@WARNING: NMS time limit 3.940s exceeded\n",
      "               Class     Images     Labels          P          R     mAP@.5 mAP@WARNING: NMS time limit 3.940s exceeded\n",
      "               Class     Images     Labels          P          R     mAP@.5 mAP@WARNING: NMS time limit 1.510s exceeded\n",
      "               Class     Images     Labels          P          R     mAP@.5 mAP@\n",
      "                 all       1071        939      0.773      0.846      0.887      0.557\n",
      "\n",
      "     Epoch   gpu_mem       box       obj       cls    labels  img_size\n",
      "     16/49     2.21G   0.02877   0.01837  0.009716        21       224: 100%|███\n",
      "               Class     Images     Labels          P          R     mAP@.5 mAP@WARNING: NMS time limit 3.940s exceeded\n",
      "               Class     Images     Labels          P          R     mAP@.5 mAP@WARNING: NMS time limit 3.940s exceeded\n",
      "               Class     Images     Labels          P          R     mAP@.5 mAP@WARNING: NMS time limit 3.940s exceeded\n",
      "               Class     Images     Labels          P          R     mAP@.5 mAP@\n",
      "                 all       1071        997      0.693      0.741      0.697      0.473\n",
      "\n",
      "     Epoch   gpu_mem       box       obj       cls    labels  img_size\n",
      "     17/49     2.21G   0.02874   0.01807  0.009796        20       224: 100%|███\n",
      "               Class     Images     Labels          P          R     mAP@.5 mAP@WARNING: NMS time limit 3.940s exceeded\n",
      "               Class     Images     Labels          P          R     mAP@.5 mAP@WARNING: NMS time limit 3.940s exceeded\n",
      "               Class     Images     Labels          P          R     mAP@.5 mAP@WARNING: NMS time limit 3.940s exceeded\n",
      "               Class     Images     Labels          P          R     mAP@.5 mAP@WARNING: NMS time limit 3.940s exceeded\n",
      "               Class     Images     Labels          P          R     mAP@.5 mAP@WARNING: NMS time limit 3.940s exceeded\n",
      "               Class     Images     Labels          P          R     mAP@.5 mAP@WARNING: NMS time limit 3.940s exceeded\n",
      "               Class     Images     Labels          P          R     mAP@.5 mAP@WARNING: NMS time limit 1.510s exceeded\n",
      "               Class     Images     Labels          P          R     mAP@.5 mAP@\n",
      "                 all       1071        662      0.759      0.767      0.831      0.545\n",
      "\n",
      "     Epoch   gpu_mem       box       obj       cls    labels  img_size\n",
      "     18/49     2.21G   0.02829   0.01836  0.009254        23       224: 100%|███\n",
      "               Class     Images     Labels          P          R     mAP@.5 mAP@\n",
      "                 all       1071       1071      0.773       0.86      0.884      0.589\n",
      "\n",
      "     Epoch   gpu_mem       box       obj       cls    labels  img_size\n",
      "     19/49     2.21G   0.02797   0.01797  0.008639        22       224: 100%|███\n",
      "               Class     Images     Labels          P          R     mAP@.5 mAP@\n",
      "                 all       1071       1071      0.848      0.831      0.901      0.608\n",
      "\n",
      "     Epoch   gpu_mem       box       obj       cls    labels  img_size\n",
      "     20/49     2.21G    0.0278   0.01785  0.008722        21       224: 100%|███\n",
      "               Class     Images     Labels          P          R     mAP@.5 mAP@WARNING: NMS time limit 3.940s exceeded\n",
      "               Class     Images     Labels          P          R     mAP@.5 mAP@WARNING: NMS time limit 1.510s exceeded\n",
      "               Class     Images     Labels          P          R     mAP@.5 mAP@\n",
      "                 all       1071        970      0.752      0.877      0.884      0.577\n",
      "\n",
      "     Epoch   gpu_mem       box       obj       cls    labels  img_size\n",
      "     21/49     2.21G   0.02732   0.01775  0.008478        25       224: 100%|███\n",
      "               Class     Images     Labels          P          R     mAP@.5 mAP@WARNING: NMS time limit 3.940s exceeded\n",
      "               Class     Images     Labels          P          R     mAP@.5 mAP@WARNING: NMS time limit 3.940s exceeded\n",
      "               Class     Images     Labels          P          R     mAP@.5 mAP@WARNING: NMS time limit 3.940s exceeded\n",
      "               Class     Images     Labels          P          R     mAP@.5 mAP@WARNING: NMS time limit 3.940s exceeded\n",
      "               Class     Images     Labels          P          R     mAP@.5 mAP@\n",
      "                 all       1071        901      0.831       0.86       0.91      0.659\n",
      "\n",
      "     Epoch   gpu_mem       box       obj       cls    labels  img_size\n",
      "     22/49     2.21G   0.02727   0.01771  0.008554        29       224: 100%|███\n",
      "               Class     Images     Labels          P          R     mAP@.5 mAP@\n",
      "                 all       1071       1071      0.797      0.883      0.891      0.606\n",
      "\n",
      "     Epoch   gpu_mem       box       obj       cls    labels  img_size\n",
      "     23/49     2.21G   0.02705   0.01762   0.00819        25       224: 100%|███\n",
      "               Class     Images     Labels          P          R     mAP@.5 mAP@\n",
      "                 all       1071       1071      0.782      0.824      0.864      0.581\n",
      "\n",
      "     Epoch   gpu_mem       box       obj       cls    labels  img_size\n",
      "     24/49     2.21G   0.02714   0.01753  0.007974        28       224: 100%|███\n",
      "               Class     Images     Labels          P          R     mAP@.5 mAP@\n",
      "                 all       1071       1071      0.786      0.849       0.88      0.612\n",
      "\n",
      "     Epoch   gpu_mem       box       obj       cls    labels  img_size\n",
      "     25/49     2.21G   0.02669   0.01754  0.007797        20       224: 100%|███\n",
      "               Class     Images     Labels          P          R     mAP@.5 mAP@\n",
      "                 all       1071       1071      0.799      0.871      0.896      0.581\n",
      "\n",
      "     Epoch   gpu_mem       box       obj       cls    labels  img_size\n",
      "     26/49     2.21G   0.02632   0.01724  0.007662        25       224: 100%|███\n",
      "               Class     Images     Labels          P          R     mAP@.5 mAP@\n",
      "                 all       1071       1071      0.787      0.874      0.899      0.596\n",
      "\n",
      "     Epoch   gpu_mem       box       obj       cls    labels  img_size\n",
      "     27/49     2.21G   0.02643   0.01721  0.007327        24       224: 100%|███\n",
      "               Class     Images     Labels          P          R     mAP@.5 mAP@\n",
      "                 all       1071       1071      0.804      0.828      0.872      0.567\n",
      "\n",
      "     Epoch   gpu_mem       box       obj       cls    labels  img_size\n",
      "     28/49     2.21G   0.02608   0.01712  0.007326        24       224: 100%|███\n",
      "               Class     Images     Labels          P          R     mAP@.5 mAP@\n",
      "                 all       1071       1071      0.873       0.85      0.924      0.642\n",
      "\n",
      "     Epoch   gpu_mem       box       obj       cls    labels  img_size\n",
      "     29/49     2.21G   0.02611   0.01709  0.006872        21       224: 100%|███\n",
      "               Class     Images     Labels          P          R     mAP@.5 mAP@\n",
      "                 all       1071       1071      0.863      0.884      0.931      0.649\n",
      "\n",
      "     Epoch   gpu_mem       box       obj       cls    labels  img_size\n",
      "     30/49     2.21G   0.02578     0.017  0.006958        26       224: 100%|███\n",
      "               Class     Images     Labels          P          R     mAP@.5 mAP@WARNING: NMS time limit 3.940s exceeded\n",
      "               Class     Images     Labels          P          R     mAP@.5 mAP@WARNING: NMS time limit 3.940s exceeded\n",
      "               Class     Images     Labels          P          R     mAP@.5 mAP@WARNING: NMS time limit 3.940s exceeded\n",
      "               Class     Images     Labels          P          R     mAP@.5 mAP@\n",
      "                 all       1071        958      0.884      0.868      0.933      0.654\n",
      "\n",
      "     Epoch   gpu_mem       box       obj       cls    labels  img_size\n",
      "     31/49     2.21G   0.02547   0.01698  0.006364        24       224: 100%|███\n",
      "               Class     Images     Labels          P          R     mAP@.5 mAP@\n",
      "                 all       1071       1071      0.872      0.859      0.922       0.63\n",
      "\n",
      "     Epoch   gpu_mem       box       obj       cls    labels  img_size\n",
      "     32/49     2.21G   0.02553   0.01685  0.006295        21       224: 100%|███\n",
      "               Class     Images     Labels          P          R     mAP@.5 mAP@\n",
      "                 all       1071       1071      0.888      0.925      0.952       0.71\n",
      "\n",
      "     Epoch   gpu_mem       box       obj       cls    labels  img_size\n",
      "     33/49     2.21G   0.02491   0.01675  0.006344        26       224: 100%|███\n",
      "               Class     Images     Labels          P          R     mAP@.5 mAP@\n",
      "                 all       1071       1071      0.826      0.879      0.901      0.643\n",
      "\n",
      "     Epoch   gpu_mem       box       obj       cls    labels  img_size\n",
      "     34/49     2.21G   0.02477   0.01662  0.006106        26       224: 100%|███\n",
      "               Class     Images     Labels          P          R     mAP@.5 mAP@WARNING: NMS time limit 3.940s exceeded\n",
      "               Class     Images     Labels          P          R     mAP@.5 mAP@WARNING: NMS time limit 3.940s exceeded\n",
      "               Class     Images     Labels          P          R     mAP@.5 mAP@WARNING: NMS time limit 3.940s exceeded\n",
      "               Class     Images     Labels          P          R     mAP@.5 mAP@WARNING: NMS time limit 3.940s exceeded\n",
      "               Class     Images     Labels          P          R     mAP@.5 mAP@WARNING: NMS time limit 3.940s exceeded\n",
      "               Class     Images     Labels          P          R     mAP@.5 mAP@WARNING: NMS time limit 3.940s exceeded\n",
      "               Class     Images     Labels          P          R     mAP@.5 mAP@\n",
      "                 all       1071        669      0.885      0.872      0.938      0.662\n",
      "\n",
      "     Epoch   gpu_mem       box       obj       cls    labels  img_size\n",
      "     35/49     2.21G   0.02467   0.01638  0.006216        23       224: 100%|███\n",
      "               Class     Images     Labels          P          R     mAP@.5 mAP@\n",
      "                 all       1071       1071      0.875      0.872      0.931      0.694\n",
      "\n",
      "     Epoch   gpu_mem       box       obj       cls    labels  img_size\n",
      "     36/49     2.21G   0.02468   0.01664  0.005975        23       224: 100%|███\n",
      "               Class     Images     Labels          P          R     mAP@.5 mAP@\n",
      "                 all       1071       1071      0.868      0.814      0.878      0.612\n",
      "\n",
      "     Epoch   gpu_mem       box       obj       cls    labels  img_size\n",
      "     37/49     2.21G   0.02428   0.01616  0.005853        23       224: 100%|███\n",
      "               Class     Images     Labels          P          R     mAP@.5 mAP@\n",
      "                 all       1071       1071      0.885      0.899      0.935      0.658\n",
      "\n",
      "     Epoch   gpu_mem       box       obj       cls    labels  img_size\n",
      "     38/49     2.21G   0.02405   0.01624  0.005948        24       224: 100%|███\n",
      "               Class     Images     Labels          P          R     mAP@.5 mAP@\n",
      "                 all       1071       1071      0.886       0.88       0.93      0.709\n",
      "\n",
      "     Epoch   gpu_mem       box       obj       cls    labels  img_size\n",
      "     39/49     2.21G    0.0237   0.01611  0.005507        27       224: 100%|███\n",
      "               Class     Images     Labels          P          R     mAP@.5 mAP@\n",
      "                 all       1071       1071      0.869      0.902      0.939      0.684\n",
      "\n",
      "     Epoch   gpu_mem       box       obj       cls    labels  img_size\n",
      "     40/49     2.21G    0.0239   0.01613  0.004952        25       224: 100%|███\n",
      "               Class     Images     Labels          P          R     mAP@.5 mAP@WARNING: NMS time limit 3.940s exceeded\n",
      "               Class     Images     Labels          P          R     mAP@.5 mAP@WARNING: NMS time limit 3.940s exceeded\n",
      "               Class     Images     Labels          P          R     mAP@.5 mAP@WARNING: NMS time limit 3.940s exceeded\n",
      "               Class     Images     Labels          P          R     mAP@.5 mAP@\n",
      "                 all       1071        984      0.908       0.88      0.934        0.7\n",
      "\n",
      "     Epoch   gpu_mem       box       obj       cls    labels  img_size\n",
      "     41/49     2.21G   0.02358   0.01581  0.005394        25       224: 100%|███\n",
      "               Class     Images     Labels          P          R     mAP@.5 mAP@WARNING: NMS time limit 3.940s exceeded\n",
      "               Class     Images     Labels          P          R     mAP@.5 mAP@WARNING: NMS time limit 3.940s exceeded\n",
      "               Class     Images     Labels          P          R     mAP@.5 mAP@WARNING: NMS time limit 3.940s exceeded\n",
      "               Class     Images     Labels          P          R     mAP@.5 mAP@WARNING: NMS time limit 3.940s exceeded\n",
      "               Class     Images     Labels          P          R     mAP@.5 mAP@WARNING: NMS time limit 3.940s exceeded\n",
      "               Class     Images     Labels          P          R     mAP@.5 mAP@WARNING: NMS time limit 1.510s exceeded\n",
      "               Class     Images     Labels          P          R     mAP@.5 mAP@\n",
      "                 all       1071        736      0.839      0.889      0.907      0.646\n",
      "\n",
      "     Epoch   gpu_mem       box       obj       cls    labels  img_size\n",
      "     42/49     2.21G   0.02297   0.01568  0.005138        21       224: 100%|███\n",
      "               Class     Images     Labels          P          R     mAP@.5 mAP@\n",
      "                 all       1071       1071      0.897      0.891       0.94      0.688\n",
      "\n",
      "     Epoch   gpu_mem       box       obj       cls    labels  img_size\n",
      "     43/49     2.21G   0.02306   0.01584  0.004787        27       224: 100%|███\n",
      "               Class     Images     Labels          P          R     mAP@.5 mAP@\n",
      "                 all       1071       1071      0.885      0.872      0.933      0.666\n",
      "\n",
      "     Epoch   gpu_mem       box       obj       cls    labels  img_size\n",
      "     44/49     2.21G   0.02284   0.01564  0.004356        25       224: 100%|███\n",
      "               Class     Images     Labels          P          R     mAP@.5 mAP@\n",
      "                 all       1071       1071      0.872       0.91      0.937      0.699\n",
      "\n",
      "     Epoch   gpu_mem       box       obj       cls    labels  img_size\n",
      "     45/49     2.21G   0.02271   0.01542  0.004462        23       224: 100%|███\n",
      "               Class     Images     Labels          P          R     mAP@.5 mAP@\n",
      "                 all       1071       1071      0.919      0.871      0.945      0.702\n",
      "\n",
      "     Epoch   gpu_mem       box       obj       cls    labels  img_size\n",
      "     46/49     2.21G   0.02252   0.01541  0.004425        19       224: 100%|███\n",
      "               Class     Images     Labels          P          R     mAP@.5 mAP@\n",
      "                 all       1071       1071      0.918      0.892      0.948      0.697\n",
      "\n",
      "     Epoch   gpu_mem       box       obj       cls    labels  img_size\n",
      "     47/49     2.21G   0.02226   0.01544  0.004332        25       224: 100%|███\n",
      "               Class     Images     Labels          P          R     mAP@.5 mAP@WARNING: NMS time limit 3.940s exceeded\n",
      "               Class     Images     Labels          P          R     mAP@.5 mAP@WARNING: NMS time limit 3.940s exceeded\n",
      "               Class     Images     Labels          P          R     mAP@.5 mAP@\n",
      "                 all       1071        960      0.904      0.905      0.942      0.696\n",
      "\n",
      "     Epoch   gpu_mem       box       obj       cls    labels  img_size\n",
      "     48/49     2.21G   0.02232   0.01529  0.004522        26       224: 100%|███\n",
      "               Class     Images     Labels          P          R     mAP@.5 mAP@WARNING: NMS time limit 3.940s exceeded\n",
      "               Class     Images     Labels          P          R     mAP@.5 mAP@\n",
      "                 all       1071        998      0.922      0.889      0.946      0.718\n",
      "\n",
      "     Epoch   gpu_mem       box       obj       cls    labels  img_size\n",
      "     49/49     2.21G    0.0222    0.0155  0.004403        23       224: 100%|███\n",
      "               Class     Images     Labels          P          R     mAP@.5 mAP@WARNING: NMS time limit 3.940s exceeded\n",
      "               Class     Images     Labels          P          R     mAP@.5 mAP@WARNING: NMS time limit 3.940s exceeded\n",
      "               Class     Images     Labels          P          R     mAP@.5 mAP@\n",
      "                 all       1071        970       0.91      0.887      0.942        0.7\n",
      "\n",
      "50 epochs completed in 7.770 hours.\n",
      "Optimizer stripped from runs/train/yolov5s_results_ver5/weights/last.pt, 14.3MB\n",
      "Optimizer stripped from runs/train/yolov5s_results_ver5/weights/best.pt, 14.3MB\n",
      "\n",
      "Validating runs/train/yolov5s_results_ver5/weights/best.pt...\n",
      "Fusing layers... \n",
      "YOLOv5s summary: 213 layers, 7018216 parameters, 0 gradients, 15.8 GFLOPs\n",
      "               Class     Images     Labels          P          R     mAP@.5 mAP@\n",
      "                 all       1071       1071      0.923      0.889      0.948      0.716\n",
      "                  정상       1071        479      0.915      0.899      0.951      0.722\n",
      "                흰가루병       1071        361       0.92      0.889      0.947      0.728\n",
      "                 노균병       1071        231      0.935      0.879      0.945      0.697\n",
      "/home/jngmk/Downloads/datasets/yolov5/utils/metrics.py:209: UserWarning: Glyph 51221 (\\N{HANGUL SYLLABLE JEONG}) missing from current font.\n",
      "  fig.savefig(Path(save_dir) / 'confusion_matrix.png', dpi=250)\n",
      "/home/jngmk/Downloads/datasets/yolov5/utils/metrics.py:209: UserWarning: Glyph 49345 (\\N{HANGUL SYLLABLE SANG}) missing from current font.\n",
      "  fig.savefig(Path(save_dir) / 'confusion_matrix.png', dpi=250)\n",
      "/home/jngmk/Downloads/datasets/yolov5/utils/metrics.py:209: UserWarning: Glyph 55152 (\\N{HANGUL SYLLABLE HYIN}) missing from current font.\n",
      "  fig.savefig(Path(save_dir) / 'confusion_matrix.png', dpi=250)\n",
      "/home/jngmk/Downloads/datasets/yolov5/utils/metrics.py:209: UserWarning: Glyph 44032 (\\N{HANGUL SYLLABLE GA}) missing from current font.\n",
      "  fig.savefig(Path(save_dir) / 'confusion_matrix.png', dpi=250)\n",
      "/home/jngmk/Downloads/datasets/yolov5/utils/metrics.py:209: UserWarning: Glyph 47336 (\\N{HANGUL SYLLABLE RU}) missing from current font.\n",
      "  fig.savefig(Path(save_dir) / 'confusion_matrix.png', dpi=250)\n",
      "/home/jngmk/Downloads/datasets/yolov5/utils/metrics.py:209: UserWarning: Glyph 48337 (\\N{HANGUL SYLLABLE BYEONG}) missing from current font.\n",
      "  fig.savefig(Path(save_dir) / 'confusion_matrix.png', dpi=250)\n",
      "/home/jngmk/Downloads/datasets/yolov5/utils/metrics.py:209: UserWarning: Glyph 45432 (\\N{HANGUL SYLLABLE NO}) missing from current font.\n",
      "  fig.savefig(Path(save_dir) / 'confusion_matrix.png', dpi=250)\n",
      "/home/jngmk/Downloads/datasets/yolov5/utils/metrics.py:209: UserWarning: Glyph 44512 (\\N{HANGUL SYLLABLE GYUN}) missing from current font.\n",
      "  fig.savefig(Path(save_dir) / 'confusion_matrix.png', dpi=250)\n",
      "\u001b[34m\u001b[1mwandb\u001b[0m: Waiting for W&B process to finish... \u001b[32m(success).\u001b[0m\n",
      "\u001b[34m\u001b[1mwandb\u001b[0m:                                                                                \n",
      "\u001b[34m\u001b[1mwandb\u001b[0m: \n",
      "\u001b[34m\u001b[1mwandb\u001b[0m: Run history:\n",
      "\u001b[34m\u001b[1mwandb\u001b[0m:      metrics/mAP_0.5 ▁▃▂▅▄▆▆▄▇▇▆▇▇▅▇▇▇█▇▇▇▇████▇█████████████\n",
      "\u001b[34m\u001b[1mwandb\u001b[0m: metrics/mAP_0.5:0.95 ▁▂▁▄▄▅▆▄▇▅▆▆▆▅▆▇▆▇▆▇▆▇▇▇▇█▇▇█▇██▇█▇█████\n",
      "\u001b[34m\u001b[1mwandb\u001b[0m:    metrics/precision ▁▂▃▅▅▆▆▅▇▆▆▆▇▆▆▇▆▇▇▇▇▇█▇██▇████▇▇███████\n",
      "\u001b[34m\u001b[1mwandb\u001b[0m:       metrics/recall ▄▄▁▄▄▅▆▂▆▆▅▆▇▅▆▇▇▇▆▇▇▇▇▇▇█▇▇▇█▇█▇▇▇█▇█▇▇\n",
      "\u001b[34m\u001b[1mwandb\u001b[0m:       train/box_loss █▄▄▃▃▂▂▂▂▂▂▂▂▂▂▂▂▂▂▂▂▂▂▂▁▁▁▁▁▁▁▁▁▁▁▁▁▁▁▁\n",
      "\u001b[34m\u001b[1mwandb\u001b[0m:       train/cls_loss █▆▅▄▄▃▃▃▃▃▃▂▂▂▂▂▂▂▂▂▂▂▂▂▂▁▁▁▁▁▁▁▁▁▁▁▁▁▁▁\n",
      "\u001b[34m\u001b[1mwandb\u001b[0m:       train/obj_loss █▆▅▅▄▄▄▄▄▄▃▃▃▃▃▃▃▃▃▃▃▂▂▂▂▂▂▂▂▂▂▂▂▁▁▁▁▁▁▁\n",
      "\u001b[34m\u001b[1mwandb\u001b[0m:         val/box_loss █▇▇▃▃▄▃▃▂▃▂▂▄▂▃▂▂▂▂▂▂▂▂▂▂▁▂▂▁▂▁▁▁▁▂▁▂▁▁▁\n",
      "\u001b[34m\u001b[1mwandb\u001b[0m:         val/cls_loss █▅█▅█▄▃█▂▂▆▃▂▅▃▂▂▂▃▂▁▂▂▂▂▁▂▁▂▁▂▁▂▁▁▁▁▁▁▁\n",
      "\u001b[34m\u001b[1mwandb\u001b[0m:         val/obj_loss ██▅▅▄▄▄▅▄▄▂▃▂▃▂▂▂▁▂▂▂▂▂▂▂▁▂▂▁▂▁▂▂▂▂▂▁▁▁▁\n",
      "\u001b[34m\u001b[1mwandb\u001b[0m:                x/lr0 ▃▆████▇▇▇▇▇▇▆▆▆▆▅▅▅▅▅▅▄▄▄▄▄▃▃▃▃▃▂▂▂▂▂▁▁▁\n",
      "\u001b[34m\u001b[1mwandb\u001b[0m:                x/lr1 ▃▆████▇▇▇▇▇▇▆▆▆▆▅▅▅▅▅▅▄▄▄▄▄▃▃▃▃▃▂▂▂▂▂▁▁▁\n",
      "\u001b[34m\u001b[1mwandb\u001b[0m:                x/lr2 █▅▂▂▂▂▂▂▂▂▂▂▂▂▂▂▂▂▂▂▁▁▁▁▁▁▁▁▁▁▁▁▁▁▁▁▁▁▁▁\n",
      "\u001b[34m\u001b[1mwandb\u001b[0m: \n",
      "\u001b[34m\u001b[1mwandb\u001b[0m: Run summary:\n",
      "\u001b[34m\u001b[1mwandb\u001b[0m:           best/epoch 48\n",
      "\u001b[34m\u001b[1mwandb\u001b[0m:         best/mAP_0.5 0.94593\n",
      "\u001b[34m\u001b[1mwandb\u001b[0m:    best/mAP_0.5:0.95 0.71788\n",
      "\u001b[34m\u001b[1mwandb\u001b[0m:       best/precision 0.9223\n",
      "\u001b[34m\u001b[1mwandb\u001b[0m:          best/recall 0.88852\n",
      "\u001b[34m\u001b[1mwandb\u001b[0m:      metrics/mAP_0.5 0.94765\n",
      "\u001b[34m\u001b[1mwandb\u001b[0m: metrics/mAP_0.5:0.95 0.71594\n",
      "\u001b[34m\u001b[1mwandb\u001b[0m:    metrics/precision 0.92325\n",
      "\u001b[34m\u001b[1mwandb\u001b[0m:       metrics/recall 0.88895\n",
      "\u001b[34m\u001b[1mwandb\u001b[0m:       train/box_loss 0.0222\n",
      "\u001b[34m\u001b[1mwandb\u001b[0m:       train/cls_loss 0.0044\n",
      "\u001b[34m\u001b[1mwandb\u001b[0m:       train/obj_loss 0.0155\n",
      "\u001b[34m\u001b[1mwandb\u001b[0m:         val/box_loss 0.01876\n",
      "\u001b[34m\u001b[1mwandb\u001b[0m:         val/cls_loss 0.00518\n",
      "\u001b[34m\u001b[1mwandb\u001b[0m:         val/obj_loss 0.00642\n",
      "\u001b[34m\u001b[1mwandb\u001b[0m:                x/lr0 0.0005\n",
      "\u001b[34m\u001b[1mwandb\u001b[0m:                x/lr1 0.0005\n",
      "\u001b[34m\u001b[1mwandb\u001b[0m:                x/lr2 0.0005\n",
      "\u001b[34m\u001b[1mwandb\u001b[0m: \n",
      "\u001b[34m\u001b[1mwandb\u001b[0m: Synced \u001b[33myolov5s_results_ver5\u001b[0m: \u001b[34m\u001b[4mhttps://wandb.ai/hyeeein/YOLOv5/runs/mzkcrj67\u001b[0m\n",
      "\u001b[34m\u001b[1mwandb\u001b[0m: Synced 6 W&B file(s), 337 media file(s), 1 artifact file(s) and 0 other file(s)\n",
      "\u001b[34m\u001b[1mwandb\u001b[0m: Find logs at: \u001b[35m\u001b[1m./wandb/run-20220508_060422-mzkcrj67/logs\u001b[0m\n",
      "Results saved to \u001b[1mruns/train/yolov5s_results_ver5\u001b[0m\n"
     ]
    }
   ],
   "source": [
    "!python train.py --img 224 --batch 64 --epochs 50 --data data/data.yaml --device cuda:0 --cfg ./models/yolov5s.yaml --weights yolov5s.pt --name yolov5s_results_ver5"
   ]
  },
  {
   "cell_type": "markdown",
   "metadata": {},
   "source": [
    "#### 모델 테스트 (3)"
   ]
  },
  {
   "cell_type": "code",
   "execution_count": 42,
   "metadata": {},
   "outputs": [
    {
     "name": "stdout",
     "output_type": "stream",
     "text": [
      "\u001b[34m\u001b[1mdetect: \u001b[0mweights=['runs/train/yolov5s_results_ver5/weights/best.pt'], source=/home/jngmk/Downloads/datasets/yolov5/dataset/images/test/V006_79_0_00_06_03_13_0_b02_20201117_0014_S01_1.jpg, data=data/coco128.yaml, imgsz=[224, 224], conf_thres=0.5, iou_thres=0.45, max_det=1000, device=, view_img=False, save_txt=False, save_conf=False, save_crop=False, nosave=False, classes=None, agnostic_nms=False, augment=False, visualize=False, update=False, project=runs/detect, name=exp, exist_ok=False, line_thickness=3, hide_labels=False, hide_conf=False, half=False, dnn=False\n",
      "YOLOv5 🚀 v6.1-170-gbff6e51 torch 1.11.0 CUDA:0 (NVIDIA GeForce GTX 1070 Ti, 8116MiB)\n",
      "\n",
      "Fusing layers... \n",
      "YOLOv5s summary: 213 layers, 7018216 parameters, 0 gradients, 15.8 GFLOPs\n",
      "image 1/1 /home/jngmk/Downloads/datasets/yolov5/dataset/images/test/V006_79_0_00_06_03_13_0_b02_20201117_0014_S01_1.jpg: 128x224 2 정상s, Done. (0.009s)\n",
      "Speed: 0.2ms pre-process, 8.8ms inference, 0.9ms NMS per image at shape (1, 3, 224, 224)\n",
      "Results saved to \u001b[1mruns/detect/exp7\u001b[0m\n"
     ]
    }
   ],
   "source": [
    "test_img_path = [os.path.join(test_images_dir, i) for i in test_images]\n",
    "\n",
    "!python detect.py --weights runs/train/yolov5s_results_ver5/weights/best.pt --img 224 --conf 0.5 --source '{test_img_path[19]}'"
   ]
  },
  {
   "cell_type": "markdown",
   "metadata": {},
   "source": [
    "---"
   ]
  },
  {
   "cell_type": "markdown",
   "metadata": {},
   "source": [
    "#### 참고 사이트\n",
    "\n",
    "1. 파이썬 이미지 확장자 맞추기\n",
    "\n",
    "https://gongdolhouse.tistory.com/entry/Python3-%ED%8C%8C%EC%9D%BC-%ED%99%95%EC%9E%A5%EC%9E%90%EB%AA%85-%EC%9D%BC%EA%B4%84-%EB%B3%80%EA%B2%BD%EB%B3%80%EA%B2%BD-%EC%BD%94%EB%93%9C\n",
    "\n",
    "\n",
    "2. 숨김파일 제외\n",
    "\n",
    "https://joyae.github.io/2020-03-15-how-to-get-file-list-on-certain-directory/\n",
    "\n",
    "\n",
    "3. 파일 복사 (copyfile)\n",
    "\n",
    "https://m.blog.naver.com/PostView.naver?isHttpsRedirect=true&blogId=dlaehd_king&logNo=10067290010\n",
    "\n",
    "https://blog.naver.com/PostView.naver?blogId=hankrah&logNo=222409731893&categoryNo=64&parentCategoryNo=0&viewDate=&currentPage=1&postListTopCurrentPage=1&from=postView\n",
    "\n",
    "4. Yolov5 json to txt 라벨링 파일 변환\n",
    "\n",
    "https://haobin-tan.netlify.app/ai/computer-vision/object-detection/coco-json-to-yolo-txt/\n",
    "\n",
    "\n",
    "5. Yolov5 모델\n",
    "\n",
    "https://bigdata-analyst.tistory.com/195\n",
    "\n",
    "https://lynnshin.tistory.com/47\n",
    "\n",
    "https://settembre.tistory.com/459\n",
    "\n",
    "\n",
    "6. Yolov5 모델 실행 중 AttributeError 에러 발생\n",
    "\n",
    "https://lovelydiary.tistory.com/16"
   ]
  }
 ],
 "metadata": {
  "interpreter": {
   "hash": "7d94b9a069646b6b76b62cdc5f845a5df9f96c1cebd14adccbab48831d95baa1"
  },
  "kernelspec": {
   "display_name": "Python 3 (ipykernel)",
   "language": "python",
   "name": "python3"
  },
  "language_info": {
   "codemirror_mode": {
    "name": "ipython",
    "version": 3
   },
   "file_extension": ".py",
   "mimetype": "text/x-python",
   "name": "python",
   "nbconvert_exporter": "python",
   "pygments_lexer": "ipython3",
   "version": "3.9.12"
  }
 },
 "nbformat": 4,
 "nbformat_minor": 2
}
