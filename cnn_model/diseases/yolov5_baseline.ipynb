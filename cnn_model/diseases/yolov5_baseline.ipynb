{
 "cells": [
  {
   "cell_type": "markdown",
   "metadata": {},
   "source": [
    "#### YOLOv5 (04월 28일)\n",
    "\n",
    "- 탄저병 제외하고, 흰가루병, 정상 데이터의 이미지 전처리 전반적인 코드 작성\n",
    "- 이미지 전처리 과정에서 시간이 오래 걸려서 ver2에서 train_test_split 하지 않고, 이미 분리된 파일을 바탕으로 라벨 조합하여 사용\n",
    "- 이미 분리된 파일을 전달받아 라벨 데이터도 그에 맞게 분류해서 저장 (json 형태로)"
   ]
  },
  {
   "cell_type": "markdown",
   "metadata": {},
   "source": [
    "#### YOLOv5 (05월 01일)\n",
    "\n",
    "- 라벨 데이터 json -> txt 파일로 변환 추가\n",
    "- yaml 파일 생성\n",
    "- yolov5 모델링 실행"
   ]
  },
  {
   "cell_type": "markdown",
   "metadata": {},
   "source": [
    "#### 데이터 로드 후 확장자 변경 (.jpg)"
   ]
  },
  {
   "cell_type": "code",
   "execution_count": 12,
   "metadata": {},
   "outputs": [],
   "source": [
    "import os, shutil\n",
    "from glob import glob"
   ]
  },
  {
   "cell_type": "code",
   "execution_count": 13,
   "metadata": {},
   "outputs": [
    {
     "data": {
      "text/plain": [
       "'/home/jngmk/Downloads/datasets/yolov5'"
      ]
     },
     "execution_count": 13,
     "metadata": {},
     "output_type": "execute_result"
    }
   ],
   "source": [
    "os.getcwd()  # 현재 경로 확인"
   ]
  },
  {
   "cell_type": "code",
   "execution_count": 14,
   "metadata": {},
   "outputs": [],
   "source": [
    "original_dataset_dir = '/home/jngmk/Downloads/datasets/Disease/'  # 원본 데이터셋 디렉터리"
   ]
  },
  {
   "cell_type": "code",
   "execution_count": null,
   "metadata": {},
   "outputs": [],
   "source": [
    "# 식물병 리스트\n",
    "disease_list = os.listdir(original_dataset_dir)\n",
    "print(disease_list)\n",
    "\n",
    "# 식물병 이미지 데이터 확장자명 .jpg로 맞추기\n",
    "for i in disease_list:\n",
    "    img_files = glob('/home/jngmk/Downloads/datasets/Disease/'+i+'/images/*')\n",
    "\n",
    "    for name in img_files:\n",
    "        if not os.path.isdir(name):         # 디렉토리는 포함안함\n",
    "            src = os.path.splitext(name)    # 확장자와 파일명 구분\n",
    "            os.rename(name, src[0] + '.jpg')\n",
    "\n",
    "    print(f'{i} 이미지 수 : {len(img_files)}')"
   ]
  },
  {
   "cell_type": "markdown",
   "metadata": {},
   "source": [
    "#### 데이터셋 저장할 디렉터리 생성 (copy)"
   ]
  },
  {
   "cell_type": "code",
   "execution_count": 47,
   "metadata": {},
   "outputs": [],
   "source": [
    "# 데이터셋을 저장할 디렉터리 (copy)\n",
    "base_dir = '/home/jngmk/Downloads/datasets/Disease_copy'\n",
    "# os.mkdir(base_dir)"
   ]
  },
  {
   "cell_type": "code",
   "execution_count": 5,
   "metadata": {},
   "outputs": [],
   "source": [
    "# 이미지 데이터셋 저장할 디렉터리 (copy)\n",
    "base_images_dir = os.path.join(base_dir, 'images')\n",
    "# os.mkdir(base_images_dir)\n",
    "\n",
    "# 라벨 데이터셋(txt) 저장할 디렉터리 (copy)\n",
    "base_labels_dir = os.path.join(base_dir, 'labels')\n",
    "# os.mkdir(base_labels_dir)"
   ]
  },
  {
   "cell_type": "code",
   "execution_count": 36,
   "metadata": {},
   "outputs": [],
   "source": [
    "# 훈련, 검증, 테스트 분할을 위한 디렉터리\n",
    "# 이 안에 식물병 종류별로 폴더를 생성해서 데이터를 나눠서 복사할 것\n",
    "\n",
    "# 이미지\n",
    "train_images_dir = \"/home/jngmk/Downloads/datasets/yolov5/dataset/images/train\"\n",
    "validation_images_dir = \"/home/jngmk/Downloads/datasets/yolov5/dataset/images/validation\"\n",
    "test_images_dir = \"/home/jngmk/Downloads/datasets/yolov5/dataset/images/test\"\n",
    "\n",
    "# os.mkdir(train_images_dir)\n",
    "# os.mkdir(validation_images_dir)\n",
    "# os.mkdir(test_images_dir)"
   ]
  },
  {
   "cell_type": "markdown",
   "metadata": {},
   "source": [
    "labels_dir은 yolov5에서 사용하는 txt 파일을 저장할 폴더"
   ]
  },
  {
   "cell_type": "code",
   "execution_count": 37,
   "metadata": {},
   "outputs": [],
   "source": [
    "# 라벨 (txt 파일)\n",
    "train_labels_dir = \"/home/jngmk/Downloads/datasets/yolov5/dataset/labels/train\"\n",
    "validation_labels_dir = \"/home/jngmk/Downloads/datasets/yolov5/dataset/labels/validation\"\n",
    "test_labels_dir = \"/home/jngmk/Downloads/datasets/yolov5/dataset/labels/test\"\n",
    "\n",
    "# os.mkdir(train_labels_dir)\n",
    "# os.mkdir(validation_labels_dir)\n",
    "# os.mkdir(test_labels_dir)"
   ]
  },
  {
   "cell_type": "markdown",
   "metadata": {},
   "source": [
    "labels_json_dir은 이미지 파일에 맞는 json 파일을 임시로 저장할 폴더"
   ]
  },
  {
   "cell_type": "code",
   "execution_count": 48,
   "metadata": {},
   "outputs": [],
   "source": [
    "# 라벨 데이터셋(임시 json) 저장할 디렉터리 (copy)\n",
    "base_labels_json_dir = os.path.join(base_dir, 'labels_tmp')\n",
    "# os.mkdir(base_labels_json_dir)\n",
    "\n",
    "# 라벨 (json 변환 전)\n",
    "train_labels_json_dir = os.path.join(base_labels_json_dir, 'train')\n",
    "validation_labels_json_dir = os.path.join(base_labels_json_dir, 'validation')\n",
    "test_labels_json_dir = os.path.join(base_labels_json_dir, 'test')\n",
    "\n",
    "# os.mkdir(train_labels_json_dir)\n",
    "# os.mkdir(validation_labels_json_dir)\n",
    "# os.mkdir(test_labels_json_dir)"
   ]
  },
  {
   "cell_type": "markdown",
   "metadata": {},
   "source": [
    "#### 이미지, 라벨 파일 전처리 (흰가루병, 정상)\n",
    "\n",
    "- 잎 부위 촬영이 아닌 사진은 리스트에서 제외 (잎 03)\n",
    "- 흰가루병에 해당하는 사진만 가져오기 (고추 02, 애호박 08, 오이 12, 호박 20)"
   ]
  },
  {
   "cell_type": "markdown",
   "metadata": {},
   "source": [
    "\n",
    "- 파일이름: ???_과제번호(79)_질병(0/1)_질병코드(흰가루병20)_작물코드(호박10)_촬영부위코드(잎 03)_작물생육코드(생장기 12)_해충피해코드(정상0 초기1 중기2 말기3)\n",
    "- 질병코드 idx 3 / 작물코드 idx 4 / 촬영부위코드 idx 5"
   ]
  },
  {
   "cell_type": "code",
   "execution_count": 15,
   "metadata": {},
   "outputs": [],
   "source": [
    "# 숨김파일 제외: os.listdir('파일경로')를 하면 숨겨진 파일도 함께 불러내므로 제외해야 함\n",
    "def hidden_file(path):\n",
    "    filenames = [f for f in os.listdir(path) if not f.startswith('.')]\n",
    "    return filenames"
   ]
  },
  {
   "cell_type": "code",
   "execution_count": 16,
   "metadata": {},
   "outputs": [],
   "source": [
    "## 잎 부위 촬영이 아니면 제외하는 함수 (잎 코드는 03)\n",
    "def leaf_files(files):\n",
    "    remove_list = []\n",
    "    for file in files:\n",
    "\n",
    "        # 잎이 아닌 데이터면 remove_list에 추가\n",
    "        if file.split('_')[5] != '03':\n",
    "            remove_list.append(file)\n",
    "\n",
    "    # 잎 데이터만 new_datas에 추가\n",
    "    new_datas = [x for x in files if x not in remove_list]\n",
    "    \n",
    "    return new_datas"
   ]
  },
  {
   "cell_type": "code",
   "execution_count": 17,
   "metadata": {},
   "outputs": [],
   "source": [
    "## 흰가루병에 해당하는 사진이 아니면 제외\n",
    "# 질병코드(index 3): 고추 02, 애호박 08, 오이 12, 호박 20\n",
    "# 작물코드(index 4): 고추 01, 애호박 04, 오이 06, 호박 10\n",
    "\n",
    "def powdery_files(files):\n",
    "\n",
    "    # 해당 작물 + 흰가루병인 경우만 리스트에 추가\n",
    "    powdery_disease = []\n",
    "    \n",
    "    # 모든 이미지 불러오기\n",
    "    for file in files:\n",
    "        disease = file.split('_')[3]\n",
    "        crops = file.split('_')[4]\n",
    "\n",
    "        if disease == '02' and crops == '01': powdery_disease.append(file)     # 고추\n",
    "        elif disease == '08' and crops == '04' : powdery_disease.append(file)  # 애호박\n",
    "        elif disease == '12' and crops == '06' : powdery_disease.append(file)  # 오이\n",
    "        elif disease == '20' and crops == '10' : powdery_disease.append(file)  # 호박\n",
    "\n",
    "    return powdery_disease"
   ]
  },
  {
   "cell_type": "markdown",
   "metadata": {},
   "source": [
    "(1) 흰가루병 이미지 전처리"
   ]
  },
  {
   "cell_type": "code",
   "execution_count": 18,
   "metadata": {},
   "outputs": [
    {
     "data": {
      "text/plain": [
       "'/home/jngmk/Downloads/datasets/yolov5'"
      ]
     },
     "execution_count": 18,
     "metadata": {},
     "output_type": "execute_result"
    }
   ],
   "source": [
    "os.getcwd()"
   ]
  },
  {
   "cell_type": "code",
   "execution_count": 21,
   "metadata": {},
   "outputs": [
    {
     "name": "stdout",
     "output_type": "stream",
     "text": [
      "4653\n"
     ]
    }
   ],
   "source": [
    "# 정제되지 않은 이미지 전체 불러오기\n",
    "# img_files은 리스트 형태\n",
    "img_files = glob('/home/jngmk/Downloads/datasets/Disease/powdery mildew/images/*')\n",
    "print(len(img_files))"
   ]
  },
  {
   "cell_type": "code",
   "execution_count": 22,
   "metadata": {},
   "outputs": [],
   "source": [
    "img_files_new = []\n",
    "\n",
    "for i in range(len(img_files)):\n",
    "    img_files_new.append(os.path.basename(img_files[i]))"
   ]
  },
  {
   "cell_type": "code",
   "execution_count": 23,
   "metadata": {},
   "outputs": [
    {
     "name": "stdout",
     "output_type": "stream",
     "text": [
      "3561\n"
     ]
    }
   ],
   "source": [
    "# 잎 데이터만 추출\n",
    "leaf_img = leaf_files(img_files_new)\n",
    "print(len(leaf_img))"
   ]
  },
  {
   "cell_type": "code",
   "execution_count": 24,
   "metadata": {},
   "outputs": [
    {
     "name": "stdout",
     "output_type": "stream",
     "text": [
      "2265\n"
     ]
    }
   ],
   "source": [
    "# 흰가루병 데이터만 추출 (잎으로 한번 정제된 데이터 사용)\n",
    "powdery_img = powdery_files(leaf_img)\n",
    "print(len(powdery_img))"
   ]
  },
  {
   "cell_type": "markdown",
   "metadata": {},
   "source": [
    "(2) 정상 이미지 이미지 전처리"
   ]
  },
  {
   "cell_type": "code",
   "execution_count": 26,
   "metadata": {},
   "outputs": [
    {
     "name": "stdout",
     "output_type": "stream",
     "text": [
      "47936\n"
     ]
    }
   ],
   "source": [
    "# 정제되지 않은 이미지 전체 불러오기\n",
    "# img_files은 리스트 형태\n",
    "img_files_2 = glob('/home/jngmk/Downloads/datasets/Disease/normal data/images/*')\n",
    "print(len(img_files_2))"
   ]
  },
  {
   "cell_type": "code",
   "execution_count": 27,
   "metadata": {},
   "outputs": [],
   "source": [
    "img_files_2_new = []\n",
    "\n",
    "for i in range(len(img_files_2)):\n",
    "    img_files_2_new.append(os.path.basename(img_files_2[i]))"
   ]
  },
  {
   "cell_type": "code",
   "execution_count": 28,
   "metadata": {},
   "outputs": [
    {
     "name": "stdout",
     "output_type": "stream",
     "text": [
      "21276\n"
     ]
    }
   ],
   "source": [
    "# 잎 데이터만 추출 (최종 정상 데이터)\n",
    "normal_img = leaf_files(img_files_2_new)\n",
    "print(len(normal_img))"
   ]
  },
  {
   "cell_type": "markdown",
   "metadata": {},
   "source": [
    "(3) 탄저병 이미지 전처리\n",
    "- 크롤링 데이터이므로 추가 전처리 필요없음"
   ]
  },
  {
   "cell_type": "code",
   "execution_count": 161,
   "metadata": {},
   "outputs": [
    {
     "name": "stdout",
     "output_type": "stream",
     "text": [
      "탄저병 이미지 개수: 446\n"
     ]
    }
   ],
   "source": [
    "# 탄저병 이미지 데이터 확인\n",
    "anthracnose_img = glob('/home/jngmk/Downloads/datasets/Disease/anthracnose/*')\n",
    "\n",
    "print(f'탄저병 이미지 개수: {len(anthracnose_img)}')"
   ]
  },
  {
   "cell_type": "markdown",
   "metadata": {},
   "source": [
    "#### 이미지 데이터 train_test_split"
   ]
  },
  {
   "cell_type": "code",
   "execution_count": 31,
   "metadata": {},
   "outputs": [],
   "source": [
    "from sklearn.model_selection import train_test_split"
   ]
  },
  {
   "cell_type": "code",
   "execution_count": 32,
   "metadata": {},
   "outputs": [
    {
     "name": "stdout",
     "output_type": "stream",
     "text": [
      "train 데이터:  1449\n",
      "valid 데이터:  363\n",
      "test 데이터:  453\n"
     ]
    }
   ],
   "source": [
    "### 흰가루병 데이터\n",
    "\n",
    "# 학습 데이터와 테스트 데이터 분리 (train:test = 8:2)\n",
    "train_img_powdery, test_img_powdery = train_test_split(powdery_img, test_size=0.2, random_state=44)\n",
    "\n",
    "# 학습 데이터와 검증 데이터 분리 (train:validation = 8:2)\n",
    "train_img_powdery, val_img_powdery = train_test_split(train_img_powdery, test_size=0.2, random_state=44)\n",
    "\n",
    "print('train 데이터: ', len(train_img_powdery))\n",
    "print('valid 데이터: ', len(val_img_powdery))\n",
    "print('test 데이터: ', len(test_img_powdery))"
   ]
  },
  {
   "cell_type": "code",
   "execution_count": 33,
   "metadata": {},
   "outputs": [
    {
     "name": "stdout",
     "output_type": "stream",
     "text": [
      "train 데이터:  13616\n",
      "valid 데이터:  3404\n",
      "test 데이터:  4256\n"
     ]
    }
   ],
   "source": [
    "### 정상 데이터\n",
    "\n",
    "# 학습 데이터와 테스트 데이터 분리 (train:test = 8:2)\n",
    "train_img_normal, test_img_normal = train_test_split(normal_img, test_size=0.2, random_state=44)\n",
    "\n",
    "# 학습 데이터와 검증 데이터 분리 (train:validation = 8:2)\n",
    "train_img_normal, val_img_normal = train_test_split(train_img_normal, test_size=0.2, random_state=44)\n",
    "\n",
    "print('train 데이터: ', len(train_img_normal))\n",
    "print('valid 데이터: ', len(val_img_normal))\n",
    "print('test 데이터: ', len(test_img_normal))"
   ]
  },
  {
   "cell_type": "code",
   "execution_count": null,
   "metadata": {},
   "outputs": [],
   "source": [
    "## ----------------- ##\n",
    "## 탄저병 데이터 추가"
   ]
  },
  {
   "cell_type": "markdown",
   "metadata": {},
   "source": [
    "#### 이미지 데이터 Copy 폴더에 복사\n",
    "\n",
    "- Disease_copy (base_dir)\n",
    "\n",
    "    - images (base_images_dir)\n",
    "\n",
    "        - train (train_images_dir)\n",
    "        - validation (validation_images_dir)\n",
    "        - test (test_images_dir)\n",
    "\n",
    "    -------------------------------------------------------'\n",
    "\n",
    "    - labels (base_labels_dir))\n",
    "\n",
    "        - train (train_labels_dir)\n",
    "        - validation (validation_labels_dir)\n",
    "        - test (test_labels_dir)\n",
    "    \n",
    "    -------------------------------------------------------'\n",
    "\n",
    "    - labels_tmp (base_labels_json_dir)\n",
    "\n",
    "        - train (train_labels_json_dir)\n",
    "        - validation (validation_labels_json_dir)\n",
    "        - test (test_labels_json_dir)"
   ]
  },
  {
   "cell_type": "markdown",
   "metadata": {},
   "source": [
    "- YOLOv5는 라벨이 있으므로 따로 종류를 구분하지 않고 train, val, test에 한번에 저장\n",
    "\n",
    "    - Q. 복사할 데이터 경로를 지정할 때, *을 사용해도 되는가?\n",
    "    - 구글링에 결과가 안 나옴... 해보고 안되면 이미지 이동시키고 경로 수정하기"
   ]
  },
  {
   "cell_type": "code",
   "execution_count": 40,
   "metadata": {},
   "outputs": [],
   "source": [
    "### 흰가루병 데이터\n",
    "\n",
    "# train\n",
    "for train_img in train_img_powdery:\n",
    "    \n",
    "    # src라는 파일을 dst에 복사함\n",
    "    # src와 dst는 문자열 string으로 주어지는 경로명이고, dst가 이미 존재하면 대체됨\n",
    "    src = os.path.join(original_dataset_dir+'powdery mildew/images', train_img)\n",
    "    dst = os.path.join(train_images_dir, train_img)\n",
    "    shutil.copyfile(src, dst)\n",
    "    \n",
    "# validation\n",
    "for valid_img in val_img_powdery:\n",
    "    src = os.path.join(original_dataset_dir+'powdery mildew/images', valid_img)\n",
    "    dst = os.path.join(validation_images_dir, valid_img)\n",
    "    shutil.copyfile(src, dst)\n",
    "    \n",
    "# test\n",
    "for test_img in test_img_powdery:\n",
    "    src = os.path.join(original_dataset_dir+'powdery mildew/images', test_img)\n",
    "    dst = os.path.join(test_images_dir, test_img)\n",
    "    shutil.copyfile(src, dst)"
   ]
  },
  {
   "cell_type": "code",
   "execution_count": 41,
   "metadata": {},
   "outputs": [],
   "source": [
    "### 정상 데이터\n",
    "\n",
    "# train\n",
    "for train_img in train_img_normal:\n",
    "    src = os.path.join(original_dataset_dir+'normal data/images', train_img)\n",
    "    dst = os.path.join(train_images_dir, train_img)\n",
    "    shutil.copyfile(src, dst)\n",
    "\n",
    "# validation\n",
    "for valid_img in val_img_normal:\n",
    "    src = os.path.join(original_dataset_dir+'normal data/images', valid_img)\n",
    "    dst = os.path.join(validation_images_dir, valid_img)\n",
    "    shutil.copyfile(src, dst)\n",
    "\n",
    "# test\n",
    "for test_img in test_img_normal:\n",
    "    src = os.path.join(original_dataset_dir+'normal data/images', test_img)\n",
    "    dst = os.path.join(test_images_dir, test_img)\n",
    "    shutil.copyfile(src, dst)"
   ]
  },
  {
   "cell_type": "code",
   "execution_count": 42,
   "metadata": {},
   "outputs": [
    {
     "name": "stdout",
     "output_type": "stream",
     "text": [
      "훈련용 이미지 개수 : 15065\n",
      "valid 이미지 개수 : 3767\n",
      "test 이미지 개수 : 4709\n"
     ]
    }
   ],
   "source": [
    "# 복사된 데이터 수 확인 (이미지)\n",
    "train_images = hidden_file('/home/jngmk/Downloads/datasets/yolov5/dataset/images/train/')\n",
    "print('훈련용 이미지 개수 :', len(train_images))\n",
    "\n",
    "valid_images = hidden_file('/home/jngmk/Downloads/datasets/yolov5/dataset/images/validation/')\n",
    "print('valid 이미지 개수 :', len(valid_images))\n",
    "\n",
    "test_images = hidden_file('/home/jngmk/Downloads/datasets/yolov5/dataset/images/test/')\n",
    "print('test 이미지 개수 :', len(test_images))"
   ]
  },
  {
   "cell_type": "markdown",
   "metadata": {},
   "source": [
    "#### 라벨 데이터 (흰가루병, 정상) labels_tmp으로 복사"
   ]
  },
  {
   "cell_type": "code",
   "execution_count": 43,
   "metadata": {},
   "outputs": [
    {
     "name": "stdout",
     "output_type": "stream",
     "text": [
      "/home/jngmk/Downloads/datasets/Disease/labels_two\n"
     ]
    }
   ],
   "source": [
    "# 라벨 경로 (흰가루병, 정상)\n",
    "label_route = os.path.join(original_dataset_dir, 'labels_two')\n",
    "print(label_route)  # raw 데이터의 라벨이 있는 경로\n",
    "\n",
    "# 라벨 리스트\n",
    "label_list = os.listdir(label_route)"
   ]
  },
  {
   "cell_type": "code",
   "execution_count": 44,
   "metadata": {},
   "outputs": [
    {
     "name": "stdout",
     "output_type": "stream",
     "text": [
      "True!\n",
      "52588\n"
     ]
    }
   ],
   "source": [
    "# 테스트\n",
    "cnt = 0\n",
    "\n",
    "for label in label_list:\n",
    "    # print(label)\n",
    "    # print(train_images[8].split('.')[0])\n",
    "    # print(label_all[label].split('.')[0])\n",
    "    if test_images[1515].split('.')[0] == label.split('.')[0]:\n",
    "        print('True!')\n",
    "    else:\n",
    "        cnt += 1\n",
    "\n",
    "print(cnt)"
   ]
  },
  {
   "cell_type": "code",
   "execution_count": 49,
   "metadata": {},
   "outputs": [],
   "source": [
    "# 이미지 데이터와 맞는 label 파일 -> label_tmp 파일에 복사\n",
    "\n",
    "data_list = [train_images, valid_images, test_images]\n",
    "\n",
    "for data in data_list:\n",
    "\n",
    "    # train 데이터\n",
    "    if data == train_images:\n",
    "        for label in label_list:\n",
    "            for image in train_images:\n",
    "\n",
    "                # 뒤에 확장자명 뺀 이름이 같을 경우\n",
    "                if image.split('.')[0] == label.split('.')[0]:\n",
    "\n",
    "                    # 라벨 데이터 labels_tmp/train으로 파일 복사\n",
    "                    src = os.path.join(label_route, label)\n",
    "                    dst = os.path.join(train_labels_json_dir, label)\n",
    "\n",
    "                    # copyfile: 복사하고 싶은 파일 (경로 포함), 복사할 대상 파일명 (경로 포함)\n",
    "                    shutil.copyfile(src, dst) \n",
    "\n",
    "    # validation 데이터\n",
    "    elif data == valid_images:\n",
    "        for label in label_list:\n",
    "            for image in valid_images:\n",
    "                \n",
    "                # 뒤에 확장자명 뺀 이름이 같을 경우\n",
    "                if image.split('.')[0] == label.split('.')[0]:\n",
    "\n",
    "                    # 라벨 데이터 labels_tmp/validation으로 파일 복사\n",
    "                    src = os.path.join(label_route, label)\n",
    "                    dst = os.path.join(validation_labels_json_dir, label)\n",
    "\n",
    "                    # copyfile: 복사하고 싶은 파일 (경로 포함), 복사할 대상 파일명 (경로 포함)\n",
    "                    shutil.copyfile(src, dst) \n",
    "\n",
    "    # test 데이터\n",
    "    elif data == test_images:\n",
    "        for label in label_list:\n",
    "            for image in test_images:\n",
    "\n",
    "                # 뒤에 확장자명 뺀 이름이 같을 경우\n",
    "                if image.split('.')[0] == label.split('.')[0]:\n",
    "\n",
    "                    # 라벨 데이터 labels_tmp/test으로 파일 복사\n",
    "                    src = os.path.join(label_route, label)\n",
    "                    dst = os.path.join(test_labels_json_dir, label)\n",
    "\n",
    "                    # copyfile: 복사하고 싶은 파일 (경로 포함), 복사할 대상 파일명 (경로 포함)\n",
    "                    shutil.copyfile(src, dst)"
   ]
  },
  {
   "cell_type": "code",
   "execution_count": 50,
   "metadata": {},
   "outputs": [
    {
     "name": "stdout",
     "output_type": "stream",
     "text": [
      "훈련용 라벨 개수 : 15065\n",
      "valid 라벨 개수 : 3767\n",
      "test 라벨 개수 : 4709\n"
     ]
    }
   ],
   "source": [
    "# 복사된 데이터 수 확인 (라벨)\n",
    "print('훈련용 라벨 개수 :', len(os.listdir(train_labels_json_dir)))\n",
    "print('valid 라벨 개수 :', len(os.listdir(validation_labels_json_dir)))\n",
    "print('test 라벨 개수 :', len(os.listdir(test_labels_json_dir)))"
   ]
  },
  {
   "cell_type": "markdown",
   "metadata": {},
   "source": [
    "#### 라벨 데이터 (흰가루병, 정상) json -> txt 파일로 변환 후 Copy 폴더에 복사"
   ]
  },
  {
   "cell_type": "code",
   "execution_count": null,
   "metadata": {},
   "outputs": [],
   "source": [
    "'''\n",
    "{\n",
    "    \"description\": {\n",
    "        \"image\": \"V006_79_1_07_04_03_12_1_5950b_20201024_2.jpeg\",  # 파일 이름\n",
    "        \"date\": \"2020/10/24\",   # 취득 일자\n",
    "        \"worker\": \"\",           # 촬영 지역\n",
    "        \"height\": 2268,         # 이미지 높이\n",
    "        \"width\": 4032,          # 이미지 너비\n",
    "        \"task\": 79,             # 과제 번호\n",
    "        \"type\": 1,              # 촬영 유형\n",
    "        \"region\": 3\n",
    "    },\n",
    "    \"annotations\": {\n",
    "        \"disease\": 7,           # 질병/해충 코드\n",
    "        \"crop\": 4,              # 작물 코드\n",
    "        \"area\": 3,              # 촬영 부위\n",
    "        \"grow\": 12,             # 작물 생육단계\n",
    "        \"risk\": 1,              # 질병 피해 정도 (숫자가 커질수록 피해가 큼)\n",
    "        \"points\": [             # 주목 객체의 bbox 좌표\n",
    "            {\n",
    "                \"xtl\": 263,\n",
    "                \"ytl\": 0,\n",
    "                \"xbr\": 3513,\n",
    "                \"ybr\": 2250\n",
    "            }\n",
    "        ]\n",
    "    }\n",
    "}\n",
    "'''"
   ]
  },
  {
   "cell_type": "code",
   "execution_count": 51,
   "metadata": {},
   "outputs": [],
   "source": [
    "# 바운딩박스 포맷 YOLO 형태로 바꿔주기\n",
    "# YOLO bounding box 형태 : [x_center, y_center, width, height]\n",
    "\n",
    "def convert_bbox_yolov5(img_width, img_height, bbox):\n",
    "    \n",
    "    x_tl, y_tl, w, h = bbox\n",
    "\n",
    "    dw = 1.0 / img_width\n",
    "    dh = 1.0 / img_height\n",
    "\n",
    "    x_center = x_tl + w / 2.0\n",
    "    y_center = y_tl + h / 2.0\n",
    "\n",
    "    x = x_center * dw\n",
    "    y = y_center * dh\n",
    "    w = w * dw\n",
    "    h = h * dh\n",
    "\n",
    "    return [x, y, w, h]"
   ]
  },
  {
   "cell_type": "code",
   "execution_count": 52,
   "metadata": {},
   "outputs": [],
   "source": [
    "# json => txt 파일로 변환\n",
    "# lables_tmp에서 json 파일 꺼내와서 새로 생성된 txt 파일은 lables에 저장\n",
    "\n",
    "import json\n",
    "from tqdm import tqdm\n",
    "\n",
    "def convert_json_to_txt(output_path, json_file): # txt 파일 저장될 경로, 불러올 json 파일\n",
    "    \n",
    "    # json 파일 불러오기\n",
    "    with open(json_file) as f:\n",
    "        json_data = json.load(f)\n",
    "\n",
    "    # json 파일에 있는 정보 가져오기\n",
    "    img_name = json_data['description']['image']\n",
    "    img_width = json_data['description']['width']\n",
    "    img_height = json_data['description']['height']\n",
    "\n",
    "    disease = json_data['annotations']['disease']\n",
    "    # 정상은 0 / 흰가루병인 경우 클래스명 1로 통일\n",
    "    # 순서대로 고추흰가루병, 애호박흰가루병, 오이흰가루병, 호박흰가루병\n",
    "    if disease == 2 or disease == 8 or disease == 12 or disease == 20:\n",
    "        disease = 1\n",
    "\n",
    "    # txt 파일 작성\n",
    "    label_txt = os.path.join(output_path, img_name.split('.')[0] + '.txt')\n",
    "\n",
    "    # points가 리스트에 한 번 더 감싸져 여러 개가 있을 수 있으므로 for문 사용\n",
    "    points = json_data['annotations']['points']\n",
    "\n",
    "    for point in points:\n",
    "        # points 형태: {'xtl': 1829, 'ytl': 398, 'xbr': 2338, 'ybr': 1067}\n",
    "        # point 형태: {'xtl': 1829, 'ytl': 398, 'xbr': 2338, 'ybr': 1067}\n",
    "        xtl = point['xtl']\n",
    "        ytl = point['ytl']\n",
    "        xbr = point['xbr']\n",
    "        ybr = point['ybr']\n",
    "\n",
    "        with open(label_txt, 'w') as f:\n",
    "            bbox = [xtl, ytl, xbr, ybr]\n",
    "            x, y, w, h = convert_bbox_yolov5(img_width, img_height, bbox)\n",
    "            f.write(f\"{disease} {x:.6f} {y:.6f} {w:.6f} {h:.6f}\\n\")"
   ]
  },
  {
   "cell_type": "code",
   "execution_count": 53,
   "metadata": {},
   "outputs": [],
   "source": [
    "# 함수 사용해서 json => txt로 변환\n",
    "\n",
    "# train 데이터\n",
    "train_labels = os.listdir(train_labels_json_dir)\n",
    "\n",
    "for label_json in train_labels:\n",
    "    json_file = os.path.join(train_labels_json_dir, label_json)\n",
    "    convert_json_to_txt(train_labels_dir, json_file)\n",
    "\n",
    "# validation 데이터\n",
    "valid_labels = os.listdir(validation_labels_json_dir)\n",
    "\n",
    "for label_json in valid_labels:\n",
    "    json_file = os.path.join(validation_labels_json_dir, label_json)\n",
    "    convert_json_to_txt(validation_labels_dir, json_file)\n",
    "\n",
    "# test 데이터\n",
    "test_labels = os.listdir(test_labels_json_dir)\n",
    "\n",
    "for label_json in test_labels:\n",
    "    json_file = os.path.join(test_labels_json_dir, label_json)\n",
    "    convert_json_to_txt(test_labels_dir, json_file)"
   ]
  },
  {
   "cell_type": "code",
   "execution_count": 54,
   "metadata": {},
   "outputs": [
    {
     "name": "stdout",
     "output_type": "stream",
     "text": [
      "훈련용 라벨 개수 : 15065\n",
      "valid 라벨 개수 : 3767\n",
      "test 라벨 개수 : 4709\n"
     ]
    }
   ],
   "source": [
    "# 만들어진 라벨 데이터 수 확인\n",
    "print('훈련용 라벨 개수 :', len(os.listdir(train_labels_dir)))\n",
    "print('valid 라벨 개수 :', len(os.listdir(validation_labels_dir)))\n",
    "print('test 라벨 개수 :', len(os.listdir(test_labels_dir)))"
   ]
  },
  {
   "cell_type": "markdown",
   "metadata": {},
   "source": [
    "#### YOLOv5 Model 불러오기"
   ]
  },
  {
   "cell_type": "markdown",
   "metadata": {},
   "source": [
    "Yolov5 모델구조 => 이미지, 라벨 파일 bash 창에서 이동\n",
    "\n",
    "- dataset\n",
    "    -  images\n",
    "        - test\n",
    "        - train\n",
    "        - validation\n",
    "    - labels\n",
    "        - test\n",
    "        - train\n",
    "        - validation\n",
    "    \n",
    "- data\n",
    "    - data.yaml\\\n",
    "        [path: root 디렉토리,\\\n",
    "        train: images/train 학습 데이터 경로\\\n",
    "        val: images/validation 검증 데이터 경로\\\n",
    "        test: images/test 테스트 데이터 경로\\\n",
    "        nc: 2 클래스 수\\\n",
    "        name: ['...', '...'] 클래스 이름]"
   ]
  },
  {
   "cell_type": "code",
   "execution_count": 55,
   "metadata": {},
   "outputs": [
    {
     "name": "stdout",
     "output_type": "stream",
     "text": [
      "15065 3767 4709\n"
     ]
    }
   ],
   "source": [
    "# 이미지 경로 변경 (yolov5/dataset으로 변경)/\n",
    "# base_dir_new = '/home/jngmk/Downloads/datasets/yolov5/dataset'\n",
    "\n",
    "# 복사된 이미지 개수 확인\n",
    "train_images = os.listdir(train_images_dir)\n",
    "validation_images = os.listdir(validation_images_dir)\n",
    "test_images = os.listdir(test_images_dir)\n",
    "\n",
    "print(len(train_images), len(validation_images), len(test_images))"
   ]
  },
  {
   "cell_type": "code",
   "execution_count": 56,
   "metadata": {},
   "outputs": [
    {
     "data": {
      "text/plain": [
       "'/home/jngmk/Downloads/datasets/yolov5'"
      ]
     },
     "execution_count": 56,
     "metadata": {},
     "output_type": "execute_result"
    }
   ],
   "source": [
    "os.getcwd()"
   ]
  },
  {
   "cell_type": "code",
   "execution_count": 60,
   "metadata": {},
   "outputs": [
    {
     "name": "stderr",
     "output_type": "stream",
     "text": [
      "100%|██████████| 23541/23541 [1:48:50<00:00,  3.60it/s]  \n"
     ]
    }
   ],
   "source": [
    "# 아래에서 이미지를 못 읽어옴\n",
    "\n",
    "# opencv로 파일 열어서 다시 저장하기 \n",
    "# 오류 해결 가능 => UnidentifiedImageError: cannot identify image file <_io.BytesIO object at 0x7f9e185347d0> \n",
    "\n",
    "import PIL, glob\n",
    "import cv2\n",
    "from tqdm import tqdm\n",
    "\n",
    "imgs_ = glob.glob(f\"./dataset/images/*/*\")\n",
    "\n",
    "def imageRefine(image):\n",
    "    for img in tqdm(image):\n",
    "        try:\n",
    "            src = cv2.imread(img, cv2.IMREAD_UNCHANGED)\n",
    "            cv2.imwrite(img, src)\n",
    "\n",
    "        except PIL.UnidentifiedImageError:\n",
    "            print(img)\n",
    "            cv2.imwrite(img, src)\n",
    "\n",
    "imageRefine(imgs_)"
   ]
  },
  {
   "cell_type": "code",
   "execution_count": 61,
   "metadata": {},
   "outputs": [
    {
     "name": "stdout",
     "output_type": "stream",
     "text": [
      "15065 3767 4709\n"
     ]
    }
   ],
   "source": [
    "print(len(train_images), len(validation_images), len(test_images))"
   ]
  },
  {
   "cell_type": "code",
   "execution_count": 62,
   "metadata": {},
   "outputs": [
    {
     "name": "stdout",
     "output_type": "stream",
     "text": [
      "15065\n"
     ]
    }
   ],
   "source": [
    "cnt = 0\n",
    "\n",
    "for train_img in train_images:\n",
    "    for train_label in train_labels:\n",
    "        if train_img.split('.')[0] == train_label.split('.')[0]:\n",
    "            cnt += 1\n",
    "\n",
    "print(cnt)"
   ]
  },
  {
   "cell_type": "code",
   "execution_count": 3,
   "metadata": {},
   "outputs": [
    {
     "data": {
      "text/plain": [
       "\"\\npath: ./dataset/\\n\\ntrain: images/train\\nval: images/validation\\ntest: images/test\\n\\nnc: 2\\nnames: ['normal data', 'powdery mildew']\\n\""
      ]
     },
     "execution_count": 3,
     "metadata": {},
     "output_type": "execute_result"
    }
   ],
   "source": [
    "# Disease_copy/data.yaml 파일 생성\n",
    "\n",
    "# 파일 내용\n",
    "'''\n",
    "path: ./dataset/\n",
    "\n",
    "train: images/train\n",
    "val: images/validation\n",
    "test: images/test\n",
    "\n",
    "nc: 2\n",
    "names: ['normal data', 'powdery mildew']\n",
    "'''"
   ]
  },
  {
   "cell_type": "code",
   "execution_count": 63,
   "metadata": {},
   "outputs": [
    {
     "name": "stdout",
     "output_type": "stream",
     "text": [
      "{'path': './dataset/', 'train': 'images/train', 'val': 'images/validation', 'test': 'images/test', 'nc': 2, 'names': ['normal data', 'powdery mildew']}\n"
     ]
    }
   ],
   "source": [
    "import yaml\n",
    "\n",
    "# data.yaml 확인\n",
    "with open('/home/jngmk/Downloads/datasets/yolov5/data/data.yaml', 'r') as f:\n",
    "    data = yaml.full_load(f)\n",
    "\n",
    "print(data)"
   ]
  },
  {
   "cell_type": "code",
   "execution_count": 14,
   "metadata": {},
   "outputs": [
    {
     "name": "stdout",
     "output_type": "stream",
     "text": [
      "Cloning into 'yolov5'...\n",
      "remote: Enumerating objects: 13163, done.\u001b[K\n",
      "remote: Total 13163 (delta 0), reused 0 (delta 0), pack-reused 13163\u001b[K\n",
      "Receiving objects: 100% (13163/13163), 11.94 MiB | 8.42 MiB/s, done.\n",
      "Resolving deltas: 100% (9154/9154), done.\n"
     ]
    }
   ],
   "source": [
    "# yolov5 모델 불러오기\n",
    "!git clone https://github.com/ultralytics/yolov5.git"
   ]
  },
  {
   "cell_type": "code",
   "execution_count": 29,
   "metadata": {},
   "outputs": [
    {
     "name": "stdout",
     "output_type": "stream",
     "text": [
      "Collecting matplotlib>=3.2.2\n",
      "  Downloading matplotlib-3.5.1-cp37-cp37m-manylinux_2_5_x86_64.manylinux1_x86_64.whl (11.2 MB)\n",
      "\u001b[K     |████████████████████████████████| 11.2 MB 393 kB/s  eta 0:00:01\n",
      "\u001b[?25hRequirement already satisfied: numpy>=1.18.5 in /home/jngmk/anaconda3/envs/project/lib/python3.7/site-packages (from -r /home/jngmk/Downloads/datasets/yolov5/requirements.txt (line 5)) (1.21.5)\n",
      "Requirement already satisfied: opencv-python>=4.1.1 in /home/jngmk/anaconda3/envs/project/lib/python3.7/site-packages (from -r /home/jngmk/Downloads/datasets/yolov5/requirements.txt (line 6)) (4.5.5.64)\n",
      "Requirement already satisfied: Pillow>=7.1.2 in /home/jngmk/anaconda3/envs/project/lib/python3.7/site-packages (from -r /home/jngmk/Downloads/datasets/yolov5/requirements.txt (line 7)) (9.0.1)\n",
      "Requirement already satisfied: PyYAML>=5.3.1 in /home/jngmk/anaconda3/envs/project/lib/python3.7/site-packages (from -r /home/jngmk/Downloads/datasets/yolov5/requirements.txt (line 8)) (6.0)\n",
      "Requirement already satisfied: requests>=2.23.0 in /home/jngmk/anaconda3/envs/project/lib/python3.7/site-packages (from -r /home/jngmk/Downloads/datasets/yolov5/requirements.txt (line 9)) (2.27.1)\n",
      "Collecting scipy>=1.5\n",
      "  Using cached scipy-1.7.3-cp37-cp37m-manylinux_2_12_x86_64.manylinux2010_x86_64.whl (38.1 MB)\n",
      "Requirement already satisfied: torch>=1.7.0 in /home/jngmk/anaconda3/envs/project/lib/python3.7/site-packages (from -r /home/jngmk/Downloads/datasets/yolov5/requirements.txt (line 11)) (1.11.0)\n",
      "Requirement already satisfied: torchvision>=0.8.1 in /home/jngmk/anaconda3/envs/project/lib/python3.7/site-packages (from -r /home/jngmk/Downloads/datasets/yolov5/requirements.txt (line 12)) (0.12.0)\n",
      "Requirement already satisfied: tqdm>=4.41.0 in /home/jngmk/anaconda3/envs/project/lib/python3.7/site-packages (from -r /home/jngmk/Downloads/datasets/yolov5/requirements.txt (line 13)) (4.64.0)\n",
      "Requirement already satisfied: tensorboard>=2.4.1 in /home/jngmk/anaconda3/envs/project/lib/python3.7/site-packages (from -r /home/jngmk/Downloads/datasets/yolov5/requirements.txt (line 16)) (2.9.0)\n",
      "Collecting pandas>=1.1.4\n",
      "  Using cached pandas-1.3.5-cp37-cp37m-manylinux_2_17_x86_64.manylinux2014_x86_64.whl (11.3 MB)\n",
      "Collecting seaborn>=0.11.0\n",
      "  Downloading seaborn-0.11.2-py3-none-any.whl (292 kB)\n",
      "\u001b[K     |████████████████████████████████| 292 kB 10.9 MB/s eta 0:00:01\n",
      "\u001b[?25hCollecting thop\n",
      "  Downloading thop-0.0.31.post2005241907-py3-none-any.whl (8.7 kB)\n",
      "Requirement already satisfied: python-dateutil>=2.7 in /home/jngmk/anaconda3/envs/project/lib/python3.7/site-packages (from matplotlib>=3.2.2->-r /home/jngmk/Downloads/datasets/yolov5/requirements.txt (line 4)) (2.8.2)\n",
      "Requirement already satisfied: packaging>=20.0 in /home/jngmk/anaconda3/envs/project/lib/python3.7/site-packages (from matplotlib>=3.2.2->-r /home/jngmk/Downloads/datasets/yolov5/requirements.txt (line 4)) (21.3)\n",
      "Collecting kiwisolver>=1.0.1\n",
      "  Downloading kiwisolver-1.4.2-cp37-cp37m-manylinux_2_5_x86_64.manylinux1_x86_64.whl (1.1 MB)\n",
      "\u001b[K     |████████████████████████████████| 1.1 MB 11.1 MB/s eta 0:00:01\n",
      "\u001b[?25hCollecting fonttools>=4.22.0\n",
      "  Downloading fonttools-4.33.3-py3-none-any.whl (930 kB)\n",
      "\u001b[K     |████████████████████████████████| 930 kB 10.9 MB/s eta 0:00:01\n",
      "\u001b[?25hCollecting cycler>=0.10\n",
      "  Downloading cycler-0.11.0-py3-none-any.whl (6.4 kB)\n",
      "Requirement already satisfied: pyparsing>=2.2.1 in /home/jngmk/anaconda3/envs/project/lib/python3.7/site-packages (from matplotlib>=3.2.2->-r /home/jngmk/Downloads/datasets/yolov5/requirements.txt (line 4)) (3.0.8)\n",
      "Requirement already satisfied: idna<4,>=2.5 in /home/jngmk/anaconda3/envs/project/lib/python3.7/site-packages (from requests>=2.23.0->-r /home/jngmk/Downloads/datasets/yolov5/requirements.txt (line 9)) (3.3)\n",
      "Requirement already satisfied: certifi>=2017.4.17 in /home/jngmk/anaconda3/envs/project/lib/python3.7/site-packages (from requests>=2.23.0->-r /home/jngmk/Downloads/datasets/yolov5/requirements.txt (line 9)) (2021.10.8)\n",
      "Requirement already satisfied: charset-normalizer~=2.0.0 in /home/jngmk/anaconda3/envs/project/lib/python3.7/site-packages (from requests>=2.23.0->-r /home/jngmk/Downloads/datasets/yolov5/requirements.txt (line 9)) (2.0.4)\n",
      "Requirement already satisfied: urllib3<1.27,>=1.21.1 in /home/jngmk/anaconda3/envs/project/lib/python3.7/site-packages (from requests>=2.23.0->-r /home/jngmk/Downloads/datasets/yolov5/requirements.txt (line 9)) (1.26.9)\n",
      "Requirement already satisfied: typing_extensions in /home/jngmk/anaconda3/envs/project/lib/python3.7/site-packages (from torch>=1.7.0->-r /home/jngmk/Downloads/datasets/yolov5/requirements.txt (line 11)) (4.1.1)\n",
      "Requirement already satisfied: absl-py>=0.4 in /home/jngmk/anaconda3/envs/project/lib/python3.7/site-packages (from tensorboard>=2.4.1->-r /home/jngmk/Downloads/datasets/yolov5/requirements.txt (line 16)) (1.0.0)\n",
      "Requirement already satisfied: tensorboard-plugin-wit>=1.6.0 in /home/jngmk/anaconda3/envs/project/lib/python3.7/site-packages (from tensorboard>=2.4.1->-r /home/jngmk/Downloads/datasets/yolov5/requirements.txt (line 16)) (1.8.1)\n",
      "Requirement already satisfied: wheel>=0.26 in /home/jngmk/anaconda3/envs/project/lib/python3.7/site-packages (from tensorboard>=2.4.1->-r /home/jngmk/Downloads/datasets/yolov5/requirements.txt (line 16)) (0.37.1)\n",
      "Requirement already satisfied: protobuf>=3.9.2 in /home/jngmk/anaconda3/envs/project/lib/python3.7/site-packages (from tensorboard>=2.4.1->-r /home/jngmk/Downloads/datasets/yolov5/requirements.txt (line 16)) (3.20.1)\n",
      "Requirement already satisfied: tensorboard-data-server<0.7.0,>=0.6.0 in /home/jngmk/anaconda3/envs/project/lib/python3.7/site-packages (from tensorboard>=2.4.1->-r /home/jngmk/Downloads/datasets/yolov5/requirements.txt (line 16)) (0.6.1)\n",
      "Requirement already satisfied: google-auth-oauthlib<0.5,>=0.4.1 in /home/jngmk/anaconda3/envs/project/lib/python3.7/site-packages (from tensorboard>=2.4.1->-r /home/jngmk/Downloads/datasets/yolov5/requirements.txt (line 16)) (0.4.6)\n",
      "Requirement already satisfied: setuptools>=41.0.0 in /home/jngmk/anaconda3/envs/project/lib/python3.7/site-packages (from tensorboard>=2.4.1->-r /home/jngmk/Downloads/datasets/yolov5/requirements.txt (line 16)) (61.2.0)\n",
      "Collecting markdown>=2.6.8\n",
      "  Using cached Markdown-3.3.6-py3-none-any.whl (97 kB)\n",
      "Requirement already satisfied: google-auth<3,>=1.6.3 in /home/jngmk/anaconda3/envs/project/lib/python3.7/site-packages (from tensorboard>=2.4.1->-r /home/jngmk/Downloads/datasets/yolov5/requirements.txt (line 16)) (2.6.6)\n",
      "Collecting werkzeug>=1.0.1\n",
      "  Downloading Werkzeug-2.1.2-py3-none-any.whl (224 kB)\n",
      "\u001b[K     |████████████████████████████████| 224 kB 11.0 MB/s eta 0:00:01\n",
      "\u001b[?25hRequirement already satisfied: grpcio>=1.24.3 in /home/jngmk/anaconda3/envs/project/lib/python3.7/site-packages (from tensorboard>=2.4.1->-r /home/jngmk/Downloads/datasets/yolov5/requirements.txt (line 16)) (1.44.0)\n",
      "Requirement already satisfied: pytz>=2017.3 in /home/jngmk/anaconda3/envs/project/lib/python3.7/site-packages (from pandas>=1.1.4->-r /home/jngmk/Downloads/datasets/yolov5/requirements.txt (line 20)) (2022.1)\n",
      "Requirement already satisfied: six in /home/jngmk/anaconda3/envs/project/lib/python3.7/site-packages (from absl-py>=0.4->tensorboard>=2.4.1->-r /home/jngmk/Downloads/datasets/yolov5/requirements.txt (line 16)) (1.16.0)\n",
      "Requirement already satisfied: cachetools<6.0,>=2.0.0 in /home/jngmk/anaconda3/envs/project/lib/python3.7/site-packages (from google-auth<3,>=1.6.3->tensorboard>=2.4.1->-r /home/jngmk/Downloads/datasets/yolov5/requirements.txt (line 16)) (5.0.0)\n",
      "Requirement already satisfied: rsa<5,>=3.1.4 in /home/jngmk/anaconda3/envs/project/lib/python3.7/site-packages (from google-auth<3,>=1.6.3->tensorboard>=2.4.1->-r /home/jngmk/Downloads/datasets/yolov5/requirements.txt (line 16)) (4.8)\n",
      "Requirement already satisfied: pyasn1-modules>=0.2.1 in /home/jngmk/anaconda3/envs/project/lib/python3.7/site-packages (from google-auth<3,>=1.6.3->tensorboard>=2.4.1->-r /home/jngmk/Downloads/datasets/yolov5/requirements.txt (line 16)) (0.2.8)\n",
      "Collecting requests-oauthlib>=0.7.0\n",
      "  Using cached requests_oauthlib-1.3.1-py2.py3-none-any.whl (23 kB)\n",
      "Collecting importlib-metadata>=4.4\n",
      "  Using cached importlib_metadata-4.11.3-py3-none-any.whl (18 kB)\n",
      "Collecting zipp>=0.5\n",
      "  Using cached zipp-3.8.0-py3-none-any.whl (5.4 kB)\n",
      "Requirement already satisfied: pyasn1<0.5.0,>=0.4.6 in /home/jngmk/anaconda3/envs/project/lib/python3.7/site-packages (from pyasn1-modules>=0.2.1->google-auth<3,>=1.6.3->tensorboard>=2.4.1->-r /home/jngmk/Downloads/datasets/yolov5/requirements.txt (line 16)) (0.4.8)\n",
      "Requirement already satisfied: oauthlib>=3.0.0 in /home/jngmk/anaconda3/envs/project/lib/python3.7/site-packages (from requests-oauthlib>=0.7.0->google-auth-oauthlib<0.5,>=0.4.1->tensorboard>=2.4.1->-r /home/jngmk/Downloads/datasets/yolov5/requirements.txt (line 16)) (3.2.0)\n",
      "Installing collected packages: zipp, requests-oauthlib, kiwisolver, importlib-metadata, fonttools, cycler, werkzeug, scipy, pandas, matplotlib, markdown, thop, seaborn\n",
      "Successfully installed cycler-0.11.0 fonttools-4.33.3 importlib-metadata-4.11.3 kiwisolver-1.4.2 markdown-3.3.6 matplotlib-3.5.1 pandas-1.3.5 requests-oauthlib-1.3.1 scipy-1.7.3 seaborn-0.11.2 thop-0.0.31.post2005241907 werkzeug-2.1.2 zipp-3.8.0\n"
     ]
    }
   ],
   "source": [
    "# yolov5를 위한 패키지 설치 (yolov5 폴더 안에 있는 requirements.txt)\n",
    "!pip install -r \"/home/jngmk/Downloads/datasets/yolov5/requirements.txt\""
   ]
  },
  {
   "cell_type": "code",
   "execution_count": 30,
   "metadata": {},
   "outputs": [
    {
     "name": "stdout",
     "output_type": "stream",
     "text": [
      "Requirement already satisfied: scipy in /home/jngmk/anaconda3/envs/project/lib/python3.7/site-packages (1.7.3)\n",
      "Requirement already satisfied: numpy<1.23.0,>=1.16.5 in /home/jngmk/anaconda3/envs/project/lib/python3.7/site-packages (from scipy) (1.21.5)\n"
     ]
    }
   ],
   "source": [
    "!pip install scipy --upgrade"
   ]
  },
  {
   "cell_type": "markdown",
   "metadata": {},
   "source": [
    "#### 모델 학습"
   ]
  },
  {
   "cell_type": "code",
   "execution_count": 5,
   "metadata": {},
   "outputs": [],
   "source": [
    "# 학습 전 현재 경로 확인"
   ]
  },
  {
   "cell_type": "code",
   "execution_count": 66,
   "metadata": {},
   "outputs": [
    {
     "name": "stdout",
     "output_type": "stream",
     "text": [
      "/home/jngmk/Downloads/datasets/yolov5\n"
     ]
    }
   ],
   "source": [
    "cd /home/jngmk/Downloads/datasets/yolov5"
   ]
  },
  {
   "cell_type": "code",
   "execution_count": 67,
   "metadata": {},
   "outputs": [
    {
     "data": {
      "text/plain": [
       "'/home/jngmk/Downloads/datasets/yolov5'"
      ]
     },
     "execution_count": 67,
     "metadata": {},
     "output_type": "execute_result"
    }
   ],
   "source": [
    "os.getcwd()"
   ]
  },
  {
   "cell_type": "code",
   "execution_count": 68,
   "metadata": {},
   "outputs": [
    {
     "name": "stdout",
     "output_type": "stream",
     "text": [
      "\u001b[34m\u001b[1mwandb\u001b[0m: Currently logged in as: \u001b[33mhyeeein\u001b[0m. Use \u001b[1m`wandb login --relogin`\u001b[0m to force relogin\n",
      "\u001b[34m\u001b[1mtrain: \u001b[0mweights=yolov5s.pt, cfg=./models/yolov5s.yaml, data=data/data.yaml, hyp=data/hyps/hyp.scratch-low.yaml, epochs=20, batch_size=20, imgsz=224, rect=False, resume=False, nosave=False, noval=False, noautoanchor=False, noplots=False, evolve=None, bucket=, cache=None, image_weights=False, device=cuda:0, multi_scale=False, single_cls=False, optimizer=SGD, sync_bn=False, workers=8, project=runs/train, name=yolov5s_results_ver, exist_ok=False, quad=False, cos_lr=False, label_smoothing=0.0, patience=100, freeze=[0], save_period=-1, local_rank=-1, entity=None, upload_dataset=False, bbox_interval=-1, artifact_alias=latest\n",
      "remote: Enumerating objects: 25, done.\u001b[K\n",
      "remote: Counting objects: 100% (23/23), done.\u001b[K\n",
      "remote: Compressing objects: 100% (12/12), done.\u001b[K\n",
      "remote: Total 25 (delta 12), reused 15 (delta 11), pack-reused 2\u001b[K\n",
      "Unpacking objects: 100% (25/25), 18.02 KiB | 3.00 MiB/s, done.\n",
      "From https://github.com/ultralytics/yolov5\n",
      "   c4862fc..c4cb7c6  master             -> origin/master\n",
      "   b4f7fc5..6cd71ba  test/convtranspose -> origin/test/convtranspose\n",
      "\u001b[34m\u001b[1mgithub: \u001b[0m⚠️ YOLOv5 is out of date by 4 commits. Use `git pull` or `git clone https://github.com/ultralytics/yolov5` to update.\n",
      "YOLOv5 🚀 v6.1-170-gbff6e51 torch 1.11.0 CUDA:0 (NVIDIA GeForce GTX 1070 Ti, 8116MiB)\n",
      "\n",
      "\u001b[34m\u001b[1mhyperparameters: \u001b[0mlr0=0.01, lrf=0.01, momentum=0.937, weight_decay=0.0005, warmup_epochs=3.0, warmup_momentum=0.8, warmup_bias_lr=0.1, box=0.05, cls=0.5, cls_pw=1.0, obj=1.0, obj_pw=1.0, iou_t=0.2, anchor_t=4.0, fl_gamma=0.0, hsv_h=0.015, hsv_s=0.7, hsv_v=0.4, degrees=0.0, translate=0.1, scale=0.5, shear=0.0, perspective=0.0, flipud=0.0, fliplr=0.5, mosaic=1.0, mixup=0.0, copy_paste=0.0\n",
      "\u001b[34m\u001b[1mTensorBoard: \u001b[0mStart with 'tensorboard --logdir runs/train', view at http://localhost:6006/\n",
      "\u001b[34m\u001b[1mwandb\u001b[0m: Tracking run with wandb version 0.12.16\n",
      "\u001b[34m\u001b[1mwandb\u001b[0m: Run data is saved locally in \u001b[35m\u001b[1m/home/jngmk/Downloads/datasets/yolov5/wandb/run-20220504_125238-387qvk0o\u001b[0m\n",
      "\u001b[34m\u001b[1mwandb\u001b[0m: Run \u001b[1m`wandb offline`\u001b[0m to turn off syncing.\n",
      "\u001b[34m\u001b[1mwandb\u001b[0m: Syncing run \u001b[33myolov5s_results_ver\u001b[0m\n",
      "\u001b[34m\u001b[1mwandb\u001b[0m: ⭐️ View project at \u001b[34m\u001b[4mhttps://wandb.ai/hyeeein/YOLOv5\u001b[0m\n",
      "\u001b[34m\u001b[1mwandb\u001b[0m: 🚀 View run at \u001b[34m\u001b[4mhttps://wandb.ai/hyeeein/YOLOv5/runs/387qvk0o\u001b[0m\n",
      "YOLOv5 temporarily requires wandb version 0.12.10 or below. Some features may not work as expected.\n",
      "Overriding model.yaml nc=80 with nc=2\n",
      "\n",
      "                 from  n    params  module                                  arguments                     \n",
      "  0                -1  1      3520  models.common.Conv                      [3, 32, 6, 2, 2]              \n",
      "  1                -1  1     18560  models.common.Conv                      [32, 64, 3, 2]                \n",
      "  2                -1  1     18816  models.common.C3                        [64, 64, 1]                   \n",
      "  3                -1  1     73984  models.common.Conv                      [64, 128, 3, 2]               \n",
      "  4                -1  2    115712  models.common.C3                        [128, 128, 2]                 \n",
      "  5                -1  1    295424  models.common.Conv                      [128, 256, 3, 2]              \n",
      "  6                -1  3    625152  models.common.C3                        [256, 256, 3]                 \n",
      "  7                -1  1   1180672  models.common.Conv                      [256, 512, 3, 2]              \n",
      "  8                -1  1   1182720  models.common.C3                        [512, 512, 1]                 \n",
      "  9                -1  1    656896  models.common.SPPF                      [512, 512, 5]                 \n",
      " 10                -1  1    131584  models.common.Conv                      [512, 256, 1, 1]              \n",
      " 11                -1  1         0  torch.nn.modules.upsampling.Upsample    [None, 2, 'nearest']          \n",
      " 12           [-1, 6]  1         0  models.common.Concat                    [1]                           \n",
      " 13                -1  1    361984  models.common.C3                        [512, 256, 1, False]          \n",
      " 14                -1  1     33024  models.common.Conv                      [256, 128, 1, 1]              \n",
      " 15                -1  1         0  torch.nn.modules.upsampling.Upsample    [None, 2, 'nearest']          \n",
      " 16           [-1, 4]  1         0  models.common.Concat                    [1]                           \n",
      " 17                -1  1     90880  models.common.C3                        [256, 128, 1, False]          \n",
      " 18                -1  1    147712  models.common.Conv                      [128, 128, 3, 2]              \n",
      " 19          [-1, 14]  1         0  models.common.Concat                    [1]                           \n",
      " 20                -1  1    296448  models.common.C3                        [256, 256, 1, False]          \n",
      " 21                -1  1    590336  models.common.Conv                      [256, 256, 3, 2]              \n",
      " 22          [-1, 10]  1         0  models.common.Concat                    [1]                           \n",
      " 23                -1  1   1182720  models.common.C3                        [512, 512, 1, False]          \n",
      " 24      [17, 20, 23]  1     18879  models.yolo.Detect                      [2, [[10, 13, 16, 30, 33, 23], [30, 61, 62, 45, 59, 119], [116, 90, 156, 198, 373, 326]], [128, 256, 512]]\n",
      "YOLOv5s summary: 270 layers, 7025023 parameters, 7025023 gradients, 15.9 GFLOPs\n",
      "\n",
      "Transferred 342/349 items from yolov5s.pt\n",
      "Scaled weight_decay = 0.00046875\n",
      "\u001b[34m\u001b[1moptimizer:\u001b[0m SGD with parameter groups 57 weight (no decay), 60 weight, 60 bias\n",
      "\u001b[34m\u001b[1mtrain: \u001b[0mScanning '/home/jngmk/Downloads/datasets/yolov5/dataset/labels/train' ima\u001b[0m\n",
      "\u001b[34m\u001b[1mtrain: \u001b[0mWARNING: /home/jngmk/Downloads/datasets/yolov5/dataset/images/train/V006_79_0_00_01_03_11_0_b02_20201013_0029_S01_1.jpg: ignoring corrupt image/label: non-normalized or out of bounds coordinates [     1.1875]\n",
      "\u001b[34m\u001b[1mtrain: \u001b[0mWARNING: /home/jngmk/Downloads/datasets/yolov5/dataset/images/train/V006_79_0_00_01_03_11_0_b02_20201021_0017_S01_1.jpg: ignoring corrupt image/label: non-normalized or out of bounds coordinates [     1.0215]\n",
      "\u001b[34m\u001b[1mtrain: \u001b[0mWARNING: /home/jngmk/Downloads/datasets/yolov5/dataset/images/train/V006_79_0_00_01_03_11_0_b02_20201021_0018_S01_1.jpg: ignoring corrupt image/label: non-normalized or out of bounds coordinates [     1.0661]\n",
      "\u001b[34m\u001b[1mtrain: \u001b[0mWARNING: /home/jngmk/Downloads/datasets/yolov5/dataset/images/train/V006_79_0_00_01_03_11_0_b02_20201021_0019_S01_1.jpg: ignoring corrupt image/label: non-normalized or out of bounds coordinates [     1.0149]\n",
      "\u001b[34m\u001b[1mtrain: \u001b[0mWARNING: /home/jngmk/Downloads/datasets/yolov5/dataset/images/train/V006_79_0_00_01_03_11_0_b02_20201021_0027_S01_1.jpg: ignoring corrupt image/label: non-normalized or out of bounds coordinates [     1.0317]\n",
      "\u001b[34m\u001b[1mtrain: \u001b[0mWARNING: /home/jngmk/Downloads/datasets/yolov5/dataset/images/train/V006_79_0_00_01_03_11_0_b02_20201021_0030_S01_1.jpg: ignoring corrupt image/label: non-normalized or out of bounds coordinates [     1.0025]\n",
      "\u001b[34m\u001b[1mtrain: \u001b[0mWARNING: /home/jngmk/Downloads/datasets/yolov5/dataset/images/train/V006_79_0_00_01_03_11_0_b02_20201021_0037_S01_1.jpg: ignoring corrupt image/label: non-normalized or out of bounds coordinates [     1.0389]\n",
      "\u001b[34m\u001b[1mtrain: \u001b[0mWARNING: /home/jngmk/Downloads/datasets/yolov5/dataset/images/train/V006_79_0_00_01_03_11_0_c07_20201216_0001_S01_4.jpg: ignoring corrupt image/label: non-normalized or out of bounds coordinates [     1.0078]\n",
      "\u001b[34m\u001b[1mtrain: \u001b[0mWARNING: /home/jngmk/Downloads/datasets/yolov5/dataset/images/train/V006_79_0_00_01_03_11_0_c07_20201216_0004_S01_4.jpg: ignoring corrupt image/label: non-normalized or out of bounds coordinates [     1.0547]\n",
      "\u001b[34m\u001b[1mtrain: \u001b[0mWARNING: /home/jngmk/Downloads/datasets/yolov5/dataset/images/train/V006_79_0_00_01_03_11_0_c16_20201209_0002_S01_1.jpg: ignoring corrupt image/label: non-normalized or out of bounds coordinates [     1.1016]\n",
      "\u001b[34m\u001b[1mtrain: \u001b[0mWARNING: /home/jngmk/Downloads/datasets/yolov5/dataset/images/train/V006_79_0_00_01_03_11_0_c16_20201209_0006_S01_1.jpg: ignoring corrupt image/label: non-normalized or out of bounds coordinates [     1.0279]\n",
      "\u001b[34m\u001b[1mtrain: \u001b[0mWARNING: /home/jngmk/Downloads/datasets/yolov5/dataset/images/train/V006_79_0_00_01_03_11_0_c16_20201209_0011_S01_1.jpg: ignoring corrupt image/label: non-normalized or out of bounds coordinates [     1.0494]\n",
      "\u001b[34m\u001b[1mtrain: \u001b[0mWARNING: /home/jngmk/Downloads/datasets/yolov5/dataset/images/train/V006_79_0_00_01_03_11_0_c17_20201214_0021_S01_1.jpg: ignoring corrupt image/label: non-normalized or out of bounds coordinates [     1.0214]\n",
      "\u001b[34m\u001b[1mtrain: \u001b[0mWARNING: /home/jngmk/Downloads/datasets/yolov5/dataset/images/train/V006_79_0_00_01_03_12_0_b03_20201104_0058_S01_1.jpg: ignoring corrupt image/label: non-normalized or out of bounds coordinates [     1.0853]\n",
      "\u001b[34m\u001b[1mtrain: \u001b[0mWARNING: /home/jngmk/Downloads/datasets/yolov5/dataset/images/train/V006_79_0_00_01_03_12_0_b04_20201021_0002_S01_1.jpg: ignoring corrupt image/label: non-normalized or out of bounds coordinates [     1.0527]\n",
      "\u001b[34m\u001b[1mtrain: \u001b[0mWARNING: /home/jngmk/Downloads/datasets/yolov5/dataset/images/train/V006_79_0_00_01_03_12_0_b04_20201021_0007_S01_1.jpg: ignoring corrupt image/label: non-normalized or out of bounds coordinates [     1.1481]\n",
      "\u001b[34m\u001b[1mtrain: \u001b[0mWARNING: /home/jngmk/Downloads/datasets/yolov5/dataset/images/train/V006_79_0_00_01_03_12_0_b04_20201021_0010_S01_1.jpg: ignoring corrupt image/label: non-normalized or out of bounds coordinates [     1.0171]\n",
      "\u001b[34m\u001b[1mtrain: \u001b[0mWARNING: /home/jngmk/Downloads/datasets/yolov5/dataset/images/train/V006_79_0_00_01_03_12_0_c28_20201027_0006_S01_1.jpg: ignoring corrupt image/label: non-normalized or out of bounds coordinates [     1.0655]\n",
      "\u001b[34m\u001b[1mtrain: \u001b[0mWARNING: /home/jngmk/Downloads/datasets/yolov5/dataset/images/train/V006_79_0_00_01_03_12_0_c29_20201027_0032_S01_1.jpg: ignoring corrupt image/label: non-normalized or out of bounds coordinates [     1.1216]\n",
      "\u001b[34m\u001b[1mtrain: \u001b[0mWARNING: /home/jngmk/Downloads/datasets/yolov5/dataset/images/train/V006_79_0_00_01_03_12_0_c29_20201110_0036_S01_1.jpg: ignoring corrupt image/label: non-normalized or out of bounds coordinates [     1.1878]\n",
      "\u001b[34m\u001b[1mtrain: \u001b[0mWARNING: /home/jngmk/Downloads/datasets/yolov5/dataset/images/train/V006_79_0_00_01_03_13_0_b05_20201208_0003_S01_2.jpg: ignoring corrupt image/label: non-normalized or out of bounds coordinates [     1.0035]\n",
      "\u001b[34m\u001b[1mtrain: \u001b[0mWARNING: /home/jngmk/Downloads/datasets/yolov5/dataset/images/train/V006_79_0_00_01_03_13_0_b05_20201208_0005_S01_2.jpg: ignoring corrupt image/label: non-normalized or out of bounds coordinates [     1.2287]\n",
      "\u001b[34m\u001b[1mtrain: \u001b[0mWARNING: /home/jngmk/Downloads/datasets/yolov5/dataset/images/train/V006_79_0_00_01_03_13_0_b05_20201208_0101_S01_1.jpg: ignoring corrupt image/label: non-normalized or out of bounds coordinates [     1.1073]\n",
      "\u001b[34m\u001b[1mtrain: \u001b[0mWARNING: /home/jngmk/Downloads/datasets/yolov5/dataset/images/train/V006_79_0_00_01_03_13_0_b05_20201208_0106_S01_1.jpg: ignoring corrupt image/label: non-normalized or out of bounds coordinates [     1.1222]\n",
      "\u001b[34m\u001b[1mtrain: \u001b[0mWARNING: /home/jngmk/Downloads/datasets/yolov5/dataset/images/train/V006_79_0_00_01_03_13_0_b05_20201208_0155_S01_1.jpg: ignoring corrupt image/label: non-normalized or out of bounds coordinates [     1.0863]\n",
      "\u001b[34m\u001b[1mtrain: \u001b[0mWARNING: /home/jngmk/Downloads/datasets/yolov5/dataset/images/train/V006_79_0_00_01_03_13_0_b05_20201208_0172_S01_1.jpg: ignoring corrupt image/label: non-normalized or out of bounds coordinates [     1.2093]\n",
      "\u001b[34m\u001b[1mtrain: \u001b[0mWARNING: /home/jngmk/Downloads/datasets/yolov5/dataset/images/train/V006_79_0_00_04_03_12_0_b11_20201007_0000_S01_1.jpg: ignoring corrupt image/label: non-normalized or out of bounds coordinates [     1.0015]\n",
      "\u001b[34m\u001b[1mtrain: \u001b[0mWARNING: /home/jngmk/Downloads/datasets/yolov5/dataset/images/train/V006_79_0_00_04_03_12_0_b11_20201007_0001_S02_1.jpg: ignoring corrupt image/label: non-normalized or out of bounds coordinates [     1.0509]\n",
      "\u001b[34m\u001b[1mtrain: \u001b[0mWARNING: /home/jngmk/Downloads/datasets/yolov5/dataset/images/train/V006_79_0_00_04_03_12_0_b11_20201007_0003_S02_1.jpg: ignoring corrupt image/label: non-normalized or out of bounds coordinates [     1.0827]\n",
      "\u001b[34m\u001b[1mtrain: \u001b[0mWARNING: /home/jngmk/Downloads/datasets/yolov5/dataset/images/train/V006_79_0_00_04_03_12_0_b11_20201007_0005_S02_1.jpg: ignoring corrupt image/label: non-normalized or out of bounds coordinates [     1.0298]\n",
      "\u001b[34m\u001b[1mtrain: \u001b[0mWARNING: /home/jngmk/Downloads/datasets/yolov5/dataset/images/train/V006_79_0_00_04_03_12_0_b11_20201007_0005_S02_2.jpg: ignoring corrupt image/label: non-normalized or out of bounds coordinates [     1.0255]\n",
      "\u001b[34m\u001b[1mtrain: \u001b[0mWARNING: /home/jngmk/Downloads/datasets/yolov5/dataset/images/train/V006_79_0_00_04_03_12_0_b11_20201007_0009_S02_1.jpg: ignoring corrupt image/label: non-normalized or out of bounds coordinates [     1.0347]\n",
      "\u001b[34m\u001b[1mtrain: \u001b[0mWARNING: /home/jngmk/Downloads/datasets/yolov5/dataset/images/train/V006_79_0_00_04_03_12_0_b11_20201007_0013_S01_1.jpg: ignoring corrupt image/label: non-normalized or out of bounds coordinates [     1.0407]\n",
      "\u001b[34m\u001b[1mtrain: \u001b[0mWARNING: /home/jngmk/Downloads/datasets/yolov5/dataset/images/train/V006_79_0_00_04_03_12_0_b11_20201007_0016_S01_1.jpg: ignoring corrupt image/label: non-normalized or out of bounds coordinates [     1.1276]\n",
      "\u001b[34m\u001b[1mtrain: \u001b[0mWARNING: /home/jngmk/Downloads/datasets/yolov5/dataset/images/train/V006_79_0_00_04_03_12_0_b11_20201012_0003_S02_1.jpg: ignoring corrupt image/label: non-normalized or out of bounds coordinates [     1.0012]\n",
      "\u001b[34m\u001b[1mtrain: \u001b[0mWARNING: /home/jngmk/Downloads/datasets/yolov5/dataset/images/train/V006_79_0_00_04_03_12_0_b11_20201016_0001_S02_4.jpg: ignoring corrupt image/label: non-normalized or out of bounds coordinates [     1.1584]\n",
      "\u001b[34m\u001b[1mtrain: \u001b[0mWARNING: /home/jngmk/Downloads/datasets/yolov5/dataset/images/train/V006_79_0_00_04_03_12_0_b11_20201016_0005_S02_4.jpg: ignoring corrupt image/label: non-normalized or out of bounds coordinates [     1.1473]\n",
      "\u001b[34m\u001b[1mtrain: \u001b[0mWARNING: /home/jngmk/Downloads/datasets/yolov5/dataset/images/train/V006_79_0_00_04_03_12_0_b11_20201016_0008_S02_4.jpg: ignoring corrupt image/label: non-normalized or out of bounds coordinates [     1.0784]\n",
      "\u001b[34m\u001b[1mtrain: \u001b[0mWARNING: /home/jngmk/Downloads/datasets/yolov5/dataset/images/train/V006_79_0_00_04_03_12_0_b11_20201016_0026_S02_4.jpg: ignoring corrupt image/label: non-normalized or out of bounds coordinates [     1.0434]\n",
      "\u001b[34m\u001b[1mtrain: \u001b[0mWARNING: /home/jngmk/Downloads/datasets/yolov5/dataset/images/train/V006_79_0_00_04_03_12_0_b11_20201016_0031_S02_4.jpg: ignoring corrupt image/label: non-normalized or out of bounds coordinates [     1.0162]\n",
      "\u001b[34m\u001b[1mtrain: \u001b[0mWARNING: /home/jngmk/Downloads/datasets/yolov5/dataset/images/train/V006_79_0_00_04_03_12_0_b11_20201028_0009_S02_3.jpg: ignoring corrupt image/label: non-normalized or out of bounds coordinates [     1.0283]\n",
      "\u001b[34m\u001b[1mtrain: \u001b[0mWARNING: /home/jngmk/Downloads/datasets/yolov5/dataset/images/train/V006_79_0_00_04_03_12_0_c38_20201019_0000_S02_3.jpg: ignoring corrupt image/label: non-normalized or out of bounds coordinates [     1.0286      1.1817]\n",
      "\u001b[34m\u001b[1mtrain: \u001b[0mWARNING: /home/jngmk/Downloads/datasets/yolov5/dataset/images/train/V006_79_0_00_04_03_12_0_c38_20201019_0005_S02_3.jpg: ignoring corrupt image/label: non-normalized or out of bounds coordinates [     1.1438]\n",
      "\u001b[34m\u001b[1mtrain: \u001b[0mWARNING: /home/jngmk/Downloads/datasets/yolov5/dataset/images/train/V006_79_0_00_04_03_12_0_c38_20201019_0007_S02_1.jpg: ignoring corrupt image/label: non-normalized or out of bounds coordinates [     1.0294]\n",
      "\u001b[34m\u001b[1mtrain: \u001b[0mWARNING: /home/jngmk/Downloads/datasets/yolov5/dataset/images/train/V006_79_0_00_04_03_12_0_c38_20201019_0017_S02_1.jpg: ignoring corrupt image/label: non-normalized or out of bounds coordinates [     1.1199]\n",
      "\u001b[34m\u001b[1mtrain: \u001b[0mWARNING: /home/jngmk/Downloads/datasets/yolov5/dataset/images/train/V006_79_0_00_04_03_12_0_c38_20201019_0019_S02_1.jpg: ignoring corrupt image/label: non-normalized or out of bounds coordinates [     1.0185]\n",
      "\u001b[34m\u001b[1mtrain: \u001b[0mWARNING: /home/jngmk/Downloads/datasets/yolov5/dataset/images/train/V006_79_0_00_04_03_12_0_c38_20201019_0024_S02_1.jpg: ignoring corrupt image/label: non-normalized or out of bounds coordinates [     1.0002]\n",
      "\u001b[34m\u001b[1mtrain: \u001b[0mWARNING: /home/jngmk/Downloads/datasets/yolov5/dataset/images/train/V006_79_0_00_04_03_12_0_c38_20201019_0037_S02_1.jpg: ignoring corrupt image/label: non-normalized or out of bounds coordinates [     1.0063]\n",
      "\u001b[34m\u001b[1mtrain: \u001b[0mWARNING: /home/jngmk/Downloads/datasets/yolov5/dataset/images/train/V006_79_0_00_04_03_12_0_c38_20201021_0004_S02_3.jpg: ignoring corrupt image/label: non-normalized or out of bounds coordinates [     1.0792]\n",
      "\u001b[34m\u001b[1mtrain: \u001b[0mWARNING: /home/jngmk/Downloads/datasets/yolov5/dataset/images/train/V006_79_0_00_04_03_12_0_c40_20201019_0001_S02_3.jpg: ignoring corrupt image/label: non-normalized or out of bounds coordinates [     1.0185]\n",
      "\u001b[34m\u001b[1mtrain: \u001b[0mWARNING: /home/jngmk/Downloads/datasets/yolov5/dataset/images/train/V006_79_0_00_04_03_13_0_a01_20201020_0019_S02_4.jpg: ignoring corrupt image/label: non-normalized or out of bounds coordinates [     1.0657      1.1241]\n",
      "\u001b[34m\u001b[1mtrain: \u001b[0mWARNING: /home/jngmk/Downloads/datasets/yolov5/dataset/images/train/V006_79_0_00_04_03_13_0_a01_20201020_0055_S02_4.jpg: ignoring corrupt image/label: non-normalized or out of bounds coordinates [     1.1609]\n",
      "\u001b[34m\u001b[1mtrain: \u001b[0mWARNING: /home/jngmk/Downloads/datasets/yolov5/dataset/images/train/V006_79_0_00_04_03_13_0_a01_20201020_0056_S02_4.jpg: ignoring corrupt image/label: non-normalized or out of bounds coordinates [     1.2827]\n",
      "\u001b[34m\u001b[1mtrain: \u001b[0mWARNING: /home/jngmk/Downloads/datasets/yolov5/dataset/images/train/V006_79_0_00_04_03_13_0_a01_20201020_0104_S02_4.jpg: ignoring corrupt image/label: non-normalized or out of bounds coordinates [     1.0194]\n",
      "\u001b[34m\u001b[1mtrain: \u001b[0mWARNING: /home/jngmk/Downloads/datasets/yolov5/dataset/images/train/V006_79_0_00_04_03_13_0_a01_20201020_0136_S02_4.jpg: ignoring corrupt image/label: non-normalized or out of bounds coordinates [     1.1471]\n",
      "\u001b[34m\u001b[1mtrain: \u001b[0mWARNING: /home/jngmk/Downloads/datasets/yolov5/dataset/images/train/V006_79_0_00_04_03_13_0_a01_20201020_0264_S02_4.jpg: ignoring corrupt image/label: non-normalized or out of bounds coordinates [     1.0286]\n",
      "\u001b[34m\u001b[1mtrain: \u001b[0mWARNING: /home/jngmk/Downloads/datasets/yolov5/dataset/images/train/V006_79_0_00_04_03_13_0_b01_20201020_0006_S02_3.jpg: ignoring corrupt image/label: non-normalized or out of bounds coordinates [     1.0344]\n",
      "\u001b[34m\u001b[1mtrain: \u001b[0mWARNING: /home/jngmk/Downloads/datasets/yolov5/dataset/images/train/V006_79_0_00_04_03_13_0_c24_20201020_0005_S02_4.jpg: ignoring corrupt image/label: non-normalized or out of bounds coordinates [     1.2956]\n",
      "\u001b[34m\u001b[1mtrain: \u001b[0mWARNING: /home/jngmk/Downloads/datasets/yolov5/dataset/images/train/V006_79_0_00_04_03_13_0_c24_20201020_0013_S02_4.jpg: ignoring corrupt image/label: non-normalized or out of bounds coordinates [     1.0443]\n",
      "\u001b[34m\u001b[1mtrain: \u001b[0mWARNING: /home/jngmk/Downloads/datasets/yolov5/dataset/images/train/V006_79_0_00_04_03_13_0_c24_20201020_0052_S02_4.jpg: ignoring corrupt image/label: non-normalized or out of bounds coordinates [     1.1551]\n",
      "\u001b[34m\u001b[1mtrain: \u001b[0mWARNING: /home/jngmk/Downloads/datasets/yolov5/dataset/images/train/V006_79_0_00_04_03_13_0_c24_20201020_0079_S02_4.jpg: ignoring corrupt image/label: non-normalized or out of bounds coordinates [     1.1319]\n",
      "\u001b[34m\u001b[1mtrain: \u001b[0mWARNING: /home/jngmk/Downloads/datasets/yolov5/dataset/images/train/V006_79_0_00_04_03_13_0_c24_20201020_0121_S02_4.jpg: ignoring corrupt image/label: non-normalized or out of bounds coordinates [     1.2126]\n",
      "\u001b[34m\u001b[1mtrain: \u001b[0mWARNING: /home/jngmk/Downloads/datasets/yolov5/dataset/images/train/V006_79_0_00_04_03_13_0_c24_20201020_0182_S02_4.jpg: ignoring corrupt image/label: non-normalized or out of bounds coordinates [     1.1564]\n",
      "\u001b[34m\u001b[1mtrain: \u001b[0mWARNING: /home/jngmk/Downloads/datasets/yolov5/dataset/images/train/V006_79_0_00_04_03_13_0_c24_20201020_0194_S02_4.jpg: ignoring corrupt image/label: non-normalized or out of bounds coordinates [     1.0556]\n",
      "\u001b[34m\u001b[1mtrain: \u001b[0mWARNING: /home/jngmk/Downloads/datasets/yolov5/dataset/images/train/V006_79_0_00_04_03_13_0_c24_20201020_0219_S02_4.jpg: ignoring corrupt image/label: non-normalized or out of bounds coordinates [     1.1905      1.0671]\n",
      "\u001b[34m\u001b[1mtrain: \u001b[0mWARNING: /home/jngmk/Downloads/datasets/yolov5/dataset/images/train/V006_79_0_00_04_03_13_0_c24_20201020_0258_S02_4.jpg: ignoring corrupt image/label: non-normalized or out of bounds coordinates [     1.0198]\n",
      "\u001b[34m\u001b[1mtrain: \u001b[0mWARNING: /home/jngmk/Downloads/datasets/yolov5/dataset/images/train/V006_79_0_00_04_03_13_0_c24_20201029_0166_S02_3.jpg: ignoring corrupt image/label: non-normalized or out of bounds coordinates [     1.0741]\n",
      "\u001b[34m\u001b[1mtrain: \u001b[0mWARNING: /home/jngmk/Downloads/datasets/yolov5/dataset/images/train/V006_79_0_00_04_03_13_0_c44_20201019_0023_S02_4.jpg: ignoring corrupt image/label: non-normalized or out of bounds coordinates [     1.0231]\n",
      "\u001b[34m\u001b[1mtrain: \u001b[0mWARNING: /home/jngmk/Downloads/datasets/yolov5/dataset/images/train/V006_79_0_00_04_03_13_0_c44_20201019_0025_S02_4.jpg: ignoring corrupt image/label: non-normalized or out of bounds coordinates [     1.1163]\n",
      "\u001b[34m\u001b[1mtrain: \u001b[0mWARNING: /home/jngmk/Downloads/datasets/yolov5/dataset/images/train/V006_79_0_00_04_03_13_0_c44_20201019_0027_S02_4.jpg: ignoring corrupt image/label: non-normalized or out of bounds coordinates [      1.092]\n",
      "\u001b[34m\u001b[1mtrain: \u001b[0mWARNING: /home/jngmk/Downloads/datasets/yolov5/dataset/images/train/V006_79_0_00_04_03_13_0_c44_20201019_0046_S02_4.jpg: ignoring corrupt image/label: non-normalized or out of bounds coordinates [     1.0145]\n",
      "\u001b[34m\u001b[1mtrain: \u001b[0mWARNING: /home/jngmk/Downloads/datasets/yolov5/dataset/images/train/V006_79_0_00_04_03_13_0_c44_20201019_0062_S02_4.jpg: ignoring corrupt image/label: non-normalized or out of bounds coordinates [      1.083]\n",
      "\u001b[34m\u001b[1mtrain: \u001b[0mWARNING: /home/jngmk/Downloads/datasets/yolov5/dataset/images/train/V006_79_0_00_04_03_13_0_c44_20201020_0104_S02_4.jpg: ignoring corrupt image/label: non-normalized or out of bounds coordinates [     1.0844]\n",
      "\u001b[34m\u001b[1mtrain: \u001b[0mWARNING: /home/jngmk/Downloads/datasets/yolov5/dataset/images/train/V006_79_0_00_04_03_13_0_c44_20201020_0138_S02_4.jpg: ignoring corrupt image/label: non-normalized or out of bounds coordinates [      1.092      1.1773]\n",
      "\u001b[34m\u001b[1mtrain: \u001b[0mWARNING: /home/jngmk/Downloads/datasets/yolov5/dataset/images/train/V006_79_0_00_04_03_13_0_c44_20201020_0142_S02_4.jpg: ignoring corrupt image/label: non-normalized or out of bounds coordinates [     1.0699]\n",
      "\u001b[34m\u001b[1mtrain: \u001b[0mWARNING: /home/jngmk/Downloads/datasets/yolov5/dataset/images/train/V006_79_0_00_06_03_12_0_c15_20201104_0000_S01_1.jpg: ignoring corrupt image/label: non-normalized or out of bounds coordinates [     1.0651]\n",
      "\u001b[34m\u001b[1mtrain: \u001b[0mWARNING: /home/jngmk/Downloads/datasets/yolov5/dataset/images/train/V006_79_0_00_06_03_12_0_c38_20201019_0027_S01_1.jpg: ignoring corrupt image/label: non-normalized or out of bounds coordinates [     1.1375]\n",
      "\u001b[34m\u001b[1mtrain: \u001b[0mWARNING: /home/jngmk/Downloads/datasets/yolov5/dataset/images/train/V006_79_0_00_06_03_12_0_c38_20201019_0034_S01_1.jpg: ignoring corrupt image/label: non-normalized or out of bounds coordinates [     1.0269]\n",
      "\u001b[34m\u001b[1mtrain: \u001b[0mWARNING: /home/jngmk/Downloads/datasets/yolov5/dataset/images/train/V006_79_1_08_04_03_13_1_5950b_20201008_103.jpg: ignoring corrupt image/label: non-normalized or out of bounds coordinates [     1.3333]\n",
      "\u001b[34m\u001b[1mtrain: \u001b[0mWARNING: /home/jngmk/Downloads/datasets/yolov5/dataset/images/train/V006_79_1_08_04_03_13_1_5950b_20201008_110.jpg: ignoring corrupt image/label: non-normalized or out of bounds coordinates [     1.3294]\n",
      "\u001b[34m\u001b[1mtrain: \u001b[0mWARNING: /home/jngmk/Downloads/datasets/yolov5/dataset/images/train/V006_79_1_08_04_03_13_1_5950b_20201008_93.jpg: ignoring corrupt image/label: non-normalized or out of bounds coordinates [     1.3069]\n",
      "\u001b[34m\u001b[1mtrain: \u001b[0mWARNING: /home/jngmk/Downloads/datasets/yolov5/dataset/images/train/V006_79_1_08_04_03_13_1_5950b_20201015_560.jpg: ignoring corrupt image/label: non-normalized or out of bounds coordinates [     1.3155]\n",
      "\u001b[34m\u001b[1mtrain: \u001b[0mWARNING: /home/jngmk/Downloads/datasets/yolov5/dataset/images/train/V006_79_1_08_04_03_13_1_5950b_20201015_566.jpg: ignoring corrupt image/label: non-normalized or out of bounds coordinates [     1.3333]\n",
      "\u001b[34m\u001b[1mtrain: \u001b[0mWARNING: /home/jngmk/Downloads/datasets/yolov5/dataset/images/train/V006_79_1_08_04_03_13_1_5950b_20201111_1725.jpg: ignoring corrupt image/label: non-normalized or out of bounds coordinates [      1.254]\n",
      "\u001b[34m\u001b[1mtrain: \u001b[0mWARNING: /home/jngmk/Downloads/datasets/yolov5/dataset/images/train/V006_79_1_08_04_03_13_1_7652t_20201111_1822.jpg: ignoring corrupt image/label: non-normalized or out of bounds coordinates [     1.3303]\n",
      "\u001b[34m\u001b[1mtrain: \u001b[0mWARNING: /home/jngmk/Downloads/datasets/yolov5/dataset/images/train/V006_79_1_08_04_03_13_2_1044bb_20201015_528.jpg: ignoring corrupt image/label: non-normalized or out of bounds coordinates [     1.3333]\n",
      "\u001b[34m\u001b[1mtrain: \u001b[0mWARNING: /home/jngmk/Downloads/datasets/yolov5/dataset/images/train/V006_79_1_08_04_03_13_2_1044bb_20201015_530.jpg: ignoring corrupt image/label: non-normalized or out of bounds coordinates [     1.3333]\n",
      "\u001b[34m\u001b[1mtrain: \u001b[0mWARNING: /home/jngmk/Downloads/datasets/yolov5/dataset/images/train/V006_79_1_08_04_03_13_2_1044bb_20201015_534.jpg: ignoring corrupt image/label: non-normalized or out of bounds coordinates [     1.3333]\n",
      "\u001b[34m\u001b[1mtrain: \u001b[0mWARNING: /home/jngmk/Downloads/datasets/yolov5/dataset/images/train/V006_79_1_08_04_03_13_2_3033t_20201111_1862.jpg: ignoring corrupt image/label: non-normalized or out of bounds coordinates [     1.0302      1.2623]\n",
      "\u001b[34m\u001b[1mtrain: \u001b[0mWARNING: /home/jngmk/Downloads/datasets/yolov5/dataset/images/train/V006_79_1_08_04_03_13_2_7652t_20201029_1580.jpg: ignoring corrupt image/label: non-normalized or out of bounds coordinates [      1.039      1.3333]\n",
      "\u001b[34m\u001b[1mtrain: \u001b[0mWARNING: /home/jngmk/Downloads/datasets/yolov5/dataset/images/train/V006_79_1_08_04_03_13_2_7652t_20201029_1582.jpg: ignoring corrupt image/label: non-normalized or out of bounds coordinates [     1.3333]\n",
      "\u001b[34m\u001b[1mtrain: \u001b[0mWARNING: /home/jngmk/Downloads/datasets/yolov5/dataset/images/train/V006_79_1_08_04_03_13_2_8621t_20201022_1182.jpg: ignoring corrupt image/label: non-normalized or out of bounds coordinates [     1.2987]\n",
      "\u001b[34m\u001b[1mtrain: \u001b[0mWARNING: /home/jngmk/Downloads/datasets/yolov5/dataset/images/train/V006_79_1_08_04_03_13_3_8621t_20201022_1226.jpg: ignoring corrupt image/label: non-normalized or out of bounds coordinates [      1.123]\n",
      "\u001b[34m\u001b[1mtrain: \u001b[0mWARNING: /home/jngmk/Downloads/datasets/yolov5/dataset/images/train/V006_79_1_12_06_03_13_1_0502bb_20200928_57.jpg: ignoring corrupt image/label: non-normalized or out of bounds coordinates [     1.2126]\n",
      "\u001b[34m\u001b[1mtrain: \u001b[0mWARNING: /home/jngmk/Downloads/datasets/yolov5/dataset/images/train/V006_79_1_12_06_03_13_2_0502bb_20201115_33.jpg: ignoring corrupt image/label: non-normalized or out of bounds coordinates [     1.2715]\n",
      "\u001b[34m\u001b[1mtrain: \u001b[0mWARNING: /home/jngmk/Downloads/datasets/yolov5/dataset/images/train/V006_79_1_20_10_03_12_2_7419e_20201026_1.jpg: ignoring corrupt image/label: non-normalized or out of bounds coordinates [     1.0093      1.1171]\n",
      "\u001b[34m\u001b[1mtrain: \u001b[0mWARNING: /home/jngmk/Downloads/datasets/yolov5/dataset/images/train/V006_79_1_20_10_03_12_2_7419e_20201030_1.jpg: ignoring corrupt image/label: non-normalized or out of bounds coordinates [     1.0218]\n",
      "\u001b[34m\u001b[1mtrain: \u001b[0mWARNING: /home/jngmk/Downloads/datasets/yolov5/dataset/images/train/V006_79_1_20_10_03_13_3_7419e_20201026_4.jpg: ignoring corrupt image/label: non-normalized or out of bounds coordinates [     1.0638]\n",
      "\u001b[34m\u001b[1mtrain: \u001b[0mWARNING: /home/jngmk/Downloads/datasets/yolov5/dataset/images/train/V006_79_1_20_10_03_13_3_7419e_20201027_1.jpg: ignoring corrupt image/label: non-normalized or out of bounds coordinates [     1.0493]\n",
      "\u001b[34m\u001b[1mtrain: \u001b[0mWARNING: /home/jngmk/Downloads/datasets/yolov5/dataset/images/train/V006_79_1_20_10_03_13_3_7419e_20201030_3.jpg: ignoring corrupt image/label: non-normalized or out of bounds coordinates [      1.046]\n",
      "\u001b[34m\u001b[1mtrain: \u001b[0mNew cache created: /home/jngmk/Downloads/datasets/yolov5/dataset/labels/train.cache\n",
      "\u001b[34m\u001b[1mval: \u001b[0mScanning '/home/jngmk/Downloads/datasets/yolov5/dataset/labels/validation' \u001b[0m\n",
      "\u001b[34m\u001b[1mval: \u001b[0mWARNING: /home/jngmk/Downloads/datasets/yolov5/dataset/images/validation/V006_79_0_00_01_03_11_0_c07_20201216_0012_S01_1.jpg: ignoring corrupt image/label: non-normalized or out of bounds coordinates [     1.0251]\n",
      "\u001b[34m\u001b[1mval: \u001b[0mWARNING: /home/jngmk/Downloads/datasets/yolov5/dataset/images/validation/V006_79_0_00_01_03_11_0_c16_20201209_0003_S01_1.jpg: ignoring corrupt image/label: non-normalized or out of bounds coordinates [      1.031]\n",
      "\u001b[34m\u001b[1mval: \u001b[0mWARNING: /home/jngmk/Downloads/datasets/yolov5/dataset/images/validation/V006_79_0_00_01_03_11_0_c16_20201209_0012_S01_1.jpg: ignoring corrupt image/label: non-normalized or out of bounds coordinates [     1.0472]\n",
      "\u001b[34m\u001b[1mval: \u001b[0mWARNING: /home/jngmk/Downloads/datasets/yolov5/dataset/images/validation/V006_79_0_00_01_03_11_0_c17_20201214_0031_S01_1.jpg: ignoring corrupt image/label: non-normalized or out of bounds coordinates [     1.0017]\n",
      "\u001b[34m\u001b[1mval: \u001b[0mWARNING: /home/jngmk/Downloads/datasets/yolov5/dataset/images/validation/V006_79_0_00_01_03_12_0_b03_20201104_0033_S01_1.jpg: ignoring corrupt image/label: non-normalized or out of bounds coordinates [     1.1864]\n",
      "\u001b[34m\u001b[1mval: \u001b[0mWARNING: /home/jngmk/Downloads/datasets/yolov5/dataset/images/validation/V006_79_0_00_01_03_13_0_b05_20201208_0003_S01_3.jpg: ignoring corrupt image/label: non-normalized or out of bounds coordinates [     1.0681]\n",
      "\u001b[34m\u001b[1mval: \u001b[0mWARNING: /home/jngmk/Downloads/datasets/yolov5/dataset/images/validation/V006_79_0_00_04_03_12_0_b11_20201007_0003_S01_1.jpg: ignoring corrupt image/label: non-normalized or out of bounds coordinates [     1.1017]\n",
      "\u001b[34m\u001b[1mval: \u001b[0mWARNING: /home/jngmk/Downloads/datasets/yolov5/dataset/images/validation/V006_79_0_00_04_03_12_0_b11_20201007_0004_S02_1.jpg: ignoring corrupt image/label: non-normalized or out of bounds coordinates [     1.0188]\n",
      "\u001b[34m\u001b[1mval: \u001b[0mWARNING: /home/jngmk/Downloads/datasets/yolov5/dataset/images/validation/V006_79_0_00_04_03_12_0_b11_20201007_0011_S01_1.jpg: ignoring corrupt image/label: non-normalized or out of bounds coordinates [     1.0244]\n",
      "\u001b[34m\u001b[1mval: \u001b[0mWARNING: /home/jngmk/Downloads/datasets/yolov5/dataset/images/validation/V006_79_0_00_04_03_12_0_b11_20201007_0013_S02_1.jpg: ignoring corrupt image/label: non-normalized or out of bounds coordinates [     1.0286]\n",
      "\u001b[34m\u001b[1mval: \u001b[0mWARNING: /home/jngmk/Downloads/datasets/yolov5/dataset/images/validation/V006_79_0_00_04_03_12_0_b11_20201016_0006_S02_4.jpg: ignoring corrupt image/label: non-normalized or out of bounds coordinates [     1.2831]\n",
      "\u001b[34m\u001b[1mval: \u001b[0mWARNING: /home/jngmk/Downloads/datasets/yolov5/dataset/images/validation/V006_79_0_00_04_03_12_0_c38_20201019_0010_S02_1.jpg: ignoring corrupt image/label: non-normalized or out of bounds coordinates [     1.0499]\n",
      "\u001b[34m\u001b[1mval: \u001b[0mWARNING: /home/jngmk/Downloads/datasets/yolov5/dataset/images/validation/V006_79_0_00_04_03_12_0_c38_20201019_0043_S02_1.jpg: ignoring corrupt image/label: non-normalized or out of bounds coordinates [     1.0503]\n",
      "\u001b[34m\u001b[1mval: \u001b[0mWARNING: /home/jngmk/Downloads/datasets/yolov5/dataset/images/validation/V006_79_0_00_04_03_13_0_a01_20201020_0140_S02_4.jpg: ignoring corrupt image/label: non-normalized or out of bounds coordinates [     1.0303]\n",
      "\u001b[34m\u001b[1mval: \u001b[0mWARNING: /home/jngmk/Downloads/datasets/yolov5/dataset/images/validation/V006_79_0_00_04_03_13_0_c24_20201020_0056_S02_4.jpg: ignoring corrupt image/label: non-normalized or out of bounds coordinates [      1.016]\n",
      "\u001b[34m\u001b[1mval: \u001b[0mWARNING: /home/jngmk/Downloads/datasets/yolov5/dataset/images/validation/V006_79_0_00_04_03_13_0_c24_20201020_0064_S02_4.jpg: ignoring corrupt image/label: non-normalized or out of bounds coordinates [     1.0532]\n",
      "\u001b[34m\u001b[1mval: \u001b[0mWARNING: /home/jngmk/Downloads/datasets/yolov5/dataset/images/validation/V006_79_0_00_04_03_13_0_c24_20201020_0105_S02_4.jpg: ignoring corrupt image/label: non-normalized or out of bounds coordinates [     1.0688]\n",
      "\u001b[34m\u001b[1mval: \u001b[0mWARNING: /home/jngmk/Downloads/datasets/yolov5/dataset/images/validation/V006_79_0_00_04_03_13_0_c24_20201020_0195_S02_4.jpg: ignoring corrupt image/label: non-normalized or out of bounds coordinates [     1.0425]\n",
      "\u001b[34m\u001b[1mval: \u001b[0mWARNING: /home/jngmk/Downloads/datasets/yolov5/dataset/images/validation/V006_79_0_00_04_03_13_0_c44_20201019_0037_S02_4.jpg: ignoring corrupt image/label: non-normalized or out of bounds coordinates [     1.1431]\n",
      "\u001b[34m\u001b[1mval: \u001b[0mWARNING: /home/jngmk/Downloads/datasets/yolov5/dataset/images/validation/V006_79_0_00_04_03_13_0_c44_20201019_0060_S02_4.jpg: ignoring corrupt image/label: non-normalized or out of bounds coordinates [     1.2066]\n",
      "\u001b[34m\u001b[1mval: \u001b[0mWARNING: /home/jngmk/Downloads/datasets/yolov5/dataset/images/validation/V006_79_0_00_04_03_13_0_c44_20201020_0045_S02_4.jpg: ignoring corrupt image/label: non-normalized or out of bounds coordinates [     1.0501]\n",
      "\u001b[34m\u001b[1mval: \u001b[0mWARNING: /home/jngmk/Downloads/datasets/yolov5/dataset/images/validation/V006_79_0_00_04_03_13_0_c44_20201020_0095_S02_4.jpg: ignoring corrupt image/label: non-normalized or out of bounds coordinates [     1.0306]\n",
      "\u001b[34m\u001b[1mval: \u001b[0mWARNING: /home/jngmk/Downloads/datasets/yolov5/dataset/images/validation/V006_79_0_00_04_03_13_0_c44_20201020_0132_S02_4.jpg: ignoring corrupt image/label: non-normalized or out of bounds coordinates [     1.1835      1.0716]\n",
      "\u001b[34m\u001b[1mval: \u001b[0mWARNING: /home/jngmk/Downloads/datasets/yolov5/dataset/images/validation/V006_79_0_00_06_03_12_0_c15_20201104_0003_S01_1.jpg: ignoring corrupt image/label: non-normalized or out of bounds coordinates [     1.0516]\n",
      "\u001b[34m\u001b[1mval: \u001b[0mWARNING: /home/jngmk/Downloads/datasets/yolov5/dataset/images/validation/V006_79_0_00_06_03_13_0_b03_20201116_0045_S01_1.jpg: ignoring corrupt image/label: non-normalized or out of bounds coordinates [     1.0134]\n",
      "\u001b[34m\u001b[1mval: \u001b[0mWARNING: /home/jngmk/Downloads/datasets/yolov5/dataset/images/validation/V006_79_1_02_01_03_13_3_3068z_20201123_3.jpg: ignoring corrupt image/label: non-normalized or out of bounds coordinates [     1.0717]\n",
      "\u001b[34m\u001b[1mval: \u001b[0mWARNING: /home/jngmk/Downloads/datasets/yolov5/dataset/images/validation/V006_79_1_08_04_03_13_1_1044bb_20201008_9.jpg: ignoring corrupt image/label: non-normalized or out of bounds coordinates [     1.3333]\n",
      "\u001b[34m\u001b[1mval: \u001b[0mWARNING: /home/jngmk/Downloads/datasets/yolov5/dataset/images/validation/V006_79_1_08_04_03_13_1_5950b_20201008_66.jpg: ignoring corrupt image/label: non-normalized or out of bounds coordinates [     1.3333]\n",
      "\u001b[34m\u001b[1mval: \u001b[0mWARNING: /home/jngmk/Downloads/datasets/yolov5/dataset/images/validation/V006_79_1_08_04_03_13_1_5950b_20201111_1723.jpg: ignoring corrupt image/label: non-normalized or out of bounds coordinates [      1.137      1.3333]\n",
      "\u001b[34m\u001b[1mval: \u001b[0mNew cache created: /home/jngmk/Downloads/datasets/yolov5/dataset/labels/validation.cache\n",
      "Plotting labels to runs/train/yolov5s_results_ver/labels.jpg... \n",
      "\n",
      "\u001b[34m\u001b[1mAutoAnchor: \u001b[0m4.70 anchors/target, 1.000 Best Possible Recall (BPR). Current anchors are a good fit to dataset ✅\n",
      "Image sizes 224 train, 224 val\n",
      "Using 8 dataloader workers\n",
      "Logging results to \u001b[1mruns/train/yolov5s_results_ver\u001b[0m\n",
      "Starting training for 20 epochs...\n",
      "\n",
      "     Epoch   gpu_mem       box       obj       cls    labels  img_size\n",
      "      0/19    0.667G   0.05301   0.02085   0.01458        10       224: 100%|███\n",
      "               Class     Images     Labels          P          R     mAP@.5 mAP@\n",
      "                 all       3738       3738      0.372      0.635      0.563      0.352\n",
      "\n",
      "     Epoch   gpu_mem       box       obj       cls    labels  img_size\n",
      "      1/19    0.709G   0.03534   0.01898  0.008052        17       224: 100%|███\n",
      "               Class     Images     Labels          P          R     mAP@.5 mAP@\n",
      "                 all       3738       3738      0.748      0.676      0.753      0.482\n",
      "\n",
      "     Epoch   gpu_mem       box       obj       cls    labels  img_size\n",
      "      2/19    0.711G   0.03354    0.0184  0.006316        13       224: 100%|███\n",
      "               Class     Images     Labels          P          R     mAP@.5 mAP@\n",
      "                 all       3738       3738      0.811       0.78      0.841      0.563\n",
      "\n",
      "     Epoch   gpu_mem       box       obj       cls    labels  img_size\n",
      "      3/19    0.711G   0.03035   0.01808   0.00574        12       224: 100%|███\n",
      "               Class     Images     Labels          P          R     mAP@.5 mAP@\n",
      "                 all       3738       3738      0.804      0.845       0.86      0.618\n",
      "\n",
      "     Epoch   gpu_mem       box       obj       cls    labels  img_size\n",
      "      4/19    0.711G   0.02848   0.01753  0.004968        14       224: 100%|███\n",
      "               Class     Images     Labels          P          R     mAP@.5 mAP@\n",
      "                 all       3738       3738      0.803      0.821       0.86      0.574\n",
      "\n",
      "     Epoch   gpu_mem       box       obj       cls    labels  img_size\n",
      "      5/19    0.711G   0.02724   0.01711  0.004582        11       224: 100%|███\n",
      "               Class     Images     Labels          P          R     mAP@.5 mAP@\n",
      "                 all       3738       3738      0.856      0.852      0.915      0.682\n",
      "\n",
      "     Epoch   gpu_mem       box       obj       cls    labels  img_size\n",
      "      6/19    0.711G   0.02624   0.01682  0.004158        17       224: 100%|███\n",
      "               Class     Images     Labels          P          R     mAP@.5 mAP@\n",
      "                 all       3738       3738      0.811      0.851      0.898        0.6\n",
      "\n",
      "     Epoch   gpu_mem       box       obj       cls    labels  img_size\n",
      "      7/19    0.711G    0.0255   0.01654  0.004017        16       224: 100%|███\n",
      "               Class     Images     Labels          P          R     mAP@.5 mAP@\n",
      "                 all       3738       3738      0.872      0.894      0.947       0.63\n",
      "\n",
      "     Epoch   gpu_mem       box       obj       cls    labels  img_size\n",
      "      8/19    0.711G   0.02465   0.01626   0.00369        16       224: 100%|███\n",
      "               Class     Images     Labels          P          R     mAP@.5 mAP@\n",
      "                 all       3738       3738      0.818      0.863      0.894      0.642\n",
      "\n",
      "     Epoch   gpu_mem       box       obj       cls    labels  img_size\n",
      "      9/19    0.711G   0.02422   0.01608  0.003466        12       224: 100%|███\n",
      "               Class     Images     Labels          P          R     mAP@.5 mAP@\n",
      "                 all       3738       3738      0.922      0.889      0.946      0.735\n",
      "\n",
      "     Epoch   gpu_mem       box       obj       cls    labels  img_size\n",
      "     10/19    0.711G   0.02387   0.01583  0.003243        11       224: 100%|███\n",
      "               Class     Images     Labels          P          R     mAP@.5 mAP@\n",
      "                 all       3738       3738      0.921      0.885      0.953      0.716\n",
      "\n",
      "     Epoch   gpu_mem       box       obj       cls    labels  img_size\n",
      "     11/19    0.711G   0.02318   0.01561  0.002808        15       224: 100%|███\n",
      "               Class     Images     Labels          P          R     mAP@.5 mAP@\n",
      "                 all       3738       3738      0.944      0.898       0.96      0.758\n",
      "\n",
      "     Epoch   gpu_mem       box       obj       cls    labels  img_size\n",
      "     12/19    0.711G   0.02279   0.01561  0.002687        60       224:  46%|███\u001b[34m\u001b[1mwandb\u001b[0m: Network error (ReadTimeout), entering retry loop.\n",
      "     12/19    0.711G   0.02274   0.01553  0.002748        18       224: 100%|███\n",
      "               Class     Images     Labels          P          R     mAP@.5 mAP@\n",
      "                 all       3738       3738      0.922      0.901      0.953      0.738\n",
      "\n",
      "     Epoch   gpu_mem       box       obj       cls    labels  img_size\n",
      "     13/19    0.711G   0.02237   0.01544   0.00276         7       224: 100%|███\n",
      "               Class     Images     Labels          P          R     mAP@.5 mAP@\n",
      "                 all       3738       3738      0.888      0.902      0.955      0.714\n",
      "\n",
      "     Epoch   gpu_mem       box       obj       cls    labels  img_size\n",
      "     14/19    0.711G   0.02186   0.01513  0.002462        18       224: 100%|███\n",
      "               Class     Images     Labels          P          R     mAP@.5 mAP@\n",
      "                 all       3738       3738      0.946      0.899      0.965      0.754\n",
      "\n",
      "     Epoch   gpu_mem       box       obj       cls    labels  img_size\n",
      "     15/19    0.711G   0.02143    0.0149  0.002428        15       224: 100%|███\n",
      "               Class     Images     Labels          P          R     mAP@.5 mAP@\n",
      "                 all       3738       3738      0.923      0.887      0.959       0.78\n",
      "\n",
      "     Epoch   gpu_mem       box       obj       cls    labels  img_size\n",
      "     16/19    0.711G   0.02095   0.01478  0.001931        15       224: 100%|███\n",
      "               Class     Images     Labels          P          R     mAP@.5 mAP@\n",
      "                 all       3738       3738      0.939      0.936      0.967      0.781\n",
      "\n",
      "     Epoch   gpu_mem       box       obj       cls    labels  img_size\n",
      "     17/19    0.711G   0.02067   0.01463   0.00224        14       224: 100%|███\n",
      "               Class     Images     Labels          P          R     mAP@.5 mAP@\n",
      "                 all       3738       3738      0.935      0.888      0.967      0.792\n",
      "\n",
      "     Epoch   gpu_mem       box       obj       cls    labels  img_size\n",
      "     18/19    0.711G   0.02023    0.0144  0.001874        17       224: 100%|███\n",
      "               Class     Images     Labels          P          R     mAP@.5 mAP@\n",
      "                 all       3738       3738      0.953       0.91      0.967      0.782\n",
      "\n",
      "     Epoch   gpu_mem       box       obj       cls    labels  img_size\n",
      "     19/19    0.711G   0.01988   0.01424  0.001717        14       224: 100%|███\n",
      "               Class     Images     Labels          P          R     mAP@.5 mAP@\n",
      "                 all       3738       3738      0.957      0.935      0.977      0.789\n",
      "\n",
      "20 epochs completed in 9.518 hours.\n",
      "Optimizer stripped from runs/train/yolov5s_results_ver/weights/last.pt, 14.3MB\n",
      "Optimizer stripped from runs/train/yolov5s_results_ver/weights/best.pt, 14.3MB\n",
      "\n",
      "Validating runs/train/yolov5s_results_ver/weights/best.pt...\n",
      "Fusing layers... \n",
      "YOLOv5s summary: 213 layers, 7015519 parameters, 0 gradients, 15.8 GFLOPs\n",
      "               Class     Images     Labels          P          R     mAP@.5 mAP@\n",
      "                 all       3738       3738      0.928      0.895      0.967      0.792\n",
      "         normal data       3738       3379      0.963      0.955      0.988      0.827\n",
      "      powdery mildew       3738        359      0.893      0.835      0.947      0.758\n",
      "\u001b[34m\u001b[1mwandb\u001b[0m: Waiting for W&B process to finish... \u001b[32m(success).\u001b[0m\n",
      "\u001b[34m\u001b[1mwandb\u001b[0m:                                                                                \n",
      "\u001b[34m\u001b[1mwandb\u001b[0m: \n",
      "\u001b[34m\u001b[1mwandb\u001b[0m: Run history:\n",
      "\u001b[34m\u001b[1mwandb\u001b[0m:      metrics/mAP_0.5 ▁▄▆▆▆▇▇▇▇▇███████████\n",
      "\u001b[34m\u001b[1mwandb\u001b[0m: metrics/mAP_0.5:0.95 ▁▃▄▅▅▆▅▅▆▇▇▇▇▇▇██████\n",
      "\u001b[34m\u001b[1mwandb\u001b[0m:    metrics/precision ▁▅▆▆▆▇▆▇▆████▇███████\n",
      "\u001b[34m\u001b[1mwandb\u001b[0m:       metrics/recall ▁▂▄▆▅▆▆▇▆▇▇▇▇▇▇▇█▇▇█▇\n",
      "\u001b[34m\u001b[1mwandb\u001b[0m:       train/box_loss █▄▄▃▃▃▂▂▂▂▂▂▂▂▁▁▁▁▁▁\n",
      "\u001b[34m\u001b[1mwandb\u001b[0m:       train/cls_loss █▄▄▃▃▃▂▂▂▂▂▂▂▂▁▁▁▁▁▁\n",
      "\u001b[34m\u001b[1mwandb\u001b[0m:       train/obj_loss █▆▅▅▄▄▄▃▃▃▃▂▂▂▂▂▂▁▁▁\n",
      "\u001b[34m\u001b[1mwandb\u001b[0m:         val/box_loss █▅▅▄▄▃▄▄▃▃▂▂▂▃▂▁▁▁▁▁▁\n",
      "\u001b[34m\u001b[1mwandb\u001b[0m:         val/cls_loss █▆▅▅▄▂▃▂▃▂▂▂▁▁▁▁▁▁▂▁▁\n",
      "\u001b[34m\u001b[1mwandb\u001b[0m:         val/obj_loss ▇██▄▇▃▆▆▃▂▃▂▂▄▃▁▁▁▁▁▁\n",
      "\u001b[34m\u001b[1mwandb\u001b[0m:                x/lr0 ▃▆███▇▇▆▆▅▅▅▄▄▃▃▂▂▁▁\n",
      "\u001b[34m\u001b[1mwandb\u001b[0m:                x/lr1 ▃▆███▇▇▆▆▅▅▅▄▄▃▃▂▂▁▁\n",
      "\u001b[34m\u001b[1mwandb\u001b[0m:                x/lr2 █▅▂▂▂▂▂▂▂▂▁▁▁▁▁▁▁▁▁▁\n",
      "\u001b[34m\u001b[1mwandb\u001b[0m: \n",
      "\u001b[34m\u001b[1mwandb\u001b[0m: Run summary:\n",
      "\u001b[34m\u001b[1mwandb\u001b[0m:           best/epoch 17\n",
      "\u001b[34m\u001b[1mwandb\u001b[0m:         best/mAP_0.5 0.9673\n",
      "\u001b[34m\u001b[1mwandb\u001b[0m:    best/mAP_0.5:0.95 0.79206\n",
      "\u001b[34m\u001b[1mwandb\u001b[0m:       best/precision 0.93491\n",
      "\u001b[34m\u001b[1mwandb\u001b[0m:          best/recall 0.88756\n",
      "\u001b[34m\u001b[1mwandb\u001b[0m:      metrics/mAP_0.5 0.96732\n",
      "\u001b[34m\u001b[1mwandb\u001b[0m: metrics/mAP_0.5:0.95 0.79207\n",
      "\u001b[34m\u001b[1mwandb\u001b[0m:    metrics/precision 0.92798\n",
      "\u001b[34m\u001b[1mwandb\u001b[0m:       metrics/recall 0.89464\n",
      "\u001b[34m\u001b[1mwandb\u001b[0m:       train/box_loss 0.01988\n",
      "\u001b[34m\u001b[1mwandb\u001b[0m:       train/cls_loss 0.00172\n",
      "\u001b[34m\u001b[1mwandb\u001b[0m:       train/obj_loss 0.01424\n",
      "\u001b[34m\u001b[1mwandb\u001b[0m:         val/box_loss 0.01242\n",
      "\u001b[34m\u001b[1mwandb\u001b[0m:         val/cls_loss 0.00093\n",
      "\u001b[34m\u001b[1mwandb\u001b[0m:         val/obj_loss 0.00541\n",
      "\u001b[34m\u001b[1mwandb\u001b[0m:                x/lr0 0.00109\n",
      "\u001b[34m\u001b[1mwandb\u001b[0m:                x/lr1 0.00109\n",
      "\u001b[34m\u001b[1mwandb\u001b[0m:                x/lr2 0.00109\n",
      "\u001b[34m\u001b[1mwandb\u001b[0m: \n",
      "\u001b[34m\u001b[1mwandb\u001b[0m: Synced \u001b[33myolov5s_results_ver\u001b[0m: \u001b[34m\u001b[4mhttps://wandb.ai/hyeeein/YOLOv5/runs/387qvk0o\u001b[0m\n",
      "\u001b[34m\u001b[1mwandb\u001b[0m: Synced 6 W&B file(s), 337 media file(s), 1 artifact file(s) and 0 other file(s)\n",
      "\u001b[34m\u001b[1mwandb\u001b[0m: Find logs at: \u001b[35m\u001b[1m./wandb/run-20220504_125238-387qvk0o/logs\u001b[0m\n",
      "Results saved to \u001b[1mruns/train/yolov5s_results_ver\u001b[0m\n"
     ]
    }
   ],
   "source": [
    "# yolov5 전이학습\n",
    "!python train.py --img 224 --batch 20 --epochs 20 --data data/data.yaml --device cuda:0 --cfg ./models/yolov5s.yaml --weights yolov5s.pt --name yolov5s_results_ver"
   ]
  },
  {
   "cell_type": "code",
   "execution_count": 77,
   "metadata": {},
   "outputs": [
    {
     "name": "stdout",
     "output_type": "stream",
     "text": [
      "\u001b[34m\u001b[1mval: \u001b[0mdata=data/data.yaml, weights=['runs/train/yolov5s_results_ver/weights/best.pt'], batch_size=20, imgsz=224, conf_thres=0.001, iou_thres=0.6, task=val, device=cuda:0, workers=8, single_cls=False, augment=False, verbose=False, save_txt=False, save_hybrid=False, save_conf=False, save_json=False, project=runs/val, name=exp, exist_ok=False, half=False, dnn=False\n",
      "YOLOv5 🚀 v6.1-170-gbff6e51 torch 1.11.0 CUDA:0 (NVIDIA GeForce GTX 1070 Ti, 8116MiB)\n",
      "\n",
      "Fusing layers... \n",
      "YOLOv5s summary: 213 layers, 7015519 parameters, 0 gradients, 15.8 GFLOPs\n",
      "\u001b[34m\u001b[1mval: \u001b[0mScanning '/home/jngmk/Downloads/datasets/yolov5/dataset/labels/validation.c\u001b[0m\n",
      "\u001b[34m\u001b[1mval: \u001b[0mWARNING: /home/jngmk/Downloads/datasets/yolov5/dataset/images/validation/V006_79_0_00_01_03_11_0_c07_20201216_0012_S01_1.jpg: ignoring corrupt image/label: non-normalized or out of bounds coordinates [     1.0251]\n",
      "\u001b[34m\u001b[1mval: \u001b[0mWARNING: /home/jngmk/Downloads/datasets/yolov5/dataset/images/validation/V006_79_0_00_01_03_11_0_c16_20201209_0003_S01_1.jpg: ignoring corrupt image/label: non-normalized or out of bounds coordinates [      1.031]\n",
      "\u001b[34m\u001b[1mval: \u001b[0mWARNING: /home/jngmk/Downloads/datasets/yolov5/dataset/images/validation/V006_79_0_00_01_03_11_0_c16_20201209_0012_S01_1.jpg: ignoring corrupt image/label: non-normalized or out of bounds coordinates [     1.0472]\n",
      "\u001b[34m\u001b[1mval: \u001b[0mWARNING: /home/jngmk/Downloads/datasets/yolov5/dataset/images/validation/V006_79_0_00_01_03_11_0_c17_20201214_0031_S01_1.jpg: ignoring corrupt image/label: non-normalized or out of bounds coordinates [     1.0017]\n",
      "\u001b[34m\u001b[1mval: \u001b[0mWARNING: /home/jngmk/Downloads/datasets/yolov5/dataset/images/validation/V006_79_0_00_01_03_12_0_b03_20201104_0033_S01_1.jpg: ignoring corrupt image/label: non-normalized or out of bounds coordinates [     1.1864]\n",
      "\u001b[34m\u001b[1mval: \u001b[0mWARNING: /home/jngmk/Downloads/datasets/yolov5/dataset/images/validation/V006_79_0_00_01_03_13_0_b05_20201208_0003_S01_3.jpg: ignoring corrupt image/label: non-normalized or out of bounds coordinates [     1.0681]\n",
      "\u001b[34m\u001b[1mval: \u001b[0mWARNING: /home/jngmk/Downloads/datasets/yolov5/dataset/images/validation/V006_79_0_00_04_03_12_0_b11_20201007_0003_S01_1.jpg: ignoring corrupt image/label: non-normalized or out of bounds coordinates [     1.1017]\n",
      "\u001b[34m\u001b[1mval: \u001b[0mWARNING: /home/jngmk/Downloads/datasets/yolov5/dataset/images/validation/V006_79_0_00_04_03_12_0_b11_20201007_0004_S02_1.jpg: ignoring corrupt image/label: non-normalized or out of bounds coordinates [     1.0188]\n",
      "\u001b[34m\u001b[1mval: \u001b[0mWARNING: /home/jngmk/Downloads/datasets/yolov5/dataset/images/validation/V006_79_0_00_04_03_12_0_b11_20201007_0011_S01_1.jpg: ignoring corrupt image/label: non-normalized or out of bounds coordinates [     1.0244]\n",
      "\u001b[34m\u001b[1mval: \u001b[0mWARNING: /home/jngmk/Downloads/datasets/yolov5/dataset/images/validation/V006_79_0_00_04_03_12_0_b11_20201007_0013_S02_1.jpg: ignoring corrupt image/label: non-normalized or out of bounds coordinates [     1.0286]\n",
      "\u001b[34m\u001b[1mval: \u001b[0mWARNING: /home/jngmk/Downloads/datasets/yolov5/dataset/images/validation/V006_79_0_00_04_03_12_0_b11_20201016_0006_S02_4.jpg: ignoring corrupt image/label: non-normalized or out of bounds coordinates [     1.2831]\n",
      "\u001b[34m\u001b[1mval: \u001b[0mWARNING: /home/jngmk/Downloads/datasets/yolov5/dataset/images/validation/V006_79_0_00_04_03_12_0_c38_20201019_0010_S02_1.jpg: ignoring corrupt image/label: non-normalized or out of bounds coordinates [     1.0499]\n",
      "\u001b[34m\u001b[1mval: \u001b[0mWARNING: /home/jngmk/Downloads/datasets/yolov5/dataset/images/validation/V006_79_0_00_04_03_12_0_c38_20201019_0043_S02_1.jpg: ignoring corrupt image/label: non-normalized or out of bounds coordinates [     1.0503]\n",
      "\u001b[34m\u001b[1mval: \u001b[0mWARNING: /home/jngmk/Downloads/datasets/yolov5/dataset/images/validation/V006_79_0_00_04_03_13_0_a01_20201020_0140_S02_4.jpg: ignoring corrupt image/label: non-normalized or out of bounds coordinates [     1.0303]\n",
      "\u001b[34m\u001b[1mval: \u001b[0mWARNING: /home/jngmk/Downloads/datasets/yolov5/dataset/images/validation/V006_79_0_00_04_03_13_0_c24_20201020_0056_S02_4.jpg: ignoring corrupt image/label: non-normalized or out of bounds coordinates [      1.016]\n",
      "\u001b[34m\u001b[1mval: \u001b[0mWARNING: /home/jngmk/Downloads/datasets/yolov5/dataset/images/validation/V006_79_0_00_04_03_13_0_c24_20201020_0064_S02_4.jpg: ignoring corrupt image/label: non-normalized or out of bounds coordinates [     1.0532]\n",
      "\u001b[34m\u001b[1mval: \u001b[0mWARNING: /home/jngmk/Downloads/datasets/yolov5/dataset/images/validation/V006_79_0_00_04_03_13_0_c24_20201020_0105_S02_4.jpg: ignoring corrupt image/label: non-normalized or out of bounds coordinates [     1.0688]\n",
      "\u001b[34m\u001b[1mval: \u001b[0mWARNING: /home/jngmk/Downloads/datasets/yolov5/dataset/images/validation/V006_79_0_00_04_03_13_0_c24_20201020_0195_S02_4.jpg: ignoring corrupt image/label: non-normalized or out of bounds coordinates [     1.0425]\n",
      "\u001b[34m\u001b[1mval: \u001b[0mWARNING: /home/jngmk/Downloads/datasets/yolov5/dataset/images/validation/V006_79_0_00_04_03_13_0_c44_20201019_0037_S02_4.jpg: ignoring corrupt image/label: non-normalized or out of bounds coordinates [     1.1431]\n",
      "\u001b[34m\u001b[1mval: \u001b[0mWARNING: /home/jngmk/Downloads/datasets/yolov5/dataset/images/validation/V006_79_0_00_04_03_13_0_c44_20201019_0060_S02_4.jpg: ignoring corrupt image/label: non-normalized or out of bounds coordinates [     1.2066]\n",
      "\u001b[34m\u001b[1mval: \u001b[0mWARNING: /home/jngmk/Downloads/datasets/yolov5/dataset/images/validation/V006_79_0_00_04_03_13_0_c44_20201020_0045_S02_4.jpg: ignoring corrupt image/label: non-normalized or out of bounds coordinates [     1.0501]\n",
      "\u001b[34m\u001b[1mval: \u001b[0mWARNING: /home/jngmk/Downloads/datasets/yolov5/dataset/images/validation/V006_79_0_00_04_03_13_0_c44_20201020_0095_S02_4.jpg: ignoring corrupt image/label: non-normalized or out of bounds coordinates [     1.0306]\n",
      "\u001b[34m\u001b[1mval: \u001b[0mWARNING: /home/jngmk/Downloads/datasets/yolov5/dataset/images/validation/V006_79_0_00_04_03_13_0_c44_20201020_0132_S02_4.jpg: ignoring corrupt image/label: non-normalized or out of bounds coordinates [     1.1835      1.0716]\n",
      "\u001b[34m\u001b[1mval: \u001b[0mWARNING: /home/jngmk/Downloads/datasets/yolov5/dataset/images/validation/V006_79_0_00_06_03_12_0_c15_20201104_0003_S01_1.jpg: ignoring corrupt image/label: non-normalized or out of bounds coordinates [     1.0516]\n",
      "\u001b[34m\u001b[1mval: \u001b[0mWARNING: /home/jngmk/Downloads/datasets/yolov5/dataset/images/validation/V006_79_0_00_06_03_13_0_b03_20201116_0045_S01_1.jpg: ignoring corrupt image/label: non-normalized or out of bounds coordinates [     1.0134]\n",
      "\u001b[34m\u001b[1mval: \u001b[0mWARNING: /home/jngmk/Downloads/datasets/yolov5/dataset/images/validation/V006_79_1_02_01_03_13_3_3068z_20201123_3.jpg: ignoring corrupt image/label: non-normalized or out of bounds coordinates [     1.0717]\n",
      "\u001b[34m\u001b[1mval: \u001b[0mWARNING: /home/jngmk/Downloads/datasets/yolov5/dataset/images/validation/V006_79_1_08_04_03_13_1_1044bb_20201008_9.jpg: ignoring corrupt image/label: non-normalized or out of bounds coordinates [     1.3333]\n",
      "\u001b[34m\u001b[1mval: \u001b[0mWARNING: /home/jngmk/Downloads/datasets/yolov5/dataset/images/validation/V006_79_1_08_04_03_13_1_5950b_20201008_66.jpg: ignoring corrupt image/label: non-normalized or out of bounds coordinates [     1.3333]\n",
      "\u001b[34m\u001b[1mval: \u001b[0mWARNING: /home/jngmk/Downloads/datasets/yolov5/dataset/images/validation/V006_79_1_08_04_03_13_1_5950b_20201111_1723.jpg: ignoring corrupt image/label: non-normalized or out of bounds coordinates [      1.137      1.3333]\n",
      "               Class     Images     Labels          P          R     mAP@.5 mAP@\n",
      "                 all       3738       3738      0.935      0.888      0.967      0.792\n",
      "         normal data       3738       3379      0.967      0.951      0.988      0.826\n",
      "      powdery mildew       3738        359      0.902      0.825      0.947      0.757\n",
      "Speed: 0.0ms pre-process, 1.1ms inference, 0.9ms NMS per image at shape (20, 3, 224, 224)\n",
      "Results saved to \u001b[1mruns/val/exp2\u001b[0m\n"
     ]
    }
   ],
   "source": [
    "!python val.py --img 224 --batch 20 --data data/data.yaml --device cuda:0 --weights runs/train/yolov5s_results_ver/weights/best.pt"
   ]
  },
  {
   "cell_type": "code",
   "execution_count": 74,
   "metadata": {},
   "outputs": [
    {
     "data": {
      "text/plain": [
       "'/home/jngmk/Downloads/datasets/yolov5'"
      ]
     },
     "execution_count": 74,
     "metadata": {},
     "output_type": "execute_result"
    }
   ],
   "source": [
    "os.getcwd()"
   ]
  },
  {
   "cell_type": "code",
   "execution_count": null,
   "metadata": {},
   "outputs": [],
   "source": [
    "# AttributeError: 'NoneType' object has no attribute 'python_exit_status'\n",
    "# 속성 이름이 잘못됐거나 없는 속성을 가져오려고 하면 오류가 발생\n",
    "# 즉, '검색 되어지는 앖이 하나도 없을 때' 발생하는 에러"
   ]
  },
  {
   "cell_type": "markdown",
   "metadata": {},
   "source": [
    "#### 모델 테스트"
   ]
  },
  {
   "cell_type": "code",
   "execution_count": 69,
   "metadata": {},
   "outputs": [
    {
     "data": {
      "text/plain": [
       "'/home/jngmk/Downloads/datasets/yolov5'"
      ]
     },
     "execution_count": 69,
     "metadata": {},
     "output_type": "execute_result"
    }
   ],
   "source": [
    "os.getcwd()"
   ]
  },
  {
   "cell_type": "code",
   "execution_count": 65,
   "metadata": {},
   "outputs": [
    {
     "name": "stdout",
     "output_type": "stream",
     "text": [
      "/home/jngmk/Downloads/datasets/yolov5\n"
     ]
    }
   ],
   "source": [
    "cd '/home/jngmk/Downloads/datasets/yolov5'"
   ]
  },
  {
   "cell_type": "code",
   "execution_count": 80,
   "metadata": {},
   "outputs": [
    {
     "name": "stdout",
     "output_type": "stream",
     "text": [
      "\u001b[34m\u001b[1mdetect: \u001b[0mweights=['runs/train/yolov5s_results_ver/weights/best.pt'], source=/home/jngmk/Downloads/datasets/yolov5/dataset/images/test/V006_79_0_00_10_03_12_0_c23_20201209_0037_S01_1.jpg, data=data/coco128.yaml, imgsz=[224, 224], conf_thres=0.5, iou_thres=0.45, max_det=1000, device=, view_img=False, save_txt=False, save_conf=False, save_crop=False, nosave=False, classes=None, agnostic_nms=False, augment=False, visualize=False, update=False, project=runs/detect, name=exp, exist_ok=False, line_thickness=3, hide_labels=False, hide_conf=False, half=False, dnn=False\n",
      "YOLOv5 🚀 v6.1-170-gbff6e51 torch 1.11.0 CUDA:0 (NVIDIA GeForce GTX 1070 Ti, 8116MiB)\n",
      "\n",
      "Fusing layers... \n",
      "YOLOv5s summary: 213 layers, 7015519 parameters, 0 gradients, 15.8 GFLOPs\n",
      "image 1/1 /home/jngmk/Downloads/datasets/yolov5/dataset/images/test/V006_79_0_00_10_03_12_0_c23_20201209_0037_S01_1.jpg: 224x192 1 normal data, Done. (0.009s)\n",
      "Speed: 0.3ms pre-process, 9.0ms inference, 1.0ms NMS per image at shape (1, 3, 224, 224)\n",
      "Results saved to \u001b[1mruns/detect/exp5\u001b[0m\n"
     ]
    }
   ],
   "source": [
    "test_img_path = [os.path.join(test_images_dir, i) for i in test_images]\n",
    "\n",
    "# for test_img in test_img_path:\n",
    "#     !python detect.py --weights runs/train/disease_results_1/weights/best.pt --img 224 --conf 0.5 --source \"{test_img}\"\n",
    "\n",
    "!python detect.py --weights runs/train/yolov5s_results_ver/weights/best.pt --img 224 --conf 0.5 --source \"{test_img_path[100]}\""
   ]
  },
  {
   "cell_type": "code",
   "execution_count": null,
   "metadata": {},
   "outputs": [],
   "source": []
  },
  {
   "cell_type": "markdown",
   "metadata": {},
   "source": [
    "#### 참고 사이트\n",
    "\n",
    "1. 파이썬 이미지 확장자 맞추기\n",
    "\n",
    "https://gongdolhouse.tistory.com/entry/Python3-%ED%8C%8C%EC%9D%BC-%ED%99%95%EC%9E%A5%EC%9E%90%EB%AA%85-%EC%9D%BC%EA%B4%84-%EB%B3%80%EA%B2%BD%EB%B3%80%EA%B2%BD-%EC%BD%94%EB%93%9C\n",
    "\n",
    "\n",
    "2. 숨김파일 제외\n",
    "\n",
    "https://joyae.github.io/2020-03-15-how-to-get-file-list-on-certain-directory/\n",
    "\n",
    "\n",
    "3. 파일 복사 (copyfile)\n",
    "\n",
    "https://m.blog.naver.com/PostView.naver?isHttpsRedirect=true&blogId=dlaehd_king&logNo=10067290010\n",
    "\n",
    "https://blog.naver.com/PostView.naver?blogId=hankrah&logNo=222409731893&categoryNo=64&parentCategoryNo=0&viewDate=&currentPage=1&postListTopCurrentPage=1&from=postView\n",
    "\n",
    "4. Yolov5 json to txt 라벨링 파일 변환\n",
    "\n",
    "https://haobin-tan.netlify.app/ai/computer-vision/object-detection/coco-json-to-yolo-txt/\n",
    "\n",
    "\n",
    "5. Yolov5 모델\n",
    "\n",
    "https://bigdata-analyst.tistory.com/195\n",
    "\n",
    "https://lynnshin.tistory.com/47\n",
    "\n",
    "\n",
    "6. Yolov5 모델 실행 중 AttributeError 에러 발생\n",
    "\n",
    "https://lovelydiary.tistory.com/16"
   ]
  }
 ],
 "metadata": {
  "interpreter": {
   "hash": "7d94b9a069646b6b76b62cdc5f845a5df9f96c1cebd14adccbab48831d95baa1"
  },
  "kernelspec": {
   "display_name": "'project3'",
   "language": "python",
   "name": "python3"
  },
  "language_info": {
   "codemirror_mode": {
    "name": "ipython",
    "version": 3
   },
   "file_extension": ".py",
   "mimetype": "text/x-python",
   "name": "python",
   "nbconvert_exporter": "python",
   "pygments_lexer": "ipython3",
   "version": "3.7.13"
  },
  "orig_nbformat": 4
 },
 "nbformat": 4,
 "nbformat_minor": 2
}
