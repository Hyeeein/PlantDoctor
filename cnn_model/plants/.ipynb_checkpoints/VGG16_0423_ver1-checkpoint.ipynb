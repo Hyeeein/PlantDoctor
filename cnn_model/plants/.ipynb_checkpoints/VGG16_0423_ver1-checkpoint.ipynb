{
 "cells": [
  {
   "cell_type": "markdown",
   "metadata": {
    "id": "sHlJ4hUp0aLY"
   },
   "source": [
    "#### 구글 드라이브 연결"
   ]
  },
  {
   "cell_type": "code",
   "execution_count": null,
   "metadata": {
    "colab": {
     "base_uri": "https://localhost:8080/"
    },
    "id": "yT2a3VKbr8VF",
    "outputId": "bb18831e-0e03-4d10-cb35-17ce28fadcb5"
   },
   "outputs": [
    {
     "name": "stdout",
     "output_type": "stream",
     "text": [
      "Mounted at /content/drive\n"
     ]
    }
   ],
   "source": [
    "# 구글 계정 액세스\n",
    "from google.colab import drive\n",
    "drive.mount('/content/drive')"
   ]
  },
  {
   "cell_type": "code",
   "execution_count": null,
   "metadata": {
    "colab": {
     "base_uri": "https://localhost:8080/",
     "height": 35
    },
    "id": "h_SdsPzAkwwz",
    "outputId": "83386997-067e-4a5c-96ae-08d440ec0845"
   },
   "outputs": [
    {
     "data": {
      "application/vnd.google.colaboratory.intrinsic+json": {
       "type": "string"
      },
      "text/plain": [
       "'2.8.0'"
      ]
     },
     "execution_count": 2,
     "metadata": {},
     "output_type": "execute_result"
    }
   ],
   "source": [
    "import keras \n",
    "keras.__version__"
   ]
  },
  {
   "cell_type": "code",
   "execution_count": null,
   "metadata": {
    "colab": {
     "base_uri": "https://localhost:8080/",
     "height": 35
    },
    "id": "bx2UvFrLr307",
    "outputId": "fb72e014-564e-45f8-ac7c-e5999755f567"
   },
   "outputs": [
    {
     "data": {
      "application/vnd.google.colaboratory.intrinsic+json": {
       "type": "string"
      },
      "text/plain": [
       "'2.8.0'"
      ]
     },
     "execution_count": 3,
     "metadata": {},
     "output_type": "execute_result"
    }
   ],
   "source": [
    "import tensorflow as tf\n",
    "tf.__version__"
   ]
  },
  {
   "cell_type": "markdown",
   "metadata": {
    "id": "t1tv4WOU0irQ"
   },
   "source": [
    "#### 데이터 로드"
   ]
  },
  {
   "cell_type": "code",
   "execution_count": null,
   "metadata": {
    "id": "ASUzJqPtr8X0"
   },
   "outputs": [],
   "source": [
    "import os, shutil\n",
    "import matplotlib\n",
    "import matplotlib.pyplot as plt"
   ]
  },
  {
   "cell_type": "code",
   "execution_count": null,
   "metadata": {
    "colab": {
     "base_uri": "https://localhost:8080/"
    },
    "id": "jnQlWCM_r8aR",
    "outputId": "91fa5677-022b-44ac-ca5f-0bce9d06d802"
   },
   "outputs": [
    {
     "name": "stdout",
     "output_type": "stream",
     "text": [
      "['tableyaja', 'stuckyi', 'monstera', 'geumjeonsoo', 'yeoincho']\n",
      "{'tableyaja': 990, 'stuckyi': 362, 'monstera': 424, 'geumjeonsoo': 1508, 'yeoincho': 565}\n"
     ]
    }
   ],
   "source": [
    "original_dataset_dir = '/content/drive/MyDrive/DataScience/Multi_project3/Datasets/Plants/'  # 원본 데이터셋 디렉터리\n",
    "\n",
    "# images 안에 있는 식물 목록 (리스트)\n",
    "plant_list = os.listdir(original_dataset_dir)\n",
    "print(plant_list)\n",
    "\n",
    "# 식물별 데이터 갯수 확인\n",
    "plant_count = {}\n",
    "for i in plant_list:\n",
    "    plant_count[i] = len(os.listdir(original_dataset_dir+i))\n",
    "print(plant_count)"
   ]
  },
  {
   "cell_type": "code",
   "execution_count": null,
   "metadata": {
    "id": "V9jYH2tUr8cp"
   },
   "outputs": [],
   "source": [
    "# 데이터셋을 저장할 디렉터리 (copy)\n",
    "base_dir = '/content/drive/MyDrive/DataScience/Multi_project3/Datasets/Plants_copy'\n",
    "# os.mkdir(base_dir)"
   ]
  },
  {
   "cell_type": "code",
   "execution_count": null,
   "metadata": {
    "id": "UpfZ5sWfwFy-"
   },
   "outputs": [],
   "source": [
    "# 훈련, 검증, 테스트 분할을 위한 디렉터리\n",
    "# 이 안에 식물 종류별로 폴더를 생성해서 데이터를 나눠서 복사할 것\n",
    "\n",
    "train_dir = os.path.join(base_dir, 'train')\n",
    "# os.mkdir(train_dir)\n",
    "validation_dir = os.path.join(base_dir, 'validation')\n",
    "# os.mkdir(validation_dir)\n",
    "test_dir = os.path.join(base_dir, 'test')\n",
    "# os.mkdir(test_dir)"
   ]
  },
  {
   "cell_type": "code",
   "execution_count": null,
   "metadata": {
    "id": "Mhh94EFir8es"
   },
   "outputs": [],
   "source": [
    "# # 식물별 이미지 데이터 이름 변경\n",
    "# for path in plant_list:\n",
    "#     i = 1   # 이미지 이름 1부터 시작\n",
    "\n",
    "#     for img_path in os.listdir(original_dataset_dir+path):\n",
    "#         src = os.path.join(original_dataset_dir+path, img_path)\n",
    "#         dst = path + '_' + str(i) + '.png'\n",
    "#         dst = os.path.join(original_dataset_dir+path, dst)\n",
    "\n",
    "#         os.rename(src, dst)\n",
    "#         i += 1"
   ]
  },
  {
   "cell_type": "code",
   "execution_count": null,
   "metadata": {
    "id": "aA667Jtbr8vV"
   },
   "outputs": [],
   "source": [
    "# data_list = [train_dir, validation_dir, test_dir]\n",
    "\n",
    "# # train, validation, test\n",
    "# for dataset in data_list:\n",
    "\n",
    "#     # 식물 종류별\n",
    "#     for plant in plant_count:\n",
    "#         filePath_ = os.path.join(dataset, plant)\n",
    "#         os.mkdir(filePath_)\n",
    "\n",
    "#         # 식물별 파일 갯수\n",
    "#         plant_sum = plant_count[plant]\n",
    "\n",
    "#         cnt1 = int(plant_sum*0.5)  # 처음부터 50%\n",
    "#         cnt2 = int(plant_sum*0.75) # 처음부터 75%\n",
    "#         cnt3 = int(plant_sum)\n",
    "\n",
    "#         # train은 50%, validation은 25%, test는 25%씩 저장\n",
    "#         if dataset == data_list[0]:\n",
    "#             fnames = ['{}_{}.png'.format(plant, i+1) for i in range(0,cnt1)]\n",
    "        \n",
    "#         elif dataset == data_list[1]:\n",
    "#             fnames = ['{}_{}.png'.format(plant, i+1) for i in range(cnt1,cnt2)]\n",
    "\n",
    "#         else :\n",
    "#             fnames = ['{}_{}.png'.format(plant, i+1) for i in range(cnt2,cnt3)]\n",
    "\n",
    "#         # 데이터 복사\n",
    "#         for fname in fnames:\n",
    "#             src = os.path.join(original_dataset_dir, plant)\n",
    "#             src2 = os.path.join(src, fname)\n",
    "#             dst = os.path.join(filePath_,fname)\n",
    "#             shutil.copyfile(src2,dst)"
   ]
  },
  {
   "cell_type": "code",
   "execution_count": null,
   "metadata": {
    "id": "-uRtu_ngr8x1"
   },
   "outputs": [],
   "source": [
    "### 이미지 데이터 중에 안 열리는 파일이 있을 경우 사용\n",
    "\n",
    "# 안열리는 파일 삭제 \n",
    "import PIL, glob\n",
    "from PIL import Image\n",
    "from os import remove\n",
    "\n",
    "# datalist = ['train', 'test', 'valid']\n",
    "\n",
    "# for data in datalist : \n",
    "#     imgs_ = glob.glob(f\"/content/drive/MyDrive/DataScience/Multi_project3/Datasets/Plant/{data}/*/*.png\")\n",
    "\n",
    "#     for img in imgs_:\n",
    "#         try:\n",
    "#             img = PIL.Image.open(img)\n",
    "#         except PIL.UnidentifiedImageError:\n",
    "#             print(img)\n",
    "#             remove(img)"
   ]
  },
  {
   "cell_type": "code",
   "execution_count": null,
   "metadata": {
    "colab": {
     "base_uri": "https://localhost:8080/"
    },
    "id": "veVB4umBr80n",
    "outputId": "298b888a-7042-48f7-e459-99ab6577b1c6"
   },
   "outputs": [
    {
     "name": "stdout",
     "output_type": "stream",
     "text": [
      "tableyaja\n",
      "훈련용 이미지 개수 :  495\n",
      "valid 이미지 개수 :  247\n",
      "test 이미지 개수 :  248\n",
      "----------------------------------------\n",
      "stuckyi\n",
      "훈련용 이미지 개수 :  181\n",
      "valid 이미지 개수 :  90\n",
      "test 이미지 개수 :  91\n",
      "----------------------------------------\n",
      "monstera\n",
      "훈련용 이미지 개수 :  212\n",
      "valid 이미지 개수 :  106\n",
      "test 이미지 개수 :  106\n",
      "----------------------------------------\n",
      "geumjeonsoo\n",
      "훈련용 이미지 개수 :  754\n",
      "valid 이미지 개수 :  377\n",
      "test 이미지 개수 :  377\n",
      "----------------------------------------\n",
      "yeoincho\n",
      "훈련용 이미지 개수 :  282\n",
      "valid 이미지 개수 :  141\n",
      "test 이미지 개수 :  142\n",
      "----------------------------------------\n"
     ]
    }
   ],
   "source": [
    "# 식물별 데이터 수 확인\n",
    "for plant in plant_count:\n",
    "    path_train = os.path.join('/content/drive/MyDrive/DataScience/Multi_project3/Datasets/Plants_copy/train/',plant)\n",
    "    print(plant)\n",
    "    print('훈련용 이미지 개수 : ', len(os.listdir(path_train)))\n",
    "\n",
    "    path_valid = os.path.join('/content/drive/MyDrive/DataScience/Multi_project3/Datasets/Plants_copy/validation/',plant)\n",
    "    print('valid 이미지 개수 : ', len(os.listdir(path_valid)))\n",
    "\n",
    "    path_test = os.path.join('/content/drive/MyDrive/DataScience/Multi_project3/Datasets/Plants_copy/test/',plant)\n",
    "    print('test 이미지 개수 : ', len(os.listdir(path_test)))\n",
    "    print('-' * 40) "
   ]
  },
  {
   "cell_type": "markdown",
   "metadata": {
    "id": "14Spjo2f0xTV"
   },
   "source": [
    "#### 이미지 증식 및 이미지 불러오기\n",
    "\n",
    "- 학습, 검증 데이터셋을 ImageDataGenerator를 사용하여 데이터 증식\n",
    "- flow_from_directory를 사용하여 이미지 불러오기"
   ]
  },
  {
   "cell_type": "code",
   "execution_count": null,
   "metadata": {
    "id": "uLuZ8P2o68AU"
   },
   "outputs": [],
   "source": [
    "# # 입력 데이터 정규화를 위한 클래스 정의\n",
    "# def forward(input):\n",
    "#   mean = np.array([0.485, 0.456, 0.406])\n",
    "#   std = np.array([0.229, 0.224, 0.225])\n",
    "#   mean = mean.reshape(1, 1, 1, 3)\n",
    "#   std = std.reshape(1, 1, 1, 3)\n",
    "#   return (input - mean) / std"
   ]
  },
  {
   "cell_type": "code",
   "execution_count": null,
   "metadata": {
    "id": "EmJzUIlTwTDG"
   },
   "outputs": [],
   "source": [
    "from keras.preprocessing.image import ImageDataGenerator\n",
    "from keras import optimizers\n",
    "\n",
    "# 이미지 증식 (ImageDataGenerator)\n",
    "train_datagen = ImageDataGenerator( \n",
    "    rescale=1./255,\n",
    "    rotation_range=20,\n",
    "    width_shift_range=0.2,\n",
    "    height_shift_range=0.2,\n",
    "    horizontal_flip=True,\n",
    "    fill_mode='nearest'\n",
    ")\n",
    "\n",
    "test_datagen = ImageDataGenerator(rescale=1./255)"
   ]
  },
  {
   "cell_type": "code",
   "execution_count": null,
   "metadata": {
    "colab": {
     "base_uri": "https://localhost:8080/"
    },
    "id": "c4MsOQPb8Lc3",
    "outputId": "06e775e7-6679-4784-eb92-e0c080f679ac"
   },
   "outputs": [
    {
     "name": "stdout",
     "output_type": "stream",
     "text": [
      "Found 1924 images belonging to 5 classes.\n",
      "Found 961 images belonging to 5 classes.\n"
     ]
    }
   ],
   "source": [
    "# 이미지 불러오기 (flow_from_directory)\n",
    "train_generator = train_datagen.flow_from_directory(\n",
    "    train_dir,\n",
    "    target_size = (224, 224),\n",
    "    batch_size = 20,\n",
    "    class_mode = 'categorical'\n",
    ")\n",
    "\n",
    "validation_generator = test_datagen.flow_from_directory(\n",
    "    validation_dir,\n",
    "    target_size = (224, 224),\n",
    "    batch_size = 20,\n",
    "    class_mode = 'categorical'\n",
    ")"
   ]
  },
  {
   "cell_type": "markdown",
   "metadata": {
    "id": "JvPAPShX0-GV"
   },
   "source": [
    "#### 모델 구성 및 컴파일 (VGG16 모델 사용)\n",
    "\n",
    "- 활성화 함수로 ReLU 사용, Dropout 적용\n",
    "- 인위적으로 데이터셋을 늘리는 모델 (이미지 변환, 반전 등의 변환을 시도)\n",
    "- 모든 합성곱과 최대-풀링 계층에 `padding='SAME'` 적용\n",
    "- 합성곱 계층에는 `stride=1`, 활성화 함수로 `ReLU` 사용"
   ]
  },
  {
   "cell_type": "markdown",
   "metadata": {
    "id": "Fk9mLAhl3Tq9"
   },
   "source": [
    "- VGG-19 아키텍처는 VGG-16에 3개의 합성곱 계층을 추가 (둘 다 실행해봐야 할 것 같음)\n",
    "- 케라스에서 `tf.keras.applications` 패키지로 접근 가능 및 사전 훈련된 매개변수도 제공"
   ]
  },
  {
   "cell_type": "markdown",
   "metadata": {
    "id": "U5d7Mwc_3XQp"
   },
   "source": [
    "* 사용 예시\n",
    "    - ImageNet에서 훈련이 끝난 후 얻은 매개변수 값 로딩\n",
    "    - 네트워크를 처음부터 학습하고자 하면 `weights=None`으로 설정, 케라스에서 무작위 가중치 설정함\n",
    "    - `include_top=False` : VGG의 밀집 계층을 제외한다는 뜻 (해당 네트워크 출력은 합성곱/최대-풀링 블록의 특징맵이 됨)\n",
    "    - `pooling` : 특징맵을 반환하기 전에 적용할 선택적 연산을 지정 (avg, max, ...)"
   ]
  },
  {
   "cell_type": "code",
   "execution_count": null,
   "metadata": {
    "id": "FdZ3JJP71Aw9"
   },
   "outputs": [],
   "source": [
    "import numpy as np\n",
    "import tensorflow as tf\n",
    "\n",
    "from tensorflow.keras.applications.vgg16 import VGG16\n",
    "from tensorflow.keras.preprocessing.image import ImageDataGenerator\n",
    "from tensorflow.keras.layers import Conv2D, MaxPooling2D, Dense, Flatten, Dense, Dropout, Input\n",
    "from tensorflow.keras.models import Model\n",
    "from tensorflow.keras import optimizers, initializers, regularizers, metrics\n",
    "from tensorflow.keras import layers, models"
   ]
  },
  {
   "cell_type": "code",
   "execution_count": null,
   "metadata": {
    "id": "_q2E4I0BwTJ2"
   },
   "outputs": [],
   "source": [
    "# 사전학습된 VGG16 모델 불러오기\n",
    "base_model = VGG16(include_top = False, weights = 'imagenet', input_shape=(224, 224, 3))\n",
    "\n",
    "# weights : 가중치 모델 지정 ( None : 초기화된 가중치, 'imagenet' : 사전 학습된 가중치 )\n",
    "# include_top : 네트워크의 최상위 완전 연결 분류기를 포함할지 안할지 지정\n",
    "#               별도로 식물을 구분하는 완전 연결 층을 추가하려고 하므로, 이를 포함하지 않음 (False)\n",
    "# input_tensor : 입력 텐서 크기 ( Input(shape = (w, h, ch)) - 지정하지 않으면 어떤 크기의 입력도 처리 가능"
   ]
  },
  {
   "cell_type": "code",
   "execution_count": null,
   "metadata": {
    "colab": {
     "base_uri": "https://localhost:8080/"
    },
    "id": "f3L-rjWlwTMM",
    "outputId": "a002fd02-78f4-4eda-f6e1-cd51f9444eb7"
   },
   "outputs": [
    {
     "name": "stdout",
     "output_type": "stream",
     "text": [
      "Model: \"vgg16\"\n",
      "_________________________________________________________________\n",
      " Layer (type)                Output Shape              Param #   \n",
      "=================================================================\n",
      " input_3 (InputLayer)        [(None, 224, 224, 3)]     0         \n",
      "                                                                 \n",
      " block1_conv1 (Conv2D)       (None, 224, 224, 64)      1792      \n",
      "                                                                 \n",
      " block1_conv2 (Conv2D)       (None, 224, 224, 64)      36928     \n",
      "                                                                 \n",
      " block1_pool (MaxPooling2D)  (None, 112, 112, 64)      0         \n",
      "                                                                 \n",
      " block2_conv1 (Conv2D)       (None, 112, 112, 128)     73856     \n",
      "                                                                 \n",
      " block2_conv2 (Conv2D)       (None, 112, 112, 128)     147584    \n",
      "                                                                 \n",
      " block2_pool (MaxPooling2D)  (None, 56, 56, 128)       0         \n",
      "                                                                 \n",
      " block3_conv1 (Conv2D)       (None, 56, 56, 256)       295168    \n",
      "                                                                 \n",
      " block3_conv2 (Conv2D)       (None, 56, 56, 256)       590080    \n",
      "                                                                 \n",
      " block3_conv3 (Conv2D)       (None, 56, 56, 256)       590080    \n",
      "                                                                 \n",
      " block3_pool (MaxPooling2D)  (None, 28, 28, 256)       0         \n",
      "                                                                 \n",
      " block4_conv1 (Conv2D)       (None, 28, 28, 512)       1180160   \n",
      "                                                                 \n",
      " block4_conv2 (Conv2D)       (None, 28, 28, 512)       2359808   \n",
      "                                                                 \n",
      " block4_conv3 (Conv2D)       (None, 28, 28, 512)       2359808   \n",
      "                                                                 \n",
      " block4_pool (MaxPooling2D)  (None, 14, 14, 512)       0         \n",
      "                                                                 \n",
      " block5_conv1 (Conv2D)       (None, 14, 14, 512)       2359808   \n",
      "                                                                 \n",
      " block5_conv2 (Conv2D)       (None, 14, 14, 512)       2359808   \n",
      "                                                                 \n",
      " block5_conv3 (Conv2D)       (None, 14, 14, 512)       2359808   \n",
      "                                                                 \n",
      " block5_pool (MaxPooling2D)  (None, 7, 7, 512)         0         \n",
      "                                                                 \n",
      "=================================================================\n",
      "Total params: 14,714,688\n",
      "Trainable params: 14,714,688\n",
      "Non-trainable params: 0\n",
      "_________________________________________________________________\n"
     ]
    }
   ],
   "source": [
    "base_model.summary()   # 최종 특성 맵의 크기 (4, 4, 512)"
   ]
  },
  {
   "cell_type": "markdown",
   "metadata": {
    "id": "qtJVRYnu3huw"
   },
   "source": [
    "#### VGG 신경망 모델 전이학습\n",
    "\n",
    "- 참고: https://han-py.tistory.com/213\n",
    "- image = image.reshape((1, 224, 224, 3)) : image가 현재 (224, 224, 3)인 부분을 실제 입력값에 맞게 모델에서 None 부분을 만들어주기 위해 reshape하는 부분 (차원 조정은 아래 코드 사용)\n",
    "  - 맨 앞의 1은 배치 부분으로 이미지 개수가 1개라는 뜻\n",
    "  - 두, 세 번째 224는 각각 가로, 세로\n",
    "  - 네 번째 3은 R, G, B 3개를 의미\n",
    "\n",
    "\n",
    "- image = vgg16.preprocess_input(image)\n",
    "  - 모델 호출을 위한 데이터 전처리\n",
    "  - 여기까지 하면 이미지 로딩 후 모양을 맞추고 preprocess가 끝난 것이 image에 들어간다 (모델에 들어갈 준비가 완료된 것!)"
   ]
  },
  {
   "cell_type": "markdown",
   "metadata": {
    "id": "Ij27Pd1hbmRr"
   },
   "source": [
    "- Conv2D( filters = 채널 수, kernel_size = CNN 크기, activation = 활성화 함수 )\n",
    "- MaxPooling2D(pool_size = 폴링 사이즈)\n",
    "- Flatten() CNN -FC 연결을 위한 함수\n",
    "- Dense( 노드 수, activation = 활성화 함수 ('relu', 'sigmoid') )\n",
    "- Dropout( 계수 (0 ~ 1.0) )\n",
    "  - 특정한 설명변수 Feature만을 과도하게 집중하여 학습함으로써 발생할 수 있는 과대적합을 방지하기 위해 사용. 훈련할 때, 임의의 뉴런을 골라 삭제하여 신호를 전달하지 않게 함. 테스트할 때는 모든 뉴런을 사용\n",
    "  - tf.keras.layers.Dropout(rate, noise_shape=None, seed=None, **kwargs): rate Dropout 계층은 훈련시간동안 각 단계에서의 빈도로 입력 단위를 무작위로 0으로 설정하여 과적합을 방지함. 0으로 설정되지 않은 입력은 모든 입력에 대한 합계가 변경되지 않도록 1/(1-rate)로 확장됨"
   ]
  },
  {
   "cell_type": "code",
   "execution_count": null,
   "metadata": {
    "id": "wMOFgONQ1A4c"
   },
   "outputs": [],
   "source": [
    "# 모델 Layer 데이터화\n",
    "layer_dict = dict([(layer.name, layer) for layer in base_model.layers])\n",
    "\n",
    "# Layer 추가\n",
    "x = layer_dict['block5_pool'].output\n",
    "\n",
    "x = Conv2D(filters = 64, kernel_size=(3, 3), activation='relu')(x)\n",
    "x = MaxPooling2D(pool_size=(2, 2))(x)\n",
    "x = Flatten()(x)\n",
    "x = Dense(2048, activation='relu')(x)\n",
    "x = Dropout(0.5)(x)\n",
    "x = Dense(1024, activation='relu')(x)\n",
    "x = Dropout(0.5)(x)\n",
    "x = Dense(5, activation='softmax')(x)   # Softmax 함수로 5개 분류\n",
    "\n",
    "# new model 정의\n",
    "new_model = Model(inputs=base_model.input, outputs=x)"
   ]
  },
  {
   "cell_type": "code",
   "execution_count": null,
   "metadata": {
    "colab": {
     "base_uri": "https://localhost:8080/"
    },
    "id": "PJkic1F53nhv",
    "outputId": "f1deb81f-3036-4c44-c824-ba0b9b8cc0f5"
   },
   "outputs": [
    {
     "name": "stdout",
     "output_type": "stream",
     "text": [
      "Model: \"model\"\n",
      "_________________________________________________________________\n",
      " Layer (type)                Output Shape              Param #   \n",
      "=================================================================\n",
      " input_2 (InputLayer)        [(None, 224, 224, 3)]     0         \n",
      "                                                                 \n",
      " block1_conv1 (Conv2D)       (None, 224, 224, 64)      1792      \n",
      "                                                                 \n",
      " block1_conv2 (Conv2D)       (None, 224, 224, 64)      36928     \n",
      "                                                                 \n",
      " block1_pool (MaxPooling2D)  (None, 112, 112, 64)      0         \n",
      "                                                                 \n",
      " block2_conv1 (Conv2D)       (None, 112, 112, 128)     73856     \n",
      "                                                                 \n",
      " block2_conv2 (Conv2D)       (None, 112, 112, 128)     147584    \n",
      "                                                                 \n",
      " block2_pool (MaxPooling2D)  (None, 56, 56, 128)       0         \n",
      "                                                                 \n",
      " block3_conv1 (Conv2D)       (None, 56, 56, 256)       295168    \n",
      "                                                                 \n",
      " block3_conv2 (Conv2D)       (None, 56, 56, 256)       590080    \n",
      "                                                                 \n",
      " block3_conv3 (Conv2D)       (None, 56, 56, 256)       590080    \n",
      "                                                                 \n",
      " block3_pool (MaxPooling2D)  (None, 28, 28, 256)       0         \n",
      "                                                                 \n",
      " block4_conv1 (Conv2D)       (None, 28, 28, 512)       1180160   \n",
      "                                                                 \n",
      " block4_conv2 (Conv2D)       (None, 28, 28, 512)       2359808   \n",
      "                                                                 \n",
      " block4_conv3 (Conv2D)       (None, 28, 28, 512)       2359808   \n",
      "                                                                 \n",
      " block4_pool (MaxPooling2D)  (None, 14, 14, 512)       0         \n",
      "                                                                 \n",
      " block5_conv1 (Conv2D)       (None, 14, 14, 512)       2359808   \n",
      "                                                                 \n",
      " block5_conv2 (Conv2D)       (None, 14, 14, 512)       2359808   \n",
      "                                                                 \n",
      " block5_conv3 (Conv2D)       (None, 14, 14, 512)       2359808   \n",
      "                                                                 \n",
      " block5_pool (MaxPooling2D)  (None, 7, 7, 512)         0         \n",
      "                                                                 \n",
      " conv2d (Conv2D)             (None, 5, 5, 64)          294976    \n",
      "                                                                 \n",
      " max_pooling2d (MaxPooling2D  (None, 2, 2, 64)         0         \n",
      " )                                                               \n",
      "                                                                 \n",
      " flatten (Flatten)           (None, 256)               0         \n",
      "                                                                 \n",
      " dense (Dense)               (None, 2048)              526336    \n",
      "                                                                 \n",
      " dropout (Dropout)           (None, 2048)              0         \n",
      "                                                                 \n",
      " dense_1 (Dense)             (None, 1024)              2098176   \n",
      "                                                                 \n",
      " dropout_1 (Dropout)         (None, 1024)              0         \n",
      "                                                                 \n",
      " dense_2 (Dense)             (None, 5)                 5125      \n",
      "                                                                 \n",
      "=================================================================\n",
      "Total params: 17,639,301\n",
      "Trainable params: 2,924,613\n",
      "Non-trainable params: 14,714,688\n",
      "_________________________________________________________________\n"
     ]
    }
   ],
   "source": [
    "# Convolution Layer를 학습되지 않도록 고정\n",
    "# 새롭게 추가된 층 이외의 VGG16의 19번째 레이어까지 학습하지 않고 고정\n",
    "for layer in base_model.layers[:19]:\n",
    "    layer.trainable = False\n",
    "\n",
    "new_model.summary()\n",
    "\n",
    "# 모델 컴파일\n",
    "new_model.compile(loss='categorical_crossentropy', optimizer='adam', metrics=['accuracy'])"
   ]
  },
  {
   "cell_type": "markdown",
   "metadata": {
    "id": "Oqm_oUvy1E7D"
   },
   "source": [
    "#### 모델 학습 및 학습 과정 시각화\n",
    "\n",
    "- steps_per_epoch 값은 train_generator/batch_size\n",
    "- validation_steps 값은 validation_generator/batch_size\n",
    "- epochs는 이미지 증식 횟수 (epochs=20은 이미지 증식이 서로 다르게 20배된 것)"
   ]
  },
  {
   "cell_type": "code",
   "execution_count": null,
   "metadata": {
    "colab": {
     "base_uri": "https://localhost:8080/"
    },
    "id": "nDm4X1n-xOny",
    "outputId": "aabd2365-9019-4168-859a-d80afbbfdc79"
   },
   "outputs": [
    {
     "name": "stdout",
     "output_type": "stream",
     "text": [
      "Epoch 1/20\n",
      "96/96 - 48s - loss: 0.2852 - accuracy: 0.9123 - val_loss: 0.5159 - val_accuracy: 0.8781 - 48s/epoch - 505ms/step\n",
      "Epoch 2/20\n",
      "96/96 - 48s - loss: 0.2601 - accuracy: 0.9196 - val_loss: 0.4340 - val_accuracy: 0.8698 - 48s/epoch - 500ms/step\n",
      "Epoch 3/20\n",
      "96/96 - 48s - loss: 0.2370 - accuracy: 0.9259 - val_loss: 0.4611 - val_accuracy: 0.8813 - 48s/epoch - 502ms/step\n",
      "Epoch 4/20\n",
      "96/96 - 48s - loss: 0.2212 - accuracy: 0.9343 - val_loss: 0.6229 - val_accuracy: 0.8552 - 48s/epoch - 498ms/step\n",
      "Epoch 5/20\n",
      "96/96 - 56s - loss: 0.2244 - accuracy: 0.9338 - val_loss: 0.5203 - val_accuracy: 0.8760 - 56s/epoch - 588ms/step\n",
      "Epoch 6/20\n",
      "96/96 - 48s - loss: 0.2275 - accuracy: 0.9317 - val_loss: 0.4775 - val_accuracy: 0.8823 - 48s/epoch - 504ms/step\n",
      "Epoch 7/20\n",
      "96/96 - 48s - loss: 0.1902 - accuracy: 0.9412 - val_loss: 0.5249 - val_accuracy: 0.8885 - 48s/epoch - 502ms/step\n",
      "Epoch 8/20\n",
      "96/96 - 48s - loss: 0.1983 - accuracy: 0.9417 - val_loss: 0.4102 - val_accuracy: 0.8896 - 48s/epoch - 502ms/step\n",
      "Epoch 9/20\n",
      "96/96 - 48s - loss: 0.1605 - accuracy: 0.9533 - val_loss: 0.5227 - val_accuracy: 0.8813 - 48s/epoch - 504ms/step\n",
      "Epoch 10/20\n",
      "96/96 - 48s - loss: 0.1708 - accuracy: 0.9464 - val_loss: 0.5555 - val_accuracy: 0.8750 - 48s/epoch - 498ms/step\n",
      "Epoch 11/20\n",
      "96/96 - 48s - loss: 0.1909 - accuracy: 0.9459 - val_loss: 0.6085 - val_accuracy: 0.8740 - 48s/epoch - 496ms/step\n",
      "Epoch 12/20\n",
      "96/96 - 48s - loss: 0.1762 - accuracy: 0.9470 - val_loss: 0.4805 - val_accuracy: 0.8719 - 48s/epoch - 497ms/step\n",
      "Epoch 13/20\n",
      "96/96 - 47s - loss: 0.1573 - accuracy: 0.9580 - val_loss: 0.7038 - val_accuracy: 0.8792 - 47s/epoch - 494ms/step\n",
      "Epoch 14/20\n",
      "96/96 - 47s - loss: 0.1604 - accuracy: 0.9501 - val_loss: 0.5402 - val_accuracy: 0.8885 - 47s/epoch - 495ms/step\n",
      "Epoch 15/20\n",
      "96/96 - 48s - loss: 0.1337 - accuracy: 0.9638 - val_loss: 0.5355 - val_accuracy: 0.8906 - 48s/epoch - 499ms/step\n",
      "Epoch 16/20\n",
      "96/96 - 48s - loss: 0.2094 - accuracy: 0.9328 - val_loss: 0.5198 - val_accuracy: 0.8750 - 48s/epoch - 497ms/step\n",
      "Epoch 17/20\n",
      "96/96 - 48s - loss: 0.1661 - accuracy: 0.9543 - val_loss: 0.6106 - val_accuracy: 0.8833 - 48s/epoch - 500ms/step\n",
      "Epoch 18/20\n",
      "96/96 - 48s - loss: 0.1639 - accuracy: 0.9548 - val_loss: 0.7146 - val_accuracy: 0.8740 - 48s/epoch - 498ms/step\n",
      "Epoch 19/20\n",
      "96/96 - 48s - loss: 0.1617 - accuracy: 0.9548 - val_loss: 0.4858 - val_accuracy: 0.8979 - 48s/epoch - 496ms/step\n",
      "Epoch 20/20\n",
      "96/96 - 48s - loss: 0.1660 - accuracy: 0.9575 - val_loss: 0.7589 - val_accuracy: 0.8677 - 48s/epoch - 499ms/step\n"
     ]
    }
   ],
   "source": [
    "# 모델 학습\n",
    "\n",
    "# Make sure that your dataset or generator can generate at least `steps_per_epoch * epochs` batches (in this case, 50 batches)\n",
    "# You may need to use the repeat() function when building your dataset.\n",
    "# 오류나서 steps_per_epoch와 epochs를 곱한 것이 train_generator 값보다 작게 바꿈 (각각 96, 20)\n",
    "\n",
    "history = new_model.fit(train_generator,\n",
    "                        steps_per_epoch = 96,\n",
    "                        epochs = 20,\n",
    "                        validation_data = validation_generator,\n",
    "                        validation_steps= 48,\n",
    "                        verbose = 2)"
   ]
  },
  {
   "cell_type": "code",
   "execution_count": null,
   "metadata": {
    "id": "bK_Kfj6D9M6H"
   },
   "outputs": [],
   "source": [
    "# 모델 저장\n",
    "# new_model.save(\"/content/drive/MyDrive/DataScience/Multi_project3/Model/VGG16_basemodel.h5\")\n",
    "new_model.save(\"/content/drive/MyDrive/DataScience/Multi_project3/Model/VGG16_image224.h5\")\n",
    "# new_model.save(\"/content/drive/MyDrive/DataScience/Multi_project3/Model/VGG16_normalization.h5\")"
   ]
  },
  {
   "cell_type": "markdown",
   "metadata": {
    "id": "RTRXGqE7a4kr"
   },
   "source": [
    "#### 최종 결과 리포트"
   ]
  },
  {
   "cell_type": "code",
   "execution_count": null,
   "metadata": {
    "colab": {
     "base_uri": "https://localhost:8080/",
     "height": 582
    },
    "id": "lLz6-GU5xOu4",
    "outputId": "ae75fce3-45d9-437b-d6ea-42313d92a9ed"
   },
   "outputs": [
    {
     "name": "stderr",
     "output_type": "stream",
     "text": [
      "findfont: Font family ['NanumBarunGothic'] not found. Falling back to DejaVu Sans.\n",
      "findfont: Font family ['NanumBarunGothic'] not found. Falling back to DejaVu Sans.\n"
     ]
    },
    {
     "data": {
      "image/png": "[encoded data removed]",
      "text/plain": [
       "<Figure size 432x288 with 1 Axes>"
      ]
     },
     "metadata": {
      "needs_background": "light"
     },
     "output_type": "display_data"
    },
    {
     "data": {
      "image/png": "[encoded data removed]",
      "text/plain": [
       "<Figure size 432x288 with 1 Axes>"
      ]
     },
     "metadata": {
      "needs_background": "light"
     },
     "output_type": "display_data"
    }
   ],
   "source": [
    "import matplotlib.pyplot as plt\n",
    "\n",
    "acc = history.history['accuracy']\n",
    "val_acc = history.history['val_accuracy']\n",
    "loss = history.history['loss']\n",
    "val_loss = history.history['val_loss']\n",
    "\n",
    "epochs = range(len(acc))\n",
    "\n",
    "plt.plot(epochs, acc, 'r', label='Training acc')\n",
    "plt.plot(epochs, val_acc, 'b', label='validation acc')\n",
    "plt.title('Training and validation accuracy')\n",
    "plt.legend()\n",
    "plt.figure()\n",
    "\n",
    "plt.plot(epochs, loss, 'r', label='Training loss')\n",
    "plt.plot(epochs, val_loss, 'b', label='Validation loss')\n",
    "plt.title('Training and validation loss')\n",
    "plt.legend()\n",
    "\n",
    "plt.show()"
   ]
  },
  {
   "cell_type": "code",
   "execution_count": null,
   "metadata": {
    "colab": {
     "base_uri": "https://localhost:8080/"
    },
    "id": "vtSb7gacv-p-",
    "outputId": "ddf1378a-a6ad-4eec-e014-1981b0c7103f"
   },
   "outputs": [
    {
     "name": "stdout",
     "output_type": "stream",
     "text": [
      "Found 964 images belonging to 5 classes.\n"
     ]
    },
    {
     "name": "stderr",
     "output_type": "stream",
     "text": [
      "/usr/local/lib/python3.7/dist-packages/ipykernel_launcher.py:6: UserWarning: `Model.evaluate_generator` is deprecated and will be removed in a future version. Please use `Model.evaluate`, which supports generators.\n",
      "  \n"
     ]
    },
    {
     "name": "stdout",
     "output_type": "stream",
     "text": [
      "test loss: 1.2364261150360107, test acc: 0.793749988079071\n"
     ]
    }
   ],
   "source": [
    "test_generator = test_datagen.flow_from_directory(test_dir,\n",
    "                                                  target_size = (224, 224),\n",
    "                                                  batch_size = 20,\n",
    "                                                  class_mode = 'categorical')\n",
    "\n",
    "test_loss, test_acc = new_model.evaluate_generator(test_generator,steps=48)\n",
    "print(f'test loss: {test_loss}, test acc: {test_acc}')"
   ]
  },
  {
   "cell_type": "markdown",
   "metadata": {
    "id": "P3-_htJy9qEf"
   },
   "source": [
    "### 모델 불러오기"
   ]
  },
  {
   "cell_type": "code",
   "execution_count": null,
   "metadata": {
    "id": "240FxIHM9oK_"
   },
   "outputs": [],
   "source": [
    "from tensorflow.python.keras.models import load_model\n",
    "\n",
    "modelLoad = load_model('/content/drive/MyDrive/DataScience/Multi_project3/Model/VGG16_basemodel.h5')\n",
    "modelLoad.summary()"
   ]
  },
  {
   "cell_type": "markdown",
   "metadata": {
    "id": "hK4cZdrZApQD"
   },
   "source": [
    "* 참고 사이트\n",
    "1. https://studying-modory.tistory.com/entry/210305-%EB%94%A5%EB%9F%AC%EB%8B%9D-%EB%8F%99%EB%AC%BC-%EC%9D%B4%EB%AF%B8%EC%A7%80-%EC%9D%B8%EC%8B%9D-%ED%8C%A8%EC%85%98-%EC%9D%B4%EB%AF%B8%EC%A7%80-%EB%B6%84%EB%A5%98\n",
    "\n",
    "2. https://eremo2002.tistory.com/55\n",
    "\n",
    "3. https://deep-eye.tistory.com/41"
   ]
  }
 ],
 "metadata": {
  "accelerator": "GPU",
  "colab": {
   "collapsed_sections": [],
   "name": "식물인식_VGG16(혜인)ver2.ipynb",
   "provenance": []
  },
  "kernelspec": {
   "display_name": "Python 3 (ipykernel)",
   "language": "python",
   "name": "python3"
  },
  "language_info": {
   "codemirror_mode": {
    "name": "ipython",
    "version": 3
   },
   "file_extension": ".py",
   "mimetype": "text/x-python",
   "name": "python",
   "nbconvert_exporter": "python",
   "pygments_lexer": "ipython3",
   "version": "3.9.12"
  }
 },
 "nbformat": 4,
 "nbformat_minor": 1
}
