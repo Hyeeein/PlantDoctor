{
 "cells": [
  {
   "cell_type": "markdown",
   "metadata": {
    "id": "sHlJ4hUp0aLY"
   },
   "source": [
    "#### 구글 드라이브 연결"
   ]
  },
  {
   "cell_type": "code",
   "execution_count": 1,
   "metadata": {
    "colab": {
     "base_uri": "https://localhost:8080/"
    },
    "executionInfo": {
     "elapsed": 22075,
     "status": "ok",
     "timestamp": 1650931916619,
     "user": {
      "displayName": "혜인",
      "userId": "11909306586925186265"
     },
     "user_tz": -540
    },
    "id": "yT2a3VKbr8VF",
    "outputId": "a0ca1914-6a7b-4094-d2ed-6dd49b4d8f79"
   },
   "outputs": [
    {
     "name": "stdout",
     "output_type": "stream",
     "text": [
      "Mounted at /content/drive\n"
     ]
    }
   ],
   "source": [
    "# 구글 계정 액세스\n",
    "from google.colab import drive\n",
    "drive.mount('/content/drive')"
   ]
  },
  {
   "cell_type": "code",
   "execution_count": 2,
   "metadata": {
    "colab": {
     "base_uri": "https://localhost:8080/",
     "height": 35
    },
    "executionInfo": {
     "elapsed": 2778,
     "status": "ok",
     "timestamp": 1650931919388,
     "user": {
      "displayName": "혜인",
      "userId": "11909306586925186265"
     },
     "user_tz": -540
    },
    "id": "h_SdsPzAkwwz",
    "outputId": "55fc9ecd-d19b-48e5-a2f4-a01b464bb958"
   },
   "outputs": [
    {
     "data": {
      "application/vnd.google.colaboratory.intrinsic+json": {
       "type": "string"
      },
      "text/plain": [
       "'2.8.0'"
      ]
     },
     "execution_count": 2,
     "metadata": {},
     "output_type": "execute_result"
    }
   ],
   "source": [
    "import keras \n",
    "keras.__version__"
   ]
  },
  {
   "cell_type": "code",
   "execution_count": 3,
   "metadata": {
    "colab": {
     "base_uri": "https://localhost:8080/",
     "height": 35
    },
    "executionInfo": {
     "elapsed": 17,
     "status": "ok",
     "timestamp": 1650931919389,
     "user": {
      "displayName": "혜인",
      "userId": "11909306586925186265"
     },
     "user_tz": -540
    },
    "id": "bx2UvFrLr307",
    "outputId": "04e3981d-3ba3-4cf5-ad43-9a0e2a6c3618"
   },
   "outputs": [
    {
     "data": {
      "application/vnd.google.colaboratory.intrinsic+json": {
       "type": "string"
      },
      "text/plain": [
       "'2.8.0'"
      ]
     },
     "execution_count": 3,
     "metadata": {},
     "output_type": "execute_result"
    }
   ],
   "source": [
    "import tensorflow as tf\n",
    "tf.__version__"
   ]
  },
  {
   "cell_type": "code",
   "execution_count": 4,
   "metadata": {
    "colab": {
     "base_uri": "https://localhost:8080/"
    },
    "executionInfo": {
     "elapsed": 17,
     "status": "ok",
     "timestamp": 1650931919392,
     "user": {
      "displayName": "혜인",
      "userId": "11909306586925186265"
     },
     "user_tz": -540
    },
    "id": "aF2T78Uku5Yk",
    "outputId": "51856750-5e93-4a29-86fc-c54221114ae3"
   },
   "outputs": [
    {
     "name": "stdout",
     "output_type": "stream",
     "text": [
      "Python 3.7.13\n"
     ]
    }
   ],
   "source": [
    "!python --version"
   ]
  },
  {
   "cell_type": "code",
   "execution_count": 5,
   "metadata": {
    "colab": {
     "base_uri": "https://localhost:8080/"
    },
    "executionInfo": {
     "elapsed": 7250,
     "status": "ok",
     "timestamp": 1650931926633,
     "user": {
      "displayName": "혜인",
      "userId": "11909306586925186265"
     },
     "user_tz": -540
    },
    "id": "uau7FtwFr8SH",
    "outputId": "9bf6bdb3-f3b0-476c-a76d-938f88ac4164"
   },
   "outputs": [
    {
     "name": "stdout",
     "output_type": "stream",
     "text": [
      "Reading package lists... Done\n",
      "Building dependency tree       \n",
      "Reading state information... Done\n",
      "The following NEW packages will be installed:\n",
      "  fonts-nanum\n",
      "0 upgraded, 1 newly installed, 0 to remove and 40 not upgraded.\n",
      "Need to get 9,604 kB of archives.\n",
      "After this operation, 29.5 MB of additional disk space will be used.\n",
      "Get:1 http://archive.ubuntu.com/ubuntu bionic/universe amd64 fonts-nanum all 20170925-1 [9,604 kB]\n",
      "Fetched 9,604 kB in 0s (24.6 MB/s)\n",
      "Selecting previously unselected package fonts-nanum.\n",
      "(Reading database ... 155501 files and directories currently installed.)\n",
      "Preparing to unpack .../fonts-nanum_20170925-1_all.deb ...\n",
      "Unpacking fonts-nanum (20170925-1) ...\n",
      "Setting up fonts-nanum (20170925-1) ...\n",
      "Processing triggers for fontconfig (2.12.6-0ubuntu2) ...\n"
     ]
    }
   ],
   "source": [
    "!apt install fonts-nanum -y\n",
    "\n",
    "import matplotlib\n",
    "import matplotlib.pyplot as plt\n",
    "import matplotlib.font_manager as fm\n",
    "\n",
    "## 한글 폰트 설정하기\n",
    "fontpath = '/usr/share/fonts/truetype/nanum/NanumBarunGothic.ttf'\n",
    "font = fm.FontProperties(fname=fontpath, size=10)\n",
    "plt.rc('font', family='NanumBarunGothic')\n",
    "matplotlib.font_manager._rebuild()"
   ]
  },
  {
   "cell_type": "markdown",
   "metadata": {
    "id": "t1tv4WOU0irQ"
   },
   "source": [
    "#### 데이터 로드"
   ]
  },
  {
   "cell_type": "code",
   "execution_count": 6,
   "metadata": {
    "executionInfo": {
     "elapsed": 5,
     "status": "ok",
     "timestamp": 1650931926633,
     "user": {
      "displayName": "혜인",
      "userId": "11909306586925186265"
     },
     "user_tz": -540
    },
    "id": "ASUzJqPtr8X0"
   },
   "outputs": [],
   "source": [
    "import os, shutil"
   ]
  },
  {
   "cell_type": "code",
   "execution_count": 7,
   "metadata": {
    "colab": {
     "base_uri": "https://localhost:8080/"
    },
    "executionInfo": {
     "elapsed": 23322,
     "status": "ok",
     "timestamp": 1650931949951,
     "user": {
      "displayName": "혜인",
      "userId": "11909306586925186265"
     },
     "user_tz": -540
    },
    "id": "jnQlWCM_r8aR",
    "outputId": "14de59f4-39af-4522-c816-74d5fd804efc"
   },
   "outputs": [
    {
     "name": "stdout",
     "output_type": "stream",
     "text": [
      "['yeoincho', 'geumjeonsoo', 'tableyaja', 'stuckyi', 'monstera']\n",
      "{'yeoincho': 1000, 'geumjeonsoo': 1508, 'tableyaja': 990, 'stuckyi': 1461, 'monstera': 1665}\n"
     ]
    }
   ],
   "source": [
    "original_dataset_dir = '/content/drive/MyDrive/DataScience/Multi_project3/Datasets/Plants/'  # 원본 데이터셋 디렉터리\n",
    "\n",
    "# images 안에 있는 식물 목록 (리스트)\n",
    "plant_list = os.listdir(original_dataset_dir)\n",
    "print(plant_list)\n",
    "\n",
    "# 식물별 데이터 갯수 확인\n",
    "plant_count = {}\n",
    "for i in plant_list:\n",
    "    plant_count[i] = len(os.listdir(original_dataset_dir+i))\n",
    "print(plant_count)"
   ]
  },
  {
   "cell_type": "code",
   "execution_count": 8,
   "metadata": {
    "executionInfo": {
     "elapsed": 16,
     "status": "ok",
     "timestamp": 1650931949952,
     "user": {
      "displayName": "혜인",
      "userId": "11909306586925186265"
     },
     "user_tz": -540
    },
    "id": "V9jYH2tUr8cp"
   },
   "outputs": [],
   "source": [
    "# 데이터셋을 저장할 디렉터리 (copy)\n",
    "base_dir = '/content/drive/MyDrive/DataScience/Multi_project3/Datasets/Plants_copy'\n",
    "# os.mkdir(base_dir)"
   ]
  },
  {
   "cell_type": "code",
   "execution_count": 9,
   "metadata": {
    "executionInfo": {
     "elapsed": 14,
     "status": "ok",
     "timestamp": 1650931949952,
     "user": {
      "displayName": "혜인",
      "userId": "11909306586925186265"
     },
     "user_tz": -540
    },
    "id": "UpfZ5sWfwFy-"
   },
   "outputs": [],
   "source": [
    "# 훈련, 검증, 테스트 분할을 위한 디렉터리\n",
    "# 이 안에 식물 종류별로 폴더를 생성해서 데이터를 나눠서 복사할 것\n",
    "\n",
    "train_dir = os.path.join(base_dir, 'train')\n",
    "# os.mkdir(train_dir)\n",
    "validation_dir = os.path.join(base_dir, 'validation')\n",
    "# os.mkdir(validation_dir)\n",
    "test_dir = os.path.join(base_dir, 'test')\n",
    "# os.mkdir(test_dir)"
   ]
  },
  {
   "cell_type": "code",
   "execution_count": null,
   "metadata": {
    "id": "rutRphuC1dco"
   },
   "outputs": [],
   "source": [
    "# # 식물별 이미지 데이터 이름 변경\n",
    "# for path in plant_list:\n",
    "#     i = 1   # 이미지 이름 1부터 시작\n",
    "\n",
    "#     for img_path in os.listdir(original_dataset_dir+path):\n",
    "#         src = os.path.join(original_dataset_dir+path, img_path)\n",
    "#         dst = path + '_' + str(i) + '.png'\n",
    "#         dst = os.path.join(original_dataset_dir+path, dst)\n",
    "\n",
    "#         os.rename(src, dst)\n",
    "#         i += 1"
   ]
  },
  {
   "cell_type": "code",
   "execution_count": null,
   "metadata": {
    "id": "aA667Jtbr8vV"
   },
   "outputs": [],
   "source": [
    "# data_list = [train_dir, validation_dir, test_dir]\n",
    "\n",
    "# # train, validation, test\n",
    "# for dataset in data_list:\n",
    "\n",
    "#     # 식물 종류별\n",
    "#     for plant in plant_count:\n",
    "#         filePath_ = os.path.join(dataset, plant)\n",
    "#         os.mkdir(filePath_)\n",
    "\n",
    "#         # 식물별 파일 갯수\n",
    "#         plant_sum = plant_count[plant]\n",
    "\n",
    "#         cnt1 = int(plant_sum*0.5)  # 처음부터 50%\n",
    "#         cnt2 = int(plant_sum*0.75) # 처음부터 75%\n",
    "#         cnt3 = int(plant_sum)\n",
    "\n",
    "#         # train은 50%, validation은 25%, test는 25%씩 저장\n",
    "#         if dataset == data_list[0]:\n",
    "#             fnames = ['{}_{}.png'.format(plant, i+1) for i in range(0,cnt1)]\n",
    "        \n",
    "#         elif dataset == data_list[1]:\n",
    "#             fnames = ['{}_{}.png'.format(plant, i+1) for i in range(cnt1,cnt2)]\n",
    "\n",
    "#         else :\n",
    "#             fnames = ['{}_{}.png'.format(plant, i+1) for i in range(cnt2,cnt3)]\n",
    "\n",
    "#         # 데이터 복사\n",
    "#         for fname in fnames:\n",
    "#             src = os.path.join(original_dataset_dir, plant)\n",
    "#             src2 = os.path.join(src, fname)\n",
    "#             dst = os.path.join(filePath_,fname)\n",
    "#             shutil.copyfile(src2,dst)"
   ]
  },
  {
   "cell_type": "code",
   "execution_count": 10,
   "metadata": {
    "executionInfo": {
     "elapsed": 14,
     "status": "ok",
     "timestamp": 1650931949953,
     "user": {
      "displayName": "혜인",
      "userId": "11909306586925186265"
     },
     "user_tz": -540
    },
    "id": "-uRtu_ngr8x1"
   },
   "outputs": [],
   "source": [
    "### 이미지 데이터 중에 안 열리는 파일이 있을 경우 사용\n",
    "\n",
    "# 안열리는 파일 삭제 \n",
    "import PIL, glob\n",
    "from PIL import Image\n",
    "from os import remove\n",
    "\n",
    "# datalist = ['train', 'test', 'valid']\n",
    "\n",
    "# for data in datalist : \n",
    "#     imgs_ = glob.glob(f\"/content/drive/MyDrive/DataScience/Multi_project3/Datasets/Plant/{data}/*/*.png\")\n",
    "\n",
    "#     for img in imgs_:\n",
    "#         try:\n",
    "#             img = PIL.Image.open(img)\n",
    "#         except PIL.UnidentifiedImageError:\n",
    "#             print(img)\n",
    "#             remove(img)"
   ]
  },
  {
   "cell_type": "code",
   "execution_count": 11,
   "metadata": {
    "colab": {
     "base_uri": "https://localhost:8080/"
    },
    "executionInfo": {
     "elapsed": 43860,
     "status": "ok",
     "timestamp": 1650931993801,
     "user": {
      "displayName": "혜인",
      "userId": "11909306586925186265"
     },
     "user_tz": -540
    },
    "id": "veVB4umBr80n",
    "outputId": "f813796c-1924-4666-875e-20a05a72936e"
   },
   "outputs": [
    {
     "name": "stdout",
     "output_type": "stream",
     "text": [
      "yeoincho\n",
      "훈련용 이미지 개수 :  698\n",
      "valid 이미지 개수 :  349\n",
      "test 이미지 개수 :  350\n",
      "----------------------------------------\n",
      "geumjeonsoo\n",
      "훈련용 이미지 개수 :  754\n",
      "valid 이미지 개수 :  377\n",
      "test 이미지 개수 :  377\n",
      "----------------------------------------\n",
      "tableyaja\n",
      "훈련용 이미지 개수 :  495\n",
      "valid 이미지 개수 :  247\n",
      "test 이미지 개수 :  248\n",
      "----------------------------------------\n",
      "stuckyi\n",
      "훈련용 이미지 개수 :  730\n",
      "valid 이미지 개수 :  365\n",
      "test 이미지 개수 :  366\n",
      "----------------------------------------\n",
      "monstera\n",
      "훈련용 이미지 개수 :  832\n",
      "valid 이미지 개수 :  416\n",
      "test 이미지 개수 :  417\n",
      "----------------------------------------\n"
     ]
    }
   ],
   "source": [
    "# 식물별 데이터 수 확인\n",
    "for plant in plant_count:\n",
    "    path_train = os.path.join('/content/drive/MyDrive/DataScience/Multi_project3/Datasets/Plants_copy/train/',plant)\n",
    "    print(plant)\n",
    "    print('훈련용 이미지 개수 : ', len(os.listdir(path_train)))\n",
    "\n",
    "    path_valid = os.path.join('/content/drive/MyDrive/DataScience/Multi_project3/Datasets/Plants_copy/validation/',plant)\n",
    "    print('valid 이미지 개수 : ', len(os.listdir(path_valid)))\n",
    "\n",
    "    path_test = os.path.join('/content/drive/MyDrive/DataScience/Multi_project3/Datasets/Plants_copy/test/',plant)\n",
    "    print('test 이미지 개수 : ', len(os.listdir(path_test)))\n",
    "    print('-' * 40) "
   ]
  },
  {
   "cell_type": "markdown",
   "metadata": {
    "id": "14Spjo2f0xTV"
   },
   "source": [
    "#### 이미지 증식 및 이미지 불러오기\n",
    "\n",
    "- 학습, 검증 데이터셋을 ImageDataGenerator를 사용하여 데이터 증식\n",
    "- flow_from_directory를 사용하여 이미지 불러오기"
   ]
  },
  {
   "cell_type": "code",
   "execution_count": null,
   "metadata": {
    "id": "uLuZ8P2o68AU"
   },
   "outputs": [],
   "source": [
    "# # 입력 데이터 정규화를 위한 클래스 정의\n",
    "# def forward(input):\n",
    "#   mean = np.array([0.485, 0.456, 0.406])\n",
    "#   std = np.array([0.229, 0.224, 0.225])\n",
    "#   mean = mean.reshape(1, 1, 1, 3)\n",
    "#   std = std.reshape(1, 1, 1, 3)\n",
    "#   return (input - mean) / std"
   ]
  },
  {
   "cell_type": "code",
   "execution_count": 12,
   "metadata": {
    "executionInfo": {
     "elapsed": 20,
     "status": "ok",
     "timestamp": 1650931993802,
     "user": {
      "displayName": "혜인",
      "userId": "11909306586925186265"
     },
     "user_tz": -540
    },
    "id": "EmJzUIlTwTDG"
   },
   "outputs": [],
   "source": [
    "from keras.preprocessing.image import ImageDataGenerator\n",
    "from keras import optimizers\n",
    "\n",
    "# 이미지 증식 (ImageDataGenerator)\n",
    "train_datagen = ImageDataGenerator( \n",
    "    rescale=1./255,\n",
    "    rotation_range=20,\n",
    "    width_shift_range=0.2,\n",
    "    height_shift_range=0.2,\n",
    "    horizontal_flip=True,\n",
    "    fill_mode='nearest'\n",
    ")\n",
    "\n",
    "test_datagen = ImageDataGenerator(rescale=1./255)"
   ]
  },
  {
   "cell_type": "code",
   "execution_count": 13,
   "metadata": {
    "colab": {
     "base_uri": "https://localhost:8080/"
    },
    "executionInfo": {
     "elapsed": 420,
     "status": "ok",
     "timestamp": 1650931994204,
     "user": {
      "displayName": "혜인",
      "userId": "11909306586925186265"
     },
     "user_tz": -540
    },
    "id": "c4MsOQPb8Lc3",
    "outputId": "1c51be88-f5b3-4811-849a-ef60822d4571"
   },
   "outputs": [
    {
     "name": "stdout",
     "output_type": "stream",
     "text": [
      "Found 3509 images belonging to 5 classes.\n",
      "Found 1754 images belonging to 5 classes.\n"
     ]
    }
   ],
   "source": [
    "# 이미지 불러오기 (flow_from_directory)\n",
    "train_generator = train_datagen.flow_from_directory(\n",
    "    train_dir,\n",
    "    target_size = (224, 224),\n",
    "    batch_size = 20,\n",
    "    class_mode = 'categorical'\n",
    ")\n",
    "\n",
    "validation_generator = test_datagen.flow_from_directory(\n",
    "    validation_dir,\n",
    "    target_size = (224, 224),\n",
    "    batch_size = 20,\n",
    "    class_mode = 'categorical'\n",
    ")"
   ]
  },
  {
   "cell_type": "markdown",
   "metadata": {
    "id": "JvPAPShX0-GV"
   },
   "source": [
    "#### 모델 구성 및 컴파일 (VGG16 모델 사용)\n",
    "\n",
    "- 활성화 함수로 ReLU 사용, Dropout 적용\n",
    "- 인위적으로 데이터셋을 늘리는 모델 (이미지 변환, 반전 등의 변환을 시도)\n",
    "- 모든 합성곱과 최대-풀링 계층에 `padding='SAME'` 적용\n",
    "- 합성곱 계층에는 `stride=1`, 활성화 함수로 `ReLU` 사용"
   ]
  },
  {
   "cell_type": "markdown",
   "metadata": {
    "id": "Fk9mLAhl3Tq9"
   },
   "source": [
    "- VGG-19 아키텍처는 VGG-16에 3개의 합성곱 계층을 추가 (둘 다 실행해봐야 할 것 같음)\n",
    "- 케라스에서 `tf.keras.applications` 패키지로 접근 가능 및 사전 훈련된 매개변수도 제공"
   ]
  },
  {
   "cell_type": "markdown",
   "metadata": {
    "id": "U5d7Mwc_3XQp"
   },
   "source": [
    "* 사용 예시\n",
    "    - ImageNet에서 훈련이 끝난 후 얻은 매개변수 값 로딩\n",
    "    - 네트워크를 처음부터 학습하고자 하면 `weights=None`으로 설정, 케라스에서 무작위 가중치 설정함\n",
    "    - `include_top=False` : VGG의 밀집 계층을 제외한다는 뜻 (해당 네트워크 출력은 합성곱/최대-풀링 블록의 특징맵이 됨)\n",
    "    - `pooling` : 특징맵을 반환하기 전에 적용할 선택적 연산을 지정 (avg, max, ...)"
   ]
  },
  {
   "cell_type": "code",
   "execution_count": 14,
   "metadata": {
    "executionInfo": {
     "elapsed": 273,
     "status": "ok",
     "timestamp": 1650932031611,
     "user": {
      "displayName": "혜인",
      "userId": "11909306586925186265"
     },
     "user_tz": -540
    },
    "id": "FdZ3JJP71Aw9"
   },
   "outputs": [],
   "source": [
    "import numpy as np\n",
    "import tensorflow as tf\n",
    "\n",
    "from tensorflow.keras.applications.vgg16 import VGG16\n",
    "from tensorflow.keras.preprocessing.image import ImageDataGenerator\n",
    "from tensorflow.keras.layers import Conv2D, MaxPooling2D, Dense, Flatten, Dense, Dropout, Input\n",
    "from tensorflow.keras.models import Model\n",
    "from tensorflow.keras import optimizers, initializers, regularizers, metrics\n",
    "from tensorflow.keras import layers, models"
   ]
  },
  {
   "cell_type": "code",
   "execution_count": 15,
   "metadata": {
    "colab": {
     "base_uri": "https://localhost:8080/"
    },
    "executionInfo": {
     "elapsed": 4341,
     "status": "ok",
     "timestamp": 1650932036225,
     "user": {
      "displayName": "혜인",
      "userId": "11909306586925186265"
     },
     "user_tz": -540
    },
    "id": "_q2E4I0BwTJ2",
    "outputId": "9f3c4655-2769-4808-ab36-e659158b626c"
   },
   "outputs": [
    {
     "name": "stdout",
     "output_type": "stream",
     "text": [
      "Downloading data from https://storage.googleapis.com/tensorflow/keras-applications/vgg16/vgg16_weights_tf_dim_ordering_tf_kernels_notop.h5\n",
      "58892288/58889256 [==============================] - 0s 0us/step\n",
      "58900480/58889256 [==============================] - 0s 0us/step\n"
     ]
    }
   ],
   "source": [
    "# 사전학습된 VGG16 모델 불러오기\n",
    "base_model = VGG16(include_top = False, weights = 'imagenet', input_shape=(224, 224, 3))\n",
    "\n",
    "# weights : 가중치 모델 지정 ( None : 초기화된 가중치, 'imagenet' : 사전 학습된 가중치 )\n",
    "# include_top : 네트워크의 최상위 완전 연결 분류기를 포함할지 안할지 지정\n",
    "#               별도로 식물을 구분하는 완전 연결 층을 추가하려고 하므로, 이를 포함하지 않음 (False)\n",
    "# input_tensor : 입력 텐서 크기 ( Input(shape = (w, h, ch)) - 지정하지 않으면 어떤 크기의 입력도 처리 가능"
   ]
  },
  {
   "cell_type": "code",
   "execution_count": 16,
   "metadata": {
    "colab": {
     "base_uri": "https://localhost:8080/"
    },
    "executionInfo": {
     "elapsed": 46,
     "status": "ok",
     "timestamp": 1650932036225,
     "user": {
      "displayName": "혜인",
      "userId": "11909306586925186265"
     },
     "user_tz": -540
    },
    "id": "f3L-rjWlwTMM",
    "outputId": "773a799d-17ea-4aae-a463-7dfba9a7669c"
   },
   "outputs": [
    {
     "name": "stdout",
     "output_type": "stream",
     "text": [
      "Model: \"vgg16\"\n",
      "_________________________________________________________________\n",
      " Layer (type)                Output Shape              Param #   \n",
      "=================================================================\n",
      " input_1 (InputLayer)        [(None, 224, 224, 3)]     0         \n",
      "                                                                 \n",
      " block1_conv1 (Conv2D)       (None, 224, 224, 64)      1792      \n",
      "                                                                 \n",
      " block1_conv2 (Conv2D)       (None, 224, 224, 64)      36928     \n",
      "                                                                 \n",
      " block1_pool (MaxPooling2D)  (None, 112, 112, 64)      0         \n",
      "                                                                 \n",
      " block2_conv1 (Conv2D)       (None, 112, 112, 128)     73856     \n",
      "                                                                 \n",
      " block2_conv2 (Conv2D)       (None, 112, 112, 128)     147584    \n",
      "                                                                 \n",
      " block2_pool (MaxPooling2D)  (None, 56, 56, 128)       0         \n",
      "                                                                 \n",
      " block3_conv1 (Conv2D)       (None, 56, 56, 256)       295168    \n",
      "                                                                 \n",
      " block3_conv2 (Conv2D)       (None, 56, 56, 256)       590080    \n",
      "                                                                 \n",
      " block3_conv3 (Conv2D)       (None, 56, 56, 256)       590080    \n",
      "                                                                 \n",
      " block3_pool (MaxPooling2D)  (None, 28, 28, 256)       0         \n",
      "                                                                 \n",
      " block4_conv1 (Conv2D)       (None, 28, 28, 512)       1180160   \n",
      "                                                                 \n",
      " block4_conv2 (Conv2D)       (None, 28, 28, 512)       2359808   \n",
      "                                                                 \n",
      " block4_conv3 (Conv2D)       (None, 28, 28, 512)       2359808   \n",
      "                                                                 \n",
      " block4_pool (MaxPooling2D)  (None, 14, 14, 512)       0         \n",
      "                                                                 \n",
      " block5_conv1 (Conv2D)       (None, 14, 14, 512)       2359808   \n",
      "                                                                 \n",
      " block5_conv2 (Conv2D)       (None, 14, 14, 512)       2359808   \n",
      "                                                                 \n",
      " block5_conv3 (Conv2D)       (None, 14, 14, 512)       2359808   \n",
      "                                                                 \n",
      " block5_pool (MaxPooling2D)  (None, 7, 7, 512)         0         \n",
      "                                                                 \n",
      "=================================================================\n",
      "Total params: 14,714,688\n",
      "Trainable params: 14,714,688\n",
      "Non-trainable params: 0\n",
      "_________________________________________________________________\n"
     ]
    }
   ],
   "source": [
    "base_model.summary()   # 최종 특성 맵의 크기 (4, 4, 512)"
   ]
  },
  {
   "cell_type": "markdown",
   "metadata": {
    "id": "qtJVRYnu3huw"
   },
   "source": [
    "#### VGG 신경망 모델 전이학습\n",
    "\n",
    "- 참고: https://han-py.tistory.com/213\n",
    "- image = image.reshape((1, 224, 224, 3)) : image가 현재 (224, 224, 3)인 부분을 실제 입력값에 맞게 모델에서 None 부분을 만들어주기 위해 reshape하는 부분 (차원 조정은 아래 코드 사용)\n",
    "  - 맨 앞의 1은 배치 부분으로 이미지 개수가 1개라는 뜻\n",
    "  - 두, 세 번째 224는 각각 가로, 세로\n",
    "  - 네 번째 3은 R, G, B 3개를 의미\n",
    "\n",
    "\n",
    "- image = vgg16.preprocess_input(image)\n",
    "  - 모델 호출을 위한 데이터 전처리\n",
    "  - 여기까지 하면 이미지 로딩 후 모양을 맞추고 preprocess가 끝난 것이 image에 들어간다 (모델에 들어갈 준비가 완료된 것!)"
   ]
  },
  {
   "cell_type": "markdown",
   "metadata": {
    "id": "Ij27Pd1hbmRr"
   },
   "source": [
    "- Conv2D( filters = 채널 수, kernel_size = CNN 크기, activation = 활성화 함수 )\n",
    "- MaxPooling2D(pool_size = 폴링 사이즈)\n",
    "- Flatten() CNN -FC 연결을 위한 함수\n",
    "- Dense( 노드 수, activation = 활성화 함수 ('relu', 'sigmoid') )\n",
    "- Dropout( 계수 (0 ~ 1.0) )\n",
    "  - 특정한 설명변수 Feature만을 과도하게 집중하여 학습함으로써 발생할 수 있는 과대적합을 방지하기 위해 사용. 훈련할 때, 임의의 뉴런을 골라 삭제하여 신호를 전달하지 않게 함. 테스트할 때는 모든 뉴런을 사용\n",
    "  - tf.keras.layers.Dropout(rate, noise_shape=None, seed=None, **kwargs): rate Dropout 계층은 훈련시간동안 각 단계에서의 빈도로 입력 단위를 무작위로 0으로 설정하여 과적합을 방지함. 0으로 설정되지 않은 입력은 모든 입력에 대한 합계가 변경되지 않도록 1/(1-rate)로 확장됨"
   ]
  },
  {
   "cell_type": "code",
   "execution_count": 17,
   "metadata": {
    "executionInfo": {
     "elapsed": 9,
     "status": "ok",
     "timestamp": 1650932036226,
     "user": {
      "displayName": "혜인",
      "userId": "11909306586925186265"
     },
     "user_tz": -540
    },
    "id": "wMOFgONQ1A4c"
   },
   "outputs": [],
   "source": [
    "# 모델 Layer 데이터화\n",
    "layer_dict = dict([(layer.name, layer) for layer in base_model.layers])\n",
    "\n",
    "# Layer 추가\n",
    "x = layer_dict['block5_pool'].output\n",
    "\n",
    "x = Conv2D(filters = 64, kernel_size=(3, 3), activation='relu')(x)\n",
    "x = MaxPooling2D(pool_size=(2, 2))(x)\n",
    "x = Flatten()(x)\n",
    "x = Dense(2048, activation='relu')(x)\n",
    "x = Dropout(0.5)(x)\n",
    "x = Dense(1024, activation='relu')(x)\n",
    "x = Dropout(0.5)(x)\n",
    "x = Dense(5, activation='softmax')(x)   # Softmax 함수로 5개 분류\n",
    "\n",
    "# new model 정의\n",
    "new_model = Model(inputs=base_model.input, outputs=x)"
   ]
  },
  {
   "cell_type": "code",
   "execution_count": 18,
   "metadata": {
    "colab": {
     "base_uri": "https://localhost:8080/"
    },
    "executionInfo": {
     "elapsed": 39,
     "status": "ok",
     "timestamp": 1650932036646,
     "user": {
      "displayName": "혜인",
      "userId": "11909306586925186265"
     },
     "user_tz": -540
    },
    "id": "PJkic1F53nhv",
    "outputId": "6fd952cb-a2e0-41e0-fda3-aa8539b7636a"
   },
   "outputs": [
    {
     "name": "stdout",
     "output_type": "stream",
     "text": [
      "Model: \"model\"\n",
      "_________________________________________________________________\n",
      " Layer (type)                Output Shape              Param #   \n",
      "=================================================================\n",
      " input_1 (InputLayer)        [(None, 224, 224, 3)]     0         \n",
      "                                                                 \n",
      " block1_conv1 (Conv2D)       (None, 224, 224, 64)      1792      \n",
      "                                                                 \n",
      " block1_conv2 (Conv2D)       (None, 224, 224, 64)      36928     \n",
      "                                                                 \n",
      " block1_pool (MaxPooling2D)  (None, 112, 112, 64)      0         \n",
      "                                                                 \n",
      " block2_conv1 (Conv2D)       (None, 112, 112, 128)     73856     \n",
      "                                                                 \n",
      " block2_conv2 (Conv2D)       (None, 112, 112, 128)     147584    \n",
      "                                                                 \n",
      " block2_pool (MaxPooling2D)  (None, 56, 56, 128)       0         \n",
      "                                                                 \n",
      " block3_conv1 (Conv2D)       (None, 56, 56, 256)       295168    \n",
      "                                                                 \n",
      " block3_conv2 (Conv2D)       (None, 56, 56, 256)       590080    \n",
      "                                                                 \n",
      " block3_conv3 (Conv2D)       (None, 56, 56, 256)       590080    \n",
      "                                                                 \n",
      " block3_pool (MaxPooling2D)  (None, 28, 28, 256)       0         \n",
      "                                                                 \n",
      " block4_conv1 (Conv2D)       (None, 28, 28, 512)       1180160   \n",
      "                                                                 \n",
      " block4_conv2 (Conv2D)       (None, 28, 28, 512)       2359808   \n",
      "                                                                 \n",
      " block4_conv3 (Conv2D)       (None, 28, 28, 512)       2359808   \n",
      "                                                                 \n",
      " block4_pool (MaxPooling2D)  (None, 14, 14, 512)       0         \n",
      "                                                                 \n",
      " block5_conv1 (Conv2D)       (None, 14, 14, 512)       2359808   \n",
      "                                                                 \n",
      " block5_conv2 (Conv2D)       (None, 14, 14, 512)       2359808   \n",
      "                                                                 \n",
      " block5_conv3 (Conv2D)       (None, 14, 14, 512)       2359808   \n",
      "                                                                 \n",
      " block5_pool (MaxPooling2D)  (None, 7, 7, 512)         0         \n",
      "                                                                 \n",
      " conv2d (Conv2D)             (None, 5, 5, 64)          294976    \n",
      "                                                                 \n",
      " max_pooling2d (MaxPooling2D  (None, 2, 2, 64)         0         \n",
      " )                                                               \n",
      "                                                                 \n",
      " flatten (Flatten)           (None, 256)               0         \n",
      "                                                                 \n",
      " dense (Dense)               (None, 2048)              526336    \n",
      "                                                                 \n",
      " dropout (Dropout)           (None, 2048)              0         \n",
      "                                                                 \n",
      " dense_1 (Dense)             (None, 1024)              2098176   \n",
      "                                                                 \n",
      " dropout_1 (Dropout)         (None, 1024)              0         \n",
      "                                                                 \n",
      " dense_2 (Dense)             (None, 5)                 5125      \n",
      "                                                                 \n",
      "=================================================================\n",
      "Total params: 17,639,301\n",
      "Trainable params: 2,924,613\n",
      "Non-trainable params: 14,714,688\n",
      "_________________________________________________________________\n"
     ]
    }
   ],
   "source": [
    "# Convolution Layer를 학습되지 않도록 고정\n",
    "# 새롭게 추가된 층 이외의 VGG16의 19번째 레이어까지 학습하지 않고 고정\n",
    "for layer in base_model.layers[:19]:\n",
    "    layer.trainable = False\n",
    "\n",
    "new_model.summary()\n",
    "\n",
    "# 모델 컴파일\n",
    "new_model.compile(loss='categorical_crossentropy', optimizer='adam', metrics=['accuracy'])"
   ]
  },
  {
   "cell_type": "markdown",
   "metadata": {
    "id": "Oqm_oUvy1E7D"
   },
   "source": [
    "#### 모델 학습 및 학습 과정 시각화\n",
    "\n",
    "- steps_per_epoch 값은 train_generator/batch_size\n",
    "- validation_steps 값은 validation_generator/batch_size\n",
    "- epochs는 이미지 증식 횟수 (epochs=20은 이미지 증식이 서로 다르게 20배된 것)"
   ]
  },
  {
   "cell_type": "code",
   "execution_count": 19,
   "metadata": {
    "colab": {
     "base_uri": "https://localhost:8080/"
    },
    "executionInfo": {
     "elapsed": 2531695,
     "status": "ok",
     "timestamp": 1650934571657,
     "user": {
      "displayName": "혜인",
      "userId": "11909306586925186265"
     },
     "user_tz": -540
    },
    "id": "C4yUoHT43UiS",
    "outputId": "f5ecaf3a-0085-4990-82bc-a8f9fe02654e"
   },
   "outputs": [
    {
     "name": "stdout",
     "output_type": "stream",
     "text": [
      "Epoch 1/20\n",
      "150/150 - 1049s - loss: 0.8322 - accuracy: 0.6785 - val_loss: 0.4885 - val_accuracy: 0.8269 - 1049s/epoch - 7s/step\n",
      "Epoch 2/20\n",
      "150/150 - 173s - loss: 0.4729 - accuracy: 0.8484 - val_loss: 0.3786 - val_accuracy: 0.8744 - 173s/epoch - 1s/step\n",
      "Epoch 3/20\n",
      "150/150 - 70s - loss: 0.4027 - accuracy: 0.8680 - val_loss: 0.3734 - val_accuracy: 0.8800 - 70s/epoch - 466ms/step\n",
      "Epoch 4/20\n",
      "150/150 - 60s - loss: 0.3872 - accuracy: 0.8782 - val_loss: 0.3432 - val_accuracy: 0.8881 - 60s/epoch - 399ms/step\n",
      "Epoch 5/20\n",
      "150/150 - 58s - loss: 0.3721 - accuracy: 0.8797 - val_loss: 0.4068 - val_accuracy: 0.8656 - 58s/epoch - 388ms/step\n",
      "Epoch 6/20\n",
      "150/150 - 58s - loss: 0.3038 - accuracy: 0.9026 - val_loss: 0.3933 - val_accuracy: 0.8925 - 58s/epoch - 388ms/step\n",
      "Epoch 7/20\n",
      "150/150 - 59s - loss: 0.3036 - accuracy: 0.9063 - val_loss: 0.3470 - val_accuracy: 0.8956 - 59s/epoch - 390ms/step\n",
      "Epoch 8/20\n",
      "150/150 - 57s - loss: 0.3170 - accuracy: 0.9033 - val_loss: 0.3227 - val_accuracy: 0.8963 - 57s/epoch - 382ms/step\n",
      "Epoch 9/20\n",
      "150/150 - 57s - loss: 0.2862 - accuracy: 0.9117 - val_loss: 0.2805 - val_accuracy: 0.9119 - 57s/epoch - 381ms/step\n",
      "Epoch 10/20\n",
      "150/150 - 59s - loss: 0.2842 - accuracy: 0.9167 - val_loss: 0.3651 - val_accuracy: 0.8875 - 59s/epoch - 390ms/step\n",
      "Epoch 11/20\n",
      "150/150 - 58s - loss: 0.2840 - accuracy: 0.9103 - val_loss: 0.3267 - val_accuracy: 0.9062 - 58s/epoch - 389ms/step\n",
      "Epoch 12/20\n",
      "150/150 - 58s - loss: 0.2436 - accuracy: 0.9257 - val_loss: 0.3137 - val_accuracy: 0.9062 - 58s/epoch - 388ms/step\n",
      "Epoch 13/20\n",
      "150/150 - 59s - loss: 0.2478 - accuracy: 0.9194 - val_loss: 0.4344 - val_accuracy: 0.8913 - 59s/epoch - 390ms/step\n",
      "Epoch 14/20\n",
      "150/150 - 57s - loss: 0.2597 - accuracy: 0.9167 - val_loss: 0.3197 - val_accuracy: 0.9087 - 57s/epoch - 382ms/step\n",
      "Epoch 15/20\n",
      "150/150 - 57s - loss: 0.2219 - accuracy: 0.9307 - val_loss: 0.3803 - val_accuracy: 0.8769 - 57s/epoch - 382ms/step\n",
      "Epoch 16/20\n",
      "150/150 - 58s - loss: 0.2170 - accuracy: 0.9348 - val_loss: 0.3175 - val_accuracy: 0.9025 - 58s/epoch - 387ms/step\n",
      "Epoch 17/20\n",
      "150/150 - 58s - loss: 0.2041 - accuracy: 0.9344 - val_loss: 0.3029 - val_accuracy: 0.9194 - 58s/epoch - 386ms/step\n",
      "Epoch 18/20\n",
      "150/150 - 58s - loss: 0.2228 - accuracy: 0.9331 - val_loss: 0.3678 - val_accuracy: 0.8925 - 58s/epoch - 388ms/step\n",
      "Epoch 19/20\n",
      "150/150 - 62s - loss: 0.2222 - accuracy: 0.9317 - val_loss: 0.3827 - val_accuracy: 0.8863 - 62s/epoch - 410ms/step\n",
      "Epoch 20/20\n",
      "150/150 - 67s - loss: 0.2218 - accuracy: 0.9344 - val_loss: 0.3260 - val_accuracy: 0.9125 - 67s/epoch - 446ms/step\n"
     ]
    }
   ],
   "source": [
    "# 모델 학습\n",
    "\n",
    "# Make sure that your dataset or generator can generate at least `steps_per_epoch * epochs` batches (in this case, 50 batches)\n",
    "# You may need to use the repeat() function when building your dataset.\n",
    "# 오류나서 steps_per_epoch와 epochs를 곱한 것이 train_generator 값보다 작게 바꿈 (각각 150, 20)\n",
    "\n",
    "history = new_model.fit(train_generator,\n",
    "                        steps_per_epoch = 150,\n",
    "                        epochs = 20,\n",
    "                        validation_data = validation_generator,\n",
    "                        validation_steps= 80,\n",
    "                        verbose = 2)"
   ]
  },
  {
   "cell_type": "code",
   "execution_count": 20,
   "metadata": {
    "executionInfo": {
     "elapsed": 610,
     "status": "ok",
     "timestamp": 1650934572252,
     "user": {
      "displayName": "혜인",
      "userId": "11909306586925186265"
     },
     "user_tz": -540
    },
    "id": "bK_Kfj6D9M6H"
   },
   "outputs": [],
   "source": [
    "# 모델 저장\n",
    "# new_model.save(\"/content/drive/MyDrive/DataScience/Multi_project3/Model/VGG16_basemodel.h5\")\n",
    "# new_model.save(\"/content/drive/MyDrive/DataScience/Multi_project3/Model/VGG16_image224.h5\")\n",
    "new_model.save(\"/content/drive/MyDrive/DataScience/Multi_project3/Model/VGG16_imageAddition.h5\")"
   ]
  },
  {
   "cell_type": "markdown",
   "metadata": {
    "id": "RTRXGqE7a4kr"
   },
   "source": [
    "#### 최종 결과 리포트"
   ]
  },
  {
   "cell_type": "code",
   "execution_count": 25,
   "metadata": {
    "colab": {
     "base_uri": "https://localhost:8080/",
     "height": 545
    },
    "executionInfo": {
     "elapsed": 614,
     "status": "ok",
     "timestamp": 1650934845363,
     "user": {
      "displayName": "혜인",
      "userId": "11909306586925186265"
     },
     "user_tz": -540
    },
    "id": "lLz6-GU5xOu4",
    "outputId": "438821df-3c52-4297-b1e1-1876a12c2131"
   },
   "outputs": [
    {
     "data": {
      "image/png": "[encoded data removed]",
      "text/plain": [
       "<Figure size 432x288 with 1 Axes>"
      ]
     },
     "metadata": {
      "needs_background": "light"
     },
     "output_type": "display_data"
    },
    {
     "data": {
      "image/png": "[encoded data removed]",
      "text/plain": [
       "<Figure size 432x288 with 1 Axes>"
      ]
     },
     "metadata": {
      "needs_background": "light"
     },
     "output_type": "display_data"
    }
   ],
   "source": [
    "import matplotlib.pyplot as plt\n",
    "\n",
    "acc = history.history['accuracy']\n",
    "val_acc = history.history['val_accuracy']\n",
    "loss = history.history['loss']\n",
    "val_loss = history.history['val_loss']\n",
    "\n",
    "epochs = range(len(acc))\n",
    "\n",
    "plt.plot(epochs, acc, 'r', label='Training acc')\n",
    "plt.plot(epochs, val_acc, 'b', label='validation acc')\n",
    "plt.title('Training and validation accuracy')\n",
    "plt.legend()\n",
    "plt.savefig('/content/drive/MyDrive/DataScience/Multi_project3/Graph/VGG16_imageAddition_acc.png')\n",
    "plt.figure()\n",
    "\n",
    "plt.plot(epochs, loss, 'r', label='Training loss')\n",
    "plt.plot(epochs, val_loss, 'b', label='Validation loss')\n",
    "plt.title('Training and validation loss')\n",
    "plt.legend()\n",
    "plt.savefig('/content/drive/MyDrive/DataScience/Multi_project3/Graph/VGG16_imageAddition_loss.png')\n",
    "\n",
    "plt.show()"
   ]
  },
  {
   "cell_type": "code",
   "execution_count": 24,
   "metadata": {
    "colab": {
     "base_uri": "https://localhost:8080/"
    },
    "executionInfo": {
     "elapsed": 231379,
     "status": "ok",
     "timestamp": 1650934844768,
     "user": {
      "displayName": "혜인",
      "userId": "11909306586925186265"
     },
     "user_tz": -540
    },
    "id": "vtSb7gacv-p-",
    "outputId": "551af45f-299d-4637-9f14-1f5bdd4fab04"
   },
   "outputs": [
    {
     "name": "stdout",
     "output_type": "stream",
     "text": [
      "Found 1758 images belonging to 5 classes.\n"
     ]
    },
    {
     "name": "stderr",
     "output_type": "stream",
     "text": [
      "/usr/local/lib/python3.7/dist-packages/ipykernel_launcher.py:6: UserWarning: `Model.evaluate_generator` is deprecated and will be removed in a future version. Please use `Model.evaluate`, which supports generators.\n",
      "  \n"
     ]
    },
    {
     "name": "stdout",
     "output_type": "stream",
     "text": [
      "test loss: 0.38213950395584106, test acc: 0.8949999809265137\n"
     ]
    }
   ],
   "source": [
    "test_generator = test_datagen.flow_from_directory(test_dir,\n",
    "                                                  target_size = (224, 224),\n",
    "                                                  batch_size = 20,\n",
    "                                                  class_mode = 'categorical')\n",
    "\n",
    "test_loss, test_acc = new_model.evaluate_generator(test_generator,steps=80)\n",
    "print(f'test loss: {test_loss}, test acc: {test_acc}')"
   ]
  },
  {
   "cell_type": "markdown",
   "metadata": {
    "id": "P3-_htJy9qEf"
   },
   "source": [
    "### 모델 불러오기"
   ]
  },
  {
   "cell_type": "code",
   "execution_count": null,
   "metadata": {
    "id": "240FxIHM9oK_"
   },
   "outputs": [],
   "source": [
    "from tensorflow.python.keras.models import load_model\n",
    "\n",
    "modelLoad = load_model('/content/drive/MyDrive/DataScience/Multi_project3/Model/VGG16_basemodel.h5')\n",
    "modelLoad.summary()"
   ]
  },
  {
   "cell_type": "markdown",
   "metadata": {
    "id": "hK4cZdrZApQD"
   },
   "source": [
    "* 참고 사이트\n",
    "1. https://studying-modory.tistory.com/entry/210305-%EB%94%A5%EB%9F%AC%EB%8B%9D-%EB%8F%99%EB%AC%BC-%EC%9D%B4%EB%AF%B8%EC%A7%80-%EC%9D%B8%EC%8B%9D-%ED%8C%A8%EC%85%98-%EC%9D%B4%EB%AF%B8%EC%A7%80-%EB%B6%84%EB%A5%98\n",
    "\n",
    "2. https://eremo2002.tistory.com/55\n",
    "\n",
    "3. https://deep-eye.tistory.com/41"
   ]
  }
 ],
 "metadata": {
  "accelerator": "GPU",
  "colab": {
   "authorship_tag": "ABX9TyNFIdVcKSYLwyXQiqmx+Cz8",
   "collapsed_sections": [],
   "name": "VGG16(혜인)_0426_ver2.ipynb",
   "provenance": []
  },
  "kernelspec": {
   "display_name": "Python 3 (ipykernel)",
   "language": "python",
   "name": "python3"
  },
  "language_info": {
   "codemirror_mode": {
    "name": "ipython",
    "version": 3
   },
   "file_extension": ".py",
   "mimetype": "text/x-python",
   "name": "python",
   "nbconvert_exporter": "python",
   "pygments_lexer": "ipython3",
   "version": "3.9.12"
  }
 },
 "nbformat": 4,
 "nbformat_minor": 1
}
